{
 "cells": [
  {
   "cell_type": "code",
   "execution_count": 1,
   "metadata": {},
   "outputs": [
    {
     "name": "stdout",
     "output_type": "stream",
     "text": [
      "Token has not been saved to git credential helper. Pass `add_to_git_credential=True` if you want to set the git credential as well.\n",
      "Token is valid (permission: write).\n",
      "Your token has been saved to /home/aeolian83/.cache/huggingface/token\n",
      "Login successful\n"
     ]
    }
   ],
   "source": [
    "import os\n",
    "from huggingface_hub import login\n",
    "from dotenv import load_dotenv\n",
    "\n",
    "load_dotenv()\n",
    "\n",
    "\n",
    "login(token= os.environ[\"HF_TOKEN\"])"
   ]
  },
  {
   "cell_type": "code",
   "execution_count": 2,
   "metadata": {},
   "outputs": [],
   "source": [
    "import torch\n",
    "import transformers\n",
    "from transformers import AutoTokenizer, AutoModelForCausalLM, BitsAndBytesConfig"
   ]
  },
  {
   "cell_type": "code",
   "execution_count": 3,
   "metadata": {},
   "outputs": [],
   "source": [
    "model_id = 'aeolian83/llama_ko_sft_kullm_experi_05'\n",
    "device_map = {\"\": 0}\n",
    "cache_model_dir=\"/mnt/t7/.cache/huggingface/models\""
   ]
  },
  {
   "cell_type": "code",
   "execution_count": 4,
   "metadata": {},
   "outputs": [],
   "source": [
    "quantization_config = BitsAndBytesConfig(\n",
    "    load_in_4bit=True,\n",
    "    bnb_4bit_compute_dtype=torch.bfloat16,\n",
    "    bnb_4bit_quant_type=\"nf4\"\n",
    ")"
   ]
  },
  {
   "cell_type": "code",
   "execution_count": 5,
   "metadata": {},
   "outputs": [
    {
     "data": {
      "application/vnd.jupyter.widget-view+json": {
       "model_id": "b65977d857ee4d4cafc6c35fb076592e",
       "version_major": 2,
       "version_minor": 0
      },
      "text/plain": [
       "config.json:   0%|          | 0.00/722 [00:00<?, ?B/s]"
      ]
     },
     "metadata": {},
     "output_type": "display_data"
    },
    {
     "data": {
      "application/vnd.jupyter.widget-view+json": {
       "model_id": "242eb9dd16584e179b7e7cb7e337bc0b",
       "version_major": 2,
       "version_minor": 0
      },
      "text/plain": [
       "model.safetensors.index.json:   0%|          | 0.00/23.9k [00:00<?, ?B/s]"
      ]
     },
     "metadata": {},
     "output_type": "display_data"
    },
    {
     "data": {
      "application/vnd.jupyter.widget-view+json": {
       "model_id": "ab1e2130ec094066bdb9b7b851f93201",
       "version_major": 2,
       "version_minor": 0
      },
      "text/plain": [
       "Downloading shards:   0%|          | 0/3 [00:00<?, ?it/s]"
      ]
     },
     "metadata": {},
     "output_type": "display_data"
    },
    {
     "data": {
      "application/vnd.jupyter.widget-view+json": {
       "model_id": "1677909ed8ae44a3ab88fe17ab4f69a1",
       "version_major": 2,
       "version_minor": 0
      },
      "text/plain": [
       "model-00001-of-00003.safetensors:   0%|          | 0.00/4.97G [00:00<?, ?B/s]"
      ]
     },
     "metadata": {},
     "output_type": "display_data"
    },
    {
     "data": {
      "application/vnd.jupyter.widget-view+json": {
       "model_id": "d2fd5eb935224d73aaa5241a77991075",
       "version_major": 2,
       "version_minor": 0
      },
      "text/plain": [
       "model-00002-of-00003.safetensors:   0%|          | 0.00/4.95G [00:00<?, ?B/s]"
      ]
     },
     "metadata": {},
     "output_type": "display_data"
    },
    {
     "data": {
      "application/vnd.jupyter.widget-view+json": {
       "model_id": "d871b92329424e3893f31202b768220b",
       "version_major": 2,
       "version_minor": 0
      },
      "text/plain": [
       "model-00003-of-00003.safetensors:   0%|          | 0.00/3.80G [00:00<?, ?B/s]"
      ]
     },
     "metadata": {},
     "output_type": "display_data"
    },
    {
     "data": {
      "application/vnd.jupyter.widget-view+json": {
       "model_id": "89d889cdc681425f9c37e17612806d77",
       "version_major": 2,
       "version_minor": 0
      },
      "text/plain": [
       "Loading checkpoint shards:   0%|          | 0/3 [00:00<?, ?it/s]"
      ]
     },
     "metadata": {},
     "output_type": "display_data"
    },
    {
     "data": {
      "application/vnd.jupyter.widget-view+json": {
       "model_id": "5be5c8aff8104ee08ac2b7c558b60ac4",
       "version_major": 2,
       "version_minor": 0
      },
      "text/plain": [
       "generation_config.json:   0%|          | 0.00/154 [00:00<?, ?B/s]"
      ]
     },
     "metadata": {},
     "output_type": "display_data"
    }
   ],
   "source": [
    "model = AutoModelForCausalLM.from_pretrained(model_id, quantization_config=quantization_config, device_map=device_map)"
   ]
  },
  {
   "cell_type": "code",
   "execution_count": 6,
   "metadata": {},
   "outputs": [],
   "source": [
    "tokenizer = AutoTokenizer.from_pretrained(model_id, cache_dir=cache_model_dir)"
   ]
  },
  {
   "cell_type": "code",
   "execution_count": 7,
   "metadata": {},
   "outputs": [],
   "source": [
    "device = \"cuda:0\""
   ]
  },
  {
   "cell_type": "code",
   "execution_count": 8,
   "metadata": {},
   "outputs": [],
   "source": [
    "text_01 = \"### instruction: AI에 대해 알려줘.\\n\\n### output:\"\n",
    "inputs = tokenizer(text_01, return_tensors=\"pt\").to(device)"
   ]
  },
  {
   "cell_type": "code",
   "execution_count": 9,
   "metadata": {},
   "outputs": [],
   "source": [
    "# inputs = tokenizer(text_01, return_tensors=\"pt\").to(device)\n",
    "outputs = model.generate(**inputs, max_new_tokens=500)"
   ]
  },
  {
   "cell_type": "code",
   "execution_count": 10,
   "metadata": {},
   "outputs": [
    {
     "name": "stdout",
     "output_type": "stream",
     "text": [
      "### instruction: AI에 대해 알려줘.\n",
      "\n",
      "### output: AI(인공지능)는 인간의 지능을 모방하여 컴퓨터가 인간과 같이 사고하고 학습하며 의사결정을 내릴 수 있도록 하는 인공적인 시스템입니다. AI는 자연어 처리, 이미지 인식, 음성 인식, 기계 학습, 신경망, 자연어 생성 등 다양한 분야에서 활용되고 있습니다. AI는 의료, 금융, 법률, 제조, 농업, 교육 등 다양한 산업에서 활용되고 있으며, AI는 점점 더 많은 분야에서 활용되고 있습니다.\n",
      "116\n"
     ]
    }
   ],
   "source": [
    "print(tokenizer.decode(outputs[0], skip_special_tokens=True))\n",
    "print(len(outputs[0]))"
   ]
  },
  {
   "cell_type": "code",
   "execution_count": 11,
   "metadata": {},
   "outputs": [
    {
     "data": {
      "text/plain": [
       "'</s>'"
      ]
     },
     "execution_count": 11,
     "metadata": {},
     "output_type": "execute_result"
    }
   ],
   "source": [
    "tokenizer.eos_token"
   ]
  },
  {
   "cell_type": "code",
   "execution_count": 12,
   "metadata": {},
   "outputs": [
    {
     "name": "stdout",
     "output_type": "stream",
     "text": [
      "tensor([    1,   835, 15278, 29901,   319, 29902, 31054, 32550, 32947, 45189,\n",
      "        29889,    13,    13,  2277, 29937,  1962, 29901,   319, 29902, 29898,\n",
      "        30918, 31334, 36208, 29897, 31081, 39609, 36649, 31286, 32045, 31945,\n",
      "        32932, 43006, 30903, 32333, 31906, 32896, 32670, 32020, 38191, 32337,\n",
      "        33687, 44902, 32700, 40399, 32017, 32985, 32166, 36328, 32203, 33990,\n",
      "        32214, 29889,   319, 29902, 31081, 34162, 31129, 33948, 29892, 37667,\n",
      "        36698, 29892, 38596, 36698, 29892, 41478, 38191, 29892, 33610, 44941,\n",
      "        29892, 34162, 31129, 32073, 31126, 32055, 32894, 38977, 33173, 32641,\n",
      "        32777, 29889,   319, 29902, 31081, 33470, 29892, 33038, 29892, 36791,\n",
      "        29892, 34882, 29892, 37517, 29892, 32730, 32055, 32894, 33212, 32012,\n",
      "        33173, 32641, 34705, 29892,   319, 29902, 31081, 35483, 32071, 32504,\n",
      "        38977, 33173, 32641, 32777, 29889,     2], device='cuda:0')\n"
     ]
    }
   ],
   "source": [
    "print(outputs[0])"
   ]
  },
  {
   "cell_type": "code",
   "execution_count": 13,
   "metadata": {},
   "outputs": [],
   "source": [
    "pad_tok = [32303]"
   ]
  },
  {
   "cell_type": "code",
   "execution_count": 14,
   "metadata": {},
   "outputs": [
    {
     "data": {
      "text/plain": [
       "'한다'"
      ]
     },
     "execution_count": 14,
     "metadata": {},
     "output_type": "execute_result"
    }
   ],
   "source": [
    "tokenizer.decode(pad_tok, skip_special_tokens=False)"
   ]
  },
  {
   "cell_type": "code",
   "execution_count": null,
   "metadata": {},
   "outputs": [],
   "source": []
  },
  {
   "cell_type": "code",
   "execution_count": 15,
   "metadata": {},
   "outputs": [],
   "source": [
    "# print(tokenizer.decode(outputs[0], skip_special_tokens=True))\n",
    "# print(len(outputs[0]))"
   ]
  },
  {
   "cell_type": "code",
   "execution_count": 25,
   "metadata": {},
   "outputs": [],
   "source": [
    "text_01 = \"### instruction: 인공지능을 무엇을 할 수 있는지 알려줘.\\n\\n### output:\"\n",
    "inputs = tokenizer(text_01, return_tensors=\"pt\").to(device)"
   ]
  },
  {
   "cell_type": "code",
   "execution_count": 26,
   "metadata": {},
   "outputs": [],
   "source": [
    "outputs = model.generate(**inputs, max_new_tokens=500)"
   ]
  },
  {
   "cell_type": "code",
   "execution_count": 27,
   "metadata": {},
   "outputs": [
    {
     "name": "stdout",
     "output_type": "stream",
     "text": [
      "### instruction: 인공지능을 무엇을 할 수 있는지 알려줘.\n",
      "\n",
      "### output: 인공지능은 다양한 분야에서 활용될 수 있으며, 다음과 같은 몇 가지 주요 응용 분야가 있습니다:\n",
      "\n",
      "1. 자연어 처리: AI는 자연어 처리(NLP)를 통해 텍스트를 분석하고 이해하며, 텍스트를 생성하고, 텍스트를 통해 상호 작용하고, 텍스트를 통해 학습할 수 있습니다.\n",
      "\n",
      "2. 이미지 인식: AI는 이미지 인식(image recognition)을 통해 이미지에서 객체를 식별하고, 객체의 특징을 분석하고, 객체의 위치를 추적할 수 있습니다.\n",
      "\n",
      "3. 음성 인식: AI는 음성 인식(speech recognition)을 통해 텍스트를 음성으로 변환하고, 음성을 텍스트로 변환하고, 음성을 통해 상호 작용할 수 있습니다.\n",
      "\n",
      "4. 추천 시스템: AI는 추천 시스템(recommender system)을 통해 사용자의 선호도와 행동에 따라 개인화된 추천을 제공할 수 있습니다.\n",
      "\n",
      "5. 자연어 생성: AI는 자연어 생성(Natural Language Generation)을 통해 텍스트를 생성하고, 텍스트를 통해 상호 작용하고, 텍스트를 통해 학습할 수 있습니다.\n",
      "\n",
      "6. 머신 러닝: AI는 머신 러닝(machine learning)을 통해 데이터를 분석하고, 패턴을 식별하고, 예측을 수행할 수 있습니다.\n",
      "\n",
      "7. 로봇공학: AI는 로봇공학(Robotics)을 통해 로봇을 제어하고, 로봇을 학습하고, 로봇을 통해 상호 작용할 수 있습니다.\n",
      "\n",
      "8. 의료: AI는 의료 분야에서 진단, 치료, 예측을 개선하는 데 사용될 수 있습니다.\n",
      "\n",
      "9. 금융: AI는 금융 분야에서 사기 탐지, 사기 방지, 투자 결정을 개선하는 데 사용될 수 있습니다.\n",
      "\n",
      "10. 보안: AI는 보안 분야에서 위협을 탐지하고, 위협을 방지하고, 보안 시스템을 개선하는 데 사용될 수 있습니다.\n",
      "\n",
      "이러한 응용 분야 외에도 AI는 다양한 분야에서 활용될 수 있으며, AI의 잠재력은 무궁무진합니다.\n",
      "470\n"
     ]
    }
   ],
   "source": [
    "print(tokenizer.decode(outputs[0], skip_special_tokens=True))\n",
    "print(len(outputs[0]))"
   ]
  },
  {
   "cell_type": "code",
   "execution_count": null,
   "metadata": {},
   "outputs": [],
   "source": []
  },
  {
   "cell_type": "code",
   "execution_count": null,
   "metadata": {},
   "outputs": [],
   "source": []
  },
  {
   "cell_type": "code",
   "execution_count": null,
   "metadata": {},
   "outputs": [],
   "source": []
  },
  {
   "cell_type": "code",
   "execution_count": null,
   "metadata": {},
   "outputs": [],
   "source": []
  }
 ],
 "metadata": {
  "kernelspec": {
   "display_name": "llm_for_p311",
   "language": "python",
   "name": "python3"
  },
  "language_info": {
   "codemirror_mode": {
    "name": "ipython",
    "version": 3
   },
   "file_extension": ".py",
   "mimetype": "text/x-python",
   "name": "python",
   "nbconvert_exporter": "python",
   "pygments_lexer": "ipython3",
   "version": "3.11.7"
  }
 },
 "nbformat": 4,
 "nbformat_minor": 2
}
