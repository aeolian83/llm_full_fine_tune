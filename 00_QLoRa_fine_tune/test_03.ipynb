{
 "cells": [
  {
   "cell_type": "code",
   "execution_count": 1,
   "metadata": {},
   "outputs": [
    {
     "name": "stdout",
     "output_type": "stream",
     "text": [
      "Token has not been saved to git credential helper. Pass `add_to_git_credential=True` if you want to set the git credential as well.\n"
     ]
    },
    {
     "name": "stdout",
     "output_type": "stream",
     "text": [
      "Token is valid (permission: write).\n",
      "Your token has been saved to /home/aeolian83/.cache/huggingface/token\n",
      "Login successful\n"
     ]
    }
   ],
   "source": [
    "import os\n",
    "from huggingface_hub import login\n",
    "from dotenv import load_dotenv\n",
    "\n",
    "load_dotenv()\n",
    "\n",
    "\n",
    "login(token= os.environ[\"HF_TOKEN\"])"
   ]
  },
  {
   "cell_type": "code",
   "execution_count": 2,
   "metadata": {},
   "outputs": [],
   "source": [
    "from transformers import pipeline\n",
    "import torch\n",
    "import transformers\n",
    "from transformers import AutoTokenizer, AutoModelForCausalLM, BitsAndBytesConfig, TrainingArguments"
   ]
  },
  {
   "cell_type": "code",
   "execution_count": 3,
   "metadata": {},
   "outputs": [],
   "source": [
    "device_map = {\"\": 0}"
   ]
  },
  {
   "cell_type": "code",
   "execution_count": 4,
   "metadata": {},
   "outputs": [],
   "source": [
    "prompt = \"AI는 수학적인 \""
   ]
  },
  {
   "cell_type": "code",
   "execution_count": 5,
   "metadata": {},
   "outputs": [],
   "source": [
    "model_id = \"meta-llama/Llama-2-7b-hf\""
   ]
  },
  {
   "cell_type": "code",
   "execution_count": 6,
   "metadata": {},
   "outputs": [
    {
     "data": {
      "application/vnd.jupyter.widget-view+json": {
       "model_id": "1508f100b4894ad8a45f2316ff0e06ff",
       "version_major": 2,
       "version_minor": 0
      },
      "text/plain": [
       "Loading checkpoint shards:   0%|          | 0/2 [00:00<?, ?it/s]"
      ]
     },
     "metadata": {},
     "output_type": "display_data"
    }
   ],
   "source": [
    "model = AutoModelForCausalLM.from_pretrained(\n",
    "    model_id,\n",
    "    quantization_config=BitsAndBytesConfig(\n",
    "        load_in_4bit=True,\n",
    "        bnb_4bit_use_double_quant=True,\n",
    "        bnb_4bit_quant_type=\"nf4\",\n",
    "        bnb_4bit_compute_dtype=torch.bfloat16\n",
    "    ),\n",
    "    device_map=device_map,\n",
    "    cache_dir=\"/mnt/t7/.cache/huggingface/models\",\n",
    ")\n",
    "tokenizer = AutoTokenizer.from_pretrained(model_id, cache_dir=\"/mnt/t7/.cache/huggingface/models\")"
   ]
  },
  {
   "cell_type": "code",
   "execution_count": 7,
   "metadata": {},
   "outputs": [
    {
     "data": {
      "text/plain": [
       "'</s>'"
      ]
     },
     "execution_count": 7,
     "metadata": {},
     "output_type": "execute_result"
    }
   ],
   "source": [
    "tokenizer.eos_token"
   ]
  },
  {
   "cell_type": "code",
   "execution_count": 8,
   "metadata": {},
   "outputs": [],
   "source": [
    "prompt = \"AI is based on mathmatical\""
   ]
  },
  {
   "cell_type": "code",
   "execution_count": 9,
   "metadata": {},
   "outputs": [],
   "source": [
    "inputs = tokenizer(prompt, return_tensors=\"pt\").input_ids"
   ]
  },
  {
   "cell_type": "markdown",
   "metadata": {},
   "source": [
    "## 0. No Mas token"
   ]
  },
  {
   "cell_type": "code",
   "execution_count": 10,
   "metadata": {},
   "outputs": [
    {
     "name": "stderr",
     "output_type": "stream",
     "text": [
      "/home/aeolian83/anaconda3/envs/llm_for_p311/lib/python3.11/site-packages/transformers/generation/utils.py:1477: UserWarning: You are calling .generate() with the `input_ids` being on a device type different than your model's device. `input_ids` is on cpu, whereas the model is on cuda. You may experience unexpected behaviors or slower generation. Please make sure that you have put `input_ids` to the correct device by calling for example input_ids = input_ids.to('cuda') before running `.generate()`.\n",
      "  warnings.warn(\n"
     ]
    },
    {
     "name": "stdout",
     "output_type": "stream",
     "text": [
      "토큰 개수는 4096\n"
     ]
    },
    {
     "data": {
      "text/plain": [
       "['AI is based on mathmatical algorithms and can only do what we tell it to do. sierp 2018. 15.08.2018 · Artificial Intelligence is the technology of the future and the future is now. The AI market is expected to reach $190 billion by 2025, according to Business Insider. 19.08.2018 · Artificial Intelligence is the technology of the future and the future is now. The AI market is expected to reach $190 billion by 2025, according to Business Insider. AI can be used in many different ways, from improving customer service and marketing campaigns to making products more efficient and safer.\\nThe Future of Artificial Intelligence Is AI.\\n06.03.2019 · Artificial intelligence is the future. The future of AI is the future of everything. With AI, we can do things that were never possible before. AI can do things that humans can’t do, like seeing in the dark, making decisions based on complex data, and making predictions about the future. AI is a technology that will shape our world in the next decade. AI is a technology that will shape our world in the next decade.\\n20.08.2018 · Artificial Intelligence is the technology of the future and the future is now. The AI market is expected to reach $190 billion by 2025, according to Business Insider. 20.08.2018 · Artificial Intelligence is the technology of the future and the future is now. The AI market is expected to reach $190 billion by 2025, according to Business Insider. 06.03.2019 · Artificial intelligence is the future. The future of AI is the future of everything. With AI, we can do things that were never possible before. AI can do things that humans can’t do, like seeing in the dark, making decisions based on complex data, and making predictions about the future. AI is a technology that will shape our world in the next decade. AI is a technology that will shape our world in the next decade. AI is based on mathmatical algorithms and can only do what we tell it to do.\\nThe Future of Artificial Intelligence Is AI. AI can be used in many different ways, from improving customer service and marketing campaigns to making products more efficient and safer. The Future of Artificial Intelligence Is AI. AI can be used in many different ways, from improving customer service and marketing campaigns to making products more efficient and safer. 20.08.2018 · Artificial Intelligence is the technology of the future and the future is now. The AI market is expected to reach $190 billion by 2025, according to Business Insider.\\n20.08.2018 · Artificial Intelligence is the technology of the future and the future is now. The AI market is expected to reach $190 billion by 2025, according to Business Insider. 06.03.2019 · Artificial intelligence is the future. The future of AI is the future of everything. With AI, we can do things that were never possible before. AI can do things that humans can’t do, like seeing in the dark, making decisions based on complex data, and making predictions about the future. AI is a technology that will shape our world in the next decade. AI is a technology that will shape our world in the next decade. AI is based on mathmatical algorithms and can only do what we tell it to do.\\nAI can be used in many different ways, from improving customer service and marketing campaigns to making products more efficient and safer. AI can be used in many different ways, from improving customer service and marketing campaigns to making products more efficient and safer. The Future of Artificial Intelligence Is AI. AI can be used in many different ways, from improving customer service and marketing campaigns to making products more efficient and safer. AI can be used in many different ways, from improving customer service and marketing campaigns to making products more efficient and safer. AI can be used in many different ways, from improving customer service and marketing campaigns to making products more efficient and safer.\\nAI can be used in many different ways, from improving customer service and marketing campaigns to making products more efficient and safer. AI can be used in many different ways, from improving customer service and marketing campaigns to making products more efficient and safer. AI can be used in many different ways, from improving customer service and marketing campaigns to making products more efficient and safer. The Future of Artificial Intelligence Is AI. AI can be used in many different ways, from improving customer service and marketing campaigns to making products more efficient and safer. The Future of Artificial Intelligence Is AI. AI can be used in many different ways, from improving customer service and marketing campaigns to making products more efficient and safer. AI can be used in many different ways, from improving customer service and marketing campaigns to making products more efficient and safer.\\nThe Future of Artificial Intelligence Is AI. AI can be used in many different ways, from improving customer service and marketing campaigns to making products more efficient and safer. AI can be used in many different ways, from improving customer service and marketing campaigns to making products more efficient and safer. The Future of Artificial Intelligence Is AI. AI can be used in many different ways, from improving customer service and marketing campaigns to making products more efficient and safer. AI can be used in many different ways, from improving customer service and marketing campaigns to making products more efficient and safer.\\nAI can be used in many different ways, from improving customer service and marketing campaigns to making products more efficient and safer. The Future of Artificial Intelligence Is AI. AI can be used in many different ways, from improving customer service and marketing campaigns to making products more efficient and safer. The Future of Artificial Intelligence Is AI. AI can be used in many different ways, from improving customer service and marketing campaigns to making products more efficient and safer. AI can be used in many different ways, from improving customer service and marketing campaigns to making products more efficient and safer.\\nAI can be used in many different ways, from improving customer service and marketing campaigns to making products more efficient and safer. The Future of Artificial Intelligence Is AI. AI can be used in many different ways, from improving customer service and marketing campaigns to making products more efficient and safer. AI can be used in many different ways, from improving customer service and marketing campaigns to making products more efficient and safer. AI can be used in many different ways, from improving customer service and marketing campaigns to making products more efficient and safer.\\nAI can be used in many different ways, from improving customer service and marketing campaigns to making products more efficient and safer. The Future of Artificial Intelligence Is AI. AI can be used in many different ways, from improving customer service and marketing campaigns to making products more efficient and safer. AI can be used in many different ways, from improving customer service and marketing campaigns to making products more efficient and safer. AI can be used in many different ways, from improving customer service and marketing campaigns to making products more efficient and safer.\\nAI can be used in many different ways, from improving customer service and marketing campaigns to making products more efficient and safer. The Future of Artificial Intelligence Is AI. AI can be used in many different ways, from improving customer service and marketing campaigns to making products more efficient and safer. AI can be used in many different ways, from improving customer service and marketing campaigns to making products more efficient and safer. AI can be used in many different ways, from improving customer service and marketing campaigns to making products more efficient and safer.\\nAI can be used in many different ways, from improving customer service and marketing campaigns to making products more efficient and safer. The Future of Artificial Intelligence Is AI. AI can be used in many different ways, from improving customer service and marketing campaigns to making products more efficient and safer. AI can be used in many different ways, from improving customer service and marketing campaigns to making products more efficient and safer. AI can be used in many different ways, from improving customer service and marketing campaigns to making products more efficient and safer.\\nAI can be used in many different ways, from improving customer service and marketing campaigns to making products more efficient and safer. The Future of Artificial Intelligence Is AI. AI can be used in many different ways, from improving customer service and marketing campaigns to making products more efficient and safer. AI can be used in many different ways, from improving customer service and marketing campaigns to making products more efficient and safer. AI can be used in many different ways, from improving customer service and marketing campaigns to making products more efficient and safer.\\nAI can be used in many different ways, from improving customer service and marketing campaigns to making products more efficient and safer. The Future of Artificial Intelligence Is AI. AI can be used in many different ways, from improving customer service and marketing campaigns to making products more efficient and safer. AI can be used in many different ways, from improving customer service and marketing campaigns to making products more efficient and safer. AI can be used in many different ways, from improving customer service and marketing campaigns to making products more efficient and safer.\\nAI can be used in many different ways, from improving customer service and marketing campaigns to making products more efficient and safer. The Future of Artificial Intelligence Is AI. AI can be used in many different ways, from improving customer service and marketing campaigns to making products more efficient and safer. AI can be used in many different ways, from improving customer service and marketing campaigns to making products more efficient and safer. AI can be used in many different ways, from improving customer service and marketing campaigns to making products more efficient and safer.\\nAI can be used in many different ways, from improving customer service and marketing campaigns to making products more efficient and safer. The Future of Artificial Intelligence Is AI. AI can be used in many different ways, from improving customer service and marketing campaigns to making products more efficient and safer. AI can be used in many different ways, from improving customer service and marketing campaigns to making products more efficient and safer. AI can be used in many different ways, from improving customer service and marketing campaigns to making products more efficient and safer.\\nAI can be used in many different ways, from improving customer service and marketing campaigns to making products more efficient and safer. The Future of Artificial Intelligence Is AI. AI can be used in many different ways, from improving customer service and marketing campaigns to making products more efficient and safer. AI can be used in many different ways, from improving customer service and marketing campaigns to making products more efficient and safer. AI can be used in many different ways, from improving customer service and marketing campaigns to making products more efficient and safer.\\nAI can be used in many different ways, from improving customer service and marketing campaigns to making products more efficient and safer. The Future of Artificial Intelligence Is AI. AI can be used in many different ways, from improving customer service and marketing campaigns to making products more efficient and safer. AI can be used in many different ways, from improving customer service and marketing campaigns to making products more efficient and safer. AI can be used in many different ways, from improving customer service and marketing campaigns to making products more efficient and safer.\\nAI can be used in many different ways, from improving customer service and marketing campaigns to making products more efficient and safer. The Future of Artificial Intelligence Is AI. AI can be used in many different ways, from improving customer service and marketing campaigns to making products more efficient and safer. AI can be used in many different ways, from improving customer service and marketing campaigns to making products more efficient and safer. AI can be used in many different ways, from improving customer service and marketing campaigns to making products more efficient and safer.\\nAI can be used in many different ways, from improving customer service and marketing campaigns to making products more efficient and safer. The Future of Artificial Intelligence Is AI. AI can be used in many different ways, from improving customer service and marketing campaigns to making products more efficient and safer. AI can be used in many different ways, from improving customer service and marketing campaigns to making products more efficient and safer. AI can be used in many different ways, from improving customer service and marketing campaigns to making products more efficient and safer.\\nAI can be used in many different ways, from improving customer service and marketing campaigns to making products more efficient and safer. The Future of Artificial Intelligence Is AI. AI can be used in many different ways, from improving customer service and marketing campaigns to making products more efficient and safer. AI can be used in many different ways, from improving customer service and marketing campaigns to making products more efficient and safer. AI can be used in many different ways, from improving customer service and marketing campaigns to making products more efficient and safer.\\nAI can be used in many different ways, from improving customer service and marketing campaigns to making products more efficient and safer. The Future of Artificial Intelligence Is AI. AI can be used in many different ways, from improving customer service and marketing campaigns to making products more efficient and safer. AI can be used in many different ways, from improving customer service and marketing campaigns to making products more efficient and safer. AI can be used in many different ways, from improving customer service and marketing campaigns to making products more efficient and safer.\\nAI can be used in many different ways, from improving customer service and marketing campaigns to making products more efficient and safer. The Future of Artificial Intelligence Is AI. AI can be used in many different ways, from improving customer service and marketing campaigns to making products more efficient and safer. AI can be used in many different ways, from improving customer service and marketing campaigns to making products more efficient and safer. AI can be used in many different ways, from improving customer service and marketing campaigns to making products more efficient and safer.\\nAI can be used in many different ways, from improving customer service and marketing campaigns to making products more efficient and safer. The Future of Artificial Intelligence Is AI. AI can be used in many different ways, from improving customer service and marketing campaigns to making products more efficient and safer. AI can be used in many different ways, from improving customer service and marketing campaigns to making products more efficient and safer. AI can be used in many different ways, from improving customer service and marketing campaigns to making products more efficient and safer.\\nAI can be used in many different ways, from improving customer service and marketing campaigns to making products more efficient and safer. The Future of Artificial Intelligence Is AI. AI can be used in many different ways, from improving customer service and marketing campaigns to making products more efficient and safer. AI can be used in many different ways, from improving customer service and marketing campaigns to making products more efficient and safer. AI can be used in many different ways, from improving customer service and marketing campaigns to making products more efficient and safer.\\nAI can be used in many different ways, from improving customer service and marketing campaigns to making products more efficient and safer. The Future of Artificial Intelligence Is AI. AI can be used in many different ways, from improving customer service and marketing campaigns to making products more efficient and safer. AI can be used in many different ways, from improving customer service and marketing campaigns to making products more efficient and safer. AI can be used in many different ways, from improving customer service and marketing campaigns to making products more efficient and safer.\\nAI can be used in many different ways, from improving customer service and marketing campaigns to making products more efficient and safer. The Future of Artificial Intelligence Is AI. AI can be used in many different ways, from improving customer service and marketing campaigns to making products more efficient and safer. AI can be used in many different ways, from improving customer service and marketing campaigns to making products more efficient and safer. AI can be used in many different ways, from improving customer service and marketing campaigns to making products more efficient and safer.\\nAI can be used in many different ways, from improving customer service and marketing campaigns to making products more efficient and safer. The Future of Artificial Intelligence Is AI. AI can be used in many different ways, from improving customer service and marketing campaigns to making products more efficient and safer. AI can be used in many different ways, from improving customer service and marketing campaigns to making products more efficient and safer. AI can be used in many different ways, from improving customer service and marketing campaigns to making products more efficient and safer.\\nAI can be used in many different ways, from improving customer service and marketing campaigns to making products more efficient and safer. The Future of Artificial Intelligence Is AI. AI can be used in']"
      ]
     },
     "execution_count": 10,
     "metadata": {},
     "output_type": "execute_result"
    }
   ],
   "source": [
    "outputs = model.generate(inputs, do_sample=True, top_k=50, top_p=0.95)\n",
    "print(\"토큰 개수는\", len(outputs[0]))\n",
    "tokenizer.batch_decode(outputs, skip_special_tokens=True)"
   ]
  },
  {
   "cell_type": "code",
   "execution_count": 11,
   "metadata": {},
   "outputs": [
    {
     "name": "stdout",
     "output_type": "stream",
     "text": [
      "토큰 개수는 4096\n"
     ]
    },
    {
     "data": {
      "text/plain": [
       "['AI is based on mathmatical models that attempt to mimic the way humans think. Unterscheidung von zwei Modellen. In this video, I will show you how to use a linear regression model to predict the sales of a product. These are the things that make us human. The difference is that AI is not a single technology, but rather a group of technologies. AI is not just a buzzword, it is a field that is growing rapidly and is already changing the way we live. It is the only technology that has the potential to change the way we do business and the way we live. The difference between AI and Machine Learning is that AI is a set of technologies that are designed to mimic the way humans think. Machine Learning is a set of technologies that are designed to mimic the way machines think. These technologies are used in a variety of ways, including self-driving cars, facial recognition software, and voice assistants.\\nAI is based on mathmatical models that attempt to mimic the way humans think. The difference is that AI is not a single technology, but rather a group of technologies. AI is not just a buzzword, it is a field that is growing rapidly and is already changing the way we live. It is the only technology that has the potential to change the way we do business and the way we live. The difference between AI and Machine Learning is that AI is a set of technologies that are designed to mimic the way humans think. Machine Learning is a set of technologies that are designed to mimic the way machines think. These technologies are used in a variety of ways, including self-driving cars, facial recognition software, and voice assistants. AI is a set of technologies that are designed to mimic the way humans think. Machine Learning is a set of technologies that are designed to mimic the way machines think. These technologies are used in a variety of ways, including self-driving cars, facial recognition software, and voice assistants. AI is a set of technologies that are designed to mimic the way humans think. Machine Learning is a set of technologies that are designed to mimic the way machines think. These technologies are used in a variety of ways, including self-driving cars, facial recognition software, and voice assistants.\\nAI is based on mathmatical models that attempt to mimic the way humans think. The difference is that AI is not a single technology, but rather a group of technologies. AI is not just a buzzword, it is a field that is growing rapidly and is already changing the way we live. It is the only technology that has the potential to change the way we do business and the way we live. The difference between AI and Machine Learning is that AI is a set of technologies that are designed to mimic the way humans think. Machine Learning is a set of technologies that are designed to mimic the way machines think. These technologies are used in a variety of ways, including self-driving cars, facial recognition software, and voice assistants. AI is a set of technologies that are designed to mimic the way humans think. Machine Learning is a set of technologies that are designed to mimic the way machines think. These technologies are used in a variety of ways, including self-driving cars, facial recognition software, and voice assistants. AI is a set of technologies that are designed to mimic the way humans think. Machine Learning is a set of technologies that are designed to mimic the way machines think. These technologies are used in a variety of ways, including self-driving cars, facial recognition software, and voice assistants. AI is a set of technologies that are designed to mimic the way humans think. Machine Learning is a set of technologies that are designed to mimic the way machines think. These technologies are used in a variety of ways, including self-driving cars, facial recognition software, and voice assistants. AI is a set of technologies that are designed to mimic the way humans think. Machine Learning is a set of technologies that are designed to mimic the way machines think. These technologies are used in a variety of ways, including self-driving cars, facial recognition software, and voice assistants. AI is a set of technologies that are designed to mimic the way humans think. Machine Learning is a set of technologies that are designed to mimic the way machines think. These technologies are used in a variety of ways, including self-driving cars, facial recognition software, and voice assistants. AI is a set of technologies that are designed to mimic the way humans think. Machine Learning is a set of technologies that are designed to mimic the way machines think. These technologies are used in a variety of ways, including self-driving cars, facial recognition software, and voice assistants. AI is a set of technologies that are designed to mimic the way humans think. Machine Learning is a set of technologies that are designed to mimic the way machines think. These technologies are used in a variety of ways, including self-driving cars, facial recognition software, and voice assistants. AI is a set of technologies that are designed to mimic the way humans think. Machine Learning is a set of technologies that are designed to mimic the way machines think. These technologies are used in a variety of ways, including self-driving cars, facial recognition software, and voice assistants. AI is a set of technologies that are designed to mimic the way humans think. Machine Learning is a set of technologies that are designed to mimic the way machines think. These technologies are used in a variety of ways, including self-driving cars, facial recognition software, and voice assistants. AI is a set of technologies that are designed to mimic the way humans think. Machine Learning is a set of technologies that are designed to mimic the way machines think. These technologies are used in a variety of ways, including self-driving cars, facial recognition software, and voice assistants. AI is a set of technologies that are designed to mimic the way humans think. Machine Learning is a set of technologies that are designed to mimic the way machines think. These technologies are used in a variety of ways, including self-driving cars, facial recognition software, and voice assistants. AI is a set of technologies that are designed to mimic the way humans think. Machine Learning is a set of technologies that are designed to mimic the way machines think. These technologies are used in a variety of ways, including self-driving cars, facial recognition software, and voice assistants. AI is a set of technologies that are designed to mimic the way humans think. Machine Learning is a set of technologies that are designed to mimic the way machines think. These technologies are used in a variety of ways, including self-driving cars, facial recognition software, and voice assistants. AI is a set of technologies that are designed to mimic the way humans think. Machine Learning is a set of technologies that are designed to mimic the way machines think. These technologies are used in a variety of ways, including self-driving cars, facial recognition software, and voice assistants. AI is a set of technologies that are designed to mimic the way humans think. Machine Learning is a set of technologies that are designed to mimic the way machines think. These technologies are used in a variety of ways, including self-driving cars, facial recognition software, and voice assistants. AI is a set of technologies that are designed to mimic the way humans think. Machine Learning is a set of technologies that are designed to mimic the way machines think. These technologies are used in a variety of ways, including self-driving cars, facial recognition software, and voice assistants. AI is a set of technologies that are designed to mimic the way humans think. Machine Learning is a set of technologies that are designed to mimic the way machines think. These technologies are used in a variety of ways, including self-driving cars, facial recognition software, and voice assistants. AI is a set of technologies that are designed to mimic the way humans think. Machine Learning is a set of technologies that are designed to mimic the way machines think. These technologies are used in a variety of ways, including self-driving cars, facial recognition software, and voice assistants. AI is a set of technologies that are designed to mimic the way humans think. Machine Learning is a set of technologies that are designed to mimic the way machines think. These technologies are used in a variety of ways, including self-driving cars, facial recognition software, and voice assistants. AI is a set of technologies that are designed to mimic the way humans think. Machine Learning is a set of technologies that are designed to mimic the way machines think. These technologies are used in a variety of ways, including self-driving cars, facial recognition software, and voice assistants. AI is a set of technologies that are designed to mimic the way humans think. Machine Learning is a set of technologies that are designed to mimic the way machines think. These technologies are used in a variety of ways, including self-driving cars, facial recognition software, and voice assistants. AI is a set of technologies that are designed to mimic the way humans think. Machine Learning is a set of technologies that are designed to mimic the way machines think. These technologies are used in a variety of ways, including self-driving cars, facial recognition software, and voice assistants. AI is a set of technologies that are designed to mimic the way humans think. Machine Learning is a set of technologies that are designed to mimic the way machines think. These technologies are used in a variety of ways, including self-driving cars, facial recognition software, and voice assistants. AI is a set of technologies that are designed to mimic the way humans think. Machine Learning is a set of technologies that are designed to mimic the way machines think. These technologies are used in a variety of ways, including self-driving cars, facial recognition software, and voice assistants. AI is a set of technologies that are designed to mimic the way humans think. Machine Learning is a set of technologies that are designed to mimic the way machines think. These technologies are used in a variety of ways, including self-driving cars, facial recognition software, and voice assistants. AI is a set of technologies that are designed to mimic the way humans think. Machine Learning is a set of technologies that are designed to mimic the way machines think. These technologies are used in a variety of ways, including self-driving cars, facial recognition software, and voice assistants. AI is a set of technologies that are designed to mimic the way humans think. Machine Learning is a set of technologies that are designed to mimic the way machines think. These technologies are used in a variety of ways, including self-driving cars, facial recognition software, and voice assistants. AI is a set of technologies that are designed to mimic the way humans think. Machine Learning is a set of technologies that are designed to mimic the way machines think. These technologies are used in a variety of ways, including self-driving cars, facial recognition software, and voice assistants. AI is a set of technologies that are designed to mimic the way humans think. Machine Learning is a set of technologies that are designed to mimic the way machines think. These technologies are used in a variety of ways, including self-driving cars, facial recognition software, and voice assistants. AI is a set of technologies that are designed to mimic the way humans think. Machine Learning is a set of technologies that are designed to mimic the way machines think. These technologies are used in a variety of ways, including self-driving cars, facial recognition software, and voice assistants. AI is a set of technologies that are designed to mimic the way humans think. Machine Learning is a set of technologies that are designed to mimic the way machines think. These technologies are used in a variety of ways, including self-driving cars, facial recognition software, and voice assistants. AI is a set of technologies that are designed to mimic the way humans think. Machine Learning is a set of technologies that are designed to mimic the way machines think. These technologies are used in a variety of ways, including self-driving cars, facial recognition software, and voice assistants. AI is a set of technologies that are designed to mimic the way humans think. Machine Learning is a set of technologies that are designed to mimic the way machines think. These technologies are used in a variety of ways, including self-driving cars, facial recognition software, and voice assistants. AI is a set of technologies that are designed to mimic the way humans think. Machine Learning is a set of technologies that are designed to mimic the way machines think. These technologies are used in a variety of ways, including self-driving cars, facial recognition software, and voice assistants. AI is a set of technologies that are designed to mimic the way humans think. Machine Learning is a set of technologies that are designed to mimic the way machines think. These technologies are used in a variety of ways, including self-driving cars, facial recognition software, and voice assistants. AI is a set of technologies that are designed to mimic the way humans think. Machine Learning is a set of technologies that are designed to mimic the way machines think. These technologies are used in a variety of ways, including self-driving cars, facial recognition software, and voice assistants. AI is a set of technologies that are designed to mimic the way humans think. Machine Learning is a set of technologies that are designed to mimic the way machines think. These technologies are used in a variety of ways, including self-driving cars, facial recognition software, and voice assistants. AI is a set of technologies that are designed to mimic the way humans think. Machine Learning is a set of technologies that are designed to mimic the way machines think. These technologies are used in a variety of ways, including self-driving cars, facial recognition software, and voice assistants. AI is a set of technologies that are designed to mimic the way humans think. Machine Learning is a set of technologies that are designed to mimic the way machines think. These technologies are used in a variety of ways, including self-driving cars, facial recognition software, and voice assistants. AI is a set of technologies that are designed to mimic the way humans think. Machine Learning is a set of technologies that are designed to mimic the way machines think. These technologies are used in a variety of ways, including self-driving cars, facial recognition software, and voice assistants. AI is a set of technologies that are designed to mimic the way humans think. Machine Learning is a set of technologies that are designed to mimic the way machines think. These technologies are used in a variety of ways, including self-driving cars, facial recognition software, and voice assistants. AI is a set of technologies that are designed to mimic the way humans think. Machine Learning is a set of technologies that are designed to mimic the way machines think. These technologies are used in a variety of ways, including self-driving cars, facial recognition software, and voice assistants. AI is a set of technologies that are designed to mimic the way humans think. Machine Learning is a set of technologies that are designed to mimic the way machines think. These technologies are used in a variety of ways, including self-driving cars, facial recognition software, and voice assistants. AI is a set of technologies that are designed to mimic the way humans think. Machine Learning is a set of technologies that are designed to mimic the way machines think. These technologies are used in a variety of ways, including self-driving cars, facial recognition software, and voice assistants. AI is a set of technologies that are designed to mimic the way humans think. Machine Learning is a set of technologies that are designed to mimic the way machines think. These technologies are used in a variety of ways, including self-driving cars, facial recognition software, and voice assistants. AI is a set of technologies that are designed to mimic the way humans think. Machine Learning is a set of technologies that are designed to mimic the way machines think. These technologies are used in a variety of ways, including self-driving cars, facial recognition software, and voice assistants. AI is a set of technologies that are designed to mimic the way humans think. Machine Learning is a set of technologies that are designed to mimic the way machines think. These technologies are used in a variety of ways, including self-driving cars, facial recognition software, and voice assistants. AI is a set of technologies that are designed to mimic the way humans think. Machine Learning is a set of technologies that are designed to mimic the way machines think. These technologies are used in a variety of ways, including self-driving cars, facial recognition software, and voice assistants. AI is a set of technologies that are designed to mimic the way humans think. Machine Learning is a set of technologies that are designed to mimic the way machines think. These technologies are used in a variety of ways, including self-driving cars, facial recognition software, and voice assistants. AI is a set of technologies that are designed to mimic the way humans think. Machine Learning is a set of technologies that are designed to mim']"
      ]
     },
     "execution_count": 11,
     "metadata": {},
     "output_type": "execute_result"
    }
   ],
   "source": [
    "outputs = model.generate(inputs, do_sample=True, top_k=50, top_p=0.95)\n",
    "print(\"토큰 개수는\", len(outputs[0]))\n",
    "tokenizer.batch_decode(outputs, skip_special_tokens=True)"
   ]
  },
  {
   "cell_type": "code",
   "execution_count": 12,
   "metadata": {},
   "outputs": [
    {
     "name": "stdout",
     "output_type": "stream",
     "text": [
      "토큰 개수는 4096\n"
     ]
    },
    {
     "data": {
      "text/plain": [
       "['AI is based on mathmatical models and is a field of computer science that is concerned with the development of intelligent machines that are able to reason, learn, and adapt to their environment. Begriffe und Definitionen. 0. 0. Artificial Intelligence (AI) is a branch of computer science that aims to create smart machines capable of performing tasks that typically require human intelligence. Artificial Intelligence is an interdisciplinary field that encompasses many fields such as computer science, mathematics, psychology, linguistics, philosophy, neuroscience, and engineering. Artificial Intelligence (AI) is the branch of computer science that studies how to make computers behave like humans. Artificial Intelligence (AI) is the branch of computer science that studies how to make computers behave like humans. Artificial Intelligence is a branch of Computer Science, which tries to create intelligent machines. Artificial Intelligence is the science of making computers behave like humans. 1. Artificial Intelligence is a branch of Computer Science, which tries to create intelligent machines. 1. Artificial Intelligence (AI) is the branch of computer science that studies how to make computers behave like humans. Artificial Intelligence is a branch of Computer Science, which tries to create intelligent machines. Artificial Intelligence is a branch of Computer Science, which tries to create intelligent machines. Artificial Intelligence is a branch of Computer Science, which tries to create intelligent machines. Artificial Intelligence is a branch of Computer Science, which tries to create intelligent machines. Artificial Intelligence is a branch of Computer Science, which tries to create intelligent machines. Artificial Intelligence (AI) is the branch of computer science that studies how to make computers behave like humans. Artificial Intelligence is a branch of Computer Science, which tries to create intelligent machines. Artificial Intelligence (AI) is the branch of computer science that studies how to make computers behave like humans. Artificial Intelligence (AI) is the branch of computer science that studies how to make computers behave like humans. Artificial Intelligence (AI) is the branch of computer science that studies how to make computers behave like humans. Artificial Intelligence is a branch of Computer Science, which tries to create intelligent machines. Artificial Intelligence (AI) is the branch of computer science that studies how to make computers behave like humans. Artificial Intelligence (AI) is the branch of computer science that studies how to make computers behave like humans. Artificial Intelligence (AI) is the branch of computer science that studies how to make computers behave like humans. Artificial Intelligence (AI) is the branch of computer science that studies how to make computers behave like humans. Artificial Intelligence (AI) is the branch of computer science that studies how to make computers behave like humans. Artificial Intelligence (AI) is the branch of computer science that studies how to make computers behave like humans. Artificial Intelligence (AI) is the branch of computer science that studies how to make computers behave like humans. Artificial Intelligence (AI) is the branch of computer science that studies how to make computers behave like humans. Artificial Intelligence (AI) is the branch of computer science that studies how to make computers behave like humans. Artificial Intelligence (AI) is the branch of computer science that studies how to make computers behave like humans. Artificial Intelligence (AI) is the branch of computer science that studies how to make computers behave like humans. Artificial Intelligence (AI) is the branch of computer science that studies how to make computers behave like humans. Artificial Intelligence (AI) is the branch of computer science that studies how to make computers behave like humans. Artificial Intelligence (AI) is the branch of computer science that studies how to make computers behave like humans. Artificial Intelligence (AI) is the branch of computer science that studies how to make computers behave like humans. Artificial Intelligence (AI) is the branch of computer science that studies how to make computers behave like humans. Artificial Intelligence (AI) is the branch of computer science that studies how to make computers behave like humans. Artificial Intelligence (AI) is the branch of computer science that studies how to make computers behave like humans. Artificial Intelligence (AI) is the branch of computer science that studies how to make computers behave like humans. Artificial Intelligence (AI) is the branch of computer science that studies how to make computers behave like humans. Artificial Intelligence (AI) is the branch of computer science that studies how to make computers behave like humans. Artificial Intelligence (AI) is the branch of computer science that studies how to make computers behave like humans. Artificial Intelligence (AI) is the branch of computer science that studies how to make computers behave like humans. Artificial Intelligence (AI) is the branch of computer science that studies how to make computers behave like humans. Artificial Intelligence (AI) is the branch of computer science that studies how to make computers behave like humans. Artificial Intelligence (AI) is the branch of computer science that studies how to make computers behave like humans. Artificial Intelligence (AI) is the branch of computer science that studies how to make computers behave like humans. Artificial Intelligence (AI) is the branch of computer science that studies how to make computers behave like humans. Artificial Intelligence (AI) is the branch of computer science that studies how to make computers behave like humans. Artificial Intelligence (AI) is the branch of computer science that studies how to make computers behave like humans. Artificial Intelligence (AI) is the branch of computer science that studies how to make computers behave like humans. Artificial Intelligence (AI) is the branch of computer science that studies how to make computers behave like humans. Artificial Intelligence (AI) is the branch of computer science that studies how to make computers behave like humans. Artificial Intelligence (AI) is the branch of computer science that studies how to make computers behave like humans. Artificial Intelligence (AI) is the branch of computer science that studies how to make computers behave like humans. Artificial Intelligence (AI) is the branch of computer science that studies how to make computers behave like humans. Artificial Intelligence (AI) is the branch of computer science that studies how to make computers behave like humans. Artificial Intelligence (AI) is the branch of computer science that studies how to make computers behave like humans. Artificial Intelligence (AI) is the branch of computer science that studies how to make computers behave like humans. Artificial Intelligence (AI) is the branch of computer science that studies how to make computers behave like humans. Artificial Intelligence (AI) is the branch of computer science that studies how to make computers behave like humans. Artificial Intelligence (AI) is the branch of computer science that studies how to make computers behave like humans. Artificial Intelligence (AI) is the branch of computer science that studies how to make computers behave like humans. Artificial Intelligence (AI) is the branch of computer science that studies how to make computers behave like humans. Artificial Intelligence (AI) is the branch of computer science that studies how to make computers behave like humans. Artificial Intelligence (AI) is the branch of computer science that studies how to make computers behave like humans. Artificial Intelligence (AI) is the branch of computer science that studies how to make computers behave like humans. Artificial Intelligence (AI) is the branch of computer science that studies how to make computers behave like humans. Artificial Intelligence (AI) is the branch of computer science that studies how to make computers behave like humans. Artificial Intelligence (AI) is the branch of computer science that studies how to make computers behave like humans. Artificial Intelligence (AI) is the branch of computer science that studies how to make computers behave like humans. Artificial Intelligence (AI) is the branch of computer science that studies how to make computers behave like humans. Artificial Intelligence (AI) is the branch of computer science that studies how to make computers behave like humans. Artificial Intelligence (AI) is the branch of computer science that studies how to make computers behave like humans. Artificial Intelligence (AI) is the branch of computer science that studies how to make computers behave like humans. Artificial Intelligence (AI) is the branch of computer science that studies how to make computers behave like humans. Artificial Intelligence (AI) is the branch of computer science that studies how to make computers behave like humans. Artificial Intelligence (AI) is the branch of computer science that studies how to make computers behave like humans. Artificial Intelligence (AI) is the branch of computer science that studies how to make computers behave like humans. Artificial Intelligence (AI) is the branch of computer science that studies how to make computers behave like humans. Artificial Intelligence (AI) is the branch of computer science that studies how to make computers behave like humans. Artificial Intelligence (AI) is the branch of computer science that studies how to make computers behave like humans. Artificial Intelligence (AI) is the branch of computer science that studies how to make computers behave like humans. Artificial Intelligence (AI) is the branch of computer science that studies how to make computers behave like humans. Artificial Intelligence (AI) is the branch of computer science that studies how to make computers behave like humans. Artificial Intelligence (AI) is the branch of computer science that studies how to make computers behave like humans. Artificial Intelligence (AI) is the branch of computer science that studies how to make computers behave like humans. Artificial Intelligence (AI) is the branch of computer science that studies how to make computers behave like humans. Artificial Intelligence (AI) is the branch of computer science that studies how to make computers behave like humans. Artificial Intelligence (AI) is the branch of computer science that studies how to make computers behave like humans. Artificial Intelligence (AI) is the branch of computer science that studies how to make computers behave like humans. Artificial Intelligence (AI) is the branch of computer science that studies how to make computers behave like humans. Artificial Intelligence (AI) is the branch of computer science that studies how to make computers behave like humans. Artificial Intelligence (AI) is the branch of computer science that studies how to make computers behave like humans. Artificial Intelligence (AI) is the branch of computer science that studies how to make computers behave like humans. Artificial Intelligence (AI) is the branch of computer science that studies how to make computers behave like humans. Artificial Intelligence (AI) is the branch of computer science that studies how to make computers behave like humans. Artificial Intelligence (AI) is the branch of computer science that studies how to make computers behave like humans. Artificial Intelligence (AI) is the branch of computer science that studies how to make computers behave like humans. Artificial Intelligence (AI) is the branch of computer science that studies how to make computers behave like humans. Artificial Intelligence (AI) is the branch of computer science that studies how to make computers behave like humans. Artificial Intelligence (AI) is the branch of computer science that studies how to make computers behave like humans. Artificial Intelligence (AI) is the branch of computer science that studies how to make computers behave like humans. Artificial Intelligence (AI) is the branch of computer science that studies how to make computers behave like humans. Artificial Intelligence (AI) is the branch of computer science that studies how to make computers behave like humans. Artificial Intelligence (AI) is the branch of computer science that studies how to make computers behave like humans. Artificial Intelligence (AI) is the branch of computer science that studies how to make computers behave like humans. Artificial Intelligence (AI) is the branch of computer science that studies how to make computers behave like humans. Artificial Intelligence (AI) is the branch of computer science that studies how to make computers behave like humans. Artificial Intelligence (AI) is the branch of computer science that studies how to make computers behave like humans. Artificial Intelligence (AI) is the branch of computer science that studies how to make computers behave like humans. Artificial Intelligence (AI) is the branch of computer science that studies how to make computers behave like humans. Artificial Intelligence (AI) is the branch of computer science that studies how to make computers behave like humans. Artificial Intelligence (AI) is the branch of computer science that studies how to make computers behave like humans. Artificial Intelligence (AI) is the branch of computer science that studies how to make computers behave like humans. Artificial Intelligence (AI) is the branch of computer science that studies how to make computers behave like humans. Artificial Intelligence (AI) is the branch of computer science that studies how to make computers behave like humans. Artificial Intelligence (AI) is the branch of computer science that studies how to make computers behave like humans. Artificial Intelligence (AI) is the branch of computer science that studies how to make computers behave like humans. Artificial Intelligence (AI) is the branch of computer science that studies how to make computers behave like humans. Artificial Intelligence (AI) is the branch of computer science that studies how to make computers behave like humans. Artificial Intelligence (AI) is the branch of computer science that studies how to make computers behave like humans. Artificial Intelligence (AI) is the branch of computer science that studies how to make computers behave like humans. Artificial Intelligence (AI) is the branch of computer science that studies how to make computers behave like humans. Artificial Intelligence (AI) is the branch of computer science that studies how to make computers behave like humans. Artificial Intelligence (AI) is the branch of computer science that studies how to make computers behave like humans. Artificial Intelligence (AI) is the branch of computer science that studies how to make computers behave like humans. Artificial Intelligence (AI) is the branch of computer science that studies how to make computers behave like humans. Artificial Intelligence (AI) is the branch of computer science that studies how to make computers behave like humans. Artificial Intelligence (AI) is the branch of computer science that studies how to make computers behave like humans. Artificial Intelligence (AI) is the branch of computer science that studies how to make computers behave like humans. Artificial Intelligence (AI) is the branch of computer science that studies how to make computers behave like humans. Artificial Intelligence (AI) is the branch of computer science that studies how to make computers behave like humans. Artificial Intelligence (AI) is the branch of computer science that studies how to make computers behave like humans. Artificial Intelligence (AI) is the branch of computer science that studies how to make computers behave like humans. Artificial Intelligence (AI) is the branch of computer science that studies how to make computers behave like humans. Artificial Intelligence (AI) is the branch of computer science that studies how to make computers behave like humans. Artificial Intelligence (AI) is the branch of computer science that studies how to make computers behave like humans. Artificial Intelligence (AI) is the branch of computer science that studies how to make computers behave like humans. Artificial Intelligence (AI) is the branch of computer science that studies how to make computers behave like humans. Artificial Intelligence (AI) is the branch of computer science that studies how to make computers behave like humans. Artificial Intelligence (AI) is the branch of computer science that studies how to make computers behave like humans. Artificial Intelligence (AI) is the branch of computer science that studies how to make computers behave like humans. Artificial Intelligence (AI) is the branch of computer science that studies how to make computers behave like humans. Artificial Intelligence (AI) is the branch of computer science that studies how to make computers behave like humans. Artificial Intelligence (AI) is the branch of computer science that studies how to make computers behave like humans. Artificial Intelligence (AI) is the branch of computer science that studies how to make computers behave like humans. Artificial Intelligence (AI) is the branch of computer science that studies how to make computers behave like humans. Artificial Intelligence (AI) is the branch of computer science that studies how to make computers behave like humans. Artificial Intelligence (AI) is the branch of computer science that studies how to make computers behave like humans. Artificial Intelligence (AI) is the branch of computer science that studies how to make computers behave like humans. Artificial Intelligence (AI) is the branch of computer science that studies how to make computers behave like humans. Artificial Intelligence (AI) is the branch of computer science that studies how to make computers behave like humans. Artificial Intelligence (AI) is the branch of computer science that studies how to make computers behave like humans. Artificial Intelligence (AI) is the branch of computer science that studies how to make computers behave like humans. Artificial Intelligence (AI) is the branch of computer science that studies how to make computers behave like humans. Artificial Intelligence (AI) is the branch of computer science that studies how to make computers behave like humans. Artificial Intelligence (AI) is the branch of computer science that studies how to make computers behave like humans. Artificial Intelligence (AI) is the branch of computer science that studies how to make computers behave like humans. Artificial Intelligence (AI) is the branch of computer science that studies how to make computers behave like humans. Artificial Intelligence (AI) is the branch of computer science that studies how to make computers behave like humans. Artificial Intelligence (AI) is the branch of computer science that studies how to make computers behave like humans. Artificial Intelligence (AI) is the branch of computer science that studies how to make computers behave like humans. Artificial Intelligence (AI) is the branch of computer science that studies how to make computers behave like humans. Artificial Intelligence (AI) is the branch of computer science that studies how to make computers behave like humans. Artificial Intelligence (AI) is the branch of computer science that studies how to make computers behave like humans. Artificial Intelligence (AI) is the branch of computer science that studies how to make computers behave like humans. Artificial Intelligence (AI) is the branch of computer science that studies how to make computers behave like humans. Artificial Intelligence (AI) is the branch of computer science that studies how to make computers behave like humans. Artificial Intelligence (AI) is the branch of computer science that studies how to make computers behave like humans. Artificial']"
      ]
     },
     "execution_count": 12,
     "metadata": {},
     "output_type": "execute_result"
    }
   ],
   "source": [
    "outputs = model.generate(inputs, do_sample=True, top_k=10, top_p=0.95)\n",
    "print(\"토큰 개수는\", len(outputs[0]))\n",
    "tokenizer.batch_decode(outputs, skip_special_tokens=True, early_stopping=True)"
   ]
  },
  {
   "cell_type": "code",
   "execution_count": 13,
   "metadata": {},
   "outputs": [
    {
     "name": "stderr",
     "output_type": "stream",
     "text": [
      "/home/aeolian83/anaconda3/envs/llm_for_p311/lib/python3.11/site-packages/transformers/generation/utils.py:1477: UserWarning: You are calling .generate() with the `input_ids` being on a device type different than your model's device. `input_ids` is on cpu, whereas the model is on cuda. You may experience unexpected behaviors or slower generation. Please make sure that you have put `input_ids` to the correct device by calling for example input_ids = input_ids.to('cuda') before running `.generate()`.\n",
      "  warnings.warn(\n"
     ]
    },
    {
     "name": "stdout",
     "output_type": "stream",
     "text": [
      "토큰 개수는 4096\n"
     ]
    },
    {
     "data": {
      "text/plain": [
       "['AI is based on mathmatical models and data. sierpniu 2020. The main goal of this course is to provide students with the skills and knowledge necessary to apply machine learning methods to data analysis. The course will cover the main machine learning techniques, including linear regression, logistic regression, decision trees, random forests, neural networks, support vector machines, and clustering.\\n1.1. Data Science with Python\\n1.2. Introduction to Machine Learning\\n1.3. Supervised Learning\\n1.4. Unsupervised Learning\\n1.5. Reinforcement Learning\\n1.6. Natural Language Processing\\n1.7. Computer Vision\\n1.8. Deep Learning\\n1.9. Data Visualization\\n1.10. Machine Learning with TensorFlow\\n1.11. Machine Learning with R\\n1.12. Machine Learning with Python\\n1.13. Machine Learning with Java\\n1.14. Machine Learning with C++\\n1.15. Machine Learning with Scala\\n1.16. Machine Learning with Ruby\\n1.17. Machine Learning with Go\\n1.18. Machine Learning with Julia\\n1.19. Machine Learning with Swift\\n1.20. Machine Learning with Haskell\\n1.21. Machine Learning with Clojure\\n1.22. Machine Learning with Kotlin\\n1.23. Machine Learning with Elixir\\n1.24. Machine Learning with Rust\\n1.25. Machine Learning with Dart\\n1.26. Machine Learning with F#\\n1.27. Machine Learning with OCaml\\n1.28. Machine Learning with Erlang\\n1.29. Machine Learning with Rust\\n1.30. Machine Learning with Go\\n1.31. Machine Learning with Java\\n1.32. Machine Learning with Python\\n1.33. Machine Learning with Scala\\n1.34. Machine Learning with Ruby\\n1.35. Machine Learning with Clojure\\n1.36. Machine Learning with Kotlin\\n1.37. Machine Learning with Elixir\\n1.38. Machine Learning with Rust\\n1.39. Machine Learning with Dart\\n1.40. Machine Learning with F#\\n1.41. Machine Learning with OCaml\\n1.42. Machine Learning with Erlang\\n1.43. Machine Learning with Go\\n1.44. Machine Learning with Haskell\\n1.45. Machine Learning with Rust\\n1.46. Machine Learning with Swift\\n1.47. Machine Learning with Julia\\n1.48. Machine Learning with Kotlin\\n1.49. Machine Learning with Elixir\\n1.50. Machine Learning with Clojure\\n1.51. Machine Learning with Rust\\n1.52. Machine Learning with Dart\\n1.53. Machine Learning with F#\\n1.54. Machine Learning with OCaml\\n1.55. Machine Learning with Erlang\\n1.56. Machine Learning with Go\\n1.57. Machine Learning with Haskell\\n1.58. Machine Learning with Rust\\n1.59. Machine Learning with Swift\\n1.60. Machine Learning with Julia\\n1.61. Machine Learning with Kotlin\\n1.62. Machine Learning with Elixir\\n1.63. Machine Learning with Clojure\\n1.64. Machine Learning with Rust\\n1.65. Machine Learning with Dart\\n1.66. Machine Learning with F#\\n1.67. Machine Learning with OCaml\\n1.68. Machine Learning with Erlang\\n1.69. Machine Learning with Go\\n1.70. Machine Learning with Haskell\\n1.71. Machine Learning with Rust\\n1.72. Machine Learning with Swift\\n1.73. Machine Learning with Julia\\n1.74. Machine Learning with Kotlin\\n1.75. Machine Learning with Elixir\\n1.76. Machine Learning with Clojure\\n1.77. Machine Learning with Rust\\n1.78. Machine Learning with Dart\\n1.79. Machine Learning with F#\\n1.80. Machine Learning with OCaml\\n1.81. Machine Learning with Erlang\\n1.82. Machine Learning with Go\\n1.83. Machine Learning with Haskell\\n1.84. Machine Learning with Rust\\n1.85. Machine Learning with Swift\\n1.86. Machine Learning with Julia\\n1.87. Machine Learning with Kotlin\\n1.88. Machine Learning with Elixir\\n1.89. Machine Learning with Clojure\\n1.90. Machine Learning with Rust\\n1.91. Machine Learning with Dart\\n1.92. Machine Learning with F#\\n1.93. Machine Learning with OCaml\\n1.94. Machine Learning with Erlang\\n1.95. Machine Learning with Go\\n1.96. Machine Learning with Haskell\\n1.97. Machine Learning with Rust\\n1.98. Machine Learning with Swift\\n1.99. Machine Learning with Julia\\n1.100. Machine Learning with Kotlin\\n1.101. Machine Learning with Elixir\\n1.102. Machine Learning with Clojure\\n1.103. Machine Learning with Rust\\n1.104. Machine Learning with Dart\\n1.105. Machine Learning with F#\\n1.106. Machine Learning with OCaml\\n1.107. Machine Learning with Erlang\\n1.108. Machine Learning with Go\\n1.109. Machine Learning with Haskell\\n1.110. Machine Learning with Rust\\n1.111. Machine Learning with Swift\\n1.112. Machine Learning with Julia\\n1.113. Machine Learning with Kotlin\\n1.114. Machine Learning with Elixir\\n1.115. Machine Learning with Clojure\\n1.116. Machine Learning with Rust\\n1.117. Machine Learning with Dart\\n1.118. Machine Learning with F#\\n1.119. Machine Learning with OCaml\\n1.120. Machine Learning with Erlang\\n1.121. Machine Learning with Go\\n1.122. Machine Learning with Haskell\\n1.123. Machine Learning with Rust\\n1.124. Machine Learning with Swift\\n1.125. Machine Learning with Julia\\n1.126. Machine Learning with Kotlin\\n1.127. Machine Learning with Elixir\\n1.128. Machine Learning with Clojure\\n1.129. Machine Learning with Rust\\n1.130. Machine Learning with Dart\\n1.131. Machine Learning with F#\\n1.132. Machine Learning with OCaml\\n1.133. Machine Learning with Erlang\\n1.134. Machine Learning with Go\\n1.135. Machine Learning with Haskell\\n1.136. Machine Learning with Rust\\n1.137. Machine Learning with Swift\\n1.138. Machine Learning with Julia\\n1.139. Machine Learning with Kotlin\\n1.140. Machine Learning with Elixir\\n1.141. Machine Learning with Clojure\\n1.142. Machine Learning with Rust\\n1.143. Machine Learning with Dart\\n1.144. Machine Learning with F#\\n1.145. Machine Learning with OCaml\\n1.146. Machine Learning with Erlang\\n1.147. Machine Learning with Go\\n1.148. Machine Learning with Haskell\\n1.149. Machine Learning with Rust\\n1.150. Machine Learning with Swift\\n1.151. Machine Learning with Julia\\n1.152. Machine Learning with Kotlin\\n1.153. Machine Learning with Elixir\\n1.154. Machine Learning with Clojure\\n1.155. Machine Learning with Rust\\n1.156. Machine Learning with Dart\\n1.157. Machine Learning with F#\\n1.158. Machine Learning with OCaml\\n1.159. Machine Learning with Erlang\\n1.160. Machine Learning with Go\\n1.161. Machine Learning with Haskell\\n1.162. Machine Learning with Rust\\n1.163. Machine Learning with Swift\\n1.164. Machine Learning with Julia\\n1.165. Machine Learning with Kotlin\\n1.166. Machine Learning with Elixir\\n1.167. Machine Learning with Clojure\\n1.168. Machine Learning with Rust\\n1.169. Machine Learning with Dart\\n1.170. Machine Learning with F#\\n1.171. Machine Learning with OCaml\\n1.172. Machine Learning with Erlang\\n1.173. Machine Learning with Go\\n1.174. Machine Learning with Haskell\\n1.175. Machine Learning with Rust\\n1.176. Machine Learning with Swift\\n1.177. Machine Learning with Julia\\n1.178. Machine Learning with Kotlin\\n1.179. Machine Learning with Elixir\\n1.180. Machine Learning with Clojure\\n1.181. Machine Learning with Rust\\n1.182. Machine Learning with Dart\\n1.183. Machine Learning with F#\\n1.184. Machine Learning with OCaml\\n1.185. Machine Learning with Erlang\\n1.186. Machine Learning with Go\\n1.187. Machine Learning with Haskell\\n1.188. Machine Learning with Rust\\n1.189. Machine Learning with Swift\\n1.190. Machine Learning with Julia\\n1.191. Machine Learning with Kotlin\\n1.192. Machine Learning with Elixir\\n1.193. Machine Learning with Clojure\\n1.194. Machine Learning with Rust\\n1.195. Machine Learning with Dart\\n1.196. Machine Learning with F#\\n1.197. Machine Learning with OCaml\\n1.198. Machine Learning with Erlang\\n1.199. Machine Learning with Go\\n1.200. Machine Learning with Haskell\\n1.201. Machine Learning with Rust\\n1.202. Machine Learning with Swift\\n1.203. Machine Learning with Julia\\n1.204. Machine Learning with Kotlin\\n1.205. Machine Learning with Elixir\\n1.206. Machine Learning with Clojure\\n1.207. Machine Learning with Rust\\n1.208. Machine Learning with Dart\\n1.209. Machine Learning with F#\\n1.210. Machine Learning with OCaml\\n1.211. Machine Learning with Erlang\\n1.212. Machine Learning with Go\\n1.213. Machine Learning with Haskell\\n1.214. Machine Learning with Rust\\n1.215. Machine Learning with Swift\\n1.216. Machine Learning with Julia\\n1.217. Machine Learning with Kotlin\\n1.218. Machine Learning with Elixir\\n1.219. Machine Learning with Clojure\\n1.220. Machine Learning with Rust\\n1.221. Machine Learning with Dart\\n1.222. Machine Learning with F#\\n1.223. Machine Learning with OCaml\\n1.224. Machine Learning with Erlang\\n1.225. Machine Learning with Go\\n1.226. Machine Learning with Haskell\\n1.227. Machine Learning with Rust\\n1.228. Machine Learning with Swift\\n1.229. Machine Learning with Julia\\n1.230. Machine Learning with Kotlin\\n1.231. Machine Learning with Elixir\\n1.232. Machine Learning with Clojure\\n1.233. Machine Learning with Rust\\n1.234. Machine Learning with Dart\\n1.235. Machine Learning with F#\\n1.236. Machine Learning with OCaml\\n1.237. Machine Learning with Erlang\\n1.238. Machine Learning with Go\\n1.239. Machine Learning with Haskell\\n1.240. Machine Learning with Rust\\n1.241. Machine Learning with Swift\\n1.242. Machine Learning with Julia\\n1.243. Machine Learning with Kotlin\\n1.244. Machine Learning with Elixir\\n1.245. Machine Learning with Clojure\\n1.246. Machine Learning with Rust\\n1.247. Machine Learning with Dart\\n1.248. Machine Learning with F#\\n1.249. Machine Learning with OCaml\\n1.250. Machine Learning with Erlang\\n1.251. Machine Learning with Go\\n1.252. Machine Learning with Haskell\\n1.253. Machine Learning with Rust\\n1.254. Machine Learning with Swift\\n1.255. Machine Learning with Julia\\n1.256. Machine Learning with Kotlin\\n1.257. Machine Learning with Elixir\\n1.258. Machine Learning with Clojure\\n1.259. Machine Learning with Rust\\n1.260. Machine Learning with Dart\\n1.261. Machine Learning with F#\\n1.262. Machine Learning with OCaml\\n1.263. Machine Learning with Erlang\\n1.264. Machine Learning with Go\\n1.265. Machine Learning with Haskell\\n1.266. Machine Learning with Rust\\n1.267. Machine Learning with Swift\\n1.268. Machine Learning with Julia\\n1.269. Machine Learning with Kotlin\\n1.270. Machine Learning with Elixir\\n1.271. Machine Learning with Clojure\\n1.272. Machine Learning with Rust\\n1.273. Machine Learning with Dart\\n1.274. Machine Learning with F#\\n1.275. Machine Learning with OCaml\\n1.276. Machine Learning with Erlang\\n1.277. Machine Learning with Go\\n1.278. Machine Learning with Haskell\\n1.279. Machine Learning with Rust\\n1.280. Machine Learning with Swift\\n1.281. Machine Learning with Julia\\n1.282. Machine Learning with Kotlin\\n1.283. Machine Learning with Elixir\\n1.284. Machine Learning with Clojure\\n1.285. Machine Learning with Rust\\n1.286. Machine Learning with Dart\\n1.287. Machine Learning with F#\\n1.288. Machine Learning with OCaml\\n1.289. Machine Learning with Erlang\\n1.290. Machine Learning with Go\\n1.291. Machine Learning with Haskell\\n1.292. Machine Learning with Rust\\n1.293. Machine Learning with Swift\\n1.294. Machine Learning with Julia\\n1.295. Machine Learning with Kotlin\\n1.296. Machine Learning with Elixir\\n1.297. Machine Learning with Clojure\\n1.298. Machine Learning with Rust\\n1.299. Machine Learning with Dart\\n1.300. Machine Learning with F#\\n1.301. Machine Learning with OCaml\\n1.302. Machine Learning with Erlang\\n1.303. Machine Learning with Go\\n1.304. Machine Learning with Haskell\\n1.305. Machine Learning with Rust\\n1.306. Machine Learning with Swift\\n1.307. Machine Learning with Julia\\n1.308. Machine Learning with Kotlin\\n1.309. Machine Learning with Elixir\\n1.310. Machine Learning with Clojure\\n1.311. Machine Learning with Rust\\n1.312. Machine Learning with Dart\\n1.313. Machine Learning with F#\\n1.314. Machine Learning with OCaml\\n1.315. Machine Learning with Erlang\\n1.316. Machine Learning with Go\\n1.317. Machine Learning with Haskell\\n1.318. Machine Learning with Rust\\n1.319. Machine Learning with Swift\\n1.320. Machine Learning with Julia\\n1.321. Machine Learning with Kotlin\\n1.322. Machine Learning with Elixir\\n1.323. Machine Learning with Clojure\\n1.324. Machine Learning with Rust\\n1.325. Machine Learning with Dart\\n1.326. Machine Learning with F#\\n1.327. Machine Learning with OCaml\\n1.328. Machine Learning with Erlang\\n1.329. Machine Learning with Go\\n1.330. Machine Learning with Haskell\\n1.331. Machine Learning with Rust\\n1.332. Machine Learning with Swift\\n1.333. Machine Learning with Julia\\n1.334. Machine Learning with Kotlin\\n1.335. Machine Learning with Elixir\\n1.336. Machine Learning with Clojure\\n1.337. Machine Learning with Rust\\n1.338. Machine Learning with Dart\\n1.339. Machine Learning with F#\\n1.340. Machine Learning with OCaml\\n1.341. Machine Learning with Erlang\\n1.342. Machine Learning with Go\\n1.343. Machine Learning with Haskell\\n1.344. Machine Learning with Rust\\n1.345. Machine Learning with Swift\\n1.346. Machine Learning with Julia\\n1.347. Machine Learning with Kotlin\\n1.348']"
      ]
     },
     "execution_count": 13,
     "metadata": {},
     "output_type": "execute_result"
    }
   ],
   "source": [
    "outputs = model.generate(inputs, do_sample=True)\n",
    "print(\"토큰 개수는\", len(outputs[0]))\n",
    "tokenizer.batch_decode(outputs, skip_special_tokens=True)"
   ]
  },
  {
   "cell_type": "code",
   "execution_count": null,
   "metadata": {},
   "outputs": [],
   "source": []
  },
  {
   "cell_type": "markdown",
   "metadata": {},
   "source": [
    "## 1. Max token 1024"
   ]
  },
  {
   "cell_type": "code",
   "execution_count": 9,
   "metadata": {},
   "outputs": [
    {
     "name": "stderr",
     "output_type": "stream",
     "text": [
      "/home/aeolian83/anaconda3/envs/llm_for_p311/lib/python3.11/site-packages/transformers/generation/utils.py:1477: UserWarning: You are calling .generate() with the `input_ids` being on a device type different than your model's device. `input_ids` is on cpu, whereas the model is on cuda. You may experience unexpected behaviors or slower generation. Please make sure that you have put `input_ids` to the correct device by calling for example input_ids = input_ids.to('cuda') before running `.generate()`.\n",
      "  warnings.warn(\n"
     ]
    }
   ],
   "source": [
    "outputs = model.generate(inputs, max_new_tokens=1024, do_sample=True, top_k=50, top_p=0.95)"
   ]
  },
  {
   "cell_type": "code",
   "execution_count": 11,
   "metadata": {},
   "outputs": [
    {
     "data": {
      "text/plain": [
       "1033"
      ]
     },
     "execution_count": 11,
     "metadata": {},
     "output_type": "execute_result"
    }
   ],
   "source": [
    "len(outputs[0])"
   ]
  },
  {
   "cell_type": "code",
   "execution_count": 10,
   "metadata": {},
   "outputs": [
    {
     "data": {
      "text/plain": [
       "['AI is based on mathmatical models that are based on the assumption that a human being is a machine. everybody is a machine.\\nthe problem is that this assumption is not true.\\nThe idea that the brain is a machine is the problem.\\nIf the brain is a machine then AI is possible.\\nThe problem is that the brain is not a machine.\\nThe brain is not a computer.\\nThe brain is not a robot.\\nThe brain is not a machine.\\nThe brain is not a computer. The brain is not a robot. The brain is not a machine.\\nThe brain is not a computer. The brain is not a robot. The brain is not a machine.\\nThe brain is not a computer. The brain is not a robot. The brain is not a machine. The brain is not a computer. The brain is not a robot. The brain is not a machine. The brain is not a computer. The brain is not a robot. The brain is not a machine. The brain is not a computer. The brain is not a robot. The brain is not a machine. The brain is not a computer. The brain is not a robot. The brain is not a machine. The brain is not a computer. The brain is not a robot. The brain is not a machine. The brain is not a computer. The brain is not a robot. The brain is not a machine. The brain is not a computer. The brain is not a robot. The brain is not a machine. The brain is not a computer. The brain is not a robot. The brain is not a machine. The brain is not a computer. The brain is not a robot. The brain is not a machine. The brain is not a computer. The brain is not a robot. The brain is not a machine. The brain is not a computer. The brain is not a robot. The brain is not a machine. The brain is not a computer. The brain is not a robot. The brain is not a machine. The brain is not a computer. The brain is not a robot. The brain is not a machine. The brain is not a computer. The brain is not a robot. The brain is not a machine. The brain is not a computer. The brain is not a robot. The brain is not a machine. The brain is not a computer. The brain is not a robot. The brain is not a machine. The brain is not a computer. The brain is not a robot. The brain is not a machine. The brain is not a computer. The brain is not a robot. The brain is not a machine. The brain is not a computer. The brain is not a robot. The brain is not a machine. The brain is not a computer. The brain is not a robot. The brain is not a machine. The brain is not a computer. The brain is not a robot. The brain is not a machine. The brain is not a computer. The brain is not a robot. The brain is not a machine. The brain is not a computer. The brain is not a robot. The brain is not a machine. The brain is not a computer. The brain is not a robot. The brain is not a machine. The brain is not a computer. The brain is not a robot. The brain is not a machine. The brain is not a computer. The brain is not a robot. The brain is not a machine. The brain is not a computer. The brain is not a robot. The brain is not a machine. The brain is not a computer. The brain is not a robot. The brain is not a machine. The brain is not a computer. The brain is not a robot. The brain is not a machine. The brain is not a computer. The brain is not a robot. The brain is not a machine. The brain is not a computer. The brain is not a robot. The brain is not a machine. The brain is not a computer. The brain is not a robot. The brain is not a machine. The brain is not a computer. The brain is not a robot. The brain is not a machine. The brain is not a computer. The brain is not a robot. The brain is not a machine. The brain is not a computer. The brain is not a robot. The brain is not a machine. The brain is not a computer. The brain is not a robot. The brain is not a machine. The brain is not a computer. The brain is not a robot. The brain is not a machine. The brain is not a computer. The brain is not a robot. The brain is not a machine. The brain is not a computer. The brain is not a robot. The brain is not a machine. The brain is not a computer. The brain is not a robot. The brain is not a machine. The brain is not a computer. The brain is not a robot. The brain is not a machine. The brain is not']"
      ]
     },
     "execution_count": 10,
     "metadata": {},
     "output_type": "execute_result"
    }
   ],
   "source": [
    "tokenizer.batch_decode(outputs, skip_special_tokens=True)"
   ]
  },
  {
   "cell_type": "markdown",
   "metadata": {},
   "source": [
    "## 2. Max token 512"
   ]
  },
  {
   "cell_type": "code",
   "execution_count": 12,
   "metadata": {},
   "outputs": [
    {
     "name": "stderr",
     "output_type": "stream",
     "text": [
      "/home/aeolian83/anaconda3/envs/llm_for_p311/lib/python3.11/site-packages/transformers/generation/utils.py:1477: UserWarning: You are calling .generate() with the `input_ids` being on a device type different than your model's device. `input_ids` is on cpu, whereas the model is on cuda. You may experience unexpected behaviors or slower generation. Please make sure that you have put `input_ids` to the correct device by calling for example input_ids = input_ids.to('cuda') before running `.generate()`.\n",
      "  warnings.warn(\n"
     ]
    },
    {
     "name": "stdout",
     "output_type": "stream",
     "text": [
      "토큰 개수는 521\n"
     ]
    },
    {
     "data": {
      "text/plain": [
       "['AI is based on mathmatical models and algorithms, but it is not in itself a technology. sierpniu 2022\\nArtificial Intelligence (AI) is a branch of computer science concerned with the development of intelligent agents, where an intelligent agent is a system that perceives its environment and takes actions that maximize its chances of success.\\nAI is based on mathematical models and algorithms, but it is not in itself a technology. The term “artificial intelligence” is often used to describe machines that mimic “cognitive” functions that humans associate with other human minds, such as “learning” and “problem solving”.\\nAs machines become more capable, mental faculties such as “creativity”, “cognitive biases”, “common sense”, “empathy”, “logic”, “reasoning”, “self-awareness”, “consciousness”, “imagination”, “self-taught learning”, “social intelligence”, and “the ability to learn from experience” become more difficult to distinguish from natural intelligence.\\nThe field was founded on the claim that human intelligence “can be so precisely described that a machine can be made to simulate it.” The field was founded on the claim that human intelligence “can be so precisely described that a machine can be made to simulate it.”\\nArtificial intelligence is sometimes described as the “new” or “third” wave of computing, following machine replacement of humans and programmable machines.\\nThe first wave was the development of electronic computers themselves, starting around 1940. The second wave was the development of software engineering, which led to the creation of the first commercially available electronic computers.\\nThe third wave is the development of artificial intelligence, which has led to the creation of the first commercially available intelligent machines.\\nArtificial intelligence is an interdisciplinary scientific field that seeks to understand the nature, capabilities, and behavior of the human mind.\\nThe term “artificial intelligence” was coined in 1956, and the field of AI research was established by John McCarthy in 1956.\\nAI research is an interdisciplinary scientific field that seeks to understand the nature, capabilities, and behavior of the human mind.\\nThe field of AI research is a branch of computer science that seeks to create intelligent agents.\\nThe field of AI research is a branch of computer science that seeks to create intelligent']"
      ]
     },
     "execution_count": 12,
     "metadata": {},
     "output_type": "execute_result"
    }
   ],
   "source": [
    "outputs = model.generate(inputs, max_new_tokens=512, do_sample=True, top_k=50, top_p=0.95)\n",
    "print(\"토큰 개수는\", len(outputs[0]))\n",
    "tokenizer.batch_decode(outputs, skip_special_tokens=True)"
   ]
  },
  {
   "cell_type": "markdown",
   "metadata": {},
   "source": [
    "## 3. Max token 256"
   ]
  },
  {
   "cell_type": "code",
   "execution_count": 15,
   "metadata": {},
   "outputs": [
    {
     "name": "stdout",
     "output_type": "stream",
     "text": [
      "토큰 개수는 265\n"
     ]
    },
    {
     "data": {
      "text/plain": [
       "['AI is based on mathmatical algorithms. sierp 23, 2017\\nArtificial Intelligence (AI) is a broad term that refers to the ability of a machine to mimic human behavior. There are different types of AI that can be used to perform different tasks. Some of the most common types of AI are:\\n1. Reactive Machines: These machines are able to perform simple tasks such as recognizing images or sounds.\\n2. Limited Memory Machines: These machines are able to store information for a short period of time, but they are not able to learn or adapt to new situations.\\n3. Theory of Mind Machines: These machines are able to understand the thoughts and feelings of other people.\\n4. Self-Aware Machines: These machines are able to understand their own thoughts and feelings.\\n5. Artificial General Intelligence (AGI): These machines are able to perform any task that a human can perform.\\nThe future of AI is uncertain, but it is likely that AI will become more intelligent and more capable of performing complex tasks.\\nWhat are the four types of AI?\\nThere are four types of AI: reactive, limited memory, theory of mind,']"
      ]
     },
     "execution_count": 15,
     "metadata": {},
     "output_type": "execute_result"
    }
   ],
   "source": [
    "outputs = model.generate(inputs, max_new_tokens=256, do_sample=True, top_k=50, top_p=0.95)\n",
    "print(\"토큰 개수는\", len(outputs[0]))\n",
    "tokenizer.batch_decode(outputs, skip_special_tokens=True)"
   ]
  },
  {
   "cell_type": "code",
   "execution_count": null,
   "metadata": {},
   "outputs": [],
   "source": []
  },
  {
   "cell_type": "code",
   "execution_count": 16,
   "metadata": {},
   "outputs": [
    {
     "name": "stdout",
     "output_type": "stream",
     "text": [
      "토큰 개수는 137\n"
     ]
    },
    {
     "data": {
      "text/plain": [
       "['AI is based on mathmatical models that can be expressed in terms of probability distributions. kwietniki wiadomości.\\nAi is based on mathematical models that can be expressed in terms of probability distributions.\\nAI is based on mathematical models that can be expressed in terms of probability distributions.\\nAI is based on mathematical models that can be expressed in terms of probability distributions.\\nAI is based on mathematical models that can be expressed in terms of probability distributions.\\nAI is based on mathematical models that can be expressed in terms of probability distributions.\\nAI is based on mathematical models that can be expressed in terms of probability distributions.\\nAI is based on']"
      ]
     },
     "execution_count": 16,
     "metadata": {},
     "output_type": "execute_result"
    }
   ],
   "source": [
    "outputs = model.generate(inputs, max_new_tokens=128, do_sample=True, top_k=50, top_p=0.95)\n",
    "print(\"토큰 개수는\", len(outputs[0]))\n",
    "tokenizer.batch_decode(outputs, skip_special_tokens=True)"
   ]
  },
  {
   "cell_type": "code",
   "execution_count": null,
   "metadata": {},
   "outputs": [],
   "source": []
  },
  {
   "cell_type": "code",
   "execution_count": 17,
   "metadata": {},
   "outputs": [
    {
     "name": "stdout",
     "output_type": "stream",
     "text": [
      "토큰 개수는 137\n"
     ]
    },
    {
     "data": {
      "text/plain": [
       "['AI is based on mathmatical models of human thought processes. Unterscheidung von Wahrscheinlichkeiten.\\nAI is based on mathmatical models of human thought processes.\\nSeparation of Wahrscheinlichkeiten.\\nThe AI \\u200b\\u200bis based on mathematical models of human thought processes.\\nThe AI \\u200b\\u200bis based on mathematical models of human thought processes. The AI \\u200b\\u200bis based on mathematical models of human thought processes.\\nThe AI \\u200b\\u200bis based on mathematical models of human thought processes. The AI \\u200b\\u200bis based on mathematical models of human thought processes. The AI \\u200b\\u200b']"
      ]
     },
     "execution_count": 17,
     "metadata": {},
     "output_type": "execute_result"
    }
   ],
   "source": [
    "outputs = model.generate(inputs, max_new_tokens=128, do_sample=True)\n",
    "print(\"토큰 개수는\", len(outputs[0]))\n",
    "tokenizer.batch_decode(outputs, skip_special_tokens=True)"
   ]
  },
  {
   "cell_type": "code",
   "execution_count": 18,
   "metadata": {},
   "outputs": [],
   "source": [
    "prompt = \"The three primary colors in the color theory used in painting and traditional color mixing are red, \"\n",
    "inputs = tokenizer(prompt, return_tensors=\"pt\").input_ids"
   ]
  },
  {
   "cell_type": "code",
   "execution_count": 19,
   "metadata": {},
   "outputs": [
    {
     "name": "stdout",
     "output_type": "stream",
     "text": [
      "토큰 개수는 148\n"
     ]
    },
    {
     "data": {
      "text/plain": [
       "['The three primary colors in the color theory used in painting and traditional color mixing are red, 200, yellow, 100, and blue, 100. obviously, the numbers are not a true representation of the color.\\nThe primary colors in the color theory used in painting and traditional color mixing are red, 200, yellow, 100, and blue, 100. obviously, the numbers are not a true representation of the color.\\nThe three primary colors in the color theory used in painting and traditional color mixing are red, 200, yellow, 100, and blue, 100. obviously, the numbers are not']"
      ]
     },
     "execution_count": 19,
     "metadata": {},
     "output_type": "execute_result"
    }
   ],
   "source": [
    "outputs = model.generate(inputs, max_new_tokens=128, do_sample=True)\n",
    "print(\"토큰 개수는\", len(outputs[0]))\n",
    "tokenizer.batch_decode(outputs, skip_special_tokens=True)"
   ]
  },
  {
   "cell_type": "code",
   "execution_count": null,
   "metadata": {},
   "outputs": [],
   "source": []
  },
  {
   "cell_type": "code",
   "execution_count": null,
   "metadata": {},
   "outputs": [],
   "source": []
  },
  {
   "cell_type": "code",
   "execution_count": null,
   "metadata": {},
   "outputs": [],
   "source": []
  },
  {
   "cell_type": "code",
   "execution_count": 12,
   "metadata": {},
   "outputs": [],
   "source": [
    "model_id = \"beomi/llama-2-ko-7b\"\n",
    "device_map = {\"\": 0}"
   ]
  },
  {
   "cell_type": "code",
   "execution_count": 13,
   "metadata": {},
   "outputs": [
    {
     "data": {
      "application/vnd.jupyter.widget-view+json": {
       "model_id": "84e7dce139434f3a97a05f8ad252cb7a",
       "version_major": 2,
       "version_minor": 0
      },
      "text/plain": [
       "Loading checkpoint shards:   0%|          | 0/15 [00:00<?, ?it/s]"
      ]
     },
     "metadata": {},
     "output_type": "display_data"
    }
   ],
   "source": [
    "model = AutoModelForCausalLM.from_pretrained(\n",
    "    model_id,\n",
    "    quantization_config=BitsAndBytesConfig(\n",
    "        load_in_4bit=True,\n",
    "        bnb_4bit_use_double_quant=True,\n",
    "        bnb_4bit_quant_type=\"nf4\",\n",
    "        bnb_4bit_compute_dtype=torch.bfloat16\n",
    "    ),\n",
    "    device_map=device_map,\n",
    "    cache_dir=\"/mnt/t7/.cache/huggingface/models\",\n",
    ")\n",
    "tokenizer = AutoTokenizer.from_pretrained(model_id, cache_dir=\"/mnt/t7/.cache/huggingface/models\")"
   ]
  },
  {
   "cell_type": "code",
   "execution_count": 31,
   "metadata": {},
   "outputs": [],
   "source": [
    "prompt = \"안녕하세요. \""
   ]
  },
  {
   "cell_type": "code",
   "execution_count": 32,
   "metadata": {},
   "outputs": [],
   "source": [
    "inputs = tokenizer(prompt, return_tensors=\"pt\").input_ids.to('cuda')"
   ]
  },
  {
   "cell_type": "code",
   "execution_count": 33,
   "metadata": {},
   "outputs": [],
   "source": [
    "outputs = model.generate(inputs, max_new_tokens=1024, do_sample=True, top_k=50, top_p=0.95)"
   ]
  },
  {
   "cell_type": "code",
   "execution_count": 34,
   "metadata": {},
   "outputs": [
    {
     "data": {
      "text/plain": [
       "1029"
      ]
     },
     "execution_count": 34,
     "metadata": {},
     "output_type": "execute_result"
    }
   ],
   "source": [
    "len(outputs[0])"
   ]
  },
  {
   "cell_type": "code",
   "execution_count": 35,
   "metadata": {},
   "outputs": [
    {
     "data": {
      "text/plain": [
       "[\"안녕하세요. 썬꿍이입니당.오늘은 저희가 4월2일 결혼기념일을 맞이하여 다녀온 '아난티서울' 리뷰를 써볼게용\\u200b 아난티는 워낙 인기가 많아서 예약하기가 어려운데요.저희는 예약을 조금 서둘러서 겨우겨우 예약할수 있었어요.\\u200b예약은 사이트에서 가능하고 회원가입하시고 결제하셔야 해요 ㅎㅎ\\u200b\\u200b\\u200b 아난티 사이트에서 '이용안내 - 예약관리' 에 들어가시면날짜별로 예약 가능한 방을 보실수 있구용 ㅋㅋ\\u200b저희는 10층 디럭스룸을 1박2일 예약했어요~3시 입실 11시퇴실 이었답니ㅎㅎ\\u200b이용료 20만원 + 숙박비 30만원 해서 총 50만원에 이용했답니당\\u200b\\u200b\\u200b 디럭스룸의 모습인데요 ㅎㅎ\\u200b저는 10층에 있는 디럭스룸을 선택했는데요.10층 디럭스룸은 16층이 그랜드디럭스룸보다 작은편이였어요~\\u200b화장실도 작은편이구용 ㅋㅋ\\u200b\\u200b\\u200b\\u200b\\u200b\\u200b\\u200b 저희가 예약한 방에서 바라본 아난티 외부인데요 ㅎㅎ\\u200b\\u200b\\u200b\\u200b 10층에는 이렇게 산책을 할수 있게 산책로가 있답니당.하지만 바람이 많이 부는 날이라서 그런지 너무 추워서저희는 제대로 못걸어보고 들어왔어요 ㅠㅠ\\u200b\\u200b\\u200b\\u200b 저희가 방문했을때는 코로나가 터지기 전이라서 수영장도 24시간 이용할수 있었는데지금은 코로나로인해 10시 이후로는 사용 못하신다고 해요 ㅠㅠ\\u200b\\u200b\\u200b\\u200b\\u200b\\u200b\\u200b 아난티 지하1층에는 '볼피노' 이탈리안 식당이 있어요.\\u200b\\u200b\\u200b\\u200b\\u200b 저희는 식사를 미리 예약했는데요 ㅎㅎ\\u200b디너코스A와B가 있는데저희는 '디너코스A'를 먹었답니당. \\u200b\\u200b\\u200b\\u200b 식사는 '아난티코브'에서 하는 편이 좋구용 ㅋㅋ\\u200b\\u200b\\u200b\\u200b\\u200b 저희가 예약한 시간에 딱 맞춰서 가니까 예약자 이름으로 셋팅해 주시더라구요 ㅎㅎ\\u200b\\u200b\\u200b\\u200b 식전빵과 시저샐러드\\u200b\\u200b\\u200b\\u200b\\u200b 메인메뉴는 이렇게 2가지 종류가 있는데저는 '한우 안심스테이크'를 먹었답니당 ㅎㅎ\\u200b전반적으로 맛은 좋았는데 양이 적은편이였어요 ㅠㅠ\\u200b\\u200b\\u200b\\u200b 식사를 다 하고나서 방에 가려고 보니까 로비가 예뻐서 찍어봤답니당 ㅋㅋ\\u200b\\u200b\\u200b\\u200b 방에 들어와서 보니이렇게 웰컴과일이 있었어요!\\u200b\\u200b\\u200b\\u200b 방에서 찍은 사진이예용 ㅋㅋ\\u200b\\u200b\\u200b\\u200b\\u200b 방을 구경하고 사진찍을 동안 남편이 이렇게 와인 세팅을 해줬답니당 ㅋㅋ\\u200b\\u200b\\u200b\\u200b\\u200b\\u200b 와인과 함께 ㅎㅎ\\u200b\\u200b\\u200b\\u200b\\u200b 와인 먹고 마무리는 맥주로 ㅎㅎ\\u200b\\u200b\\u200b\\u200b 아난티가 부산에 있어 부산으로 이동하는데가까워서 너무 좋았답니당\\u200b다음엔 더 길게 한번 다녀오려구요 ㅎㅎ\\u200b\\u200b 아난티서울서울특별시 강서구 가양동 2491 everyone is talking of our relationship. 우리 관계가 사람들의 관심사였어요. 360. A woman's worth is measured by the company she keeps. 사람이 어떤 사람이냐는 그 사람이 사귀는 친구를 보면 안다. 361. There is no rule but has some exceptions. 모든 규칙은 예외를 가지고 있다. 362. Do not put the cart before the cart. 주객을 전도하면 안된다. 363. Visit the house in the evening to find the host. 저녁에 가봐라 364. A woman is known by the company she keeps. 여자는 그 친구를 보면 알 수 있다 365. There is no rule but has some exceptions. 모든 규칙은 예외를 가지고 있다. 366. A bird in the hand is worth two in the bush. 367. A drowning man will catch at a straw. 368. There is no rose without a thorn. 369. Every rose has its thorn. 370. Life is not all roses. 371. There is a dark side to every story. 372. No pains, no g\"]"
      ]
     },
     "execution_count": 35,
     "metadata": {},
     "output_type": "execute_result"
    }
   ],
   "source": [
    "tokenizer.batch_decode(outputs, skip_special_tokens=True)"
   ]
  },
  {
   "cell_type": "code",
   "execution_count": null,
   "metadata": {},
   "outputs": [],
   "source": []
  },
  {
   "cell_type": "code",
   "execution_count": null,
   "metadata": {},
   "outputs": [],
   "source": []
  },
  {
   "cell_type": "code",
   "execution_count": null,
   "metadata": {},
   "outputs": [],
   "source": []
  },
  {
   "cell_type": "code",
   "execution_count": null,
   "metadata": {},
   "outputs": [],
   "source": []
  },
  {
   "cell_type": "code",
   "execution_count": null,
   "metadata": {},
   "outputs": [],
   "source": []
  },
  {
   "cell_type": "code",
   "execution_count": null,
   "metadata": {},
   "outputs": [],
   "source": []
  },
  {
   "cell_type": "code",
   "execution_count": null,
   "metadata": {},
   "outputs": [],
   "source": []
  },
  {
   "cell_type": "code",
   "execution_count": null,
   "metadata": {},
   "outputs": [],
   "source": []
  },
  {
   "cell_type": "code",
   "execution_count": null,
   "metadata": {},
   "outputs": [],
   "source": []
  },
  {
   "cell_type": "code",
   "execution_count": null,
   "metadata": {},
   "outputs": [],
   "source": []
  },
  {
   "cell_type": "code",
   "execution_count": null,
   "metadata": {},
   "outputs": [],
   "source": []
  },
  {
   "cell_type": "code",
   "execution_count": null,
   "metadata": {},
   "outputs": [],
   "source": []
  },
  {
   "cell_type": "code",
   "execution_count": null,
   "metadata": {},
   "outputs": [],
   "source": []
  },
  {
   "cell_type": "code",
   "execution_count": null,
   "metadata": {},
   "outputs": [],
   "source": []
  },
  {
   "cell_type": "code",
   "execution_count": null,
   "metadata": {},
   "outputs": [],
   "source": []
  },
  {
   "cell_type": "code",
   "execution_count": null,
   "metadata": {},
   "outputs": [],
   "source": []
  },
  {
   "cell_type": "code",
   "execution_count": null,
   "metadata": {},
   "outputs": [],
   "source": []
  }
 ],
 "metadata": {
  "kernelspec": {
   "display_name": "llm_for_p311",
   "language": "python",
   "name": "python3"
  },
  "language_info": {
   "codemirror_mode": {
    "name": "ipython",
    "version": 3
   },
   "file_extension": ".py",
   "mimetype": "text/x-python",
   "name": "python",
   "nbconvert_exporter": "python",
   "pygments_lexer": "ipython3",
   "version": "3.11.7"
  }
 },
 "nbformat": 4,
 "nbformat_minor": 2
}
