{
 "cells": [
  {
   "cell_type": "code",
   "execution_count": 1,
   "metadata": {},
   "outputs": [
    {
     "data": {
      "text/plain": [
       "True"
      ]
     },
     "execution_count": 1,
     "metadata": {},
     "output_type": "execute_result"
    }
   ],
   "source": [
    "# 필요한 라이브러리 임포트\n",
    "# from langchain.llms import OpenAI\n",
    "from langchain.chat_models import ChatOpenAI\n",
    "from langchain.chains import ConversationalRetrievalChain\n",
    "from langchain.document_loaders import CSVLoader\n",
    "from langchain.embeddings import OpenAIEmbeddings, CacheBackedEmbeddings\n",
    "from langchain.vectorstores import FAISS\n",
    "from langchain.memory import ConversationBufferMemory\n",
    "from langchain.prompts import PromptTemplate\n",
    "from langchain.storage import LocalFileStore\n",
    "\n",
    "import requests\n",
    "import pandas as pd\n",
    "import os\n",
    "from dotenv import load_dotenv\n",
    "\n",
    "load_dotenv()"
   ]
  },
  {
   "cell_type": "code",
   "execution_count": 2,
   "metadata": {},
   "outputs": [],
   "source": [
    "file_path = \"./datas/busan_restaurants.csv\"\n",
    "\n",
    "def load_csv_data(file_path):\n",
    "    loader = CSVLoader(file_path=file_path)\n",
    "    documents = loader.load()\n",
    "    return documents\n",
    "\n",
    "# 맛집과 인기 여행지 데이터 로드\n",
    "restaurant_docs = load_csv_data(file_path)"
   ]
  },
  {
   "cell_type": "code",
   "execution_count": 3,
   "metadata": {},
   "outputs": [
    {
     "name": "stderr",
     "output_type": "stream",
     "text": [
      "/tmp/ipykernel_32585/3342660434.py:4: LangChainDeprecationWarning: The class `OpenAIEmbeddings` was deprecated in LangChain 0.0.9 and will be removed in 1.0. An updated version of the class exists in the :class:`~langchain-openai package and should be used instead. To use it run `pip install -U :class:`~langchain-openai` and import as `from :class:`~langchain_openai import OpenAIEmbeddings``.\n",
      "  embeddings = OpenAIEmbeddings()\n"
     ]
    }
   ],
   "source": [
    "cache_dir = LocalFileStore(f\"./datas/.cache/embeddings/busan\")\n",
    "\n",
    "# 벡터 스토어 생성\n",
    "embeddings = OpenAIEmbeddings()\n",
    "cache_embeddings = CacheBackedEmbeddings.from_bytes_store(\n",
    "        embeddings,\n",
    "        cache_dir,\n",
    "    )\n",
    "vectorstore = FAISS.from_documents(restaurant_docs, cache_embeddings)"
   ]
  },
  {
   "cell_type": "code",
   "execution_count": 4,
   "metadata": {},
   "outputs": [
    {
     "name": "stderr",
     "output_type": "stream",
     "text": [
      "/tmp/ipykernel_32585/283020339.py:2: LangChainDeprecationWarning: Please see the migration guide at: https://python.langchain.com/docs/versions/migrating_memory/\n",
      "  memory = ConversationBufferMemory(memory_key=\"chat_history\", return_messages=True)\n",
      "/tmp/ipykernel_32585/283020339.py:6: LangChainDeprecationWarning: The class `ChatOpenAI` was deprecated in LangChain 0.0.10 and will be removed in 1.0. An updated version of the class exists in the :class:`~langchain-openai package and should be used instead. To use it run `pip install -U :class:`~langchain-openai` and import as `from :class:`~langchain_openai import ChatOpenAI``.\n",
      "  llm = ChatOpenAI(model_name=\"gpt-4\", temperature=0.7)\n"
     ]
    }
   ],
   "source": [
    "# 메모리 설정\n",
    "# memory = ConversationBufferMemory(memory_key=\"chat_history\", return_messages=True)\n",
    "\n",
    "# LLM 설정\n",
    "# llm = OpenAI(model_name=\"gpt-4o\", temperature=0.7)\n",
    "# llm = ChatOpenAI(model_name=\"gpt-4o\", temperature=0.7)"
   ]
  },
  {
   "cell_type": "code",
   "execution_count": 5,
   "metadata": {},
   "outputs": [],
   "source": [
    "# 프롬프트 템플릿 설정\n",
    "# initial_prompt = \"\"\"\n",
    "# 당신은 여행 계획을 도와주는 친절한 챗봇입니다.\n",
    "# 사용자의 질문을 평가하여 바로 답변이 가능한지 판단하고, 필요하다면 추가 정보를 요청하세요.\n",
    "# 가능하면 데이터를 활용하여 구체적이고 도움이 되는 답변을 제공하세요.\n",
    "# \"\"\"\n",
    "\n",
    "# prompt = PromptTemplate(\n",
    "#     input_variables=[\"chat_history\", \"question\"],\n",
    "#     template=\"\"\"\n",
    "# {chat_history}\n",
    "# 사용자 질문: {question}\n",
    "# 위 질문에 대해 답변하세요. 추가 정보가 필요하면 질문을 생성하여 사용자에게 요청하세요.\n",
    "# \"\"\"\n",
    "# )\n",
    "\n",
    "# prompt = PromptTemplate(\n",
    "#     input_variables=[\"chat_history\", \"context\", \"question\"],\n",
    "#     template=\"\"\"\n",
    "# {chat_history}\n",
    "# 관련 정보:\n",
    "# {context}\n",
    "# 사용자 질문: {question}\n",
    "# 위 질문에 대해 답변하세요. 추가 정보가 필요하면 질문을 생성하여 사용자에게 요청하세요.\n",
    "# \"\"\"\n",
    "# )"
   ]
  },
  {
   "cell_type": "code",
   "execution_count": 6,
   "metadata": {},
   "outputs": [],
   "source": [
    "# qa_chain = ConversationalRetrievalChain.from_llm(\n",
    "#     llm=llm,\n",
    "#     retriever=vectorstore.as_retriever(),\n",
    "#     memory=memory,\n",
    "#     combine_docs_chain_kwargs={'prompt': prompt}\n",
    "# )"
   ]
  },
  {
   "cell_type": "code",
   "execution_count": null,
   "metadata": {},
   "outputs": [],
   "source": [
    "# while True:\n",
    "#     user_input = input(\"사용자: \")\n",
    "#     if user_input.lower() in [\"종료\", \"exit\", \"quit\"]:\n",
    "#         print(\"챗봇: 이용해주셔서 감사합니다. 즐거운 여행 되세요!\")\n",
    "#         break\n",
    "#     response = qa_chain({\"question\": user_input})\n",
    "#     print(f\"챗봇: {response['answer']}\")"
   ]
  },
  {
   "cell_type": "code",
   "execution_count": 7,
   "metadata": {},
   "outputs": [
    {
     "name": "stderr",
     "output_type": "stream",
     "text": [
      "/tmp/ipykernel_32585/3451356506.py:6: LangChainDeprecationWarning: The method `Chain.__call__` was deprecated in langchain 0.1.0 and will be removed in 1.0. Use :meth:`~invoke` instead.\n",
      "  response = qa_chain({\"question\": user_input})\n"
     ]
    },
    {
     "name": "stdout",
     "output_type": "stream",
     "text": [
      "챗봇: 부산에서 맛있는 음식을 즐길 수 있는 몇몇 장소를 추천드리겠습니다. \n",
      "\n",
      "첫 번째로, \"부산약콩밀면\"이 있습니다. 이곳은 40년간 쌓인 노하우를 바탕으로 약콩과 함초, 톳으로 만든 천연간수와 기장 다시마로 직접 만든 식초를 사용하여 깊은 맛을 가진 특색 있는 밀면을 제공하고 있습니다. 위치는 남구 동명로145번길 80 1층입니다.\n",
      "\n",
      "두 번째로, \"당감밀면\"을 추천드리겠습니다. 이곳은 지역민들이 추천하는 밀면전문점으로 육수와 면·양념에 이르기까지 모든 재료를 주방장의 독자적인 비법으로 만들어 특징적인 밀면의 맛을 자랑합니다. 위치는 부산진구 당감로 5 삼익아파트상가 B동 1층입니다. \n",
      "\n",
      "세 번째로, \"맛사랑채\"를 추천드리겠습니다. 이곳은 생선구이가 포함된 12가지의 반찬과 함께 매일 다른 국이 제공되는 정식을 제공하여 집밥 보다 더 집밥 같다는 평을 받고 있습니다. 위치는 기장읍 읍내로 93-6입니다. \n",
      "\n",
      "마지막으로, \"백산키친\"이 있습니다. 이곳은 계절재료를 사용해 사시미, 구이, 탕 등 다양한 요리를 만들어내는 일식주점으로 술을 즐기려 찾았다가 배부르게 식사하게 된다는 무서운 곳입니다. 위치는 동구 조방로14 동일타워입니다. \n",
      "\n",
      "이 외에도 부산에는 맛집들이 많이 있으니, 특정 음식 종류나 지역에 대한 선호가 있으시다면 말씀해주세요.\n",
      "챗봇: 이용해주셔서 감사합니다. 즐거운 여행 되세요!\n"
     ]
    }
   ],
   "source": [
    "# while True:\n",
    "#         user_input = input(\"사용자: \")\n",
    "#         if user_input.lower() in [\"종료\", \"exit\", \"quit\"]:\n",
    "#             print(\"챗봇: 이용해주셔서 감사합니다. 즐거운 여행 되세요!\")\n",
    "#             break\n",
    "#         response = qa_chain({\"question\": user_input})\n",
    "#         print(f\"챗봇: {response['answer']}\")"
   ]
  },
  {
   "cell_type": "markdown",
   "metadata": {},
   "source": [
    "## Evaluater\n",
    "\n",
    "- 1. 정보가 구체적인지 판단\n",
    "- 2. RAG가 필요한지 판단\n",
    "\n"
   ]
  },
  {
   "cell_type": "code",
   "execution_count": 10,
   "metadata": {},
   "outputs": [],
   "source": [
    "from langchain_core.prompts import ChatPromptTemplate\n",
    "from langchain_openai import ChatOpenAI"
   ]
  },
  {
   "cell_type": "code",
   "execution_count": 16,
   "metadata": {},
   "outputs": [],
   "source": [
    "# llm = ChatOpenAI(model=\"gpt-4o-mini\", temperature=0.7)\n",
    "llm = ChatOpenAI(model=\"gpt-4o\", temperature=0.7)\n",
    "\n",
    "prompt = ChatPromptTemplate.from_messages(\n",
    "    [\n",
    "        (\n",
    "            \"system\",\n",
    "            \"Evaluate the following question and decide if it is specific enough to answer directly or requires more information.\\n\\nIf specific, respond with 'Specific'. If it requires more information, respond with 'Not Specific'.\\n\\n\",\n",
    "        ),\n",
    "        (\"human\", \"{input}\"),\n",
    "    ]\n",
    ")\n",
    "\n",
    "chain = prompt | llm"
   ]
  },
  {
   "cell_type": "code",
   "execution_count": 17,
   "metadata": {},
   "outputs": [
    {
     "data": {
      "text/plain": [
       "AIMessage(content='Not Specific', additional_kwargs={'refusal': None}, response_metadata={'token_usage': {'completion_tokens': 2, 'prompt_tokens': 59, 'total_tokens': 61, 'completion_tokens_details': {'audio_tokens': None, 'reasoning_tokens': 0}, 'prompt_tokens_details': {'audio_tokens': None, 'cached_tokens': 0}}, 'model_name': 'gpt-4o-2024-08-06', 'system_fingerprint': 'fp_a20a4ee344', 'finish_reason': 'stop', 'logprobs': None}, id='run-e4585390-a55c-46bc-bb01-9af6d341c02d-0', usage_metadata={'input_tokens': 59, 'output_tokens': 2, 'total_tokens': 61, 'input_token_details': {'cache_read': 0}, 'output_token_details': {'reasoning': 0}})"
      ]
     },
     "execution_count": 17,
     "metadata": {},
     "output_type": "execute_result"
    }
   ],
   "source": [
    "chain.invoke(\n",
    "    {\n",
    "        \"input\": \"부산에 있는 맛집을 알려줘\",\n",
    "    }\n",
    ")"
   ]
  },
  {
   "cell_type": "code",
   "execution_count": 19,
   "metadata": {},
   "outputs": [
    {
     "data": {
      "text/plain": [
       "AIMessage(content='Specific', additional_kwargs={'refusal': None}, response_metadata={'token_usage': {'completion_tokens': 1, 'prompt_tokens': 63, 'total_tokens': 64, 'completion_tokens_details': {'audio_tokens': None, 'reasoning_tokens': 0}, 'prompt_tokens_details': {'audio_tokens': None, 'cached_tokens': 0}}, 'model_name': 'gpt-4o-2024-08-06', 'system_fingerprint': 'fp_6b68a8204b', 'finish_reason': 'stop', 'logprobs': None}, id='run-520be36a-5f5e-4727-bc7e-583e2f94bdba-0', usage_metadata={'input_tokens': 63, 'output_tokens': 1, 'total_tokens': 64, 'input_token_details': {'cache_read': 0}, 'output_token_details': {'reasoning': 0}})"
      ]
     },
     "execution_count": 19,
     "metadata": {},
     "output_type": "execute_result"
    }
   ],
   "source": [
    "chain.invoke(\n",
    "    {\n",
    "        \"input\": \"부산 동구에 있는 밀면 맛집을 알려줘\",\n",
    "    }\n",
    ")"
   ]
  },
  {
   "cell_type": "code",
   "execution_count": 20,
   "metadata": {},
   "outputs": [
    {
     "data": {
      "text/plain": [
       "AIMessage(content='Not Specific', additional_kwargs={'refusal': None}, response_metadata={'token_usage': {'completion_tokens': 2, 'prompt_tokens': 70, 'total_tokens': 72, 'completion_tokens_details': {'audio_tokens': None, 'reasoning_tokens': 0}, 'prompt_tokens_details': {'audio_tokens': None, 'cached_tokens': 0}}, 'model_name': 'gpt-4o-2024-08-06', 'system_fingerprint': 'fp_a20a4ee344', 'finish_reason': 'stop', 'logprobs': None}, id='run-ef3967ee-7ab6-4b46-84a5-90fc1a894b9c-0', usage_metadata={'input_tokens': 70, 'output_tokens': 2, 'total_tokens': 72, 'input_token_details': {'cache_read': 0}, 'output_token_details': {'reasoning': 0}})"
      ]
     },
     "execution_count": 20,
     "metadata": {},
     "output_type": "execute_result"
    }
   ],
   "source": [
    "chain.invoke(\n",
    "    {\n",
    "        \"input\": \"부모님과 부산여행을 하려 하는데, 밀면 맛집을 알려줘\",\n",
    "    }\n",
    ")"
   ]
  },
  {
   "cell_type": "code",
   "execution_count": 21,
   "metadata": {},
   "outputs": [
    {
     "data": {
      "text/plain": [
       "AIMessage(content='Not Specific', additional_kwargs={'refusal': None}, response_metadata={'token_usage': {'completion_tokens': 2, 'prompt_tokens': 75, 'total_tokens': 77, 'completion_tokens_details': {'audio_tokens': None, 'reasoning_tokens': 0}, 'prompt_tokens_details': {'audio_tokens': None, 'cached_tokens': 0}}, 'model_name': 'gpt-4o-2024-08-06', 'system_fingerprint': 'fp_9e15ccd6a4', 'finish_reason': 'stop', 'logprobs': None}, id='run-84a74779-c3c9-44e5-8b8b-f1fa3303f552-0', usage_metadata={'input_tokens': 75, 'output_tokens': 2, 'total_tokens': 77, 'input_token_details': {'cache_read': 0}, 'output_token_details': {'reasoning': 0}})"
      ]
     },
     "execution_count": 21,
     "metadata": {},
     "output_type": "execute_result"
    }
   ],
   "source": [
    "chain.invoke(\n",
    "    {\n",
    "        \"input\": \"부모님과 부산여행을 하려 하는데, 부산 동구에 있는 밀면 맛집을 알려줘\",\n",
    "    }\n",
    ")"
   ]
  },
  {
   "cell_type": "code",
   "execution_count": 22,
   "metadata": {},
   "outputs": [],
   "source": [
    "prompt = ChatPromptTemplate.from_messages(\n",
    "    [\n",
    "        (\n",
    "            \"system\",\n",
    "            \"Evaluate the following question and decide if it is specific enough to answer directly or requires more information.\\n\\nIf specific, respond with 'Specific'. If it requires more information, respond with 'Not Specific' and Let me know what additional information you need.\\n\\n\",\n",
    "        ),\n",
    "        (\"human\", \"{input}\"),\n",
    "    ]\n",
    ")\n",
    "\n",
    "chain = prompt | llm"
   ]
  },
  {
   "cell_type": "code",
   "execution_count": 23,
   "metadata": {},
   "outputs": [
    {
     "data": {
      "text/plain": [
       "AIMessage(content='Not Specific\\n\\nPlease provide more information on your preferences, such as whether you are looking for a specific type of milmyeon (e.g., spicy, cold, or with specific ingredients) or if you have any dietary restrictions or budget considerations.', additional_kwargs={'refusal': None}, response_metadata={'token_usage': {'completion_tokens': 50, 'prompt_tokens': 85, 'total_tokens': 135, 'completion_tokens_details': {'audio_tokens': None, 'reasoning_tokens': 0}, 'prompt_tokens_details': {'audio_tokens': None, 'cached_tokens': 0}}, 'model_name': 'gpt-4o-2024-08-06', 'system_fingerprint': 'fp_6b68a8204b', 'finish_reason': 'stop', 'logprobs': None}, id='run-5fe2fbd4-1204-4400-95eb-f7e52c2f98a2-0', usage_metadata={'input_tokens': 85, 'output_tokens': 50, 'total_tokens': 135, 'input_token_details': {'cache_read': 0}, 'output_token_details': {'reasoning': 0}})"
      ]
     },
     "execution_count": 23,
     "metadata": {},
     "output_type": "execute_result"
    }
   ],
   "source": [
    "chain.invoke(\n",
    "    {\n",
    "        \"input\": \"부모님과 부산여행을 하려 하는데, 부산 동구에 있는 밀면 맛집을 알려줘\",\n",
    "    }\n",
    ")"
   ]
  },
  {
   "cell_type": "code",
   "execution_count": null,
   "metadata": {},
   "outputs": [],
   "source": []
  },
  {
   "cell_type": "code",
   "execution_count": null,
   "metadata": {},
   "outputs": [],
   "source": []
  },
  {
   "cell_type": "code",
   "execution_count": null,
   "metadata": {},
   "outputs": [],
   "source": []
  },
  {
   "cell_type": "code",
   "execution_count": null,
   "metadata": {},
   "outputs": [],
   "source": []
  },
  {
   "cell_type": "code",
   "execution_count": null,
   "metadata": {},
   "outputs": [],
   "source": []
  },
  {
   "cell_type": "code",
   "execution_count": null,
   "metadata": {},
   "outputs": [],
   "source": []
  },
  {
   "cell_type": "code",
   "execution_count": null,
   "metadata": {},
   "outputs": [],
   "source": []
  },
  {
   "cell_type": "code",
   "execution_count": null,
   "metadata": {},
   "outputs": [],
   "source": []
  },
  {
   "cell_type": "code",
   "execution_count": null,
   "metadata": {},
   "outputs": [],
   "source": []
  },
  {
   "cell_type": "code",
   "execution_count": null,
   "metadata": {},
   "outputs": [],
   "source": []
  },
  {
   "cell_type": "code",
   "execution_count": null,
   "metadata": {},
   "outputs": [],
   "source": []
  },
  {
   "cell_type": "code",
   "execution_count": null,
   "metadata": {},
   "outputs": [],
   "source": []
  },
  {
   "cell_type": "code",
   "execution_count": null,
   "metadata": {},
   "outputs": [],
   "source": []
  },
  {
   "cell_type": "code",
   "execution_count": null,
   "metadata": {},
   "outputs": [],
   "source": []
  },
  {
   "cell_type": "code",
   "execution_count": null,
   "metadata": {},
   "outputs": [],
   "source": []
  },
  {
   "cell_type": "code",
   "execution_count": null,
   "metadata": {},
   "outputs": [],
   "source": []
  },
  {
   "cell_type": "code",
   "execution_count": null,
   "metadata": {},
   "outputs": [],
   "source": []
  },
  {
   "cell_type": "code",
   "execution_count": null,
   "metadata": {},
   "outputs": [],
   "source": []
  },
  {
   "cell_type": "code",
   "execution_count": null,
   "metadata": {},
   "outputs": [],
   "source": []
  }
 ],
 "metadata": {
  "kernelspec": {
   "display_name": "rag_for_p311",
   "language": "python",
   "name": "python3"
  },
  "language_info": {
   "codemirror_mode": {
    "name": "ipython",
    "version": 3
   },
   "file_extension": ".py",
   "mimetype": "text/x-python",
   "name": "python",
   "nbconvert_exporter": "python",
   "pygments_lexer": "ipython3",
   "version": "3.11.10"
  }
 },
 "nbformat": 4,
 "nbformat_minor": 2
}
