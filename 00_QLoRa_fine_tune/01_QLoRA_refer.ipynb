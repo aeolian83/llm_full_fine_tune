{
 "cells": [
  {
   "cell_type": "markdown",
   "metadata": {},
   "source": [
    "### Reference\n",
    "\n",
    "1. https://github.com/ashishpatel26/LLM-Finetuning/blob/main/7.FineTune_LLAMA2_with_QLORA.ipynb  \n",
    "2. https://huggingface.co/blog/4bit-transformers-bitsandbytes  \n",
    "3. https://pytorch.org/blog/finetune-llms/  \n",
    "4. https://colab.research.google.com/drive/1vIjBtePIZwUaHWfjfNHzBjwuXOyU_ugD?usp=sharing#scrollTo=6k_nL6xJMZW2  "
   ]
  },
  {
   "cell_type": "markdown",
   "metadata": {},
   "source": [
    "# 1. Weight and Bias Login"
   ]
  },
  {
   "cell_type": "code",
   "execution_count": 1,
   "metadata": {},
   "outputs": [
    {
     "name": "stderr",
     "output_type": "stream",
     "text": [
      "Failed to detect the name of this notebook, you can set it manually with the WANDB_NOTEBOOK_NAME environment variable to enable code saving.\n",
      "\u001b[34m\u001b[1mwandb\u001b[0m: Currently logged in as: \u001b[33maeolian83\u001b[0m. Use \u001b[1m`wandb login --relogin`\u001b[0m to force relogin\n"
     ]
    },
    {
     "data": {
      "text/plain": [
       "True"
      ]
     },
     "execution_count": 1,
     "metadata": {},
     "output_type": "execute_result"
    }
   ],
   "source": [
    "import wandb\n",
    "import os\n",
    "os.environ[\"WANDB_PROJECT\"]=\"QLoRA_Instruction_finetune_06\"\n",
    "\n",
    "wandb.login()"
   ]
  },
  {
   "cell_type": "markdown",
   "metadata": {},
   "source": [
    "# 2. Login Huggingface"
   ]
  },
  {
   "cell_type": "code",
   "execution_count": 2,
   "metadata": {},
   "outputs": [
    {
     "name": "stdout",
     "output_type": "stream",
     "text": [
      "Token has not been saved to git credential helper. Pass `add_to_git_credential=True` if you want to set the git credential as well.\n",
      "Token is valid (permission: write).\n",
      "Your token has been saved to /home/aeolian83/.cache/huggingface/token\n",
      "Login successful\n"
     ]
    }
   ],
   "source": [
    "from huggingface_hub import login\n",
    "from dotenv import load_dotenv\n",
    "\n",
    "load_dotenv()\n",
    "\n",
    "\n",
    "login(token= os.environ[\"HF_TOKEN\"])"
   ]
  },
  {
   "cell_type": "markdown",
   "metadata": {},
   "source": [
    "# 3. Dataset Load"
   ]
  },
  {
   "cell_type": "code",
   "execution_count": 3,
   "metadata": {},
   "outputs": [],
   "source": [
    "from datasets import load_dataset"
   ]
  },
  {
   "cell_type": "code",
   "execution_count": 4,
   "metadata": {},
   "outputs": [],
   "source": [
    "ko_instruction_01 = load_dataset(\"nlpai-lab/kullm-v2\", cache_dir=\"/mnt/t7/.cache/huggingface/datasets\", split=\"train\")"
   ]
  },
  {
   "cell_type": "code",
   "execution_count": 5,
   "metadata": {},
   "outputs": [],
   "source": [
    "ko_instruction_01 = ko_instruction_01.shuffle(seed=2160)"
   ]
  },
  {
   "cell_type": "code",
   "execution_count": 6,
   "metadata": {},
   "outputs": [
    {
     "data": {
      "text/plain": [
       "Dataset({\n",
       "    features: ['id', 'instruction', 'input', 'output'],\n",
       "    num_rows: 152630\n",
       "})"
      ]
     },
     "execution_count": 6,
     "metadata": {},
     "output_type": "execute_result"
    }
   ],
   "source": [
    "ko_instruction_01"
   ]
  },
  {
   "cell_type": "code",
   "execution_count": 7,
   "metadata": {},
   "outputs": [],
   "source": [
    "ko_instruction_01 = ko_instruction_01.train_test_split(test_size=0.92)"
   ]
  },
  {
   "cell_type": "code",
   "execution_count": 8,
   "metadata": {},
   "outputs": [
    {
     "data": {
      "text/plain": [
       "DatasetDict({\n",
       "    train: Dataset({\n",
       "        features: ['id', 'instruction', 'input', 'output'],\n",
       "        num_rows: 12210\n",
       "    })\n",
       "    test: Dataset({\n",
       "        features: ['id', 'instruction', 'input', 'output'],\n",
       "        num_rows: 140420\n",
       "    })\n",
       "})"
      ]
     },
     "execution_count": 8,
     "metadata": {},
     "output_type": "execute_result"
    }
   ],
   "source": [
    "ko_instruction_01"
   ]
  },
  {
   "cell_type": "code",
   "execution_count": 9,
   "metadata": {},
   "outputs": [
    {
     "data": {
      "text/plain": [
       "{'id': 'vicuna_{idx}',\n",
       " 'instruction': '일상적인 활동에서 애자일과 린을 사용하는 것에 대한 성명서를 작성하시겠습니까?',\n",
       " 'input': '',\n",
       " 'output': '\"[회사 이름]에서는 고객에게 최상의 결과를 제공하기 위해 프로세스를 지속적으로 개선하고 간소화해야 한다고 믿습니다. 그렇기 때문에 애자일 및 린 방법론을 일상적인 활동에 통합합니다. 민첩성을 수용함으로써 변화하는 요구사항에 빠르게 적응하고 가장 중요한 업무의 우선순위를 정할 수 있습니다. 또한 린의 원칙을 통해 낭비를 없애고 고객에게 최대한 효율적으로 가치를 제공하는 데 집중합니다. 이러한 접근 방식을 결합하여 고객의 요구를 충족하는 고품질의 제품과 서비스를 제공하는 동시에 내부 프로세스를 개선할 수 있습니다. 이를 통해 경쟁에서 앞서 나가고 강력한 경쟁 우위를 유지할 수 있습니다.\"'}"
      ]
     },
     "execution_count": 9,
     "metadata": {},
     "output_type": "execute_result"
    }
   ],
   "source": [
    "ko_instruction_01[\"train\"][100]"
   ]
  },
  {
   "cell_type": "markdown",
   "metadata": {},
   "source": [
    "# 4. Loading the Model"
   ]
  },
  {
   "cell_type": "code",
   "execution_count": 10,
   "metadata": {},
   "outputs": [],
   "source": [
    "model_id = \"beomi/llama-2-ko-7b\"\n",
    "device_map = {\"\": 0}\n",
    "cache_model_dir=\"/mnt/t7/.cache/huggingface/models\""
   ]
  },
  {
   "cell_type": "code",
   "execution_count": 11,
   "metadata": {},
   "outputs": [],
   "source": [
    "import torch\n",
    "from transformers import AutoTokenizer, AutoModelForCausalLM, BitsAndBytesConfig"
   ]
  },
  {
   "cell_type": "code",
   "execution_count": 12,
   "metadata": {},
   "outputs": [],
   "source": [
    "# Settings for 4-bit QLoRA Training(4bit QLoRA 학습을 위한 설정)\n",
    "quantization_config = BitsAndBytesConfig(\n",
    "    load_in_4bit=True, \n",
    "    bnb_4bit_compute_dtype=torch.bfloat16, # Nvidia의 Ampere 아키텍처 이후 가속기는 bf16으로 속도 향상을 꾀할수 있다. \n",
    "    bnb_4bit_quant_type=\"nf4\",\n",
    "    bnb_4bit_use_double_quant=True,\n",
    ")\n",
    "\n",
    "# bnb_4bit_quant_type=\"nf4\" 설정상 기본값은 bnb_4bit_quant_type=\"fp4\"이나 허깅페이스 저자들에 의하면\n",
    "# 경험적 결과로 \"nf4\"가 결과가 더 좋았다고 한다. https://huggingface.co/blog/4bit-transformers-bitsandbytes\n",
    "# bnb_4bit_use_double_quant=True로 하면 매개변수단 0.4bit을 추가로 절약 할 수 있다고 한다. "
   ]
  },
  {
   "cell_type": "code",
   "execution_count": 13,
   "metadata": {},
   "outputs": [
    {
     "data": {
      "application/vnd.jupyter.widget-view+json": {
       "model_id": "35f919bca2354f5badc5152934e3ecaf",
       "version_major": 2,
       "version_minor": 0
      },
      "text/plain": [
       "Loading checkpoint shards:   0%|          | 0/15 [00:00<?, ?it/s]"
      ]
     },
     "metadata": {},
     "output_type": "display_data"
    }
   ],
   "source": [
    "model = AutoModelForCausalLM.from_pretrained(model_id, quantization_config=quantization_config, device_map=device_map, cache_dir=cache_model_dir, trust_remote_code=True)\n",
    "model.config.use_cache = False\n",
    "\n",
    "# model.config.pretraining_tp = 1\n",
    "# 종종 QLoRA 코드에 이 코드가 보이는데 병렬 학습에 쓰이는 코드로 보인다. "
   ]
  },
  {
   "cell_type": "code",
   "execution_count": 14,
   "metadata": {},
   "outputs": [
    {
     "data": {
      "text/plain": [
       "1"
      ]
     },
     "execution_count": 14,
     "metadata": {},
     "output_type": "execute_result"
    }
   ],
   "source": [
    "tokenizer = AutoTokenizer.from_pretrained(model_id, trust_remote_code=True, cache_dir=cache_model_dir)\n",
    "tokenizer.add_special_tokens({'pad_token': '<PAD>'})\n",
    "\n"
   ]
  },
  {
   "cell_type": "code",
   "execution_count": 15,
   "metadata": {},
   "outputs": [],
   "source": [
    "# 이 코드를 쓰지 않는 경우(물론 패딩 토큰을 별도로 사용하는 경우에 해당됨) loss가 0으로 떨어지는 경우가 있다함\n",
    "tokenizer.padding_side = \"right\""
   ]
  },
  {
   "cell_type": "code",
   "execution_count": 16,
   "metadata": {},
   "outputs": [
    {
     "data": {
      "text/plain": [
       "Embedding(46337, 4096)"
      ]
     },
     "execution_count": 16,
     "metadata": {},
     "output_type": "execute_result"
    }
   ],
   "source": [
    "model.resize_token_embeddings(len(tokenizer)) # pad_token이 추가되었으므로 embedding과 language modeling head를 resize"
   ]
  },
  {
   "cell_type": "markdown",
   "metadata": {},
   "source": [
    "# 5. LoRA Setup"
   ]
  },
  {
   "cell_type": "code",
   "execution_count": 17,
   "metadata": {},
   "outputs": [],
   "source": [
    "from peft import LoraConfig, get_peft_model\n",
    "\n",
    "lora_alpha = 16\n",
    "lora_dropout = 0.1\n",
    "lora_r = 64"
   ]
  },
  {
   "cell_type": "code",
   "execution_count": 18,
   "metadata": {},
   "outputs": [],
   "source": [
    "peft_config = LoraConfig(\n",
    "    lora_alpha=lora_alpha,\n",
    "    lora_dropout=lora_dropout,\n",
    "    r=lora_r,\n",
    "    bias=\"none\",\n",
    "    task_type=\"CAUSAL_LM\"\n",
    ")"
   ]
  },
  {
   "cell_type": "markdown",
   "metadata": {},
   "source": [
    "# 6. Formatting Dataset"
   ]
  },
  {
   "cell_type": "code",
   "execution_count": 19,
   "metadata": {},
   "outputs": [],
   "source": [
    "def format_instruction(sample):\n",
    "    system_prompt = f\"### instruction: {sample['instruction']}\"\n",
    "    input = f\"### input: {sample['input']}\" if len(sample[\"input\"]) > 0 else None\n",
    "    output = f\"### output: {sample['output']}\"\n",
    "    # join all the parts together\n",
    "    prompt = \"\\n\\n\".join([i for i in [system_prompt, input, output] if i is not None])\n",
    "    return prompt\n",
    "\n",
    "# template dataset to add prompt to each sample\n",
    "def template_dataset(sample):\n",
    "    sample[\"text\"] = f\"{format_instruction(sample)}{tokenizer.eos_token}\"\n",
    "    return sample"
   ]
  },
  {
   "cell_type": "code",
   "execution_count": 20,
   "metadata": {},
   "outputs": [
    {
     "data": {
      "application/vnd.jupyter.widget-view+json": {
       "model_id": "c49451b9dca041cb8fec27079035d804",
       "version_major": 2,
       "version_minor": 0
      },
      "text/plain": [
       "Map (num_proc=10):   0%|          | 0/12210 [00:00<?, ? examples/s]"
      ]
     },
     "metadata": {},
     "output_type": "display_data"
    }
   ],
   "source": [
    "train_dataset = ko_instruction_01['train'].map(template_dataset, remove_columns=list(ko_instruction_01['train'].features), num_proc=10)"
   ]
  },
  {
   "cell_type": "code",
   "execution_count": 21,
   "metadata": {},
   "outputs": [
    {
     "data": {
      "text/plain": [
       "'### instruction: 일상적인 활동에서 애자일과 린을 사용하는 것에 대한 성명서를 작성하시겠습니까?\\n\\n### output: \"[회사 이름]에서는 고객에게 최상의 결과를 제공하기 위해 프로세스를 지속적으로 개선하고 간소화해야 한다고 믿습니다. 그렇기 때문에 애자일 및 린 방법론을 일상적인 활동에 통합합니다. 민첩성을 수용함으로써 변화하는 요구사항에 빠르게 적응하고 가장 중요한 업무의 우선순위를 정할 수 있습니다. 또한 린의 원칙을 통해 낭비를 없애고 고객에게 최대한 효율적으로 가치를 제공하는 데 집중합니다. 이러한 접근 방식을 결합하여 고객의 요구를 충족하는 고품질의 제품과 서비스를 제공하는 동시에 내부 프로세스를 개선할 수 있습니다. 이를 통해 경쟁에서 앞서 나가고 강력한 경쟁 우위를 유지할 수 있습니다.\"</s>'"
      ]
     },
     "execution_count": 21,
     "metadata": {},
     "output_type": "execute_result"
    }
   ],
   "source": [
    "train_dataset[\"text\"][100]"
   ]
  },
  {
   "cell_type": "markdown",
   "metadata": {},
   "source": [
    "# 7. Training Argument Setup"
   ]
  },
  {
   "cell_type": "code",
   "execution_count": 22,
   "metadata": {},
   "outputs": [],
   "source": [
    "from transformers import TrainingArguments"
   ]
  },
  {
   "cell_type": "code",
   "execution_count": null,
   "metadata": {},
   "outputs": [],
   "source": [
    "checkpoint_dir = \"./checkpoint/experi_08\""
   ]
  },
  {
   "cell_type": "code",
   "execution_count": 23,
   "metadata": {},
   "outputs": [],
   "source": [
    "output_dir = checkpoint_dir\n",
    "per_device_train_batch_size = 1\n",
    "gradient_accumulation_steps = 2\n",
    "optim = \"paged_adamw_32bit\"\n",
    "report_to=\"wandb\"\n",
    "save_steps = 20\n",
    "save_total_limit=5\n",
    "num_train_epochs = 2\n",
    "logging_steps = 10\n",
    "learning_rate = 2e-4\n",
    "max_grad_norm = 0.3\n",
    "warmup_ratio = 0.03\n",
    "lr_scheduler_type = \"linear\""
   ]
  },
  {
   "cell_type": "code",
   "execution_count": 24,
   "metadata": {},
   "outputs": [],
   "source": [
    "training_arguments = TrainingArguments(\n",
    "    output_dir=output_dir,\n",
    "    per_device_train_batch_size=per_device_train_batch_size,\n",
    "    gradient_accumulation_steps=gradient_accumulation_steps,\n",
    "    optim=optim,\n",
    "    num_train_epochs=num_train_epochs,\n",
    "    save_steps=save_steps,\n",
    "    save_total_limit=save_total_limit,\n",
    "    logging_steps=logging_steps,\n",
    "    report_to = report_to,\n",
    "    learning_rate=learning_rate,\n",
    "    bf16=True,\n",
    "    max_grad_norm=max_grad_norm,\n",
    "    warmup_ratio=warmup_ratio,\n",
    "    group_by_length=True,\n",
    "    lr_scheduler_type=lr_scheduler_type,\n",
    ")"
   ]
  },
  {
   "cell_type": "code",
   "execution_count": 25,
   "metadata": {},
   "outputs": [],
   "source": [
    "from trl import SFTTrainer\n",
    "\n",
    "# max_seq_length는 필수는 아니다. 오히려 지정했을 경우 인퍼때 훈련때 지정한 길이보다 넘어서서 설정하면 오류가 나는 듯 하다.\n",
    "max_seq_length = 1024"
   ]
  },
  {
   "cell_type": "code",
   "execution_count": 26,
   "metadata": {},
   "outputs": [
    {
     "data": {
      "application/vnd.jupyter.widget-view+json": {
       "model_id": "d54ede95f33b45ba820e3c500c592f87",
       "version_major": 2,
       "version_minor": 0
      },
      "text/plain": [
       "Map:   0%|          | 0/12210 [00:00<?, ? examples/s]"
      ]
     },
     "metadata": {},
     "output_type": "display_data"
    },
    {
     "name": "stderr",
     "output_type": "stream",
     "text": [
      "/home/aeolian83/anaconda3/envs/llm_for_p311/lib/python3.11/site-packages/accelerate/accelerator.py:432: FutureWarning: Passing the following arguments to `Accelerator` is deprecated and will be removed in version 1.0 of Accelerate: dict_keys(['dispatch_batches', 'split_batches', 'even_batches', 'use_seedable_sampler']). Please pass an `accelerate.DataLoaderConfiguration` instead: \n",
      "dataloader_config = DataLoaderConfiguration(dispatch_batches=None, split_batches=False, even_batches=True, use_seedable_sampler=True)\n",
      "  warnings.warn(\n"
     ]
    }
   ],
   "source": [
    "trainer = SFTTrainer(\n",
    "    model=model,\n",
    "    train_dataset=train_dataset,\n",
    "    peft_config=peft_config,\n",
    "    dataset_text_field=\"text\",\n",
    "    max_seq_length=max_seq_length,\n",
    "    tokenizer=tokenizer,\n",
    "    args=training_arguments,\n",
    ")"
   ]
  },
  {
   "cell_type": "code",
   "execution_count": 27,
   "metadata": {},
   "outputs": [],
   "source": [
    "for name, module in trainer.model.named_modules():\n",
    "    if \"norm\" in name:\n",
    "        module = module.to(torch.float32)"
   ]
  },
  {
   "cell_type": "markdown",
   "metadata": {},
   "source": [
    "# 8. Training"
   ]
  },
  {
   "cell_type": "code",
   "execution_count": 28,
   "metadata": {},
   "outputs": [
    {
     "data": {
      "text/html": [
       "wandb version 0.16.6 is available!  To upgrade, please run:\n",
       " $ pip install wandb --upgrade"
      ],
      "text/plain": [
       "<IPython.core.display.HTML object>"
      ]
     },
     "metadata": {},
     "output_type": "display_data"
    },
    {
     "data": {
      "text/html": [
       "Tracking run with wandb version 0.16.4"
      ],
      "text/plain": [
       "<IPython.core.display.HTML object>"
      ]
     },
     "metadata": {},
     "output_type": "display_data"
    },
    {
     "data": {
      "text/html": [
       "Run data is saved locally in <code>/mnt/t7/dnn/llm_practicing/00_QLoRa_fine_tune/wandb/run-20240429_193721-6k2vsgr5</code>"
      ],
      "text/plain": [
       "<IPython.core.display.HTML object>"
      ]
     },
     "metadata": {},
     "output_type": "display_data"
    },
    {
     "data": {
      "text/html": [
       "Syncing run <strong><a href='https://wandb.ai/aeolian83/QLoRA_Instruction_finetune_06/runs/6k2vsgr5' target=\"_blank\">misunderstood-water-4</a></strong> to <a href='https://wandb.ai/aeolian83/QLoRA_Instruction_finetune_06' target=\"_blank\">Weights & Biases</a> (<a href='https://wandb.me/run' target=\"_blank\">docs</a>)<br/>"
      ],
      "text/plain": [
       "<IPython.core.display.HTML object>"
      ]
     },
     "metadata": {},
     "output_type": "display_data"
    },
    {
     "data": {
      "text/html": [
       " View project at <a href='https://wandb.ai/aeolian83/QLoRA_Instruction_finetune_06' target=\"_blank\">https://wandb.ai/aeolian83/QLoRA_Instruction_finetune_06</a>"
      ],
      "text/plain": [
       "<IPython.core.display.HTML object>"
      ]
     },
     "metadata": {},
     "output_type": "display_data"
    },
    {
     "data": {
      "text/html": [
       " View run at <a href='https://wandb.ai/aeolian83/QLoRA_Instruction_finetune_06/runs/6k2vsgr5' target=\"_blank\">https://wandb.ai/aeolian83/QLoRA_Instruction_finetune_06/runs/6k2vsgr5</a>"
      ],
      "text/plain": [
       "<IPython.core.display.HTML object>"
      ]
     },
     "metadata": {},
     "output_type": "display_data"
    },
    {
     "data": {
      "application/vnd.jupyter.widget-view+json": {
       "model_id": "239d1559eb4b436491348fb1bdebca40",
       "version_major": 2,
       "version_minor": 0
      },
      "text/plain": [
       "  0%|          | 0/12210 [00:00<?, ?it/s]"
      ]
     },
     "metadata": {},
     "output_type": "display_data"
    },
    {
     "name": "stdout",
     "output_type": "stream",
     "text": [
      "{'loss': 2.5156, 'grad_norm': 0.10693359375, 'learning_rate': 5.449591280653951e-06, 'epoch': 0.0}\n",
      "{'loss': 2.5216, 'grad_norm': 0.1396484375, 'learning_rate': 1.0899182561307902e-05, 'epoch': 0.0}\n"
     ]
    },
    {
     "name": "stderr",
     "output_type": "stream",
     "text": [
      "/home/aeolian83/anaconda3/envs/llm_for_p311/lib/python3.11/site-packages/peft/utils/save_and_load.py:168: UserWarning: Setting `save_embedding_layers` to `True` as the embedding layer has been resized during finetuning.\n",
      "  warnings.warn(\n"
     ]
    },
    {
     "name": "stdout",
     "output_type": "stream",
     "text": [
      "{'loss': 2.866, 'grad_norm': 0.17578125, 'learning_rate': 1.6348773841961854e-05, 'epoch': 0.0}\n",
      "{'loss': 2.8378, 'grad_norm': 0.2236328125, 'learning_rate': 2.1798365122615804e-05, 'epoch': 0.01}\n"
     ]
    },
    {
     "name": "stderr",
     "output_type": "stream",
     "text": [
      "/home/aeolian83/anaconda3/envs/llm_for_p311/lib/python3.11/site-packages/peft/utils/save_and_load.py:168: UserWarning: Setting `save_embedding_layers` to `True` as the embedding layer has been resized during finetuning.\n",
      "  warnings.warn(\n"
     ]
    },
    {
     "name": "stdout",
     "output_type": "stream",
     "text": [
      "{'loss': 4.502, 'grad_norm': 1.5625, 'learning_rate': 2.7247956403269757e-05, 'epoch': 0.01}\n",
      "{'loss': 2.4121, 'grad_norm': 0.1865234375, 'learning_rate': 3.269754768392371e-05, 'epoch': 0.01}\n"
     ]
    },
    {
     "name": "stderr",
     "output_type": "stream",
     "text": [
      "/home/aeolian83/anaconda3/envs/llm_for_p311/lib/python3.11/site-packages/peft/utils/save_and_load.py:168: UserWarning: Setting `save_embedding_layers` to `True` as the embedding layer has been resized during finetuning.\n",
      "  warnings.warn(\n"
     ]
    },
    {
     "name": "stdout",
     "output_type": "stream",
     "text": [
      "{'loss': 2.443, 'grad_norm': 0.2236328125, 'learning_rate': 3.8147138964577664e-05, 'epoch': 0.01}\n",
      "{'loss': 2.6346, 'grad_norm': 0.6875, 'learning_rate': 4.359673024523161e-05, 'epoch': 0.01}\n"
     ]
    },
    {
     "name": "stderr",
     "output_type": "stream",
     "text": [
      "/home/aeolian83/anaconda3/envs/llm_for_p311/lib/python3.11/site-packages/peft/utils/save_and_load.py:168: UserWarning: Setting `save_embedding_layers` to `True` as the embedding layer has been resized during finetuning.\n",
      "  warnings.warn(\n"
     ]
    },
    {
     "name": "stdout",
     "output_type": "stream",
     "text": [
      "{'loss': 2.5814, 'grad_norm': 1.3671875, 'learning_rate': 4.9046321525885565e-05, 'epoch': 0.01}\n",
      "{'loss': 2.7764, 'grad_norm': 5.53125, 'learning_rate': 5.4495912806539515e-05, 'epoch': 0.02}\n"
     ]
    },
    {
     "name": "stderr",
     "output_type": "stream",
     "text": [
      "/home/aeolian83/anaconda3/envs/llm_for_p311/lib/python3.11/site-packages/peft/utils/save_and_load.py:168: UserWarning: Setting `save_embedding_layers` to `True` as the embedding layer has been resized during finetuning.\n",
      "  warnings.warn(\n"
     ]
    },
    {
     "name": "stdout",
     "output_type": "stream",
     "text": [
      "{'loss': 1.8274, 'grad_norm': 0.384765625, 'learning_rate': 5.994550408719346e-05, 'epoch': 0.02}\n",
      "{'loss': 2.1087, 'grad_norm': 0.333984375, 'learning_rate': 6.539509536784741e-05, 'epoch': 0.02}\n"
     ]
    },
    {
     "name": "stderr",
     "output_type": "stream",
     "text": [
      "/home/aeolian83/anaconda3/envs/llm_for_p311/lib/python3.11/site-packages/peft/utils/save_and_load.py:168: UserWarning: Setting `save_embedding_layers` to `True` as the embedding layer has been resized during finetuning.\n",
      "  warnings.warn(\n"
     ]
    },
    {
     "name": "stdout",
     "output_type": "stream",
     "text": [
      "{'loss': 2.2366, 'grad_norm': 0.412109375, 'learning_rate': 7.084468664850136e-05, 'epoch': 0.02}\n",
      "{'loss': 1.9571, 'grad_norm': 0.6875, 'learning_rate': 7.629427792915533e-05, 'epoch': 0.02}\n"
     ]
    },
    {
     "name": "stderr",
     "output_type": "stream",
     "text": [
      "/home/aeolian83/anaconda3/envs/llm_for_p311/lib/python3.11/site-packages/peft/utils/save_and_load.py:168: UserWarning: Setting `save_embedding_layers` to `True` as the embedding layer has been resized during finetuning.\n",
      "  warnings.warn(\n"
     ]
    },
    {
     "name": "stdout",
     "output_type": "stream",
     "text": [
      "{'loss': 1.9663, 'grad_norm': 2.859375, 'learning_rate': 8.174386920980927e-05, 'epoch': 0.02}\n",
      "{'loss': 1.8679, 'grad_norm': 0.30859375, 'learning_rate': 8.719346049046322e-05, 'epoch': 0.03}\n"
     ]
    },
    {
     "name": "stderr",
     "output_type": "stream",
     "text": [
      "/home/aeolian83/anaconda3/envs/llm_for_p311/lib/python3.11/site-packages/peft/utils/save_and_load.py:168: UserWarning: Setting `save_embedding_layers` to `True` as the embedding layer has been resized during finetuning.\n",
      "  warnings.warn(\n"
     ]
    },
    {
     "name": "stdout",
     "output_type": "stream",
     "text": [
      "{'loss': 1.8195, 'grad_norm': 0.408203125, 'learning_rate': 9.264305177111718e-05, 'epoch': 0.03}\n",
      "{'loss': 2.035, 'grad_norm': 0.3984375, 'learning_rate': 9.809264305177113e-05, 'epoch': 0.03}\n"
     ]
    },
    {
     "name": "stderr",
     "output_type": "stream",
     "text": [
      "/home/aeolian83/anaconda3/envs/llm_for_p311/lib/python3.11/site-packages/peft/utils/save_and_load.py:168: UserWarning: Setting `save_embedding_layers` to `True` as the embedding layer has been resized during finetuning.\n",
      "  warnings.warn(\n"
     ]
    },
    {
     "name": "stdout",
     "output_type": "stream",
     "text": [
      "{'loss': 2.0085, 'grad_norm': 1.0703125, 'learning_rate': 0.00010354223433242507, 'epoch': 0.03}\n",
      "{'loss': 2.098, 'grad_norm': 1.765625, 'learning_rate': 0.00010899182561307903, 'epoch': 0.03}\n"
     ]
    },
    {
     "name": "stderr",
     "output_type": "stream",
     "text": [
      "/home/aeolian83/anaconda3/envs/llm_for_p311/lib/python3.11/site-packages/peft/utils/save_and_load.py:168: UserWarning: Setting `save_embedding_layers` to `True` as the embedding layer has been resized during finetuning.\n",
      "  warnings.warn(\n"
     ]
    },
    {
     "name": "stdout",
     "output_type": "stream",
     "text": [
      "{'loss': 1.8272, 'grad_norm': 0.296875, 'learning_rate': 0.00011444141689373298, 'epoch': 0.03}\n",
      "{'loss': 1.888, 'grad_norm': 0.2431640625, 'learning_rate': 0.00011989100817438692, 'epoch': 0.04}\n"
     ]
    },
    {
     "name": "stderr",
     "output_type": "stream",
     "text": [
      "/home/aeolian83/anaconda3/envs/llm_for_p311/lib/python3.11/site-packages/peft/utils/save_and_load.py:168: UserWarning: Setting `save_embedding_layers` to `True` as the embedding layer has been resized during finetuning.\n",
      "  warnings.warn(\n"
     ]
    },
    {
     "name": "stdout",
     "output_type": "stream",
     "text": [
      "{'loss': 1.8352, 'grad_norm': 0.359375, 'learning_rate': 0.00012534059945504088, 'epoch': 0.04}\n",
      "{'loss': 1.8651, 'grad_norm': 0.73828125, 'learning_rate': 0.00013079019073569483, 'epoch': 0.04}\n"
     ]
    },
    {
     "name": "stderr",
     "output_type": "stream",
     "text": [
      "/home/aeolian83/anaconda3/envs/llm_for_p311/lib/python3.11/site-packages/peft/utils/save_and_load.py:168: UserWarning: Setting `save_embedding_layers` to `True` as the embedding layer has been resized during finetuning.\n",
      "  warnings.warn(\n"
     ]
    },
    {
     "name": "stdout",
     "output_type": "stream",
     "text": [
      "{'loss': 1.7702, 'grad_norm': 3.6875, 'learning_rate': 0.00013623978201634878, 'epoch': 0.04}\n",
      "{'loss': 1.7865, 'grad_norm': 0.28515625, 'learning_rate': 0.00014168937329700273, 'epoch': 0.04}\n"
     ]
    },
    {
     "name": "stderr",
     "output_type": "stream",
     "text": [
      "/home/aeolian83/anaconda3/envs/llm_for_p311/lib/python3.11/site-packages/peft/utils/save_and_load.py:168: UserWarning: Setting `save_embedding_layers` to `True` as the embedding layer has been resized during finetuning.\n",
      "  warnings.warn(\n"
     ]
    },
    {
     "name": "stdout",
     "output_type": "stream",
     "text": [
      "{'loss': 2.0563, 'grad_norm': 0.27734375, 'learning_rate': 0.00014713896457765668, 'epoch': 0.04}\n",
      "{'loss': 1.9231, 'grad_norm': 0.69921875, 'learning_rate': 0.00015258855585831066, 'epoch': 0.05}\n"
     ]
    },
    {
     "name": "stderr",
     "output_type": "stream",
     "text": [
      "/home/aeolian83/anaconda3/envs/llm_for_p311/lib/python3.11/site-packages/peft/utils/save_and_load.py:168: UserWarning: Setting `save_embedding_layers` to `True` as the embedding layer has been resized during finetuning.\n",
      "  warnings.warn(\n"
     ]
    },
    {
     "name": "stdout",
     "output_type": "stream",
     "text": [
      "{'loss': 2.018, 'grad_norm': 0.53515625, 'learning_rate': 0.00015803814713896458, 'epoch': 0.05}\n",
      "{'loss': 1.7818, 'grad_norm': 1.640625, 'learning_rate': 0.00016348773841961853, 'epoch': 0.05}\n"
     ]
    },
    {
     "name": "stderr",
     "output_type": "stream",
     "text": [
      "/home/aeolian83/anaconda3/envs/llm_for_p311/lib/python3.11/site-packages/peft/utils/save_and_load.py:168: UserWarning: Setting `save_embedding_layers` to `True` as the embedding layer has been resized during finetuning.\n",
      "  warnings.warn(\n"
     ]
    },
    {
     "name": "stdout",
     "output_type": "stream",
     "text": [
      "{'loss': 1.9213, 'grad_norm': 0.353515625, 'learning_rate': 0.0001689373297002725, 'epoch': 0.05}\n",
      "{'loss': 1.8418, 'grad_norm': 0.234375, 'learning_rate': 0.00017438692098092643, 'epoch': 0.05}\n"
     ]
    },
    {
     "name": "stderr",
     "output_type": "stream",
     "text": [
      "/home/aeolian83/anaconda3/envs/llm_for_p311/lib/python3.11/site-packages/peft/utils/save_and_load.py:168: UserWarning: Setting `save_embedding_layers` to `True` as the embedding layer has been resized during finetuning.\n",
      "  warnings.warn(\n"
     ]
    },
    {
     "name": "stdout",
     "output_type": "stream",
     "text": [
      "{'loss': 1.8537, 'grad_norm': 0.45703125, 'learning_rate': 0.00017983651226158038, 'epoch': 0.05}\n",
      "{'loss': 1.8396, 'grad_norm': 0.6015625, 'learning_rate': 0.00018528610354223436, 'epoch': 0.06}\n"
     ]
    },
    {
     "name": "stderr",
     "output_type": "stream",
     "text": [
      "/home/aeolian83/anaconda3/envs/llm_for_p311/lib/python3.11/site-packages/peft/utils/save_and_load.py:168: UserWarning: Setting `save_embedding_layers` to `True` as the embedding layer has been resized during finetuning.\n",
      "  warnings.warn(\n"
     ]
    },
    {
     "name": "stdout",
     "output_type": "stream",
     "text": [
      "{'loss': 1.8156, 'grad_norm': 3.84375, 'learning_rate': 0.00019073569482288828, 'epoch': 0.06}\n",
      "{'loss': 1.6965, 'grad_norm': 0.291015625, 'learning_rate': 0.00019618528610354226, 'epoch': 0.06}\n"
     ]
    },
    {
     "name": "stderr",
     "output_type": "stream",
     "text": [
      "/home/aeolian83/anaconda3/envs/llm_for_p311/lib/python3.11/site-packages/peft/utils/save_and_load.py:168: UserWarning: Setting `save_embedding_layers` to `True` as the embedding layer has been resized during finetuning.\n",
      "  warnings.warn(\n"
     ]
    },
    {
     "name": "stdout",
     "output_type": "stream",
     "text": [
      "{'loss': 1.7834, 'grad_norm': 0.48828125, 'learning_rate': 0.0001999493371611923, 'epoch': 0.06}\n",
      "{'loss': 1.8553, 'grad_norm': 0.361328125, 'learning_rate': 0.00019978046103183317, 'epoch': 0.06}\n"
     ]
    },
    {
     "name": "stderr",
     "output_type": "stream",
     "text": [
      "/home/aeolian83/anaconda3/envs/llm_for_p311/lib/python3.11/site-packages/peft/utils/save_and_load.py:168: UserWarning: Setting `save_embedding_layers` to `True` as the embedding layer has been resized during finetuning.\n",
      "  warnings.warn(\n"
     ]
    },
    {
     "name": "stdout",
     "output_type": "stream",
     "text": [
      "{'loss': 1.9839, 'grad_norm': 0.80859375, 'learning_rate': 0.00019961158490247404, 'epoch': 0.06}\n",
      "{'loss': 1.711, 'grad_norm': 4.5, 'learning_rate': 0.00019944270877311494, 'epoch': 0.07}\n"
     ]
    },
    {
     "name": "stderr",
     "output_type": "stream",
     "text": [
      "/home/aeolian83/anaconda3/envs/llm_for_p311/lib/python3.11/site-packages/peft/utils/save_and_load.py:168: UserWarning: Setting `save_embedding_layers` to `True` as the embedding layer has been resized during finetuning.\n",
      "  warnings.warn(\n"
     ]
    },
    {
     "name": "stdout",
     "output_type": "stream",
     "text": [
      "{'loss': 1.8635, 'grad_norm': 0.2373046875, 'learning_rate': 0.0001992738326437558, 'epoch': 0.07}\n",
      "{'loss': 1.9022, 'grad_norm': 0.23046875, 'learning_rate': 0.00019910495651439668, 'epoch': 0.07}\n"
     ]
    },
    {
     "name": "stderr",
     "output_type": "stream",
     "text": [
      "/home/aeolian83/anaconda3/envs/llm_for_p311/lib/python3.11/site-packages/peft/utils/save_and_load.py:168: UserWarning: Setting `save_embedding_layers` to `True` as the embedding layer has been resized during finetuning.\n",
      "  warnings.warn(\n"
     ]
    },
    {
     "name": "stdout",
     "output_type": "stream",
     "text": [
      "{'loss': 1.9071, 'grad_norm': 0.32421875, 'learning_rate': 0.00019893608038503758, 'epoch': 0.07}\n",
      "{'loss': 1.8567, 'grad_norm': 0.56640625, 'learning_rate': 0.00019876720425567848, 'epoch': 0.07}\n"
     ]
    },
    {
     "name": "stderr",
     "output_type": "stream",
     "text": [
      "/home/aeolian83/anaconda3/envs/llm_for_p311/lib/python3.11/site-packages/peft/utils/save_and_load.py:168: UserWarning: Setting `save_embedding_layers` to `True` as the embedding layer has been resized during finetuning.\n",
      "  warnings.warn(\n"
     ]
    },
    {
     "name": "stdout",
     "output_type": "stream",
     "text": [
      "{'loss': 1.6928, 'grad_norm': 2.28125, 'learning_rate': 0.00019859832812631935, 'epoch': 0.07}\n",
      "{'loss': 1.6923, 'grad_norm': 0.2001953125, 'learning_rate': 0.00019842945199696023, 'epoch': 0.08}\n"
     ]
    },
    {
     "name": "stderr",
     "output_type": "stream",
     "text": [
      "/home/aeolian83/anaconda3/envs/llm_for_p311/lib/python3.11/site-packages/peft/utils/save_and_load.py:168: UserWarning: Setting `save_embedding_layers` to `True` as the embedding layer has been resized during finetuning.\n",
      "  warnings.warn(\n"
     ]
    },
    {
     "name": "stdout",
     "output_type": "stream",
     "text": [
      "{'loss': 1.8785, 'grad_norm': 0.279296875, 'learning_rate': 0.00019826057586760113, 'epoch': 0.08}\n",
      "{'loss': 1.7775, 'grad_norm': 0.275390625, 'learning_rate': 0.000198091699738242, 'epoch': 0.08}\n"
     ]
    },
    {
     "name": "stderr",
     "output_type": "stream",
     "text": [
      "/home/aeolian83/anaconda3/envs/llm_for_p311/lib/python3.11/site-packages/peft/utils/save_and_load.py:168: UserWarning: Setting `save_embedding_layers` to `True` as the embedding layer has been resized during finetuning.\n",
      "  warnings.warn(\n"
     ]
    },
    {
     "name": "stdout",
     "output_type": "stream",
     "text": [
      "{'loss': 2.0364, 'grad_norm': 0.59765625, 'learning_rate': 0.0001979228236088829, 'epoch': 0.08}\n",
      "{'loss': 1.8708, 'grad_norm': 1.1953125, 'learning_rate': 0.0001977539474795238, 'epoch': 0.08}\n"
     ]
    },
    {
     "name": "stderr",
     "output_type": "stream",
     "text": [
      "/home/aeolian83/anaconda3/envs/llm_for_p311/lib/python3.11/site-packages/peft/utils/save_and_load.py:168: UserWarning: Setting `save_embedding_layers` to `True` as the embedding layer has been resized during finetuning.\n",
      "  warnings.warn(\n"
     ]
    },
    {
     "name": "stdout",
     "output_type": "stream",
     "text": [
      "{'loss': 1.8106, 'grad_norm': 0.2080078125, 'learning_rate': 0.00019758507135016467, 'epoch': 0.08}\n",
      "{'loss': 1.8044, 'grad_norm': 0.2138671875, 'learning_rate': 0.00019741619522080554, 'epoch': 0.09}\n"
     ]
    },
    {
     "name": "stderr",
     "output_type": "stream",
     "text": [
      "/home/aeolian83/anaconda3/envs/llm_for_p311/lib/python3.11/site-packages/peft/utils/save_and_load.py:168: UserWarning: Setting `save_embedding_layers` to `True` as the embedding layer has been resized during finetuning.\n",
      "  warnings.warn(\n"
     ]
    },
    {
     "name": "stdout",
     "output_type": "stream",
     "text": [
      "{'loss': 1.7361, 'grad_norm': 0.302734375, 'learning_rate': 0.0001972473190914464, 'epoch': 0.09}\n",
      "{'loss': 1.7518, 'grad_norm': 0.77734375, 'learning_rate': 0.00019707844296208734, 'epoch': 0.09}\n"
     ]
    },
    {
     "name": "stderr",
     "output_type": "stream",
     "text": [
      "/home/aeolian83/anaconda3/envs/llm_for_p311/lib/python3.11/site-packages/peft/utils/save_and_load.py:168: UserWarning: Setting `save_embedding_layers` to `True` as the embedding layer has been resized during finetuning.\n",
      "  warnings.warn(\n"
     ]
    },
    {
     "name": "stdout",
     "output_type": "stream",
     "text": [
      "{'loss': 1.7319, 'grad_norm': 0.93359375, 'learning_rate': 0.0001969095668327282, 'epoch': 0.09}\n",
      "{'loss': 1.8915, 'grad_norm': 0.2138671875, 'learning_rate': 0.00019674069070336908, 'epoch': 0.09}\n"
     ]
    },
    {
     "name": "stderr",
     "output_type": "stream",
     "text": [
      "/home/aeolian83/anaconda3/envs/llm_for_p311/lib/python3.11/site-packages/peft/utils/save_and_load.py:168: UserWarning: Setting `save_embedding_layers` to `True` as the embedding layer has been resized during finetuning.\n",
      "  warnings.warn(\n"
     ]
    },
    {
     "name": "stdout",
     "output_type": "stream",
     "text": [
      "{'loss': 1.7869, 'grad_norm': 0.2158203125, 'learning_rate': 0.00019657181457400998, 'epoch': 0.09}\n",
      "{'loss': 1.8244, 'grad_norm': 0.30859375, 'learning_rate': 0.00019640293844465085, 'epoch': 0.1}\n"
     ]
    },
    {
     "name": "stderr",
     "output_type": "stream",
     "text": [
      "/home/aeolian83/anaconda3/envs/llm_for_p311/lib/python3.11/site-packages/peft/utils/save_and_load.py:168: UserWarning: Setting `save_embedding_layers` to `True` as the embedding layer has been resized during finetuning.\n",
      "  warnings.warn(\n"
     ]
    },
    {
     "name": "stdout",
     "output_type": "stream",
     "text": [
      "{'loss': 1.8586, 'grad_norm': 0.546875, 'learning_rate': 0.00019623406231529173, 'epoch': 0.1}\n",
      "{'loss': 1.9655, 'grad_norm': 0.8125, 'learning_rate': 0.00019606518618593263, 'epoch': 0.1}\n"
     ]
    },
    {
     "name": "stderr",
     "output_type": "stream",
     "text": [
      "/home/aeolian83/anaconda3/envs/llm_for_p311/lib/python3.11/site-packages/peft/utils/save_and_load.py:168: UserWarning: Setting `save_embedding_layers` to `True` as the embedding layer has been resized during finetuning.\n",
      "  warnings.warn(\n"
     ]
    },
    {
     "name": "stdout",
     "output_type": "stream",
     "text": [
      "{'loss': 1.6294, 'grad_norm': 0.1689453125, 'learning_rate': 0.00019589631005657352, 'epoch': 0.1}\n",
      "{'loss': 1.6877, 'grad_norm': 0.2099609375, 'learning_rate': 0.0001957274339272144, 'epoch': 0.1}\n"
     ]
    },
    {
     "name": "stderr",
     "output_type": "stream",
     "text": [
      "/home/aeolian83/anaconda3/envs/llm_for_p311/lib/python3.11/site-packages/peft/utils/save_and_load.py:168: UserWarning: Setting `save_embedding_layers` to `True` as the embedding layer has been resized during finetuning.\n",
      "  warnings.warn(\n"
     ]
    },
    {
     "name": "stdout",
     "output_type": "stream",
     "text": [
      "{'loss': 1.8638, 'grad_norm': 0.26171875, 'learning_rate': 0.00019555855779785527, 'epoch': 0.1}\n",
      "{'loss': 2.0223, 'grad_norm': 0.490234375, 'learning_rate': 0.00019538968166849617, 'epoch': 0.1}\n"
     ]
    },
    {
     "name": "stderr",
     "output_type": "stream",
     "text": [
      "/home/aeolian83/anaconda3/envs/llm_for_p311/lib/python3.11/site-packages/peft/utils/save_and_load.py:168: UserWarning: Setting `save_embedding_layers` to `True` as the embedding layer has been resized during finetuning.\n",
      "  warnings.warn(\n"
     ]
    },
    {
     "name": "stdout",
     "output_type": "stream",
     "text": [
      "{'loss': 1.8725, 'grad_norm': 0.87109375, 'learning_rate': 0.00019522080553913704, 'epoch': 0.11}\n",
      "{'loss': 1.901, 'grad_norm': 0.322265625, 'learning_rate': 0.00019505192940977794, 'epoch': 0.11}\n"
     ]
    },
    {
     "name": "stderr",
     "output_type": "stream",
     "text": [
      "/home/aeolian83/anaconda3/envs/llm_for_p311/lib/python3.11/site-packages/peft/utils/save_and_load.py:168: UserWarning: Setting `save_embedding_layers` to `True` as the embedding layer has been resized during finetuning.\n",
      "  warnings.warn(\n"
     ]
    },
    {
     "name": "stdout",
     "output_type": "stream",
     "text": [
      "{'loss': 1.8718, 'grad_norm': 0.2119140625, 'learning_rate': 0.00019488305328041884, 'epoch': 0.11}\n",
      "{'loss': 1.9606, 'grad_norm': 0.3984375, 'learning_rate': 0.0001947141771510597, 'epoch': 0.11}\n"
     ]
    },
    {
     "name": "stderr",
     "output_type": "stream",
     "text": [
      "/home/aeolian83/anaconda3/envs/llm_for_p311/lib/python3.11/site-packages/peft/utils/save_and_load.py:168: UserWarning: Setting `save_embedding_layers` to `True` as the embedding layer has been resized during finetuning.\n",
      "  warnings.warn(\n"
     ]
    },
    {
     "name": "stdout",
     "output_type": "stream",
     "text": [
      "{'loss': 1.8863, 'grad_norm': 0.3359375, 'learning_rate': 0.00019454530102170058, 'epoch': 0.11}\n",
      "{'loss': 1.8571, 'grad_norm': 1.921875, 'learning_rate': 0.00019437642489234148, 'epoch': 0.11}\n"
     ]
    },
    {
     "name": "stderr",
     "output_type": "stream",
     "text": [
      "/home/aeolian83/anaconda3/envs/llm_for_p311/lib/python3.11/site-packages/peft/utils/save_and_load.py:168: UserWarning: Setting `save_embedding_layers` to `True` as the embedding layer has been resized during finetuning.\n",
      "  warnings.warn(\n"
     ]
    },
    {
     "name": "stdout",
     "output_type": "stream",
     "text": [
      "{'loss': 1.7802, 'grad_norm': 0.185546875, 'learning_rate': 0.00019420754876298238, 'epoch': 0.12}\n",
      "{'loss': 1.743, 'grad_norm': 0.2216796875, 'learning_rate': 0.00019403867263362325, 'epoch': 0.12}\n"
     ]
    },
    {
     "name": "stderr",
     "output_type": "stream",
     "text": [
      "/home/aeolian83/anaconda3/envs/llm_for_p311/lib/python3.11/site-packages/peft/utils/save_and_load.py:168: UserWarning: Setting `save_embedding_layers` to `True` as the embedding layer has been resized during finetuning.\n",
      "  warnings.warn(\n"
     ]
    },
    {
     "name": "stdout",
     "output_type": "stream",
     "text": [
      "{'loss': 1.6254, 'grad_norm': 0.2890625, 'learning_rate': 0.00019386979650426413, 'epoch': 0.12}\n",
      "{'loss': 1.9194, 'grad_norm': 0.455078125, 'learning_rate': 0.00019370092037490502, 'epoch': 0.12}\n"
     ]
    },
    {
     "name": "stderr",
     "output_type": "stream",
     "text": [
      "/home/aeolian83/anaconda3/envs/llm_for_p311/lib/python3.11/site-packages/peft/utils/save_and_load.py:168: UserWarning: Setting `save_embedding_layers` to `True` as the embedding layer has been resized during finetuning.\n",
      "  warnings.warn(\n"
     ]
    },
    {
     "name": "stdout",
     "output_type": "stream",
     "text": [
      "{'loss': 1.9108, 'grad_norm': 0.984375, 'learning_rate': 0.0001935320442455459, 'epoch': 0.12}\n",
      "{'loss': 1.8281, 'grad_norm': 0.20703125, 'learning_rate': 0.00019336316811618677, 'epoch': 0.12}\n"
     ]
    },
    {
     "name": "stderr",
     "output_type": "stream",
     "text": [
      "/home/aeolian83/anaconda3/envs/llm_for_p311/lib/python3.11/site-packages/peft/utils/save_and_load.py:168: UserWarning: Setting `save_embedding_layers` to `True` as the embedding layer has been resized during finetuning.\n",
      "  warnings.warn(\n"
     ]
    },
    {
     "name": "stdout",
     "output_type": "stream",
     "text": [
      "{'loss': 1.6823, 'grad_norm': 0.29296875, 'learning_rate': 0.00019319429198682767, 'epoch': 0.13}\n",
      "{'loss': 1.9349, 'grad_norm': 0.251953125, 'learning_rate': 0.00019302541585746857, 'epoch': 0.13}\n"
     ]
    },
    {
     "name": "stderr",
     "output_type": "stream",
     "text": [
      "/home/aeolian83/anaconda3/envs/llm_for_p311/lib/python3.11/site-packages/peft/utils/save_and_load.py:168: UserWarning: Setting `save_embedding_layers` to `True` as the embedding layer has been resized during finetuning.\n",
      "  warnings.warn(\n"
     ]
    },
    {
     "name": "stdout",
     "output_type": "stream",
     "text": [
      "{'loss': 1.7994, 'grad_norm': 0.5546875, 'learning_rate': 0.00019285653972810944, 'epoch': 0.13}\n",
      "{'loss': 1.8104, 'grad_norm': 3.890625, 'learning_rate': 0.0001926876635987503, 'epoch': 0.13}\n"
     ]
    },
    {
     "name": "stderr",
     "output_type": "stream",
     "text": [
      "/home/aeolian83/anaconda3/envs/llm_for_p311/lib/python3.11/site-packages/peft/utils/save_and_load.py:168: UserWarning: Setting `save_embedding_layers` to `True` as the embedding layer has been resized during finetuning.\n",
      "  warnings.warn(\n"
     ]
    },
    {
     "name": "stdout",
     "output_type": "stream",
     "text": [
      "{'loss': 1.9474, 'grad_norm': 0.375, 'learning_rate': 0.0001925187874693912, 'epoch': 0.13}\n",
      "{'loss': 1.7877, 'grad_norm': 0.25390625, 'learning_rate': 0.00019234991134003208, 'epoch': 0.13}\n"
     ]
    },
    {
     "name": "stderr",
     "output_type": "stream",
     "text": [
      "/home/aeolian83/anaconda3/envs/llm_for_p311/lib/python3.11/site-packages/peft/utils/save_and_load.py:168: UserWarning: Setting `save_embedding_layers` to `True` as the embedding layer has been resized during finetuning.\n",
      "  warnings.warn(\n"
     ]
    },
    {
     "name": "stdout",
     "output_type": "stream",
     "text": [
      "{'loss': 1.8468, 'grad_norm': 0.369140625, 'learning_rate': 0.00019218103521067298, 'epoch': 0.14}\n",
      "{'loss': 2.0322, 'grad_norm': 0.54296875, 'learning_rate': 0.00019201215908131388, 'epoch': 0.14}\n"
     ]
    },
    {
     "name": "stderr",
     "output_type": "stream",
     "text": [
      "/home/aeolian83/anaconda3/envs/llm_for_p311/lib/python3.11/site-packages/peft/utils/save_and_load.py:168: UserWarning: Setting `save_embedding_layers` to `True` as the embedding layer has been resized during finetuning.\n",
      "  warnings.warn(\n"
     ]
    },
    {
     "name": "stdout",
     "output_type": "stream",
     "text": [
      "{'loss': 1.7499, 'grad_norm': 0.9140625, 'learning_rate': 0.00019184328295195475, 'epoch': 0.14}\n",
      "{'loss': 1.7909, 'grad_norm': 0.2060546875, 'learning_rate': 0.00019167440682259563, 'epoch': 0.14}\n"
     ]
    },
    {
     "name": "stderr",
     "output_type": "stream",
     "text": [
      "/home/aeolian83/anaconda3/envs/llm_for_p311/lib/python3.11/site-packages/peft/utils/save_and_load.py:168: UserWarning: Setting `save_embedding_layers` to `True` as the embedding layer has been resized during finetuning.\n",
      "  warnings.warn(\n"
     ]
    },
    {
     "name": "stdout",
     "output_type": "stream",
     "text": [
      "{'loss': 1.6239, 'grad_norm': 0.2099609375, 'learning_rate': 0.00019150553069323652, 'epoch': 0.14}\n",
      "{'loss': 1.8524, 'grad_norm': 0.337890625, 'learning_rate': 0.00019133665456387742, 'epoch': 0.14}\n"
     ]
    },
    {
     "name": "stderr",
     "output_type": "stream",
     "text": [
      "/home/aeolian83/anaconda3/envs/llm_for_p311/lib/python3.11/site-packages/peft/utils/save_and_load.py:168: UserWarning: Setting `save_embedding_layers` to `True` as the embedding layer has been resized during finetuning.\n",
      "  warnings.warn(\n"
     ]
    },
    {
     "name": "stdout",
     "output_type": "stream",
     "text": [
      "{'loss': 1.8365, 'grad_norm': 0.330078125, 'learning_rate': 0.0001911677784345183, 'epoch': 0.15}\n",
      "{'loss': 1.7902, 'grad_norm': 0.9453125, 'learning_rate': 0.00019099890230515917, 'epoch': 0.15}\n"
     ]
    },
    {
     "name": "stderr",
     "output_type": "stream",
     "text": [
      "/home/aeolian83/anaconda3/envs/llm_for_p311/lib/python3.11/site-packages/peft/utils/save_and_load.py:168: UserWarning: Setting `save_embedding_layers` to `True` as the embedding layer has been resized during finetuning.\n",
      "  warnings.warn(\n"
     ]
    },
    {
     "name": "stdout",
     "output_type": "stream",
     "text": [
      "{'loss': 1.7801, 'grad_norm': 0.2236328125, 'learning_rate': 0.00019083002617580007, 'epoch': 0.15}\n",
      "{'loss': 1.6482, 'grad_norm': 0.29296875, 'learning_rate': 0.00019066115004644094, 'epoch': 0.15}\n"
     ]
    },
    {
     "name": "stderr",
     "output_type": "stream",
     "text": [
      "/home/aeolian83/anaconda3/envs/llm_for_p311/lib/python3.11/site-packages/peft/utils/save_and_load.py:168: UserWarning: Setting `save_embedding_layers` to `True` as the embedding layer has been resized during finetuning.\n",
      "  warnings.warn(\n"
     ]
    },
    {
     "name": "stdout",
     "output_type": "stream",
     "text": [
      "{'loss': 1.8242, 'grad_norm': 0.330078125, 'learning_rate': 0.0001904922739170818, 'epoch': 0.15}\n",
      "{'loss': 1.8502, 'grad_norm': 0.443359375, 'learning_rate': 0.0001903233977877227, 'epoch': 0.15}\n"
     ]
    },
    {
     "name": "stderr",
     "output_type": "stream",
     "text": [
      "/home/aeolian83/anaconda3/envs/llm_for_p311/lib/python3.11/site-packages/peft/utils/save_and_load.py:168: UserWarning: Setting `save_embedding_layers` to `True` as the embedding layer has been resized during finetuning.\n",
      "  warnings.warn(\n"
     ]
    },
    {
     "name": "stdout",
     "output_type": "stream",
     "text": [
      "{'loss': 1.8298, 'grad_norm': 0.75, 'learning_rate': 0.0001901545216583636, 'epoch': 0.16}\n",
      "{'loss': 1.8452, 'grad_norm': 0.263671875, 'learning_rate': 0.00018998564552900448, 'epoch': 0.16}\n"
     ]
    },
    {
     "name": "stderr",
     "output_type": "stream",
     "text": [
      "/home/aeolian83/anaconda3/envs/llm_for_p311/lib/python3.11/site-packages/peft/utils/save_and_load.py:168: UserWarning: Setting `save_embedding_layers` to `True` as the embedding layer has been resized during finetuning.\n",
      "  warnings.warn(\n"
     ]
    },
    {
     "name": "stdout",
     "output_type": "stream",
     "text": [
      "{'loss': 1.7141, 'grad_norm': 0.2177734375, 'learning_rate': 0.00018981676939964535, 'epoch': 0.16}\n",
      "{'loss': 2.0579, 'grad_norm': 0.31640625, 'learning_rate': 0.00018964789327028625, 'epoch': 0.16}\n"
     ]
    },
    {
     "name": "stderr",
     "output_type": "stream",
     "text": [
      "/home/aeolian83/anaconda3/envs/llm_for_p311/lib/python3.11/site-packages/peft/utils/save_and_load.py:168: UserWarning: Setting `save_embedding_layers` to `True` as the embedding layer has been resized during finetuning.\n",
      "  warnings.warn(\n"
     ]
    },
    {
     "name": "stdout",
     "output_type": "stream",
     "text": [
      "{'loss': 1.8592, 'grad_norm': 0.5078125, 'learning_rate': 0.00018947901714092713, 'epoch': 0.16}\n",
      "{'loss': 1.8067, 'grad_norm': 2.03125, 'learning_rate': 0.00018931014101156802, 'epoch': 0.16}\n"
     ]
    },
    {
     "name": "stderr",
     "output_type": "stream",
     "text": [
      "/home/aeolian83/anaconda3/envs/llm_for_p311/lib/python3.11/site-packages/peft/utils/save_and_load.py:168: UserWarning: Setting `save_embedding_layers` to `True` as the embedding layer has been resized during finetuning.\n",
      "  warnings.warn(\n"
     ]
    },
    {
     "name": "stdout",
     "output_type": "stream",
     "text": [
      "{'loss': 1.8439, 'grad_norm': 0.2119140625, 'learning_rate': 0.00018914126488220892, 'epoch': 0.17}\n",
      "{'loss': 1.7247, 'grad_norm': 0.23828125, 'learning_rate': 0.0001889723887528498, 'epoch': 0.17}\n"
     ]
    },
    {
     "name": "stderr",
     "output_type": "stream",
     "text": [
      "/home/aeolian83/anaconda3/envs/llm_for_p311/lib/python3.11/site-packages/peft/utils/save_and_load.py:168: UserWarning: Setting `save_embedding_layers` to `True` as the embedding layer has been resized during finetuning.\n",
      "  warnings.warn(\n"
     ]
    },
    {
     "name": "stdout",
     "output_type": "stream",
     "text": [
      "{'loss': 1.8573, 'grad_norm': 0.33984375, 'learning_rate': 0.00018880351262349067, 'epoch': 0.17}\n",
      "{'loss': 1.9827, 'grad_norm': 0.5390625, 'learning_rate': 0.00018863463649413157, 'epoch': 0.17}\n"
     ]
    },
    {
     "name": "stderr",
     "output_type": "stream",
     "text": [
      "/home/aeolian83/anaconda3/envs/llm_for_p311/lib/python3.11/site-packages/peft/utils/save_and_load.py:168: UserWarning: Setting `save_embedding_layers` to `True` as the embedding layer has been resized during finetuning.\n",
      "  warnings.warn(\n"
     ]
    },
    {
     "name": "stdout",
     "output_type": "stream",
     "text": [
      "{'loss': 1.6451, 'grad_norm': 0.85546875, 'learning_rate': 0.00018846576036477247, 'epoch': 0.17}\n",
      "{'loss': 1.7638, 'grad_norm': 0.1962890625, 'learning_rate': 0.00018829688423541334, 'epoch': 0.17}\n"
     ]
    },
    {
     "name": "stderr",
     "output_type": "stream",
     "text": [
      "/home/aeolian83/anaconda3/envs/llm_for_p311/lib/python3.11/site-packages/peft/utils/save_and_load.py:168: UserWarning: Setting `save_embedding_layers` to `True` as the embedding layer has been resized during finetuning.\n",
      "  warnings.warn(\n"
     ]
    },
    {
     "name": "stdout",
     "output_type": "stream",
     "text": [
      "{'loss': 1.8497, 'grad_norm': 0.322265625, 'learning_rate': 0.0001881280081060542, 'epoch': 0.18}\n",
      "{'loss': 1.8832, 'grad_norm': 0.404296875, 'learning_rate': 0.0001879591319766951, 'epoch': 0.18}\n"
     ]
    },
    {
     "name": "stderr",
     "output_type": "stream",
     "text": [
      "/home/aeolian83/anaconda3/envs/llm_for_p311/lib/python3.11/site-packages/peft/utils/save_and_load.py:168: UserWarning: Setting `save_embedding_layers` to `True` as the embedding layer has been resized during finetuning.\n",
      "  warnings.warn(\n"
     ]
    },
    {
     "name": "stdout",
     "output_type": "stream",
     "text": [
      "{'loss': 1.8445, 'grad_norm': 0.376953125, 'learning_rate': 0.00018779025584733598, 'epoch': 0.18}\n",
      "{'loss': 1.6441, 'grad_norm': 0.78125, 'learning_rate': 0.00018762137971797685, 'epoch': 0.18}\n"
     ]
    },
    {
     "name": "stderr",
     "output_type": "stream",
     "text": [
      "/home/aeolian83/anaconda3/envs/llm_for_p311/lib/python3.11/site-packages/peft/utils/save_and_load.py:168: UserWarning: Setting `save_embedding_layers` to `True` as the embedding layer has been resized during finetuning.\n",
      "  warnings.warn(\n"
     ]
    },
    {
     "name": "stdout",
     "output_type": "stream",
     "text": [
      "{'loss': 1.7753, 'grad_norm': 0.2158203125, 'learning_rate': 0.00018745250358861778, 'epoch': 0.18}\n",
      "{'loss': 1.7756, 'grad_norm': 0.26171875, 'learning_rate': 0.00018728362745925865, 'epoch': 0.18}\n"
     ]
    },
    {
     "name": "stderr",
     "output_type": "stream",
     "text": [
      "/home/aeolian83/anaconda3/envs/llm_for_p311/lib/python3.11/site-packages/peft/utils/save_and_load.py:168: UserWarning: Setting `save_embedding_layers` to `True` as the embedding layer has been resized during finetuning.\n",
      "  warnings.warn(\n"
     ]
    },
    {
     "name": "stdout",
     "output_type": "stream",
     "text": [
      "{'loss': 1.7677, 'grad_norm': 0.376953125, 'learning_rate': 0.00018711475132989952, 'epoch': 0.19}\n",
      "{'loss': 1.6779, 'grad_norm': 0.486328125, 'learning_rate': 0.0001869458752005404, 'epoch': 0.19}\n"
     ]
    },
    {
     "name": "stderr",
     "output_type": "stream",
     "text": [
      "/home/aeolian83/anaconda3/envs/llm_for_p311/lib/python3.11/site-packages/peft/utils/save_and_load.py:168: UserWarning: Setting `save_embedding_layers` to `True` as the embedding layer has been resized during finetuning.\n",
      "  warnings.warn(\n"
     ]
    },
    {
     "name": "stdout",
     "output_type": "stream",
     "text": [
      "{'loss': 1.8175, 'grad_norm': 2.015625, 'learning_rate': 0.0001867769990711813, 'epoch': 0.19}\n",
      "{'loss': 1.6622, 'grad_norm': 0.291015625, 'learning_rate': 0.00018660812294182217, 'epoch': 0.19}\n"
     ]
    },
    {
     "name": "stderr",
     "output_type": "stream",
     "text": [
      "/home/aeolian83/anaconda3/envs/llm_for_p311/lib/python3.11/site-packages/peft/utils/save_and_load.py:168: UserWarning: Setting `save_embedding_layers` to `True` as the embedding layer has been resized during finetuning.\n",
      "  warnings.warn(\n"
     ]
    },
    {
     "name": "stdout",
     "output_type": "stream",
     "text": [
      "{'loss': 1.7629, 'grad_norm': 0.255859375, 'learning_rate': 0.00018643924681246307, 'epoch': 0.19}\n",
      "{'loss': 1.7392, 'grad_norm': 0.296875, 'learning_rate': 0.00018627037068310397, 'epoch': 0.19}\n"
     ]
    },
    {
     "name": "stderr",
     "output_type": "stream",
     "text": [
      "/home/aeolian83/anaconda3/envs/llm_for_p311/lib/python3.11/site-packages/peft/utils/save_and_load.py:168: UserWarning: Setting `save_embedding_layers` to `True` as the embedding layer has been resized during finetuning.\n",
      "  warnings.warn(\n"
     ]
    },
    {
     "name": "stdout",
     "output_type": "stream",
     "text": [
      "{'loss': 1.845, 'grad_norm': 0.34765625, 'learning_rate': 0.00018610149455374484, 'epoch': 0.19}\n",
      "{'loss': 1.6975, 'grad_norm': 1.2109375, 'learning_rate': 0.0001859326184243857, 'epoch': 0.2}\n"
     ]
    },
    {
     "name": "stderr",
     "output_type": "stream",
     "text": [
      "/home/aeolian83/anaconda3/envs/llm_for_p311/lib/python3.11/site-packages/peft/utils/save_and_load.py:168: UserWarning: Setting `save_embedding_layers` to `True` as the embedding layer has been resized during finetuning.\n",
      "  warnings.warn(\n"
     ]
    },
    {
     "name": "stdout",
     "output_type": "stream",
     "text": [
      "{'loss': 1.6662, 'grad_norm': 0.2041015625, 'learning_rate': 0.0001857637422950266, 'epoch': 0.2}\n",
      "{'loss': 1.9007, 'grad_norm': 0.248046875, 'learning_rate': 0.0001855948661656675, 'epoch': 0.2}\n"
     ]
    },
    {
     "name": "stderr",
     "output_type": "stream",
     "text": [
      "/home/aeolian83/anaconda3/envs/llm_for_p311/lib/python3.11/site-packages/peft/utils/save_and_load.py:168: UserWarning: Setting `save_embedding_layers` to `True` as the embedding layer has been resized during finetuning.\n",
      "  warnings.warn(\n"
     ]
    },
    {
     "name": "stdout",
     "output_type": "stream",
     "text": [
      "{'loss': 1.798, 'grad_norm': 0.28125, 'learning_rate': 0.00018542599003630838, 'epoch': 0.2}\n",
      "{'loss': 1.8418, 'grad_norm': 0.45703125, 'learning_rate': 0.00018525711390694925, 'epoch': 0.2}\n"
     ]
    },
    {
     "name": "stderr",
     "output_type": "stream",
     "text": [
      "/home/aeolian83/anaconda3/envs/llm_for_p311/lib/python3.11/site-packages/peft/utils/save_and_load.py:168: UserWarning: Setting `save_embedding_layers` to `True` as the embedding layer has been resized during finetuning.\n",
      "  warnings.warn(\n"
     ]
    },
    {
     "name": "stdout",
     "output_type": "stream",
     "text": [
      "{'loss': 1.7547, 'grad_norm': 1.1328125, 'learning_rate': 0.00018508823777759015, 'epoch': 0.2}\n",
      "{'loss': 1.645, 'grad_norm': 0.2021484375, 'learning_rate': 0.00018491936164823102, 'epoch': 0.21}\n"
     ]
    },
    {
     "name": "stderr",
     "output_type": "stream",
     "text": [
      "/home/aeolian83/anaconda3/envs/llm_for_p311/lib/python3.11/site-packages/peft/utils/save_and_load.py:168: UserWarning: Setting `save_embedding_layers` to `True` as the embedding layer has been resized during finetuning.\n",
      "  warnings.warn(\n"
     ]
    },
    {
     "name": "stdout",
     "output_type": "stream",
     "text": [
      "{'loss': 1.863, 'grad_norm': 0.443359375, 'learning_rate': 0.0001847504855188719, 'epoch': 0.21}\n",
      "{'loss': 1.7791, 'grad_norm': 0.251953125, 'learning_rate': 0.00018458160938951282, 'epoch': 0.21}\n"
     ]
    },
    {
     "name": "stderr",
     "output_type": "stream",
     "text": [
      "/home/aeolian83/anaconda3/envs/llm_for_p311/lib/python3.11/site-packages/peft/utils/save_and_load.py:168: UserWarning: Setting `save_embedding_layers` to `True` as the embedding layer has been resized during finetuning.\n",
      "  warnings.warn(\n"
     ]
    },
    {
     "name": "stdout",
     "output_type": "stream",
     "text": [
      "{'loss': 1.8301, 'grad_norm': 0.388671875, 'learning_rate': 0.0001844127332601537, 'epoch': 0.21}\n",
      "{'loss': 1.7527, 'grad_norm': 0.8125, 'learning_rate': 0.00018424385713079457, 'epoch': 0.21}\n"
     ]
    },
    {
     "name": "stderr",
     "output_type": "stream",
     "text": [
      "/home/aeolian83/anaconda3/envs/llm_for_p311/lib/python3.11/site-packages/peft/utils/save_and_load.py:168: UserWarning: Setting `save_embedding_layers` to `True` as the embedding layer has been resized during finetuning.\n",
      "  warnings.warn(\n"
     ]
    },
    {
     "name": "stdout",
     "output_type": "stream",
     "text": [
      "{'loss': 1.7779, 'grad_norm': 0.1708984375, 'learning_rate': 0.00018407498100143547, 'epoch': 0.21}\n",
      "{'loss': 1.7566, 'grad_norm': 0.2392578125, 'learning_rate': 0.00018390610487207634, 'epoch': 0.22}\n"
     ]
    },
    {
     "name": "stderr",
     "output_type": "stream",
     "text": [
      "/home/aeolian83/anaconda3/envs/llm_for_p311/lib/python3.11/site-packages/peft/utils/save_and_load.py:168: UserWarning: Setting `save_embedding_layers` to `True` as the embedding layer has been resized during finetuning.\n",
      "  warnings.warn(\n"
     ]
    },
    {
     "name": "stdout",
     "output_type": "stream",
     "text": [
      "{'loss': 1.7123, 'grad_norm': 0.30078125, 'learning_rate': 0.0001837372287427172, 'epoch': 0.22}\n",
      "{'loss': 1.9351, 'grad_norm': 0.3515625, 'learning_rate': 0.0001835683526133581, 'epoch': 0.22}\n"
     ]
    },
    {
     "name": "stderr",
     "output_type": "stream",
     "text": [
      "/home/aeolian83/anaconda3/envs/llm_for_p311/lib/python3.11/site-packages/peft/utils/save_and_load.py:168: UserWarning: Setting `save_embedding_layers` to `True` as the embedding layer has been resized during finetuning.\n",
      "  warnings.warn(\n"
     ]
    },
    {
     "name": "stdout",
     "output_type": "stream",
     "text": [
      "{'loss': 1.6385, 'grad_norm': 0.890625, 'learning_rate': 0.000183399476483999, 'epoch': 0.22}\n",
      "{'loss': 1.6439, 'grad_norm': 0.291015625, 'learning_rate': 0.00018323060035463988, 'epoch': 0.22}\n"
     ]
    },
    {
     "name": "stderr",
     "output_type": "stream",
     "text": [
      "/home/aeolian83/anaconda3/envs/llm_for_p311/lib/python3.11/site-packages/peft/utils/save_and_load.py:168: UserWarning: Setting `save_embedding_layers` to `True` as the embedding layer has been resized during finetuning.\n",
      "  warnings.warn(\n"
     ]
    },
    {
     "name": "stdout",
     "output_type": "stream",
     "text": [
      "{'loss': 1.8062, 'grad_norm': 0.330078125, 'learning_rate': 0.00018306172422528075, 'epoch': 0.22}\n",
      "{'loss': 1.882, 'grad_norm': 0.26171875, 'learning_rate': 0.00018289284809592165, 'epoch': 0.23}\n"
     ]
    },
    {
     "name": "stderr",
     "output_type": "stream",
     "text": [
      "/home/aeolian83/anaconda3/envs/llm_for_p311/lib/python3.11/site-packages/peft/utils/save_and_load.py:168: UserWarning: Setting `save_embedding_layers` to `True` as the embedding layer has been resized during finetuning.\n",
      "  warnings.warn(\n"
     ]
    },
    {
     "name": "stdout",
     "output_type": "stream",
     "text": [
      "{'loss': 1.7821, 'grad_norm': 0.392578125, 'learning_rate': 0.00018272397196656255, 'epoch': 0.23}\n",
      "{'loss': 1.6525, 'grad_norm': 0.8828125, 'learning_rate': 0.00018255509583720342, 'epoch': 0.23}\n"
     ]
    },
    {
     "name": "stderr",
     "output_type": "stream",
     "text": [
      "/home/aeolian83/anaconda3/envs/llm_for_p311/lib/python3.11/site-packages/peft/utils/save_and_load.py:168: UserWarning: Setting `save_embedding_layers` to `True` as the embedding layer has been resized during finetuning.\n",
      "  warnings.warn(\n"
     ]
    },
    {
     "name": "stdout",
     "output_type": "stream",
     "text": [
      "{'loss': 1.8017, 'grad_norm': 0.20703125, 'learning_rate': 0.0001823862197078443, 'epoch': 0.23}\n",
      "{'loss': 1.7797, 'grad_norm': 0.2294921875, 'learning_rate': 0.0001822173435784852, 'epoch': 0.23}\n"
     ]
    },
    {
     "name": "stderr",
     "output_type": "stream",
     "text": [
      "/home/aeolian83/anaconda3/envs/llm_for_p311/lib/python3.11/site-packages/peft/utils/save_and_load.py:168: UserWarning: Setting `save_embedding_layers` to `True` as the embedding layer has been resized during finetuning.\n",
      "  warnings.warn(\n"
     ]
    },
    {
     "name": "stdout",
     "output_type": "stream",
     "text": [
      "{'loss': 1.9731, 'grad_norm': 0.294921875, 'learning_rate': 0.00018204846744912607, 'epoch': 0.23}\n",
      "{'loss': 1.8665, 'grad_norm': 0.578125, 'learning_rate': 0.00018187959131976694, 'epoch': 0.24}\n"
     ]
    },
    {
     "name": "stderr",
     "output_type": "stream",
     "text": [
      "/home/aeolian83/anaconda3/envs/llm_for_p311/lib/python3.11/site-packages/peft/utils/save_and_load.py:168: UserWarning: Setting `save_embedding_layers` to `True` as the embedding layer has been resized during finetuning.\n",
      "  warnings.warn(\n"
     ]
    },
    {
     "name": "stdout",
     "output_type": "stream",
     "text": [
      "{'loss': 1.7038, 'grad_norm': 0.6875, 'learning_rate': 0.00018171071519040787, 'epoch': 0.24}\n",
      "{'loss': 1.553, 'grad_norm': 0.17578125, 'learning_rate': 0.00018154183906104874, 'epoch': 0.24}\n"
     ]
    },
    {
     "name": "stderr",
     "output_type": "stream",
     "text": [
      "/home/aeolian83/anaconda3/envs/llm_for_p311/lib/python3.11/site-packages/peft/utils/save_and_load.py:168: UserWarning: Setting `save_embedding_layers` to `True` as the embedding layer has been resized during finetuning.\n",
      "  warnings.warn(\n"
     ]
    },
    {
     "name": "stdout",
     "output_type": "stream",
     "text": [
      "{'loss': 1.7709, 'grad_norm': 0.326171875, 'learning_rate': 0.0001813729629316896, 'epoch': 0.24}\n",
      "{'loss': 1.7664, 'grad_norm': 0.26953125, 'learning_rate': 0.0001812040868023305, 'epoch': 0.24}\n"
     ]
    },
    {
     "name": "stderr",
     "output_type": "stream",
     "text": [
      "/home/aeolian83/anaconda3/envs/llm_for_p311/lib/python3.11/site-packages/peft/utils/save_and_load.py:168: UserWarning: Setting `save_embedding_layers` to `True` as the embedding layer has been resized during finetuning.\n",
      "  warnings.warn(\n"
     ]
    },
    {
     "name": "stdout",
     "output_type": "stream",
     "text": [
      "{'loss': 1.7542, 'grad_norm': 0.345703125, 'learning_rate': 0.00018103521067297138, 'epoch': 0.24}\n",
      "{'loss': 1.7728, 'grad_norm': 1.2578125, 'learning_rate': 0.00018086633454361225, 'epoch': 0.25}\n"
     ]
    },
    {
     "name": "stderr",
     "output_type": "stream",
     "text": [
      "/home/aeolian83/anaconda3/envs/llm_for_p311/lib/python3.11/site-packages/peft/utils/save_and_load.py:168: UserWarning: Setting `save_embedding_layers` to `True` as the embedding layer has been resized during finetuning.\n",
      "  warnings.warn(\n"
     ]
    },
    {
     "name": "stdout",
     "output_type": "stream",
     "text": [
      "{'loss': 1.8051, 'grad_norm': 0.19921875, 'learning_rate': 0.00018069745841425315, 'epoch': 0.25}\n",
      "{'loss': 1.7845, 'grad_norm': 0.1806640625, 'learning_rate': 0.00018052858228489405, 'epoch': 0.25}\n"
     ]
    },
    {
     "name": "stderr",
     "output_type": "stream",
     "text": [
      "/home/aeolian83/anaconda3/envs/llm_for_p311/lib/python3.11/site-packages/peft/utils/save_and_load.py:168: UserWarning: Setting `save_embedding_layers` to `True` as the embedding layer has been resized during finetuning.\n",
      "  warnings.warn(\n"
     ]
    },
    {
     "name": "stdout",
     "output_type": "stream",
     "text": [
      "{'loss': 1.8237, 'grad_norm': 0.447265625, 'learning_rate': 0.00018035970615553492, 'epoch': 0.25}\n",
      "{'loss': 1.8375, 'grad_norm': 0.46875, 'learning_rate': 0.0001801908300261758, 'epoch': 0.25}\n"
     ]
    },
    {
     "name": "stderr",
     "output_type": "stream",
     "text": [
      "/home/aeolian83/anaconda3/envs/llm_for_p311/lib/python3.11/site-packages/peft/utils/save_and_load.py:168: UserWarning: Setting `save_embedding_layers` to `True` as the embedding layer has been resized during finetuning.\n",
      "  warnings.warn(\n"
     ]
    },
    {
     "name": "stdout",
     "output_type": "stream",
     "text": [
      "{'loss': 1.5197, 'grad_norm': 2.234375, 'learning_rate': 0.0001800219538968167, 'epoch': 0.25}\n",
      "{'loss': 1.8237, 'grad_norm': 0.26171875, 'learning_rate': 0.0001798530777674576, 'epoch': 0.26}\n"
     ]
    },
    {
     "name": "stderr",
     "output_type": "stream",
     "text": [
      "/home/aeolian83/anaconda3/envs/llm_for_p311/lib/python3.11/site-packages/peft/utils/save_and_load.py:168: UserWarning: Setting `save_embedding_layers` to `True` as the embedding layer has been resized during finetuning.\n",
      "  warnings.warn(\n"
     ]
    },
    {
     "name": "stdout",
     "output_type": "stream",
     "text": [
      "{'loss': 1.6911, 'grad_norm': 0.2353515625, 'learning_rate': 0.00017968420163809847, 'epoch': 0.26}\n",
      "{'loss': 1.7009, 'grad_norm': 0.306640625, 'learning_rate': 0.00017951532550873934, 'epoch': 0.26}\n"
     ]
    },
    {
     "name": "stderr",
     "output_type": "stream",
     "text": [
      "/home/aeolian83/anaconda3/envs/llm_for_p311/lib/python3.11/site-packages/peft/utils/save_and_load.py:168: UserWarning: Setting `save_embedding_layers` to `True` as the embedding layer has been resized during finetuning.\n",
      "  warnings.warn(\n"
     ]
    },
    {
     "name": "stdout",
     "output_type": "stream",
     "text": [
      "{'loss': 1.8551, 'grad_norm': 0.404296875, 'learning_rate': 0.00017934644937938024, 'epoch': 0.26}\n",
      "{'loss': 1.7749, 'grad_norm': 0.76953125, 'learning_rate': 0.0001791775732500211, 'epoch': 0.26}\n"
     ]
    },
    {
     "name": "stderr",
     "output_type": "stream",
     "text": [
      "/home/aeolian83/anaconda3/envs/llm_for_p311/lib/python3.11/site-packages/peft/utils/save_and_load.py:168: UserWarning: Setting `save_embedding_layers` to `True` as the embedding layer has been resized during finetuning.\n",
      "  warnings.warn(\n"
     ]
    },
    {
     "name": "stdout",
     "output_type": "stream",
     "text": [
      "{'loss': 1.9281, 'grad_norm': 0.30859375, 'learning_rate': 0.00017900869712066198, 'epoch': 0.26}\n",
      "{'loss': 1.6747, 'grad_norm': 0.21875, 'learning_rate': 0.0001788398209913029, 'epoch': 0.27}\n"
     ]
    },
    {
     "name": "stderr",
     "output_type": "stream",
     "text": [
      "/home/aeolian83/anaconda3/envs/llm_for_p311/lib/python3.11/site-packages/peft/utils/save_and_load.py:168: UserWarning: Setting `save_embedding_layers` to `True` as the embedding layer has been resized during finetuning.\n",
      "  warnings.warn(\n"
     ]
    },
    {
     "name": "stdout",
     "output_type": "stream",
     "text": [
      "{'loss': 1.9832, 'grad_norm': 0.36328125, 'learning_rate': 0.00017867094486194378, 'epoch': 0.27}\n",
      "{'loss': 1.94, 'grad_norm': 0.39453125, 'learning_rate': 0.00017850206873258465, 'epoch': 0.27}\n"
     ]
    },
    {
     "name": "stderr",
     "output_type": "stream",
     "text": [
      "/home/aeolian83/anaconda3/envs/llm_for_p311/lib/python3.11/site-packages/peft/utils/save_and_load.py:168: UserWarning: Setting `save_embedding_layers` to `True` as the embedding layer has been resized during finetuning.\n",
      "  warnings.warn(\n"
     ]
    },
    {
     "name": "stdout",
     "output_type": "stream",
     "text": [
      "{'loss': 1.6938, 'grad_norm': 0.875, 'learning_rate': 0.00017833319260322555, 'epoch': 0.27}\n",
      "{'loss': 1.5171, 'grad_norm': 0.2197265625, 'learning_rate': 0.00017816431647386642, 'epoch': 0.27}\n"
     ]
    },
    {
     "name": "stderr",
     "output_type": "stream",
     "text": [
      "/home/aeolian83/anaconda3/envs/llm_for_p311/lib/python3.11/site-packages/peft/utils/save_and_load.py:168: UserWarning: Setting `save_embedding_layers` to `True` as the embedding layer has been resized during finetuning.\n",
      "  warnings.warn(\n"
     ]
    },
    {
     "name": "stdout",
     "output_type": "stream",
     "text": [
      "{'loss': 1.7284, 'grad_norm': 0.263671875, 'learning_rate': 0.0001779954403445073, 'epoch': 0.27}\n",
      "{'loss': 1.7408, 'grad_norm': 0.26953125, 'learning_rate': 0.0001778265642151482, 'epoch': 0.28}\n"
     ]
    },
    {
     "name": "stderr",
     "output_type": "stream",
     "text": [
      "/home/aeolian83/anaconda3/envs/llm_for_p311/lib/python3.11/site-packages/peft/utils/save_and_load.py:168: UserWarning: Setting `save_embedding_layers` to `True` as the embedding layer has been resized during finetuning.\n",
      "  warnings.warn(\n"
     ]
    },
    {
     "name": "stdout",
     "output_type": "stream",
     "text": [
      "{'loss': 1.8242, 'grad_norm': 0.453125, 'learning_rate': 0.0001776576880857891, 'epoch': 0.28}\n",
      "{'loss': 1.6822, 'grad_norm': 0.98046875, 'learning_rate': 0.00017748881195642997, 'epoch': 0.28}\n"
     ]
    },
    {
     "name": "stderr",
     "output_type": "stream",
     "text": [
      "/home/aeolian83/anaconda3/envs/llm_for_p311/lib/python3.11/site-packages/peft/utils/save_and_load.py:168: UserWarning: Setting `save_embedding_layers` to `True` as the embedding layer has been resized during finetuning.\n",
      "  warnings.warn(\n"
     ]
    },
    {
     "name": "stdout",
     "output_type": "stream",
     "text": [
      "{'loss': 1.8816, 'grad_norm': 0.302734375, 'learning_rate': 0.00017731993582707084, 'epoch': 0.28}\n",
      "{'loss': 1.6959, 'grad_norm': 0.3828125, 'learning_rate': 0.00017715105969771174, 'epoch': 0.28}\n"
     ]
    },
    {
     "name": "stderr",
     "output_type": "stream",
     "text": [
      "/home/aeolian83/anaconda3/envs/llm_for_p311/lib/python3.11/site-packages/peft/utils/save_and_load.py:168: UserWarning: Setting `save_embedding_layers` to `True` as the embedding layer has been resized during finetuning.\n",
      "  warnings.warn(\n"
     ]
    },
    {
     "name": "stdout",
     "output_type": "stream",
     "text": [
      "{'loss': 1.909, 'grad_norm': 0.333984375, 'learning_rate': 0.0001769821835683526, 'epoch': 0.28}\n",
      "{'loss': 2.0208, 'grad_norm': 0.5078125, 'learning_rate': 0.0001768133074389935, 'epoch': 0.29}\n"
     ]
    },
    {
     "name": "stderr",
     "output_type": "stream",
     "text": [
      "/home/aeolian83/anaconda3/envs/llm_for_p311/lib/python3.11/site-packages/peft/utils/save_and_load.py:168: UserWarning: Setting `save_embedding_layers` to `True` as the embedding layer has been resized during finetuning.\n",
      "  warnings.warn(\n"
     ]
    },
    {
     "name": "stdout",
     "output_type": "stream",
     "text": [
      "{'loss': 1.7251, 'grad_norm': 0.94921875, 'learning_rate': 0.00017664443130963438, 'epoch': 0.29}\n",
      "{'loss': 1.7311, 'grad_norm': 0.21875, 'learning_rate': 0.00017647555518027528, 'epoch': 0.29}\n"
     ]
    },
    {
     "name": "stderr",
     "output_type": "stream",
     "text": [
      "/home/aeolian83/anaconda3/envs/llm_for_p311/lib/python3.11/site-packages/peft/utils/save_and_load.py:168: UserWarning: Setting `save_embedding_layers` to `True` as the embedding layer has been resized during finetuning.\n",
      "  warnings.warn(\n"
     ]
    },
    {
     "name": "stdout",
     "output_type": "stream",
     "text": [
      "{'loss': 1.7006, 'grad_norm': 0.275390625, 'learning_rate': 0.00017630667905091615, 'epoch': 0.29}\n",
      "{'loss': 1.7354, 'grad_norm': 0.291015625, 'learning_rate': 0.00017613780292155703, 'epoch': 0.29}\n"
     ]
    },
    {
     "name": "stderr",
     "output_type": "stream",
     "text": [
      "/home/aeolian83/anaconda3/envs/llm_for_p311/lib/python3.11/site-packages/peft/utils/save_and_load.py:168: UserWarning: Setting `save_embedding_layers` to `True` as the embedding layer has been resized during finetuning.\n",
      "  warnings.warn(\n"
     ]
    },
    {
     "name": "stdout",
     "output_type": "stream",
     "text": [
      "{'loss': 1.6583, 'grad_norm': 0.490234375, 'learning_rate': 0.00017596892679219795, 'epoch': 0.29}\n",
      "{'loss': 1.5163, 'grad_norm': 0.703125, 'learning_rate': 0.00017580005066283882, 'epoch': 0.29}\n"
     ]
    },
    {
     "name": "stderr",
     "output_type": "stream",
     "text": [
      "/home/aeolian83/anaconda3/envs/llm_for_p311/lib/python3.11/site-packages/peft/utils/save_and_load.py:168: UserWarning: Setting `save_embedding_layers` to `True` as the embedding layer has been resized during finetuning.\n",
      "  warnings.warn(\n"
     ]
    },
    {
     "name": "stdout",
     "output_type": "stream",
     "text": [
      "{'loss': 1.6842, 'grad_norm': 0.25, 'learning_rate': 0.0001756311745334797, 'epoch': 0.3}\n",
      "{'loss': 1.7498, 'grad_norm': 0.28125, 'learning_rate': 0.0001754622984041206, 'epoch': 0.3}\n"
     ]
    },
    {
     "name": "stderr",
     "output_type": "stream",
     "text": [
      "/home/aeolian83/anaconda3/envs/llm_for_p311/lib/python3.11/site-packages/peft/utils/save_and_load.py:168: UserWarning: Setting `save_embedding_layers` to `True` as the embedding layer has been resized during finetuning.\n",
      "  warnings.warn(\n"
     ]
    },
    {
     "name": "stdout",
     "output_type": "stream",
     "text": [
      "{'loss': 1.831, 'grad_norm': 0.30859375, 'learning_rate': 0.00017529342227476147, 'epoch': 0.3}\n",
      "{'loss': 1.796, 'grad_norm': 0.388671875, 'learning_rate': 0.00017512454614540234, 'epoch': 0.3}\n"
     ]
    },
    {
     "name": "stderr",
     "output_type": "stream",
     "text": [
      "/home/aeolian83/anaconda3/envs/llm_for_p311/lib/python3.11/site-packages/peft/utils/save_and_load.py:168: UserWarning: Setting `save_embedding_layers` to `True` as the embedding layer has been resized during finetuning.\n",
      "  warnings.warn(\n"
     ]
    },
    {
     "name": "stdout",
     "output_type": "stream",
     "text": [
      "{'loss': 1.4899, 'grad_norm': 0.98046875, 'learning_rate': 0.00017495567001604324, 'epoch': 0.3}\n",
      "{'loss': 1.7633, 'grad_norm': 0.251953125, 'learning_rate': 0.00017478679388668414, 'epoch': 0.3}\n"
     ]
    },
    {
     "name": "stderr",
     "output_type": "stream",
     "text": [
      "/home/aeolian83/anaconda3/envs/llm_for_p311/lib/python3.11/site-packages/peft/utils/save_and_load.py:168: UserWarning: Setting `save_embedding_layers` to `True` as the embedding layer has been resized during finetuning.\n",
      "  warnings.warn(\n"
     ]
    },
    {
     "name": "stdout",
     "output_type": "stream",
     "text": [
      "{'loss': 1.7793, 'grad_norm': 0.2431640625, 'learning_rate': 0.000174617917757325, 'epoch': 0.31}\n",
      "{'loss': 1.9096, 'grad_norm': 0.291015625, 'learning_rate': 0.00017444904162796588, 'epoch': 0.31}\n"
     ]
    },
    {
     "name": "stderr",
     "output_type": "stream",
     "text": [
      "/home/aeolian83/anaconda3/envs/llm_for_p311/lib/python3.11/site-packages/peft/utils/other.py:588: UserWarning: Unable to fetch remote file due to the following error 502 Server Error: Bad Gateway for url: https://huggingface.co/beomi/llama-2-ko-7b/resolve/main/config.json - silently ignoring the lookup for the file config.json in beomi/llama-2-ko-7b.\n",
      "  warnings.warn(\n",
      "/home/aeolian83/anaconda3/envs/llm_for_p311/lib/python3.11/site-packages/peft/utils/save_and_load.py:154: UserWarning: Could not find a config file in beomi/llama-2-ko-7b - will assume that the vocabulary was not modified.\n",
      "  warnings.warn(\n"
     ]
    },
    {
     "name": "stdout",
     "output_type": "stream",
     "text": [
      "{'loss': 1.857, 'grad_norm': 0.68359375, 'learning_rate': 0.00017428016549860678, 'epoch': 0.31}\n",
      "{'loss': 1.5072, 'grad_norm': 1.5078125, 'learning_rate': 0.00017411128936924765, 'epoch': 0.31}\n"
     ]
    },
    {
     "name": "stderr",
     "output_type": "stream",
     "text": [
      "/home/aeolian83/anaconda3/envs/llm_for_p311/lib/python3.11/site-packages/peft/utils/save_and_load.py:168: UserWarning: Setting `save_embedding_layers` to `True` as the embedding layer has been resized during finetuning.\n",
      "  warnings.warn(\n"
     ]
    },
    {
     "name": "stdout",
     "output_type": "stream",
     "text": [
      "{'loss': 1.6139, 'grad_norm': 0.24609375, 'learning_rate': 0.00017394241323988855, 'epoch': 0.31}\n",
      "{'loss': 1.8574, 'grad_norm': 0.2890625, 'learning_rate': 0.00017377353711052945, 'epoch': 0.31}\n"
     ]
    },
    {
     "name": "stderr",
     "output_type": "stream",
     "text": [
      "/home/aeolian83/anaconda3/envs/llm_for_p311/lib/python3.11/site-packages/peft/utils/save_and_load.py:168: UserWarning: Setting `save_embedding_layers` to `True` as the embedding layer has been resized during finetuning.\n",
      "  warnings.warn(\n"
     ]
    },
    {
     "name": "stdout",
     "output_type": "stream",
     "text": [
      "{'loss': 1.8791, 'grad_norm': 0.36328125, 'learning_rate': 0.00017360466098117032, 'epoch': 0.32}\n",
      "{'loss': 1.68, 'grad_norm': 0.490234375, 'learning_rate': 0.0001734357848518112, 'epoch': 0.32}\n"
     ]
    },
    {
     "name": "stderr",
     "output_type": "stream",
     "text": [
      "/home/aeolian83/anaconda3/envs/llm_for_p311/lib/python3.11/site-packages/peft/utils/save_and_load.py:168: UserWarning: Setting `save_embedding_layers` to `True` as the embedding layer has been resized during finetuning.\n",
      "  warnings.warn(\n"
     ]
    },
    {
     "name": "stdout",
     "output_type": "stream",
     "text": [
      "{'loss': 1.6516, 'grad_norm': 1.125, 'learning_rate': 0.0001732669087224521, 'epoch': 0.32}\n",
      "{'loss': 1.7141, 'grad_norm': 0.18359375, 'learning_rate': 0.000173098032593093, 'epoch': 0.32}\n"
     ]
    },
    {
     "name": "stderr",
     "output_type": "stream",
     "text": [
      "/home/aeolian83/anaconda3/envs/llm_for_p311/lib/python3.11/site-packages/peft/utils/save_and_load.py:168: UserWarning: Setting `save_embedding_layers` to `True` as the embedding layer has been resized during finetuning.\n",
      "  warnings.warn(\n"
     ]
    },
    {
     "name": "stdout",
     "output_type": "stream",
     "text": [
      "{'loss': 1.708, 'grad_norm': 0.30078125, 'learning_rate': 0.00017292915646373387, 'epoch': 0.32}\n",
      "{'loss': 1.8632, 'grad_norm': 0.267578125, 'learning_rate': 0.00017276028033437474, 'epoch': 0.32}\n"
     ]
    },
    {
     "name": "stderr",
     "output_type": "stream",
     "text": [
      "/home/aeolian83/anaconda3/envs/llm_for_p311/lib/python3.11/site-packages/peft/utils/save_and_load.py:168: UserWarning: Setting `save_embedding_layers` to `True` as the embedding layer has been resized during finetuning.\n",
      "  warnings.warn(\n"
     ]
    },
    {
     "name": "stdout",
     "output_type": "stream",
     "text": [
      "{'loss': 1.9599, 'grad_norm': 0.474609375, 'learning_rate': 0.00017259140420501564, 'epoch': 0.33}\n",
      "{'loss': 1.701, 'grad_norm': 1.125, 'learning_rate': 0.0001724225280756565, 'epoch': 0.33}\n"
     ]
    },
    {
     "name": "stderr",
     "output_type": "stream",
     "text": [
      "/home/aeolian83/anaconda3/envs/llm_for_p311/lib/python3.11/site-packages/peft/utils/save_and_load.py:168: UserWarning: Setting `save_embedding_layers` to `True` as the embedding layer has been resized during finetuning.\n",
      "  warnings.warn(\n"
     ]
    },
    {
     "name": "stdout",
     "output_type": "stream",
     "text": [
      "{'loss': 1.7985, 'grad_norm': 0.255859375, 'learning_rate': 0.00017225365194629738, 'epoch': 0.33}\n",
      "{'loss': 1.8449, 'grad_norm': 0.263671875, 'learning_rate': 0.00017208477581693828, 'epoch': 0.33}\n"
     ]
    },
    {
     "name": "stderr",
     "output_type": "stream",
     "text": [
      "/home/aeolian83/anaconda3/envs/llm_for_p311/lib/python3.11/site-packages/peft/utils/save_and_load.py:168: UserWarning: Setting `save_embedding_layers` to `True` as the embedding layer has been resized during finetuning.\n",
      "  warnings.warn(\n"
     ]
    },
    {
     "name": "stdout",
     "output_type": "stream",
     "text": [
      "{'loss': 1.8299, 'grad_norm': 0.31640625, 'learning_rate': 0.00017191589968757918, 'epoch': 0.33}\n",
      "{'loss': 1.7378, 'grad_norm': 1.0078125, 'learning_rate': 0.00017174702355822005, 'epoch': 0.33}\n"
     ]
    },
    {
     "name": "stderr",
     "output_type": "stream",
     "text": [
      "/home/aeolian83/anaconda3/envs/llm_for_p311/lib/python3.11/site-packages/peft/utils/save_and_load.py:168: UserWarning: Setting `save_embedding_layers` to `True` as the embedding layer has been resized during finetuning.\n",
      "  warnings.warn(\n"
     ]
    },
    {
     "name": "stdout",
     "output_type": "stream",
     "text": [
      "{'loss': 1.4817, 'grad_norm': 0.7578125, 'learning_rate': 0.00017157814742886092, 'epoch': 0.34}\n",
      "{'loss': 1.6322, 'grad_norm': 0.1875, 'learning_rate': 0.00017140927129950182, 'epoch': 0.34}\n"
     ]
    },
    {
     "name": "stderr",
     "output_type": "stream",
     "text": [
      "/home/aeolian83/anaconda3/envs/llm_for_p311/lib/python3.11/site-packages/peft/utils/save_and_load.py:168: UserWarning: Setting `save_embedding_layers` to `True` as the embedding layer has been resized during finetuning.\n",
      "  warnings.warn(\n"
     ]
    },
    {
     "name": "stdout",
     "output_type": "stream",
     "text": [
      "{'loss': 1.7411, 'grad_norm': 0.193359375, 'learning_rate': 0.0001712403951701427, 'epoch': 0.34}\n",
      "{'loss': 1.9026, 'grad_norm': 0.24609375, 'learning_rate': 0.0001710715190407836, 'epoch': 0.34}\n"
     ]
    },
    {
     "name": "stderr",
     "output_type": "stream",
     "text": [
      "/home/aeolian83/anaconda3/envs/llm_for_p311/lib/python3.11/site-packages/peft/utils/save_and_load.py:168: UserWarning: Setting `save_embedding_layers` to `True` as the embedding layer has been resized during finetuning.\n",
      "  warnings.warn(\n"
     ]
    },
    {
     "name": "stdout",
     "output_type": "stream",
     "text": [
      "{'loss': 1.6676, 'grad_norm': 0.453125, 'learning_rate': 0.0001709026429114245, 'epoch': 0.34}\n",
      "{'loss': 1.7888, 'grad_norm': 0.59765625, 'learning_rate': 0.00017073376678206537, 'epoch': 0.34}\n"
     ]
    },
    {
     "name": "stderr",
     "output_type": "stream",
     "text": [
      "/home/aeolian83/anaconda3/envs/llm_for_p311/lib/python3.11/site-packages/peft/utils/save_and_load.py:168: UserWarning: Setting `save_embedding_layers` to `True` as the embedding layer has been resized during finetuning.\n",
      "  warnings.warn(\n"
     ]
    },
    {
     "name": "stdout",
     "output_type": "stream",
     "text": [
      "{'loss': 1.5253, 'grad_norm': 0.1708984375, 'learning_rate': 0.00017056489065270624, 'epoch': 0.35}\n",
      "{'loss': 1.7585, 'grad_norm': 0.22265625, 'learning_rate': 0.00017039601452334714, 'epoch': 0.35}\n"
     ]
    },
    {
     "name": "stderr",
     "output_type": "stream",
     "text": [
      "/home/aeolian83/anaconda3/envs/llm_for_p311/lib/python3.11/site-packages/peft/utils/save_and_load.py:168: UserWarning: Setting `save_embedding_layers` to `True` as the embedding layer has been resized during finetuning.\n",
      "  warnings.warn(\n"
     ]
    },
    {
     "name": "stdout",
     "output_type": "stream",
     "text": [
      "{'loss': 1.8626, 'grad_norm': 0.34375, 'learning_rate': 0.00017022713839398804, 'epoch': 0.35}\n",
      "{'loss': 1.9653, 'grad_norm': 0.4921875, 'learning_rate': 0.0001700582622646289, 'epoch': 0.35}\n"
     ]
    },
    {
     "name": "stderr",
     "output_type": "stream",
     "text": [
      "/home/aeolian83/anaconda3/envs/llm_for_p311/lib/python3.11/site-packages/peft/utils/save_and_load.py:168: UserWarning: Setting `save_embedding_layers` to `True` as the embedding layer has been resized during finetuning.\n",
      "  warnings.warn(\n"
     ]
    },
    {
     "name": "stdout",
     "output_type": "stream",
     "text": [
      "{'loss': 1.469, 'grad_norm': 2.109375, 'learning_rate': 0.00016988938613526978, 'epoch': 0.35}\n",
      "{'loss': 1.746, 'grad_norm': 0.390625, 'learning_rate': 0.00016972051000591068, 'epoch': 0.35}\n"
     ]
    },
    {
     "name": "stderr",
     "output_type": "stream",
     "text": [
      "/home/aeolian83/anaconda3/envs/llm_for_p311/lib/python3.11/site-packages/peft/utils/save_and_load.py:168: UserWarning: Setting `save_embedding_layers` to `True` as the embedding layer has been resized during finetuning.\n",
      "  warnings.warn(\n"
     ]
    },
    {
     "name": "stdout",
     "output_type": "stream",
     "text": [
      "{'loss': 1.7608, 'grad_norm': 0.279296875, 'learning_rate': 0.00016955163387655155, 'epoch': 0.36}\n",
      "{'loss': 1.784, 'grad_norm': 0.306640625, 'learning_rate': 0.00016938275774719242, 'epoch': 0.36}\n"
     ]
    },
    {
     "name": "stderr",
     "output_type": "stream",
     "text": [
      "/home/aeolian83/anaconda3/envs/llm_for_p311/lib/python3.11/site-packages/peft/utils/save_and_load.py:168: UserWarning: Setting `save_embedding_layers` to `True` as the embedding layer has been resized during finetuning.\n",
      "  warnings.warn(\n"
     ]
    },
    {
     "name": "stdout",
     "output_type": "stream",
     "text": [
      "{'loss': 1.8985, 'grad_norm': 0.45703125, 'learning_rate': 0.00016921388161783332, 'epoch': 0.36}\n",
      "{'loss': 1.7264, 'grad_norm': 1.1953125, 'learning_rate': 0.00016904500548847422, 'epoch': 0.36}\n"
     ]
    },
    {
     "name": "stderr",
     "output_type": "stream",
     "text": [
      "/home/aeolian83/anaconda3/envs/llm_for_p311/lib/python3.11/site-packages/peft/utils/save_and_load.py:168: UserWarning: Setting `save_embedding_layers` to `True` as the embedding layer has been resized during finetuning.\n",
      "  warnings.warn(\n"
     ]
    },
    {
     "name": "stdout",
     "output_type": "stream",
     "text": [
      "{'loss': 1.7856, 'grad_norm': 0.1943359375, 'learning_rate': 0.0001688761293591151, 'epoch': 0.36}\n",
      "{'loss': 1.731, 'grad_norm': 0.21484375, 'learning_rate': 0.00016870725322975597, 'epoch': 0.36}\n"
     ]
    },
    {
     "name": "stderr",
     "output_type": "stream",
     "text": [
      "/home/aeolian83/anaconda3/envs/llm_for_p311/lib/python3.11/site-packages/peft/utils/save_and_load.py:168: UserWarning: Setting `save_embedding_layers` to `True` as the embedding layer has been resized during finetuning.\n",
      "  warnings.warn(\n"
     ]
    },
    {
     "name": "stdout",
     "output_type": "stream",
     "text": [
      "{'loss': 1.7298, 'grad_norm': 0.298828125, 'learning_rate': 0.00016853837710039687, 'epoch': 0.37}\n",
      "{'loss': 1.8511, 'grad_norm': 0.482421875, 'learning_rate': 0.00016836950097103774, 'epoch': 0.37}\n"
     ]
    },
    {
     "name": "stderr",
     "output_type": "stream",
     "text": [
      "/home/aeolian83/anaconda3/envs/llm_for_p311/lib/python3.11/site-packages/peft/utils/save_and_load.py:168: UserWarning: Setting `save_embedding_layers` to `True` as the embedding layer has been resized during finetuning.\n",
      "  warnings.warn(\n"
     ]
    },
    {
     "name": "stdout",
     "output_type": "stream",
     "text": [
      "{'loss': 1.6826, 'grad_norm': 1.0078125, 'learning_rate': 0.00016820062484167864, 'epoch': 0.37}\n",
      "{'loss': 1.7225, 'grad_norm': 0.263671875, 'learning_rate': 0.00016803174871231954, 'epoch': 0.37}\n"
     ]
    },
    {
     "name": "stderr",
     "output_type": "stream",
     "text": [
      "/home/aeolian83/anaconda3/envs/llm_for_p311/lib/python3.11/site-packages/peft/utils/save_and_load.py:168: UserWarning: Setting `save_embedding_layers` to `True` as the embedding layer has been resized during finetuning.\n",
      "  warnings.warn(\n"
     ]
    },
    {
     "name": "stdout",
     "output_type": "stream",
     "text": [
      "{'loss': 1.8422, 'grad_norm': 0.28515625, 'learning_rate': 0.0001678628725829604, 'epoch': 0.37}\n",
      "{'loss': 1.9291, 'grad_norm': 0.35546875, 'learning_rate': 0.00016769399645360128, 'epoch': 0.37}\n"
     ]
    },
    {
     "name": "stderr",
     "output_type": "stream",
     "text": [
      "/home/aeolian83/anaconda3/envs/llm_for_p311/lib/python3.11/site-packages/peft/utils/save_and_load.py:168: UserWarning: Setting `save_embedding_layers` to `True` as the embedding layer has been resized during finetuning.\n",
      "  warnings.warn(\n"
     ]
    },
    {
     "name": "stdout",
     "output_type": "stream",
     "text": [
      "{'loss': 1.7286, 'grad_norm': 0.54296875, 'learning_rate': 0.00016752512032424218, 'epoch': 0.38}\n",
      "{'loss': 1.6211, 'grad_norm': 1.5546875, 'learning_rate': 0.00016735624419488308, 'epoch': 0.38}\n"
     ]
    },
    {
     "name": "stderr",
     "output_type": "stream",
     "text": [
      "/home/aeolian83/anaconda3/envs/llm_for_p311/lib/python3.11/site-packages/peft/utils/save_and_load.py:168: UserWarning: Setting `save_embedding_layers` to `True` as the embedding layer has been resized during finetuning.\n",
      "  warnings.warn(\n"
     ]
    },
    {
     "name": "stdout",
     "output_type": "stream",
     "text": [
      "{'loss': 1.6809, 'grad_norm': 0.216796875, 'learning_rate': 0.00016718736806552395, 'epoch': 0.38}\n",
      "{'loss': 1.8726, 'grad_norm': 0.294921875, 'learning_rate': 0.00016701849193616482, 'epoch': 0.38}\n"
     ]
    },
    {
     "name": "stderr",
     "output_type": "stream",
     "text": [
      "/home/aeolian83/anaconda3/envs/llm_for_p311/lib/python3.11/site-packages/peft/utils/save_and_load.py:168: UserWarning: Setting `save_embedding_layers` to `True` as the embedding layer has been resized during finetuning.\n",
      "  warnings.warn(\n"
     ]
    },
    {
     "name": "stdout",
     "output_type": "stream",
     "text": [
      "{'loss': 1.8226, 'grad_norm': 0.322265625, 'learning_rate': 0.00016684961580680572, 'epoch': 0.38}\n",
      "{'loss': 1.9024, 'grad_norm': 0.349609375, 'learning_rate': 0.0001666807396774466, 'epoch': 0.38}\n"
     ]
    },
    {
     "name": "stderr",
     "output_type": "stream",
     "text": [
      "/home/aeolian83/anaconda3/envs/llm_for_p311/lib/python3.11/site-packages/peft/utils/save_and_load.py:168: UserWarning: Setting `save_embedding_layers` to `True` as the embedding layer has been resized during finetuning.\n",
      "  warnings.warn(\n"
     ]
    },
    {
     "name": "stdout",
     "output_type": "stream",
     "text": [
      "{'loss': 1.5447, 'grad_norm': 0.91015625, 'learning_rate': 0.00016651186354808747, 'epoch': 0.38}\n",
      "{'loss': 1.612, 'grad_norm': 0.38671875, 'learning_rate': 0.00016634298741872837, 'epoch': 0.39}\n"
     ]
    },
    {
     "name": "stderr",
     "output_type": "stream",
     "text": [
      "/home/aeolian83/anaconda3/envs/llm_for_p311/lib/python3.11/site-packages/peft/utils/save_and_load.py:168: UserWarning: Setting `save_embedding_layers` to `True` as the embedding layer has been resized during finetuning.\n",
      "  warnings.warn(\n"
     ]
    },
    {
     "name": "stdout",
     "output_type": "stream",
     "text": [
      "{'loss': 1.7969, 'grad_norm': 0.28125, 'learning_rate': 0.00016617411128936927, 'epoch': 0.39}\n",
      "{'loss': 1.8049, 'grad_norm': 0.2890625, 'learning_rate': 0.00016600523516001014, 'epoch': 0.39}\n"
     ]
    },
    {
     "name": "stderr",
     "output_type": "stream",
     "text": [
      "/home/aeolian83/anaconda3/envs/llm_for_p311/lib/python3.11/site-packages/peft/utils/save_and_load.py:168: UserWarning: Setting `save_embedding_layers` to `True` as the embedding layer has been resized during finetuning.\n",
      "  warnings.warn(\n"
     ]
    },
    {
     "name": "stdout",
     "output_type": "stream",
     "text": [
      "{'loss': 1.8033, 'grad_norm': 0.43359375, 'learning_rate': 0.000165836359030651, 'epoch': 0.39}\n",
      "{'loss': 1.6902, 'grad_norm': 0.6171875, 'learning_rate': 0.0001656674829012919, 'epoch': 0.39}\n"
     ]
    },
    {
     "name": "stderr",
     "output_type": "stream",
     "text": [
      "/home/aeolian83/anaconda3/envs/llm_for_p311/lib/python3.11/site-packages/peft/utils/save_and_load.py:168: UserWarning: Setting `save_embedding_layers` to `True` as the embedding layer has been resized during finetuning.\n",
      "  warnings.warn(\n"
     ]
    },
    {
     "name": "stdout",
     "output_type": "stream",
     "text": [
      "{'loss': 1.7161, 'grad_norm': 0.193359375, 'learning_rate': 0.00016549860677193278, 'epoch': 0.39}\n",
      "{'loss': 1.5473, 'grad_norm': 0.251953125, 'learning_rate': 0.00016532973064257368, 'epoch': 0.4}\n"
     ]
    },
    {
     "name": "stderr",
     "output_type": "stream",
     "text": [
      "/home/aeolian83/anaconda3/envs/llm_for_p311/lib/python3.11/site-packages/peft/utils/save_and_load.py:168: UserWarning: Setting `save_embedding_layers` to `True` as the embedding layer has been resized during finetuning.\n",
      "  warnings.warn(\n"
     ]
    },
    {
     "name": "stdout",
     "output_type": "stream",
     "text": [
      "{'loss': 1.7713, 'grad_norm': 0.34375, 'learning_rate': 0.00016516085451321458, 'epoch': 0.4}\n",
      "{'loss': 1.7752, 'grad_norm': 0.431640625, 'learning_rate': 0.00016499197838385545, 'epoch': 0.4}\n"
     ]
    },
    {
     "name": "stderr",
     "output_type": "stream",
     "text": [
      "/home/aeolian83/anaconda3/envs/llm_for_p311/lib/python3.11/site-packages/peft/utils/save_and_load.py:168: UserWarning: Setting `save_embedding_layers` to `True` as the embedding layer has been resized during finetuning.\n",
      "  warnings.warn(\n"
     ]
    },
    {
     "name": "stdout",
     "output_type": "stream",
     "text": [
      "{'loss': 1.757, 'grad_norm': 0.90234375, 'learning_rate': 0.00016482310225449632, 'epoch': 0.4}\n",
      "{'loss': 1.889, 'grad_norm': 0.259765625, 'learning_rate': 0.00016465422612513722, 'epoch': 0.4}\n"
     ]
    },
    {
     "name": "stderr",
     "output_type": "stream",
     "text": [
      "/home/aeolian83/anaconda3/envs/llm_for_p311/lib/python3.11/site-packages/peft/utils/save_and_load.py:168: UserWarning: Setting `save_embedding_layers` to `True` as the embedding layer has been resized during finetuning.\n",
      "  warnings.warn(\n"
     ]
    },
    {
     "name": "stdout",
     "output_type": "stream",
     "text": [
      "{'loss': 1.7082, 'grad_norm': 0.31640625, 'learning_rate': 0.00016448534999577812, 'epoch': 0.4}\n",
      "{'loss': 1.7027, 'grad_norm': 0.25390625, 'learning_rate': 0.000164316473866419, 'epoch': 0.41}\n"
     ]
    },
    {
     "name": "stderr",
     "output_type": "stream",
     "text": [
      "/home/aeolian83/anaconda3/envs/llm_for_p311/lib/python3.11/site-packages/peft/utils/save_and_load.py:168: UserWarning: Setting `save_embedding_layers` to `True` as the embedding layer has been resized during finetuning.\n",
      "  warnings.warn(\n"
     ]
    },
    {
     "name": "stdout",
     "output_type": "stream",
     "text": [
      "{'loss': 1.7312, 'grad_norm': 0.51171875, 'learning_rate': 0.00016414759773705987, 'epoch': 0.41}\n",
      "{'loss': 1.7995, 'grad_norm': 1.40625, 'learning_rate': 0.00016397872160770077, 'epoch': 0.41}\n"
     ]
    },
    {
     "name": "stderr",
     "output_type": "stream",
     "text": [
      "/home/aeolian83/anaconda3/envs/llm_for_p311/lib/python3.11/site-packages/peft/utils/save_and_load.py:168: UserWarning: Setting `save_embedding_layers` to `True` as the embedding layer has been resized during finetuning.\n",
      "  warnings.warn(\n"
     ]
    },
    {
     "name": "stdout",
     "output_type": "stream",
     "text": [
      "{'loss': 1.8371, 'grad_norm': 0.18359375, 'learning_rate': 0.00016380984547834164, 'epoch': 0.41}\n",
      "{'loss': 1.6499, 'grad_norm': 0.240234375, 'learning_rate': 0.0001636409693489825, 'epoch': 0.41}\n"
     ]
    },
    {
     "name": "stderr",
     "output_type": "stream",
     "text": [
      "/home/aeolian83/anaconda3/envs/llm_for_p311/lib/python3.11/site-packages/peft/utils/save_and_load.py:168: UserWarning: Setting `save_embedding_layers` to `True` as the embedding layer has been resized during finetuning.\n",
      "  warnings.warn(\n"
     ]
    },
    {
     "name": "stdout",
     "output_type": "stream",
     "text": [
      "{'loss': 1.7974, 'grad_norm': 0.2890625, 'learning_rate': 0.00016347209321962344, 'epoch': 0.41}\n",
      "{'loss': 1.9647, 'grad_norm': 0.74609375, 'learning_rate': 0.0001633032170902643, 'epoch': 0.42}\n"
     ]
    },
    {
     "name": "stderr",
     "output_type": "stream",
     "text": [
      "/home/aeolian83/anaconda3/envs/llm_for_p311/lib/python3.11/site-packages/peft/utils/save_and_load.py:168: UserWarning: Setting `save_embedding_layers` to `True` as the embedding layer has been resized during finetuning.\n",
      "  warnings.warn(\n"
     ]
    },
    {
     "name": "stdout",
     "output_type": "stream",
     "text": [
      "{'loss': 1.5998, 'grad_norm': 1.5234375, 'learning_rate': 0.00016313434096090518, 'epoch': 0.42}\n",
      "{'loss': 1.74, 'grad_norm': 0.2421875, 'learning_rate': 0.00016296546483154608, 'epoch': 0.42}\n"
     ]
    },
    {
     "name": "stderr",
     "output_type": "stream",
     "text": [
      "/home/aeolian83/anaconda3/envs/llm_for_p311/lib/python3.11/site-packages/peft/utils/save_and_load.py:168: UserWarning: Setting `save_embedding_layers` to `True` as the embedding layer has been resized during finetuning.\n",
      "  warnings.warn(\n"
     ]
    },
    {
     "name": "stdout",
     "output_type": "stream",
     "text": [
      "{'loss': 1.6782, 'grad_norm': 0.255859375, 'learning_rate': 0.00016279658870218695, 'epoch': 0.42}\n",
      "{'loss': 2.0473, 'grad_norm': 0.294921875, 'learning_rate': 0.00016262771257282782, 'epoch': 0.42}\n"
     ]
    },
    {
     "name": "stderr",
     "output_type": "stream",
     "text": [
      "/home/aeolian83/anaconda3/envs/llm_for_p311/lib/python3.11/site-packages/peft/utils/save_and_load.py:168: UserWarning: Setting `save_embedding_layers` to `True` as the embedding layer has been resized during finetuning.\n",
      "  warnings.warn(\n"
     ]
    },
    {
     "name": "stdout",
     "output_type": "stream",
     "text": [
      "{'loss': 1.8471, 'grad_norm': 0.435546875, 'learning_rate': 0.00016245883644346872, 'epoch': 0.42}\n",
      "{'loss': 1.639, 'grad_norm': 1.2265625, 'learning_rate': 0.00016228996031410962, 'epoch': 0.43}\n"
     ]
    },
    {
     "name": "stderr",
     "output_type": "stream",
     "text": [
      "/home/aeolian83/anaconda3/envs/llm_for_p311/lib/python3.11/site-packages/peft/utils/save_and_load.py:168: UserWarning: Setting `save_embedding_layers` to `True` as the embedding layer has been resized during finetuning.\n",
      "  warnings.warn(\n"
     ]
    },
    {
     "name": "stdout",
     "output_type": "stream",
     "text": [
      "{'loss': 1.4638, 'grad_norm': 0.193359375, 'learning_rate': 0.0001621210841847505, 'epoch': 0.43}\n",
      "{'loss': 1.6024, 'grad_norm': 0.3359375, 'learning_rate': 0.00016195220805539137, 'epoch': 0.43}\n"
     ]
    },
    {
     "name": "stderr",
     "output_type": "stream",
     "text": [
      "/home/aeolian83/anaconda3/envs/llm_for_p311/lib/python3.11/site-packages/peft/utils/save_and_load.py:168: UserWarning: Setting `save_embedding_layers` to `True` as the embedding layer has been resized during finetuning.\n",
      "  warnings.warn(\n"
     ]
    },
    {
     "name": "stdout",
     "output_type": "stream",
     "text": [
      "{'loss': 1.8148, 'grad_norm': 0.26953125, 'learning_rate': 0.00016178333192603227, 'epoch': 0.43}\n",
      "{'loss': 1.6842, 'grad_norm': 0.392578125, 'learning_rate': 0.00016161445579667317, 'epoch': 0.43}\n"
     ]
    },
    {
     "name": "stderr",
     "output_type": "stream",
     "text": [
      "/home/aeolian83/anaconda3/envs/llm_for_p311/lib/python3.11/site-packages/peft/utils/save_and_load.py:168: UserWarning: Setting `save_embedding_layers` to `True` as the embedding layer has been resized during finetuning.\n",
      "  warnings.warn(\n"
     ]
    },
    {
     "name": "stdout",
     "output_type": "stream",
     "text": [
      "{'loss': 1.789, 'grad_norm': 0.921875, 'learning_rate': 0.00016144557966731404, 'epoch': 0.43}\n",
      "{'loss': 1.652, 'grad_norm': 0.232421875, 'learning_rate': 0.0001612767035379549, 'epoch': 0.44}\n"
     ]
    },
    {
     "name": "stderr",
     "output_type": "stream",
     "text": [
      "/home/aeolian83/anaconda3/envs/llm_for_p311/lib/python3.11/site-packages/peft/utils/save_and_load.py:168: UserWarning: Setting `save_embedding_layers` to `True` as the embedding layer has been resized during finetuning.\n",
      "  warnings.warn(\n"
     ]
    },
    {
     "name": "stdout",
     "output_type": "stream",
     "text": [
      "{'loss': 1.6148, 'grad_norm': 0.2216796875, 'learning_rate': 0.0001611078274085958, 'epoch': 0.44}\n",
      "{'loss': 1.8053, 'grad_norm': 0.4375, 'learning_rate': 0.00016093895127923668, 'epoch': 0.44}\n"
     ]
    },
    {
     "name": "stderr",
     "output_type": "stream",
     "text": [
      "/home/aeolian83/anaconda3/envs/llm_for_p311/lib/python3.11/site-packages/peft/utils/save_and_load.py:168: UserWarning: Setting `save_embedding_layers` to `True` as the embedding layer has been resized during finetuning.\n",
      "  warnings.warn(\n"
     ]
    },
    {
     "name": "stdout",
     "output_type": "stream",
     "text": [
      "{'loss': 1.6847, 'grad_norm': 0.53125, 'learning_rate': 0.00016077007514987755, 'epoch': 0.44}\n",
      "{'loss': 1.4911, 'grad_norm': 1.453125, 'learning_rate': 0.00016060119902051848, 'epoch': 0.44}\n"
     ]
    },
    {
     "name": "stderr",
     "output_type": "stream",
     "text": [
      "/home/aeolian83/anaconda3/envs/llm_for_p311/lib/python3.11/site-packages/peft/utils/save_and_load.py:168: UserWarning: Setting `save_embedding_layers` to `True` as the embedding layer has been resized during finetuning.\n",
      "  warnings.warn(\n"
     ]
    },
    {
     "name": "stdout",
     "output_type": "stream",
     "text": [
      "{'loss': 1.6938, 'grad_norm': 0.2353515625, 'learning_rate': 0.00016043232289115935, 'epoch': 0.44}\n",
      "{'loss': 1.7559, 'grad_norm': 0.2470703125, 'learning_rate': 0.00016026344676180022, 'epoch': 0.45}\n"
     ]
    },
    {
     "name": "stderr",
     "output_type": "stream",
     "text": [
      "/home/aeolian83/anaconda3/envs/llm_for_p311/lib/python3.11/site-packages/peft/utils/save_and_load.py:168: UserWarning: Setting `save_embedding_layers` to `True` as the embedding layer has been resized during finetuning.\n",
      "  warnings.warn(\n"
     ]
    },
    {
     "name": "stdout",
     "output_type": "stream",
     "text": [
      "{'loss': 1.7503, 'grad_norm': 0.34765625, 'learning_rate': 0.00016009457063244112, 'epoch': 0.45}\n",
      "{'loss': 1.591, 'grad_norm': 0.55859375, 'learning_rate': 0.000159925694503082, 'epoch': 0.45}\n"
     ]
    },
    {
     "name": "stderr",
     "output_type": "stream",
     "text": [
      "/home/aeolian83/anaconda3/envs/llm_for_p311/lib/python3.11/site-packages/peft/utils/save_and_load.py:168: UserWarning: Setting `save_embedding_layers` to `True` as the embedding layer has been resized during finetuning.\n",
      "  warnings.warn(\n"
     ]
    },
    {
     "name": "stdout",
     "output_type": "stream",
     "text": [
      "{'loss': 1.6423, 'grad_norm': 0.765625, 'learning_rate': 0.00015975681837372287, 'epoch': 0.45}\n",
      "{'loss': 1.7315, 'grad_norm': 0.193359375, 'learning_rate': 0.00015958794224436377, 'epoch': 0.45}\n"
     ]
    },
    {
     "name": "stderr",
     "output_type": "stream",
     "text": [
      "/home/aeolian83/anaconda3/envs/llm_for_p311/lib/python3.11/site-packages/peft/utils/save_and_load.py:168: UserWarning: Setting `save_embedding_layers` to `True` as the embedding layer has been resized during finetuning.\n",
      "  warnings.warn(\n"
     ]
    },
    {
     "name": "stdout",
     "output_type": "stream",
     "text": [
      "{'loss': 1.8052, 'grad_norm': 0.2255859375, 'learning_rate': 0.00015941906611500467, 'epoch': 0.45}\n",
      "{'loss': 1.8382, 'grad_norm': 0.322265625, 'learning_rate': 0.00015925018998564554, 'epoch': 0.46}\n"
     ]
    },
    {
     "name": "stderr",
     "output_type": "stream",
     "text": [
      "/home/aeolian83/anaconda3/envs/llm_for_p311/lib/python3.11/site-packages/peft/utils/save_and_load.py:168: UserWarning: Setting `save_embedding_layers` to `True` as the embedding layer has been resized during finetuning.\n",
      "  warnings.warn(\n"
     ]
    },
    {
     "name": "stdout",
     "output_type": "stream",
     "text": [
      "{'loss': 1.6239, 'grad_norm': 0.376953125, 'learning_rate': 0.0001590813138562864, 'epoch': 0.46}\n",
      "{'loss': 1.6214, 'grad_norm': 0.8671875, 'learning_rate': 0.0001589124377269273, 'epoch': 0.46}\n"
     ]
    },
    {
     "name": "stderr",
     "output_type": "stream",
     "text": [
      "/home/aeolian83/anaconda3/envs/llm_for_p311/lib/python3.11/site-packages/peft/utils/save_and_load.py:168: UserWarning: Setting `save_embedding_layers` to `True` as the embedding layer has been resized during finetuning.\n",
      "  warnings.warn(\n"
     ]
    },
    {
     "name": "stdout",
     "output_type": "stream",
     "text": [
      "{'loss': 1.6328, 'grad_norm': 0.2060546875, 'learning_rate': 0.0001587435615975682, 'epoch': 0.46}\n",
      "{'loss': 1.6495, 'grad_norm': 0.26171875, 'learning_rate': 0.00015857468546820908, 'epoch': 0.46}\n"
     ]
    },
    {
     "name": "stderr",
     "output_type": "stream",
     "text": [
      "/home/aeolian83/anaconda3/envs/llm_for_p311/lib/python3.11/site-packages/peft/utils/save_and_load.py:168: UserWarning: Setting `save_embedding_layers` to `True` as the embedding layer has been resized during finetuning.\n",
      "  warnings.warn(\n"
     ]
    },
    {
     "name": "stdout",
     "output_type": "stream",
     "text": [
      "{'loss': 1.7832, 'grad_norm': 0.30078125, 'learning_rate': 0.00015840580933884995, 'epoch': 0.46}\n",
      "{'loss': 1.8077, 'grad_norm': 0.498046875, 'learning_rate': 0.00015823693320949085, 'epoch': 0.47}\n"
     ]
    },
    {
     "name": "stderr",
     "output_type": "stream",
     "text": [
      "/home/aeolian83/anaconda3/envs/llm_for_p311/lib/python3.11/site-packages/peft/utils/save_and_load.py:168: UserWarning: Setting `save_embedding_layers` to `True` as the embedding layer has been resized during finetuning.\n",
      "  warnings.warn(\n"
     ]
    },
    {
     "name": "stdout",
     "output_type": "stream",
     "text": [
      "{'loss': 1.8269, 'grad_norm': 0.9296875, 'learning_rate': 0.00015806805708013172, 'epoch': 0.47}\n",
      "{'loss': 1.5418, 'grad_norm': 0.22265625, 'learning_rate': 0.0001578991809507726, 'epoch': 0.47}\n"
     ]
    },
    {
     "name": "stderr",
     "output_type": "stream",
     "text": [
      "/home/aeolian83/anaconda3/envs/llm_for_p311/lib/python3.11/site-packages/peft/utils/save_and_load.py:168: UserWarning: Setting `save_embedding_layers` to `True` as the embedding layer has been resized during finetuning.\n",
      "  warnings.warn(\n"
     ]
    },
    {
     "name": "stdout",
     "output_type": "stream",
     "text": [
      "{'loss': 1.7229, 'grad_norm': 0.30078125, 'learning_rate': 0.00015773030482141352, 'epoch': 0.47}\n",
      "{'loss': 1.7919, 'grad_norm': 0.29296875, 'learning_rate': 0.0001575614286920544, 'epoch': 0.47}\n"
     ]
    },
    {
     "name": "stderr",
     "output_type": "stream",
     "text": [
      "/home/aeolian83/anaconda3/envs/llm_for_p311/lib/python3.11/site-packages/peft/utils/save_and_load.py:168: UserWarning: Setting `save_embedding_layers` to `True` as the embedding layer has been resized during finetuning.\n",
      "  warnings.warn(\n"
     ]
    },
    {
     "name": "stdout",
     "output_type": "stream",
     "text": [
      "{'loss': 1.6655, 'grad_norm': 0.484375, 'learning_rate': 0.00015739255256269527, 'epoch': 0.47}\n",
      "{'loss': 1.6584, 'grad_norm': 0.5703125, 'learning_rate': 0.00015722367643333617, 'epoch': 0.48}\n"
     ]
    },
    {
     "name": "stderr",
     "output_type": "stream",
     "text": [
      "/home/aeolian83/anaconda3/envs/llm_for_p311/lib/python3.11/site-packages/peft/utils/save_and_load.py:168: UserWarning: Setting `save_embedding_layers` to `True` as the embedding layer has been resized during finetuning.\n",
      "  warnings.warn(\n"
     ]
    },
    {
     "name": "stdout",
     "output_type": "stream",
     "text": [
      "{'loss': 1.8866, 'grad_norm': 0.30859375, 'learning_rate': 0.00015705480030397704, 'epoch': 0.48}\n",
      "{'loss': 1.5224, 'grad_norm': 0.265625, 'learning_rate': 0.0001568859241746179, 'epoch': 0.48}\n"
     ]
    },
    {
     "name": "stderr",
     "output_type": "stream",
     "text": [
      "/home/aeolian83/anaconda3/envs/llm_for_p311/lib/python3.11/site-packages/peft/utils/save_and_load.py:168: UserWarning: Setting `save_embedding_layers` to `True` as the embedding layer has been resized during finetuning.\n",
      "  warnings.warn(\n"
     ]
    },
    {
     "name": "stdout",
     "output_type": "stream",
     "text": [
      "{'loss': 1.7338, 'grad_norm': 0.294921875, 'learning_rate': 0.0001567170480452588, 'epoch': 0.48}\n",
      "{'loss': 1.7546, 'grad_norm': 0.494140625, 'learning_rate': 0.0001565481719158997, 'epoch': 0.48}\n"
     ]
    },
    {
     "name": "stderr",
     "output_type": "stream",
     "text": [
      "/home/aeolian83/anaconda3/envs/llm_for_p311/lib/python3.11/site-packages/peft/utils/save_and_load.py:168: UserWarning: Setting `save_embedding_layers` to `True` as the embedding layer has been resized during finetuning.\n",
      "  warnings.warn(\n"
     ]
    },
    {
     "name": "stdout",
     "output_type": "stream",
     "text": [
      "{'loss': 1.4773, 'grad_norm': 1.8359375, 'learning_rate': 0.00015637929578654058, 'epoch': 0.48}\n",
      "{'loss': 1.7391, 'grad_norm': 0.27734375, 'learning_rate': 0.00015621041965718145, 'epoch': 0.48}\n"
     ]
    },
    {
     "name": "stderr",
     "output_type": "stream",
     "text": [
      "/home/aeolian83/anaconda3/envs/llm_for_p311/lib/python3.11/site-packages/peft/utils/save_and_load.py:168: UserWarning: Setting `save_embedding_layers` to `True` as the embedding layer has been resized during finetuning.\n",
      "  warnings.warn(\n"
     ]
    },
    {
     "name": "stdout",
     "output_type": "stream",
     "text": [
      "{'loss': 1.7937, 'grad_norm': 0.267578125, 'learning_rate': 0.00015604154352782235, 'epoch': 0.49}\n",
      "{'loss': 1.7253, 'grad_norm': 0.373046875, 'learning_rate': 0.00015587266739846325, 'epoch': 0.49}\n"
     ]
    },
    {
     "name": "stderr",
     "output_type": "stream",
     "text": [
      "/home/aeolian83/anaconda3/envs/llm_for_p311/lib/python3.11/site-packages/peft/utils/save_and_load.py:168: UserWarning: Setting `save_embedding_layers` to `True` as the embedding layer has been resized during finetuning.\n",
      "  warnings.warn(\n"
     ]
    },
    {
     "name": "stdout",
     "output_type": "stream",
     "text": [
      "{'loss': 1.7927, 'grad_norm': 0.41015625, 'learning_rate': 0.00015570379126910412, 'epoch': 0.49}\n",
      "{'loss': 1.6422, 'grad_norm': 1.3671875, 'learning_rate': 0.000155534915139745, 'epoch': 0.49}\n"
     ]
    },
    {
     "name": "stderr",
     "output_type": "stream",
     "text": [
      "/home/aeolian83/anaconda3/envs/llm_for_p311/lib/python3.11/site-packages/peft/utils/save_and_load.py:168: UserWarning: Setting `save_embedding_layers` to `True` as the embedding layer has been resized during finetuning.\n",
      "  warnings.warn(\n"
     ]
    },
    {
     "name": "stdout",
     "output_type": "stream",
     "text": [
      "{'loss': 1.6067, 'grad_norm': 0.203125, 'learning_rate': 0.0001553660390103859, 'epoch': 0.49}\n",
      "{'loss': 1.8982, 'grad_norm': 0.3046875, 'learning_rate': 0.00015519716288102677, 'epoch': 0.49}\n"
     ]
    },
    {
     "name": "stderr",
     "output_type": "stream",
     "text": [
      "/home/aeolian83/anaconda3/envs/llm_for_p311/lib/python3.11/site-packages/peft/utils/save_and_load.py:168: UserWarning: Setting `save_embedding_layers` to `True` as the embedding layer has been resized during finetuning.\n",
      "  warnings.warn(\n"
     ]
    },
    {
     "name": "stdout",
     "output_type": "stream",
     "text": [
      "{'loss': 1.8855, 'grad_norm': 0.4453125, 'learning_rate': 0.00015502828675166764, 'epoch': 0.5}\n",
      "{'loss': 1.9313, 'grad_norm': 0.5390625, 'learning_rate': 0.00015485941062230856, 'epoch': 0.5}\n"
     ]
    },
    {
     "name": "stderr",
     "output_type": "stream",
     "text": [
      "/home/aeolian83/anaconda3/envs/llm_for_p311/lib/python3.11/site-packages/peft/utils/save_and_load.py:168: UserWarning: Setting `save_embedding_layers` to `True` as the embedding layer has been resized during finetuning.\n",
      "  warnings.warn(\n"
     ]
    },
    {
     "name": "stdout",
     "output_type": "stream",
     "text": [
      "{'loss': 1.4722, 'grad_norm': 0.69140625, 'learning_rate': 0.00015469053449294944, 'epoch': 0.5}\n",
      "{'loss': 1.7771, 'grad_norm': 0.2890625, 'learning_rate': 0.0001545216583635903, 'epoch': 0.5}\n"
     ]
    },
    {
     "name": "stderr",
     "output_type": "stream",
     "text": [
      "/home/aeolian83/anaconda3/envs/llm_for_p311/lib/python3.11/site-packages/peft/utils/save_and_load.py:168: UserWarning: Setting `save_embedding_layers` to `True` as the embedding layer has been resized during finetuning.\n",
      "  warnings.warn(\n"
     ]
    },
    {
     "name": "stdout",
     "output_type": "stream",
     "text": [
      "{'loss': 1.805, 'grad_norm': 0.2353515625, 'learning_rate': 0.0001543527822342312, 'epoch': 0.5}\n",
      "{'loss': 1.766, 'grad_norm': 0.3671875, 'learning_rate': 0.00015418390610487208, 'epoch': 0.5}\n"
     ]
    },
    {
     "name": "stderr",
     "output_type": "stream",
     "text": [
      "/home/aeolian83/anaconda3/envs/llm_for_p311/lib/python3.11/site-packages/peft/utils/save_and_load.py:168: UserWarning: Setting `save_embedding_layers` to `True` as the embedding layer has been resized during finetuning.\n",
      "  warnings.warn(\n"
     ]
    },
    {
     "name": "stdout",
     "output_type": "stream",
     "text": [
      "{'loss': 1.9061, 'grad_norm': 0.54296875, 'learning_rate': 0.00015401502997551295, 'epoch': 0.51}\n",
      "{'loss': 1.6339, 'grad_norm': 1.2578125, 'learning_rate': 0.00015384615384615385, 'epoch': 0.51}\n"
     ]
    },
    {
     "name": "stderr",
     "output_type": "stream",
     "text": [
      "/home/aeolian83/anaconda3/envs/llm_for_p311/lib/python3.11/site-packages/peft/utils/save_and_load.py:168: UserWarning: Setting `save_embedding_layers` to `True` as the embedding layer has been resized during finetuning.\n",
      "  warnings.warn(\n"
     ]
    },
    {
     "name": "stdout",
     "output_type": "stream",
     "text": [
      "{'loss': 2.0164, 'grad_norm': 0.232421875, 'learning_rate': 0.00015367727771679475, 'epoch': 0.51}\n",
      "{'loss': 1.7943, 'grad_norm': 0.26171875, 'learning_rate': 0.00015350840158743562, 'epoch': 0.51}\n"
     ]
    },
    {
     "name": "stderr",
     "output_type": "stream",
     "text": [
      "/home/aeolian83/anaconda3/envs/llm_for_p311/lib/python3.11/site-packages/peft/utils/save_and_load.py:168: UserWarning: Setting `save_embedding_layers` to `True` as the embedding layer has been resized during finetuning.\n",
      "  warnings.warn(\n"
     ]
    },
    {
     "name": "stdout",
     "output_type": "stream",
     "text": [
      "{'loss': 1.7069, 'grad_norm': 0.42578125, 'learning_rate': 0.0001533395254580765, 'epoch': 0.51}\n",
      "{'loss': 1.5536, 'grad_norm': 0.45703125, 'learning_rate': 0.0001531706493287174, 'epoch': 0.51}\n"
     ]
    },
    {
     "name": "stderr",
     "output_type": "stream",
     "text": [
      "/home/aeolian83/anaconda3/envs/llm_for_p311/lib/python3.11/site-packages/peft/utils/save_and_load.py:168: UserWarning: Setting `save_embedding_layers` to `True` as the embedding layer has been resized during finetuning.\n",
      "  warnings.warn(\n"
     ]
    },
    {
     "name": "stdout",
     "output_type": "stream",
     "text": [
      "{'loss': 1.7275, 'grad_norm': 0.92578125, 'learning_rate': 0.00015300177319935827, 'epoch': 0.52}\n",
      "{'loss': 1.5854, 'grad_norm': 0.25390625, 'learning_rate': 0.00015283289706999917, 'epoch': 0.52}\n"
     ]
    },
    {
     "name": "stderr",
     "output_type": "stream",
     "text": [
      "/home/aeolian83/anaconda3/envs/llm_for_p311/lib/python3.11/site-packages/peft/utils/save_and_load.py:168: UserWarning: Setting `save_embedding_layers` to `True` as the embedding layer has been resized during finetuning.\n",
      "  warnings.warn(\n"
     ]
    },
    {
     "name": "stdout",
     "output_type": "stream",
     "text": [
      "{'loss': 1.6048, 'grad_norm': 0.2470703125, 'learning_rate': 0.00015266402094064006, 'epoch': 0.52}\n",
      "{'loss': 1.8852, 'grad_norm': 0.373046875, 'learning_rate': 0.00015249514481128094, 'epoch': 0.52}\n"
     ]
    },
    {
     "name": "stderr",
     "output_type": "stream",
     "text": [
      "/home/aeolian83/anaconda3/envs/llm_for_p311/lib/python3.11/site-packages/peft/utils/save_and_load.py:168: UserWarning: Setting `save_embedding_layers` to `True` as the embedding layer has been resized during finetuning.\n",
      "  warnings.warn(\n"
     ]
    },
    {
     "name": "stdout",
     "output_type": "stream",
     "text": [
      "{'loss': 1.738, 'grad_norm': 0.43359375, 'learning_rate': 0.0001523262686819218, 'epoch': 0.52}\n",
      "{'loss': 1.7285, 'grad_norm': 0.6484375, 'learning_rate': 0.00015215739255256268, 'epoch': 0.52}\n"
     ]
    },
    {
     "name": "stderr",
     "output_type": "stream",
     "text": [
      "/home/aeolian83/anaconda3/envs/llm_for_p311/lib/python3.11/site-packages/peft/utils/save_and_load.py:168: UserWarning: Setting `save_embedding_layers` to `True` as the embedding layer has been resized during finetuning.\n",
      "  warnings.warn(\n"
     ]
    },
    {
     "name": "stdout",
     "output_type": "stream",
     "text": [
      "{'loss': 1.7084, 'grad_norm': 0.189453125, 'learning_rate': 0.0001519885164232036, 'epoch': 0.53}\n",
      "{'loss': 1.7484, 'grad_norm': 0.2412109375, 'learning_rate': 0.00015181964029384448, 'epoch': 0.53}\n"
     ]
    },
    {
     "name": "stderr",
     "output_type": "stream",
     "text": [
      "/home/aeolian83/anaconda3/envs/llm_for_p311/lib/python3.11/site-packages/peft/utils/save_and_load.py:168: UserWarning: Setting `save_embedding_layers` to `True` as the embedding layer has been resized during finetuning.\n",
      "  warnings.warn(\n"
     ]
    },
    {
     "name": "stdout",
     "output_type": "stream",
     "text": [
      "{'loss': 1.7919, 'grad_norm': 0.2734375, 'learning_rate': 0.00015165076416448535, 'epoch': 0.53}\n",
      "{'loss': 1.8938, 'grad_norm': 0.455078125, 'learning_rate': 0.00015148188803512625, 'epoch': 0.53}\n"
     ]
    },
    {
     "name": "stderr",
     "output_type": "stream",
     "text": [
      "/home/aeolian83/anaconda3/envs/llm_for_p311/lib/python3.11/site-packages/peft/utils/save_and_load.py:168: UserWarning: Setting `save_embedding_layers` to `True` as the embedding layer has been resized during finetuning.\n",
      "  warnings.warn(\n"
     ]
    },
    {
     "name": "stdout",
     "output_type": "stream",
     "text": [
      "{'loss': 1.5878, 'grad_norm': 0.81640625, 'learning_rate': 0.00015131301190576712, 'epoch': 0.53}\n",
      "{'loss': 1.6804, 'grad_norm': 0.267578125, 'learning_rate': 0.000151144135776408, 'epoch': 0.53}\n"
     ]
    },
    {
     "name": "stderr",
     "output_type": "stream",
     "text": [
      "/home/aeolian83/anaconda3/envs/llm_for_p311/lib/python3.11/site-packages/peft/utils/save_and_load.py:168: UserWarning: Setting `save_embedding_layers` to `True` as the embedding layer has been resized during finetuning.\n",
      "  warnings.warn(\n"
     ]
    },
    {
     "name": "stdout",
     "output_type": "stream",
     "text": [
      "{'loss': 1.6114, 'grad_norm': 0.287109375, 'learning_rate': 0.0001509752596470489, 'epoch': 0.54}\n",
      "{'loss': 1.8666, 'grad_norm': 0.390625, 'learning_rate': 0.0001508063835176898, 'epoch': 0.54}\n"
     ]
    },
    {
     "name": "stderr",
     "output_type": "stream",
     "text": [
      "/home/aeolian83/anaconda3/envs/llm_for_p311/lib/python3.11/site-packages/peft/utils/save_and_load.py:168: UserWarning: Setting `save_embedding_layers` to `True` as the embedding layer has been resized during finetuning.\n",
      "  warnings.warn(\n"
     ]
    },
    {
     "name": "stdout",
     "output_type": "stream",
     "text": [
      "{'loss': 2.0339, 'grad_norm': 0.5, 'learning_rate': 0.00015063750738833067, 'epoch': 0.54}\n",
      "{'loss': 1.8271, 'grad_norm': 1.0625, 'learning_rate': 0.00015046863125897154, 'epoch': 0.54}\n"
     ]
    },
    {
     "name": "stderr",
     "output_type": "stream",
     "text": [
      "/home/aeolian83/anaconda3/envs/llm_for_p311/lib/python3.11/site-packages/peft/utils/save_and_load.py:168: UserWarning: Setting `save_embedding_layers` to `True` as the embedding layer has been resized during finetuning.\n",
      "  warnings.warn(\n"
     ]
    },
    {
     "name": "stdout",
     "output_type": "stream",
     "text": [
      "{'loss': 1.7045, 'grad_norm': 0.28515625, 'learning_rate': 0.00015029975512961244, 'epoch': 0.54}\n",
      "{'loss': 1.612, 'grad_norm': 0.23046875, 'learning_rate': 0.0001501308790002533, 'epoch': 0.54}\n"
     ]
    },
    {
     "name": "stderr",
     "output_type": "stream",
     "text": [
      "/home/aeolian83/anaconda3/envs/llm_for_p311/lib/python3.11/site-packages/peft/utils/save_and_load.py:168: UserWarning: Setting `save_embedding_layers` to `True` as the embedding layer has been resized during finetuning.\n",
      "  warnings.warn(\n"
     ]
    },
    {
     "name": "stdout",
     "output_type": "stream",
     "text": [
      "{'loss': 1.6936, 'grad_norm': 0.32421875, 'learning_rate': 0.0001499620028708942, 'epoch': 0.55}\n",
      "{'loss': 1.7647, 'grad_norm': 0.5625, 'learning_rate': 0.0001497931267415351, 'epoch': 0.55}\n"
     ]
    },
    {
     "name": "stderr",
     "output_type": "stream",
     "text": [
      "/home/aeolian83/anaconda3/envs/llm_for_p311/lib/python3.11/site-packages/peft/utils/save_and_load.py:168: UserWarning: Setting `save_embedding_layers` to `True` as the embedding layer has been resized during finetuning.\n",
      "  warnings.warn(\n"
     ]
    },
    {
     "name": "stdout",
     "output_type": "stream",
     "text": [
      "{'loss': 1.4466, 'grad_norm': 1.0078125, 'learning_rate': 0.00014962425061217598, 'epoch': 0.55}\n",
      "{'loss': 1.5536, 'grad_norm': 0.263671875, 'learning_rate': 0.00014945537448281685, 'epoch': 0.55}\n"
     ]
    },
    {
     "name": "stderr",
     "output_type": "stream",
     "text": [
      "/home/aeolian83/anaconda3/envs/llm_for_p311/lib/python3.11/site-packages/peft/utils/save_and_load.py:168: UserWarning: Setting `save_embedding_layers` to `True` as the embedding layer has been resized during finetuning.\n",
      "  warnings.warn(\n"
     ]
    },
    {
     "name": "stdout",
     "output_type": "stream",
     "text": [
      "{'loss': 1.7037, 'grad_norm': 0.23046875, 'learning_rate': 0.00014928649835345775, 'epoch': 0.55}\n",
      "{'loss': 1.6673, 'grad_norm': 0.34375, 'learning_rate': 0.00014911762222409865, 'epoch': 0.55}\n"
     ]
    },
    {
     "name": "stderr",
     "output_type": "stream",
     "text": [
      "/home/aeolian83/anaconda3/envs/llm_for_p311/lib/python3.11/site-packages/peft/utils/save_and_load.py:168: UserWarning: Setting `save_embedding_layers` to `True` as the embedding layer has been resized during finetuning.\n",
      "  warnings.warn(\n"
     ]
    },
    {
     "name": "stdout",
     "output_type": "stream",
     "text": [
      "{'loss': 1.8363, 'grad_norm': 0.34375, 'learning_rate': 0.00014894874609473952, 'epoch': 0.56}\n",
      "{'loss': 1.4677, 'grad_norm': 0.55078125, 'learning_rate': 0.0001487798699653804, 'epoch': 0.56}\n"
     ]
    },
    {
     "name": "stderr",
     "output_type": "stream",
     "text": [
      "/home/aeolian83/anaconda3/envs/llm_for_p311/lib/python3.11/site-packages/peft/utils/save_and_load.py:168: UserWarning: Setting `save_embedding_layers` to `True` as the embedding layer has been resized during finetuning.\n",
      "  warnings.warn(\n"
     ]
    },
    {
     "name": "stdout",
     "output_type": "stream",
     "text": [
      "{'loss': 1.6274, 'grad_norm': 0.2109375, 'learning_rate': 0.0001486109938360213, 'epoch': 0.56}\n",
      "{'loss': 1.7082, 'grad_norm': 0.25390625, 'learning_rate': 0.00014844211770666217, 'epoch': 0.56}\n"
     ]
    },
    {
     "name": "stderr",
     "output_type": "stream",
     "text": [
      "/home/aeolian83/anaconda3/envs/llm_for_p311/lib/python3.11/site-packages/peft/utils/save_and_load.py:168: UserWarning: Setting `save_embedding_layers` to `True` as the embedding layer has been resized during finetuning.\n",
      "  warnings.warn(\n"
     ]
    },
    {
     "name": "stdout",
     "output_type": "stream",
     "text": [
      "{'loss': 1.7864, 'grad_norm': 0.328125, 'learning_rate': 0.00014827324157730304, 'epoch': 0.56}\n",
      "{'loss': 1.8922, 'grad_norm': 0.3984375, 'learning_rate': 0.00014810436544794394, 'epoch': 0.56}\n"
     ]
    },
    {
     "name": "stderr",
     "output_type": "stream",
     "text": [
      "/home/aeolian83/anaconda3/envs/llm_for_p311/lib/python3.11/site-packages/peft/utils/save_and_load.py:168: UserWarning: Setting `save_embedding_layers` to `True` as the embedding layer has been resized during finetuning.\n",
      "  warnings.warn(\n"
     ]
    },
    {
     "name": "stdout",
     "output_type": "stream",
     "text": [
      "{'loss': 1.6918, 'grad_norm': 1.25, 'learning_rate': 0.00014793548931858484, 'epoch': 0.57}\n",
      "{'loss': 1.7842, 'grad_norm': 0.2734375, 'learning_rate': 0.0001477666131892257, 'epoch': 0.57}\n"
     ]
    },
    {
     "name": "stderr",
     "output_type": "stream",
     "text": [
      "/home/aeolian83/anaconda3/envs/llm_for_p311/lib/python3.11/site-packages/peft/utils/save_and_load.py:168: UserWarning: Setting `save_embedding_layers` to `True` as the embedding layer has been resized during finetuning.\n",
      "  warnings.warn(\n"
     ]
    },
    {
     "name": "stdout",
     "output_type": "stream",
     "text": [
      "{'loss': 1.7613, 'grad_norm': 0.23828125, 'learning_rate': 0.00014759773705986658, 'epoch': 0.57}\n",
      "{'loss': 1.7742, 'grad_norm': 0.38671875, 'learning_rate': 0.00014742886093050748, 'epoch': 0.57}\n"
     ]
    },
    {
     "name": "stderr",
     "output_type": "stream",
     "text": [
      "/home/aeolian83/anaconda3/envs/llm_for_p311/lib/python3.11/site-packages/peft/utils/save_and_load.py:168: UserWarning: Setting `save_embedding_layers` to `True` as the embedding layer has been resized during finetuning.\n",
      "  warnings.warn(\n"
     ]
    },
    {
     "name": "stdout",
     "output_type": "stream",
     "text": [
      "{'loss': 1.9157, 'grad_norm': 0.369140625, 'learning_rate': 0.00014725998480114835, 'epoch': 0.57}\n",
      "{'loss': 1.6648, 'grad_norm': 0.83984375, 'learning_rate': 0.00014709110867178925, 'epoch': 0.57}\n"
     ]
    },
    {
     "name": "stderr",
     "output_type": "stream",
     "text": [
      "/home/aeolian83/anaconda3/envs/llm_for_p311/lib/python3.11/site-packages/peft/utils/save_and_load.py:168: UserWarning: Setting `save_embedding_layers` to `True` as the embedding layer has been resized during finetuning.\n",
      "  warnings.warn(\n"
     ]
    },
    {
     "name": "stdout",
     "output_type": "stream",
     "text": [
      "{'loss': 1.8052, 'grad_norm': 0.1904296875, 'learning_rate': 0.00014692223254243015, 'epoch': 0.57}\n",
      "{'loss': 1.8856, 'grad_norm': 0.255859375, 'learning_rate': 0.00014675335641307102, 'epoch': 0.58}\n"
     ]
    },
    {
     "name": "stderr",
     "output_type": "stream",
     "text": [
      "/home/aeolian83/anaconda3/envs/llm_for_p311/lib/python3.11/site-packages/peft/utils/save_and_load.py:168: UserWarning: Setting `save_embedding_layers` to `True` as the embedding layer has been resized during finetuning.\n",
      "  warnings.warn(\n"
     ]
    },
    {
     "name": "stdout",
     "output_type": "stream",
     "text": [
      "{'loss': 1.7516, 'grad_norm': 0.265625, 'learning_rate': 0.0001465844802837119, 'epoch': 0.58}\n",
      "{'loss': 1.7466, 'grad_norm': 0.42578125, 'learning_rate': 0.0001464156041543528, 'epoch': 0.58}\n"
     ]
    },
    {
     "name": "stderr",
     "output_type": "stream",
     "text": [
      "/home/aeolian83/anaconda3/envs/llm_for_p311/lib/python3.11/site-packages/peft/utils/save_and_load.py:168: UserWarning: Setting `save_embedding_layers` to `True` as the embedding layer has been resized during finetuning.\n",
      "  warnings.warn(\n"
     ]
    },
    {
     "name": "stdout",
     "output_type": "stream",
     "text": [
      "{'loss': 1.5038, 'grad_norm': 0.76171875, 'learning_rate': 0.0001462467280249937, 'epoch': 0.58}\n",
      "{'loss': 1.9527, 'grad_norm': 0.28515625, 'learning_rate': 0.00014607785189563456, 'epoch': 0.58}\n"
     ]
    },
    {
     "name": "stderr",
     "output_type": "stream",
     "text": [
      "/home/aeolian83/anaconda3/envs/llm_for_p311/lib/python3.11/site-packages/peft/utils/save_and_load.py:168: UserWarning: Setting `save_embedding_layers` to `True` as the embedding layer has been resized during finetuning.\n",
      "  warnings.warn(\n"
     ]
    },
    {
     "name": "stdout",
     "output_type": "stream",
     "text": [
      "{'loss': 1.6896, 'grad_norm': 0.263671875, 'learning_rate': 0.00014590897576627544, 'epoch': 0.58}\n",
      "{'loss': 1.8423, 'grad_norm': 0.384765625, 'learning_rate': 0.00014574009963691634, 'epoch': 0.59}\n"
     ]
    },
    {
     "name": "stderr",
     "output_type": "stream",
     "text": [
      "/home/aeolian83/anaconda3/envs/llm_for_p311/lib/python3.11/site-packages/peft/utils/save_and_load.py:168: UserWarning: Setting `save_embedding_layers` to `True` as the embedding layer has been resized during finetuning.\n",
      "  warnings.warn(\n"
     ]
    },
    {
     "name": "stdout",
     "output_type": "stream",
     "text": [
      "{'loss': 1.9508, 'grad_norm': 0.435546875, 'learning_rate': 0.0001455712235075572, 'epoch': 0.59}\n",
      "{'loss': 1.8039, 'grad_norm': 1.0546875, 'learning_rate': 0.00014540234737819808, 'epoch': 0.59}\n"
     ]
    },
    {
     "name": "stderr",
     "output_type": "stream",
     "text": [
      "/home/aeolian83/anaconda3/envs/llm_for_p311/lib/python3.11/site-packages/peft/utils/save_and_load.py:168: UserWarning: Setting `save_embedding_layers` to `True` as the embedding layer has been resized during finetuning.\n",
      "  warnings.warn(\n"
     ]
    },
    {
     "name": "stdout",
     "output_type": "stream",
     "text": [
      "{'loss': 1.5622, 'grad_norm': 0.255859375, 'learning_rate': 0.00014523347124883898, 'epoch': 0.59}\n",
      "{'loss': 1.6637, 'grad_norm': 0.24609375, 'learning_rate': 0.00014506459511947988, 'epoch': 0.59}\n"
     ]
    },
    {
     "name": "stderr",
     "output_type": "stream",
     "text": [
      "/home/aeolian83/anaconda3/envs/llm_for_p311/lib/python3.11/site-packages/peft/utils/save_and_load.py:168: UserWarning: Setting `save_embedding_layers` to `True` as the embedding layer has been resized during finetuning.\n",
      "  warnings.warn(\n"
     ]
    },
    {
     "name": "stdout",
     "output_type": "stream",
     "text": [
      "{'loss': 1.6306, 'grad_norm': 0.298828125, 'learning_rate': 0.00014489571899012075, 'epoch': 0.59}\n",
      "{'loss': 1.8504, 'grad_norm': 0.47265625, 'learning_rate': 0.00014472684286076162, 'epoch': 0.6}\n"
     ]
    },
    {
     "name": "stderr",
     "output_type": "stream",
     "text": [
      "/home/aeolian83/anaconda3/envs/llm_for_p311/lib/python3.11/site-packages/peft/utils/save_and_load.py:168: UserWarning: Setting `save_embedding_layers` to `True` as the embedding layer has been resized during finetuning.\n",
      "  warnings.warn(\n"
     ]
    },
    {
     "name": "stdout",
     "output_type": "stream",
     "text": [
      "{'loss': 1.5599, 'grad_norm': 1.421875, 'learning_rate': 0.00014455796673140252, 'epoch': 0.6}\n",
      "{'loss': 1.7028, 'grad_norm': 0.251953125, 'learning_rate': 0.0001443890906020434, 'epoch': 0.6}\n"
     ]
    },
    {
     "name": "stderr",
     "output_type": "stream",
     "text": [
      "/home/aeolian83/anaconda3/envs/llm_for_p311/lib/python3.11/site-packages/peft/utils/save_and_load.py:168: UserWarning: Setting `save_embedding_layers` to `True` as the embedding layer has been resized during finetuning.\n",
      "  warnings.warn(\n"
     ]
    },
    {
     "name": "stdout",
     "output_type": "stream",
     "text": [
      "{'loss': 1.7417, 'grad_norm': 0.228515625, 'learning_rate': 0.0001442202144726843, 'epoch': 0.6}\n",
      "{'loss': 1.9292, 'grad_norm': 0.392578125, 'learning_rate': 0.0001440513383433252, 'epoch': 0.6}\n"
     ]
    },
    {
     "name": "stderr",
     "output_type": "stream",
     "text": [
      "/home/aeolian83/anaconda3/envs/llm_for_p311/lib/python3.11/site-packages/peft/utils/save_and_load.py:168: UserWarning: Setting `save_embedding_layers` to `True` as the embedding layer has been resized during finetuning.\n",
      "  warnings.warn(\n"
     ]
    },
    {
     "name": "stdout",
     "output_type": "stream",
     "text": [
      "{'loss': 1.9721, 'grad_norm': 0.515625, 'learning_rate': 0.00014388246221396606, 'epoch': 0.6}\n",
      "{'loss': 1.6839, 'grad_norm': 0.87109375, 'learning_rate': 0.00014371358608460694, 'epoch': 0.61}\n"
     ]
    },
    {
     "name": "stderr",
     "output_type": "stream",
     "text": [
      "/home/aeolian83/anaconda3/envs/llm_for_p311/lib/python3.11/site-packages/peft/utils/save_and_load.py:168: UserWarning: Setting `save_embedding_layers` to `True` as the embedding layer has been resized during finetuning.\n",
      "  warnings.warn(\n"
     ]
    },
    {
     "name": "stdout",
     "output_type": "stream",
     "text": [
      "{'loss': 1.6801, 'grad_norm': 0.26171875, 'learning_rate': 0.00014354470995524784, 'epoch': 0.61}\n",
      "{'loss': 1.6082, 'grad_norm': 0.21484375, 'learning_rate': 0.00014337583382588874, 'epoch': 0.61}\n"
     ]
    },
    {
     "name": "stderr",
     "output_type": "stream",
     "text": [
      "/home/aeolian83/anaconda3/envs/llm_for_p311/lib/python3.11/site-packages/peft/utils/save_and_load.py:168: UserWarning: Setting `save_embedding_layers` to `True` as the embedding layer has been resized during finetuning.\n",
      "  warnings.warn(\n"
     ]
    },
    {
     "name": "stdout",
     "output_type": "stream",
     "text": [
      "{'loss': 1.7812, 'grad_norm': 0.35546875, 'learning_rate': 0.0001432069576965296, 'epoch': 0.61}\n",
      "{'loss': 2.0233, 'grad_norm': 0.431640625, 'learning_rate': 0.00014303808156717048, 'epoch': 0.61}\n"
     ]
    },
    {
     "name": "stderr",
     "output_type": "stream",
     "text": [
      "/home/aeolian83/anaconda3/envs/llm_for_p311/lib/python3.11/site-packages/peft/utils/save_and_load.py:168: UserWarning: Setting `save_embedding_layers` to `True` as the embedding layer has been resized during finetuning.\n",
      "  warnings.warn(\n"
     ]
    },
    {
     "name": "stdout",
     "output_type": "stream",
     "text": [
      "{'loss': 1.5301, 'grad_norm': 1.2890625, 'learning_rate': 0.00014286920543781138, 'epoch': 0.61}\n",
      "{'loss': 1.6939, 'grad_norm': 0.279296875, 'learning_rate': 0.00014270032930845225, 'epoch': 0.62}\n"
     ]
    },
    {
     "name": "stderr",
     "output_type": "stream",
     "text": [
      "/home/aeolian83/anaconda3/envs/llm_for_p311/lib/python3.11/site-packages/peft/utils/save_and_load.py:168: UserWarning: Setting `save_embedding_layers` to `True` as the embedding layer has been resized during finetuning.\n",
      "  warnings.warn(\n"
     ]
    },
    {
     "name": "stdout",
     "output_type": "stream",
     "text": [
      "{'loss': 1.7516, 'grad_norm': 0.265625, 'learning_rate': 0.00014253145317909312, 'epoch': 0.62}\n",
      "{'loss': 1.7045, 'grad_norm': 0.31640625, 'learning_rate': 0.00014236257704973405, 'epoch': 0.62}\n"
     ]
    },
    {
     "name": "stderr",
     "output_type": "stream",
     "text": [
      "/home/aeolian83/anaconda3/envs/llm_for_p311/lib/python3.11/site-packages/peft/utils/save_and_load.py:168: UserWarning: Setting `save_embedding_layers` to `True` as the embedding layer has been resized during finetuning.\n",
      "  warnings.warn(\n"
     ]
    },
    {
     "name": "stdout",
     "output_type": "stream",
     "text": [
      "{'loss': 1.5905, 'grad_norm': 0.4140625, 'learning_rate': 0.00014219370092037492, 'epoch': 0.62}\n",
      "{'loss': 1.7333, 'grad_norm': 1.03125, 'learning_rate': 0.0001420248247910158, 'epoch': 0.62}\n"
     ]
    },
    {
     "name": "stderr",
     "output_type": "stream",
     "text": [
      "/home/aeolian83/anaconda3/envs/llm_for_p311/lib/python3.11/site-packages/peft/utils/save_and_load.py:168: UserWarning: Setting `save_embedding_layers` to `True` as the embedding layer has been resized during finetuning.\n",
      "  warnings.warn(\n"
     ]
    },
    {
     "name": "stdout",
     "output_type": "stream",
     "text": [
      "{'loss': 1.7318, 'grad_norm': 0.1943359375, 'learning_rate': 0.00014185594866165667, 'epoch': 0.62}\n",
      "{'loss': 1.7319, 'grad_norm': 0.2412109375, 'learning_rate': 0.00014168707253229757, 'epoch': 0.63}\n"
     ]
    },
    {
     "name": "stderr",
     "output_type": "stream",
     "text": [
      "/home/aeolian83/anaconda3/envs/llm_for_p311/lib/python3.11/site-packages/peft/utils/save_and_load.py:168: UserWarning: Setting `save_embedding_layers` to `True` as the embedding layer has been resized during finetuning.\n",
      "  warnings.warn(\n"
     ]
    },
    {
     "name": "stdout",
     "output_type": "stream",
     "text": [
      "{'loss': 1.7297, 'grad_norm': 0.40625, 'learning_rate': 0.00014151819640293844, 'epoch': 0.63}\n",
      "{'loss': 1.6433, 'grad_norm': 0.55078125, 'learning_rate': 0.00014134932027357934, 'epoch': 0.63}\n"
     ]
    },
    {
     "name": "stderr",
     "output_type": "stream",
     "text": [
      "/home/aeolian83/anaconda3/envs/llm_for_p311/lib/python3.11/site-packages/peft/utils/save_and_load.py:168: UserWarning: Setting `save_embedding_layers` to `True` as the embedding layer has been resized during finetuning.\n",
      "  warnings.warn(\n"
     ]
    },
    {
     "name": "stdout",
     "output_type": "stream",
     "text": [
      "{'loss': 1.9053, 'grad_norm': 1.6875, 'learning_rate': 0.00014118044414422024, 'epoch': 0.63}\n",
      "{'loss': 1.5909, 'grad_norm': 0.26171875, 'learning_rate': 0.0001410115680148611, 'epoch': 0.63}\n"
     ]
    },
    {
     "name": "stderr",
     "output_type": "stream",
     "text": [
      "/home/aeolian83/anaconda3/envs/llm_for_p311/lib/python3.11/site-packages/peft/utils/save_and_load.py:168: UserWarning: Setting `save_embedding_layers` to `True` as the embedding layer has been resized during finetuning.\n",
      "  warnings.warn(\n"
     ]
    },
    {
     "name": "stdout",
     "output_type": "stream",
     "text": [
      "{'loss': 1.6548, 'grad_norm': 0.2412109375, 'learning_rate': 0.00014084269188550198, 'epoch': 0.63}\n",
      "{'loss': 1.7404, 'grad_norm': 0.369140625, 'learning_rate': 0.00014067381575614288, 'epoch': 0.64}\n"
     ]
    },
    {
     "name": "stderr",
     "output_type": "stream",
     "text": [
      "/home/aeolian83/anaconda3/envs/llm_for_p311/lib/python3.11/site-packages/peft/utils/save_and_load.py:168: UserWarning: Setting `save_embedding_layers` to `True` as the embedding layer has been resized during finetuning.\n",
      "  warnings.warn(\n"
     ]
    },
    {
     "name": "stdout",
     "output_type": "stream",
     "text": [
      "{'loss': 1.8408, 'grad_norm': 0.361328125, 'learning_rate': 0.00014050493962678378, 'epoch': 0.64}\n",
      "{'loss': 1.4912, 'grad_norm': 0.8046875, 'learning_rate': 0.00014033606349742465, 'epoch': 0.64}\n"
     ]
    },
    {
     "name": "stderr",
     "output_type": "stream",
     "text": [
      "/home/aeolian83/anaconda3/envs/llm_for_p311/lib/python3.11/site-packages/peft/utils/save_and_load.py:168: UserWarning: Setting `save_embedding_layers` to `True` as the embedding layer has been resized during finetuning.\n",
      "  warnings.warn(\n"
     ]
    },
    {
     "name": "stdout",
     "output_type": "stream",
     "text": [
      "{'loss': 1.605, 'grad_norm': 0.22265625, 'learning_rate': 0.00014016718736806552, 'epoch': 0.64}\n",
      "{'loss': 1.6556, 'grad_norm': 0.294921875, 'learning_rate': 0.00013999831123870642, 'epoch': 0.64}\n"
     ]
    },
    {
     "name": "stderr",
     "output_type": "stream",
     "text": [
      "/home/aeolian83/anaconda3/envs/llm_for_p311/lib/python3.11/site-packages/peft/utils/save_and_load.py:168: UserWarning: Setting `save_embedding_layers` to `True` as the embedding layer has been resized during finetuning.\n",
      "  warnings.warn(\n"
     ]
    },
    {
     "name": "stdout",
     "output_type": "stream",
     "text": [
      "{'loss': 1.6786, 'grad_norm': 0.33203125, 'learning_rate': 0.0001398294351093473, 'epoch': 0.64}\n",
      "{'loss': 1.7375, 'grad_norm': 0.369140625, 'learning_rate': 0.00013966055897998817, 'epoch': 0.65}\n"
     ]
    },
    {
     "name": "stderr",
     "output_type": "stream",
     "text": [
      "/home/aeolian83/anaconda3/envs/llm_for_p311/lib/python3.11/site-packages/peft/utils/save_and_load.py:168: UserWarning: Setting `save_embedding_layers` to `True` as the embedding layer has been resized during finetuning.\n",
      "  warnings.warn(\n"
     ]
    },
    {
     "name": "stdout",
     "output_type": "stream",
     "text": [
      "{'loss': 1.7098, 'grad_norm': 0.9921875, 'learning_rate': 0.0001394916828506291, 'epoch': 0.65}\n",
      "{'loss': 1.8907, 'grad_norm': 0.185546875, 'learning_rate': 0.00013932280672126996, 'epoch': 0.65}\n"
     ]
    },
    {
     "name": "stderr",
     "output_type": "stream",
     "text": [
      "/home/aeolian83/anaconda3/envs/llm_for_p311/lib/python3.11/site-packages/peft/utils/save_and_load.py:168: UserWarning: Setting `save_embedding_layers` to `True` as the embedding layer has been resized during finetuning.\n",
      "  warnings.warn(\n"
     ]
    },
    {
     "name": "stdout",
     "output_type": "stream",
     "text": [
      "{'loss': 1.7438, 'grad_norm': 0.234375, 'learning_rate': 0.00013915393059191084, 'epoch': 0.65}\n",
      "{'loss': 1.7992, 'grad_norm': 0.291015625, 'learning_rate': 0.00013898505446255174, 'epoch': 0.65}\n"
     ]
    },
    {
     "name": "stderr",
     "output_type": "stream",
     "text": [
      "/home/aeolian83/anaconda3/envs/llm_for_p311/lib/python3.11/site-packages/peft/utils/save_and_load.py:168: UserWarning: Setting `save_embedding_layers` to `True` as the embedding layer has been resized during finetuning.\n",
      "  warnings.warn(\n"
     ]
    },
    {
     "name": "stdout",
     "output_type": "stream",
     "text": [
      "{'loss': 1.8499, 'grad_norm': 0.341796875, 'learning_rate': 0.0001388161783331926, 'epoch': 0.65}\n",
      "{'loss': 1.6185, 'grad_norm': 0.6171875, 'learning_rate': 0.00013864730220383348, 'epoch': 0.66}\n"
     ]
    },
    {
     "name": "stderr",
     "output_type": "stream",
     "text": [
      "/home/aeolian83/anaconda3/envs/llm_for_p311/lib/python3.11/site-packages/peft/utils/save_and_load.py:168: UserWarning: Setting `save_embedding_layers` to `True` as the embedding layer has been resized during finetuning.\n",
      "  warnings.warn(\n"
     ]
    },
    {
     "name": "stdout",
     "output_type": "stream",
     "text": [
      "{'loss': 1.8523, 'grad_norm': 0.19921875, 'learning_rate': 0.00013847842607447438, 'epoch': 0.66}\n",
      "{'loss': 1.6872, 'grad_norm': 0.26171875, 'learning_rate': 0.00013830954994511528, 'epoch': 0.66}\n"
     ]
    },
    {
     "name": "stderr",
     "output_type": "stream",
     "text": [
      "/home/aeolian83/anaconda3/envs/llm_for_p311/lib/python3.11/site-packages/peft/utils/save_and_load.py:168: UserWarning: Setting `save_embedding_layers` to `True` as the embedding layer has been resized during finetuning.\n",
      "  warnings.warn(\n"
     ]
    },
    {
     "name": "stdout",
     "output_type": "stream",
     "text": [
      "{'loss': 1.8699, 'grad_norm': 0.357421875, 'learning_rate': 0.00013814067381575615, 'epoch': 0.66}\n",
      "{'loss': 1.9444, 'grad_norm': 0.392578125, 'learning_rate': 0.00013797179768639702, 'epoch': 0.66}\n"
     ]
    },
    {
     "name": "stderr",
     "output_type": "stream",
     "text": [
      "/home/aeolian83/anaconda3/envs/llm_for_p311/lib/python3.11/site-packages/peft/utils/save_and_load.py:168: UserWarning: Setting `save_embedding_layers` to `True` as the embedding layer has been resized during finetuning.\n",
      "  warnings.warn(\n"
     ]
    },
    {
     "name": "stdout",
     "output_type": "stream",
     "text": [
      "{'loss': 1.5745, 'grad_norm': 0.87890625, 'learning_rate': 0.00013780292155703792, 'epoch': 0.66}\n",
      "{'loss': 1.4719, 'grad_norm': 0.265625, 'learning_rate': 0.00013763404542767882, 'epoch': 0.67}\n"
     ]
    },
    {
     "name": "stderr",
     "output_type": "stream",
     "text": [
      "/home/aeolian83/anaconda3/envs/llm_for_p311/lib/python3.11/site-packages/peft/utils/save_and_load.py:168: UserWarning: Setting `save_embedding_layers` to `True` as the embedding layer has been resized during finetuning.\n",
      "  warnings.warn(\n"
     ]
    },
    {
     "name": "stdout",
     "output_type": "stream",
     "text": [
      "{'loss': 1.5529, 'grad_norm': 0.2470703125, 'learning_rate': 0.0001374651692983197, 'epoch': 0.67}\n",
      "{'loss': 1.8554, 'grad_norm': 0.4609375, 'learning_rate': 0.00013729629316896057, 'epoch': 0.67}\n"
     ]
    },
    {
     "name": "stderr",
     "output_type": "stream",
     "text": [
      "/home/aeolian83/anaconda3/envs/llm_for_p311/lib/python3.11/site-packages/peft/utils/save_and_load.py:168: UserWarning: Setting `save_embedding_layers` to `True` as the embedding layer has been resized during finetuning.\n",
      "  warnings.warn(\n"
     ]
    },
    {
     "name": "stdout",
     "output_type": "stream",
     "text": [
      "{'loss': 1.7152, 'grad_norm': 0.61328125, 'learning_rate': 0.00013712741703960146, 'epoch': 0.67}\n",
      "{'loss': 1.6115, 'grad_norm': 0.75, 'learning_rate': 0.00013695854091024234, 'epoch': 0.67}\n"
     ]
    },
    {
     "name": "stderr",
     "output_type": "stream",
     "text": [
      "/home/aeolian83/anaconda3/envs/llm_for_p311/lib/python3.11/site-packages/peft/utils/save_and_load.py:168: UserWarning: Setting `save_embedding_layers` to `True` as the embedding layer has been resized during finetuning.\n",
      "  warnings.warn(\n"
     ]
    },
    {
     "name": "stdout",
     "output_type": "stream",
     "text": [
      "{'loss': 1.6329, 'grad_norm': 0.2099609375, 'learning_rate': 0.0001367896647808832, 'epoch': 0.67}\n",
      "{'loss': 1.7414, 'grad_norm': 0.2314453125, 'learning_rate': 0.00013662078865152413, 'epoch': 0.67}\n"
     ]
    },
    {
     "name": "stderr",
     "output_type": "stream",
     "text": [
      "/home/aeolian83/anaconda3/envs/llm_for_p311/lib/python3.11/site-packages/peft/utils/save_and_load.py:168: UserWarning: Setting `save_embedding_layers` to `True` as the embedding layer has been resized during finetuning.\n",
      "  warnings.warn(\n"
     ]
    },
    {
     "name": "stdout",
     "output_type": "stream",
     "text": [
      "{'loss': 1.734, 'grad_norm': 0.310546875, 'learning_rate': 0.000136451912522165, 'epoch': 0.68}\n",
      "{'loss': 1.8876, 'grad_norm': 0.462890625, 'learning_rate': 0.00013628303639280588, 'epoch': 0.68}\n"
     ]
    },
    {
     "name": "stderr",
     "output_type": "stream",
     "text": [
      "/home/aeolian83/anaconda3/envs/llm_for_p311/lib/python3.11/site-packages/peft/utils/save_and_load.py:168: UserWarning: Setting `save_embedding_layers` to `True` as the embedding layer has been resized during finetuning.\n",
      "  warnings.warn(\n"
     ]
    },
    {
     "name": "stdout",
     "output_type": "stream",
     "text": [
      "{'loss': 1.5986, 'grad_norm': 1.421875, 'learning_rate': 0.00013611416026344678, 'epoch': 0.68}\n",
      "{'loss': 1.8603, 'grad_norm': 0.236328125, 'learning_rate': 0.00013594528413408765, 'epoch': 0.68}\n"
     ]
    },
    {
     "name": "stderr",
     "output_type": "stream",
     "text": [
      "/home/aeolian83/anaconda3/envs/llm_for_p311/lib/python3.11/site-packages/peft/utils/save_and_load.py:168: UserWarning: Setting `save_embedding_layers` to `True` as the embedding layer has been resized during finetuning.\n",
      "  warnings.warn(\n"
     ]
    },
    {
     "name": "stdout",
     "output_type": "stream",
     "text": [
      "{'loss': 1.8351, 'grad_norm': 0.375, 'learning_rate': 0.00013577640800472852, 'epoch': 0.68}\n",
      "{'loss': 1.7634, 'grad_norm': 0.38671875, 'learning_rate': 0.00013560753187536942, 'epoch': 0.68}\n"
     ]
    },
    {
     "name": "stderr",
     "output_type": "stream",
     "text": [
      "/home/aeolian83/anaconda3/envs/llm_for_p311/lib/python3.11/site-packages/peft/utils/save_and_load.py:168: UserWarning: Setting `save_embedding_layers` to `True` as the embedding layer has been resized during finetuning.\n",
      "  warnings.warn(\n"
     ]
    },
    {
     "name": "stdout",
     "output_type": "stream",
     "text": [
      "{'loss': 1.8167, 'grad_norm': 0.50390625, 'learning_rate': 0.00013543865574601032, 'epoch': 0.69}\n",
      "{'loss': 1.5323, 'grad_norm': 0.76171875, 'learning_rate': 0.0001352697796166512, 'epoch': 0.69}\n"
     ]
    },
    {
     "name": "stderr",
     "output_type": "stream",
     "text": [
      "/home/aeolian83/anaconda3/envs/llm_for_p311/lib/python3.11/site-packages/peft/utils/save_and_load.py:168: UserWarning: Setting `save_embedding_layers` to `True` as the embedding layer has been resized during finetuning.\n",
      "  warnings.warn(\n"
     ]
    },
    {
     "name": "stdout",
     "output_type": "stream",
     "text": [
      "{'loss': 1.698, 'grad_norm': 0.2138671875, 'learning_rate': 0.00013510090348729207, 'epoch': 0.69}\n",
      "{'loss': 1.7649, 'grad_norm': 0.25, 'learning_rate': 0.00013493202735793296, 'epoch': 0.69}\n"
     ]
    },
    {
     "name": "stderr",
     "output_type": "stream",
     "text": [
      "/home/aeolian83/anaconda3/envs/llm_for_p311/lib/python3.11/site-packages/peft/utils/save_and_load.py:168: UserWarning: Setting `save_embedding_layers` to `True` as the embedding layer has been resized during finetuning.\n",
      "  warnings.warn(\n"
     ]
    },
    {
     "name": "stdout",
     "output_type": "stream",
     "text": [
      "{'loss': 1.7458, 'grad_norm': 0.380859375, 'learning_rate': 0.00013476315122857386, 'epoch': 0.69}\n",
      "{'loss': 1.9568, 'grad_norm': 0.5234375, 'learning_rate': 0.00013459427509921474, 'epoch': 0.69}\n"
     ]
    },
    {
     "name": "stderr",
     "output_type": "stream",
     "text": [
      "/home/aeolian83/anaconda3/envs/llm_for_p311/lib/python3.11/site-packages/peft/utils/save_and_load.py:168: UserWarning: Setting `save_embedding_layers` to `True` as the embedding layer has been resized during finetuning.\n",
      "  warnings.warn(\n"
     ]
    },
    {
     "name": "stdout",
     "output_type": "stream",
     "text": [
      "{'loss': 1.6362, 'grad_norm': 1.1953125, 'learning_rate': 0.0001344253989698556, 'epoch': 0.7}\n",
      "{'loss': 1.5718, 'grad_norm': 0.26953125, 'learning_rate': 0.0001342565228404965, 'epoch': 0.7}\n"
     ]
    },
    {
     "name": "stderr",
     "output_type": "stream",
     "text": [
      "/home/aeolian83/anaconda3/envs/llm_for_p311/lib/python3.11/site-packages/peft/utils/save_and_load.py:168: UserWarning: Setting `save_embedding_layers` to `True` as the embedding layer has been resized during finetuning.\n",
      "  warnings.warn(\n"
     ]
    },
    {
     "name": "stdout",
     "output_type": "stream",
     "text": [
      "{'loss': 1.6979, 'grad_norm': 0.2734375, 'learning_rate': 0.00013408764671113738, 'epoch': 0.7}\n",
      "{'loss': 1.6675, 'grad_norm': 0.330078125, 'learning_rate': 0.00013391877058177825, 'epoch': 0.7}\n"
     ]
    },
    {
     "name": "stderr",
     "output_type": "stream",
     "text": [
      "/home/aeolian83/anaconda3/envs/llm_for_p311/lib/python3.11/site-packages/peft/utils/save_and_load.py:168: UserWarning: Setting `save_embedding_layers` to `True` as the embedding layer has been resized during finetuning.\n",
      "  warnings.warn(\n"
     ]
    },
    {
     "name": "stdout",
     "output_type": "stream",
     "text": [
      "{'loss': 1.6429, 'grad_norm': 0.453125, 'learning_rate': 0.00013374989445241918, 'epoch': 0.7}\n",
      "{'loss': 1.4767, 'grad_norm': 1.0859375, 'learning_rate': 0.00013358101832306005, 'epoch': 0.7}\n"
     ]
    },
    {
     "name": "stderr",
     "output_type": "stream",
     "text": [
      "/home/aeolian83/anaconda3/envs/llm_for_p311/lib/python3.11/site-packages/peft/utils/save_and_load.py:168: UserWarning: Setting `save_embedding_layers` to `True` as the embedding layer has been resized during finetuning.\n",
      "  warnings.warn(\n"
     ]
    },
    {
     "name": "stdout",
     "output_type": "stream",
     "text": [
      "{'loss': 1.673, 'grad_norm': 0.2060546875, 'learning_rate': 0.00013341214219370092, 'epoch': 0.71}\n",
      "{'loss': 1.5992, 'grad_norm': 0.283203125, 'learning_rate': 0.00013324326606434182, 'epoch': 0.71}\n"
     ]
    },
    {
     "name": "stderr",
     "output_type": "stream",
     "text": [
      "/home/aeolian83/anaconda3/envs/llm_for_p311/lib/python3.11/site-packages/peft/utils/save_and_load.py:168: UserWarning: Setting `save_embedding_layers` to `True` as the embedding layer has been resized during finetuning.\n",
      "  warnings.warn(\n"
     ]
    },
    {
     "name": "stdout",
     "output_type": "stream",
     "text": [
      "{'loss': 1.6975, 'grad_norm': 0.302734375, 'learning_rate': 0.0001330743899349827, 'epoch': 0.71}\n",
      "{'loss': 1.5628, 'grad_norm': 0.43359375, 'learning_rate': 0.00013290551380562357, 'epoch': 0.71}\n"
     ]
    },
    {
     "name": "stderr",
     "output_type": "stream",
     "text": [
      "/home/aeolian83/anaconda3/envs/llm_for_p311/lib/python3.11/site-packages/peft/utils/save_and_load.py:168: UserWarning: Setting `save_embedding_layers` to `True` as the embedding layer has been resized during finetuning.\n",
      "  warnings.warn(\n"
     ]
    },
    {
     "name": "stdout",
     "output_type": "stream",
     "text": [
      "{'loss': 1.4668, 'grad_norm': 1.5078125, 'learning_rate': 0.00013273663767626446, 'epoch': 0.71}\n",
      "{'loss': 1.678, 'grad_norm': 0.1796875, 'learning_rate': 0.00013256776154690536, 'epoch': 0.71}\n"
     ]
    },
    {
     "name": "stderr",
     "output_type": "stream",
     "text": [
      "/home/aeolian83/anaconda3/envs/llm_for_p311/lib/python3.11/site-packages/peft/utils/save_and_load.py:168: UserWarning: Setting `save_embedding_layers` to `True` as the embedding layer has been resized during finetuning.\n",
      "  warnings.warn(\n"
     ]
    },
    {
     "name": "stdout",
     "output_type": "stream",
     "text": [
      "{'loss': 1.6279, 'grad_norm': 0.2421875, 'learning_rate': 0.00013239888541754624, 'epoch': 0.72}\n",
      "{'loss': 1.8775, 'grad_norm': 0.375, 'learning_rate': 0.0001322300092881871, 'epoch': 0.72}\n"
     ]
    },
    {
     "name": "stderr",
     "output_type": "stream",
     "text": [
      "/home/aeolian83/anaconda3/envs/llm_for_p311/lib/python3.11/site-packages/peft/utils/save_and_load.py:168: UserWarning: Setting `save_embedding_layers` to `True` as the embedding layer has been resized during finetuning.\n",
      "  warnings.warn(\n"
     ]
    },
    {
     "name": "stdout",
     "output_type": "stream",
     "text": [
      "{'loss': 1.7613, 'grad_norm': 0.373046875, 'learning_rate': 0.000132061133158828, 'epoch': 0.72}\n",
      "{'loss': 1.4486, 'grad_norm': 1.6875, 'learning_rate': 0.0001318922570294689, 'epoch': 0.72}\n"
     ]
    },
    {
     "name": "stderr",
     "output_type": "stream",
     "text": [
      "/home/aeolian83/anaconda3/envs/llm_for_p311/lib/python3.11/site-packages/peft/utils/save_and_load.py:168: UserWarning: Setting `save_embedding_layers` to `True` as the embedding layer has been resized during finetuning.\n",
      "  warnings.warn(\n"
     ]
    },
    {
     "name": "stdout",
     "output_type": "stream",
     "text": [
      "{'loss': 1.8061, 'grad_norm': 0.326171875, 'learning_rate': 0.00013172338090010978, 'epoch': 0.72}\n",
      "{'loss': 1.7529, 'grad_norm': 0.2578125, 'learning_rate': 0.00013155450477075065, 'epoch': 0.72}\n"
     ]
    },
    {
     "name": "stderr",
     "output_type": "stream",
     "text": [
      "/home/aeolian83/anaconda3/envs/llm_for_p311/lib/python3.11/site-packages/peft/utils/save_and_load.py:168: UserWarning: Setting `save_embedding_layers` to `True` as the embedding layer has been resized during finetuning.\n",
      "  warnings.warn(\n"
     ]
    },
    {
     "name": "stdout",
     "output_type": "stream",
     "text": [
      "{'loss': 1.7209, 'grad_norm': 0.357421875, 'learning_rate': 0.00013138562864139155, 'epoch': 0.73}\n",
      "{'loss': 2.0369, 'grad_norm': 0.431640625, 'learning_rate': 0.00013121675251203242, 'epoch': 0.73}\n"
     ]
    },
    {
     "name": "stderr",
     "output_type": "stream",
     "text": [
      "/home/aeolian83/anaconda3/envs/llm_for_p311/lib/python3.11/site-packages/peft/utils/save_and_load.py:168: UserWarning: Setting `save_embedding_layers` to `True` as the embedding layer has been resized during finetuning.\n",
      "  warnings.warn(\n"
     ]
    },
    {
     "name": "stdout",
     "output_type": "stream",
     "text": [
      "{'loss': 1.7399, 'grad_norm': 0.6640625, 'learning_rate': 0.0001310478763826733, 'epoch': 0.73}\n",
      "{'loss': 1.6211, 'grad_norm': 0.28515625, 'learning_rate': 0.00013087900025331422, 'epoch': 0.73}\n"
     ]
    },
    {
     "name": "stderr",
     "output_type": "stream",
     "text": [
      "/home/aeolian83/anaconda3/envs/llm_for_p311/lib/python3.11/site-packages/peft/utils/save_and_load.py:168: UserWarning: Setting `save_embedding_layers` to `True` as the embedding layer has been resized during finetuning.\n",
      "  warnings.warn(\n"
     ]
    },
    {
     "name": "stdout",
     "output_type": "stream",
     "text": [
      "{'loss': 1.7261, 'grad_norm': 0.2138671875, 'learning_rate': 0.0001307101241239551, 'epoch': 0.73}\n",
      "{'loss': 1.79, 'grad_norm': 0.279296875, 'learning_rate': 0.00013054124799459596, 'epoch': 0.73}\n"
     ]
    },
    {
     "name": "stderr",
     "output_type": "stream",
     "text": [
      "/home/aeolian83/anaconda3/envs/llm_for_p311/lib/python3.11/site-packages/peft/utils/save_and_load.py:168: UserWarning: Setting `save_embedding_layers` to `True` as the embedding layer has been resized during finetuning.\n",
      "  warnings.warn(\n"
     ]
    },
    {
     "name": "stdout",
     "output_type": "stream",
     "text": [
      "{'loss': 1.7722, 'grad_norm': 0.380859375, 'learning_rate': 0.00013037237186523686, 'epoch': 0.74}\n",
      "{'loss': 2.0107, 'grad_norm': 1.296875, 'learning_rate': 0.00013020349573587774, 'epoch': 0.74}\n"
     ]
    },
    {
     "name": "stderr",
     "output_type": "stream",
     "text": [
      "/home/aeolian83/anaconda3/envs/llm_for_p311/lib/python3.11/site-packages/peft/utils/save_and_load.py:168: UserWarning: Setting `save_embedding_layers` to `True` as the embedding layer has been resized during finetuning.\n",
      "  warnings.warn(\n"
     ]
    },
    {
     "name": "stdout",
     "output_type": "stream",
     "text": [
      "{'loss': 1.6149, 'grad_norm': 0.2373046875, 'learning_rate': 0.0001300346196065186, 'epoch': 0.74}\n",
      "{'loss': 1.7939, 'grad_norm': 0.328125, 'learning_rate': 0.0001298657434771595, 'epoch': 0.74}\n"
     ]
    },
    {
     "name": "stderr",
     "output_type": "stream",
     "text": [
      "/home/aeolian83/anaconda3/envs/llm_for_p311/lib/python3.11/site-packages/peft/utils/save_and_load.py:168: UserWarning: Setting `save_embedding_layers` to `True` as the embedding layer has been resized during finetuning.\n",
      "  warnings.warn(\n"
     ]
    },
    {
     "name": "stdout",
     "output_type": "stream",
     "text": [
      "{'loss': 1.7462, 'grad_norm': 0.2890625, 'learning_rate': 0.0001296968673478004, 'epoch': 0.74}\n",
      "{'loss': 1.8214, 'grad_norm': 0.46875, 'learning_rate': 0.00012952799121844128, 'epoch': 0.74}\n"
     ]
    },
    {
     "name": "stderr",
     "output_type": "stream",
     "text": [
      "/home/aeolian83/anaconda3/envs/llm_for_p311/lib/python3.11/site-packages/peft/utils/save_and_load.py:168: UserWarning: Setting `save_embedding_layers` to `True` as the embedding layer has been resized during finetuning.\n",
      "  warnings.warn(\n"
     ]
    },
    {
     "name": "stdout",
     "output_type": "stream",
     "text": [
      "{'loss': 1.6989, 'grad_norm': 0.91015625, 'learning_rate': 0.00012935911508908215, 'epoch': 0.75}\n",
      "{'loss': 1.7806, 'grad_norm': 0.28515625, 'learning_rate': 0.00012919023895972305, 'epoch': 0.75}\n"
     ]
    },
    {
     "name": "stderr",
     "output_type": "stream",
     "text": [
      "/home/aeolian83/anaconda3/envs/llm_for_p311/lib/python3.11/site-packages/peft/utils/save_and_load.py:168: UserWarning: Setting `save_embedding_layers` to `True` as the embedding layer has been resized during finetuning.\n",
      "  warnings.warn(\n"
     ]
    },
    {
     "name": "stdout",
     "output_type": "stream",
     "text": [
      "{'loss': 1.8017, 'grad_norm': 0.23046875, 'learning_rate': 0.00012902136283036392, 'epoch': 0.75}\n",
      "{'loss': 1.8542, 'grad_norm': 0.31640625, 'learning_rate': 0.00012885248670100482, 'epoch': 0.75}\n"
     ]
    },
    {
     "name": "stderr",
     "output_type": "stream",
     "text": [
      "/home/aeolian83/anaconda3/envs/llm_for_p311/lib/python3.11/site-packages/peft/utils/save_and_load.py:168: UserWarning: Setting `save_embedding_layers` to `True` as the embedding layer has been resized during finetuning.\n",
      "  warnings.warn(\n"
     ]
    },
    {
     "name": "stdout",
     "output_type": "stream",
     "text": [
      "{'loss': 1.7413, 'grad_norm': 0.52734375, 'learning_rate': 0.00012868361057164572, 'epoch': 0.75}\n",
      "{'loss': 1.7481, 'grad_norm': 0.94921875, 'learning_rate': 0.0001285147344422866, 'epoch': 0.75}\n"
     ]
    },
    {
     "name": "stderr",
     "output_type": "stream",
     "text": [
      "/home/aeolian83/anaconda3/envs/llm_for_p311/lib/python3.11/site-packages/peft/utils/save_and_load.py:168: UserWarning: Setting `save_embedding_layers` to `True` as the embedding layer has been resized during finetuning.\n",
      "  warnings.warn(\n"
     ]
    },
    {
     "name": "stdout",
     "output_type": "stream",
     "text": [
      "{'loss': 1.7789, 'grad_norm': 0.189453125, 'learning_rate': 0.00012834585831292746, 'epoch': 0.76}\n",
      "{'loss': 1.7611, 'grad_norm': 0.26171875, 'learning_rate': 0.00012817698218356836, 'epoch': 0.76}\n"
     ]
    },
    {
     "name": "stderr",
     "output_type": "stream",
     "text": [
      "/home/aeolian83/anaconda3/envs/llm_for_p311/lib/python3.11/site-packages/peft/utils/save_and_load.py:168: UserWarning: Setting `save_embedding_layers` to `True` as the embedding layer has been resized during finetuning.\n",
      "  warnings.warn(\n"
     ]
    },
    {
     "name": "stdout",
     "output_type": "stream",
     "text": [
      "{'loss': 1.9047, 'grad_norm': 0.330078125, 'learning_rate': 0.00012800810605420926, 'epoch': 0.76}\n",
      "{'loss': 1.88, 'grad_norm': 0.431640625, 'learning_rate': 0.00012783922992485014, 'epoch': 0.76}\n"
     ]
    },
    {
     "name": "stderr",
     "output_type": "stream",
     "text": [
      "/home/aeolian83/anaconda3/envs/llm_for_p311/lib/python3.11/site-packages/peft/utils/save_and_load.py:168: UserWarning: Setting `save_embedding_layers` to `True` as the embedding layer has been resized during finetuning.\n",
      "  warnings.warn(\n"
     ]
    },
    {
     "name": "stdout",
     "output_type": "stream",
     "text": [
      "{'loss': 1.3195, 'grad_norm': 0.59375, 'learning_rate': 0.000127670353795491, 'epoch': 0.76}\n",
      "{'loss': 1.5501, 'grad_norm': 0.326171875, 'learning_rate': 0.0001275014776661319, 'epoch': 0.76}\n"
     ]
    },
    {
     "name": "stderr",
     "output_type": "stream",
     "text": [
      "/home/aeolian83/anaconda3/envs/llm_for_p311/lib/python3.11/site-packages/peft/utils/save_and_load.py:168: UserWarning: Setting `save_embedding_layers` to `True` as the embedding layer has been resized during finetuning.\n",
      "  warnings.warn(\n"
     ]
    },
    {
     "name": "stdout",
     "output_type": "stream",
     "text": [
      "{'loss': 1.6619, 'grad_norm': 0.2734375, 'learning_rate': 0.00012733260153677278, 'epoch': 0.76}\n",
      "{'loss': 1.7431, 'grad_norm': 0.318359375, 'learning_rate': 0.00012716372540741365, 'epoch': 0.77}\n"
     ]
    },
    {
     "name": "stderr",
     "output_type": "stream",
     "text": [
      "/home/aeolian83/anaconda3/envs/llm_for_p311/lib/python3.11/site-packages/peft/utils/save_and_load.py:168: UserWarning: Setting `save_embedding_layers` to `True` as the embedding layer has been resized during finetuning.\n",
      "  warnings.warn(\n"
     ]
    },
    {
     "name": "stdout",
     "output_type": "stream",
     "text": [
      "{'loss': 1.7275, 'grad_norm': 0.5078125, 'learning_rate': 0.00012699484927805455, 'epoch': 0.77}\n",
      "{'loss': 1.5965, 'grad_norm': 0.67578125, 'learning_rate': 0.00012682597314869545, 'epoch': 0.77}\n"
     ]
    },
    {
     "name": "stderr",
     "output_type": "stream",
     "text": [
      "/home/aeolian83/anaconda3/envs/llm_for_p311/lib/python3.11/site-packages/peft/utils/save_and_load.py:168: UserWarning: Setting `save_embedding_layers` to `True` as the embedding layer has been resized during finetuning.\n",
      "  warnings.warn(\n"
     ]
    },
    {
     "name": "stdout",
     "output_type": "stream",
     "text": [
      "{'loss': 1.7021, 'grad_norm': 0.263671875, 'learning_rate': 0.00012665709701933632, 'epoch': 0.77}\n",
      "{'loss': 1.7586, 'grad_norm': 0.24609375, 'learning_rate': 0.0001264882208899772, 'epoch': 0.77}\n"
     ]
    },
    {
     "name": "stderr",
     "output_type": "stream",
     "text": [
      "/home/aeolian83/anaconda3/envs/llm_for_p311/lib/python3.11/site-packages/peft/utils/save_and_load.py:168: UserWarning: Setting `save_embedding_layers` to `True` as the embedding layer has been resized during finetuning.\n",
      "  warnings.warn(\n"
     ]
    },
    {
     "name": "stdout",
     "output_type": "stream",
     "text": [
      "{'loss': 1.8693, 'grad_norm': 0.32421875, 'learning_rate': 0.0001263193447606181, 'epoch': 0.77}\n",
      "{'loss': 1.7599, 'grad_norm': 0.6796875, 'learning_rate': 0.00012615046863125896, 'epoch': 0.78}\n"
     ]
    },
    {
     "name": "stderr",
     "output_type": "stream",
     "text": [
      "/home/aeolian83/anaconda3/envs/llm_for_p311/lib/python3.11/site-packages/peft/utils/save_and_load.py:168: UserWarning: Setting `save_embedding_layers` to `True` as the embedding layer has been resized during finetuning.\n",
      "  warnings.warn(\n"
     ]
    },
    {
     "name": "stdout",
     "output_type": "stream",
     "text": [
      "{'loss': 1.5019, 'grad_norm': 0.60546875, 'learning_rate': 0.00012598159250189986, 'epoch': 0.78}\n",
      "{'loss': 1.5467, 'grad_norm': 0.25390625, 'learning_rate': 0.00012581271637254076, 'epoch': 0.78}\n"
     ]
    },
    {
     "name": "stderr",
     "output_type": "stream",
     "text": [
      "/home/aeolian83/anaconda3/envs/llm_for_p311/lib/python3.11/site-packages/peft/utils/save_and_load.py:168: UserWarning: Setting `save_embedding_layers` to `True` as the embedding layer has been resized during finetuning.\n",
      "  warnings.warn(\n"
     ]
    },
    {
     "name": "stdout",
     "output_type": "stream",
     "text": [
      "{'loss': 1.6257, 'grad_norm': 0.2734375, 'learning_rate': 0.00012564384024318164, 'epoch': 0.78}\n",
      "{'loss': 1.8264, 'grad_norm': 0.3046875, 'learning_rate': 0.0001254749641138225, 'epoch': 0.78}\n"
     ]
    },
    {
     "name": "stderr",
     "output_type": "stream",
     "text": [
      "/home/aeolian83/anaconda3/envs/llm_for_p311/lib/python3.11/site-packages/peft/utils/save_and_load.py:168: UserWarning: Setting `save_embedding_layers` to `True` as the embedding layer has been resized during finetuning.\n",
      "  warnings.warn(\n"
     ]
    },
    {
     "name": "stdout",
     "output_type": "stream",
     "text": [
      "{'loss': 1.9022, 'grad_norm': 0.43359375, 'learning_rate': 0.0001253060879844634, 'epoch': 0.78}\n",
      "{'loss': 1.7331, 'grad_norm': 1.1015625, 'learning_rate': 0.0001251372118551043, 'epoch': 0.79}\n"
     ]
    },
    {
     "name": "stderr",
     "output_type": "stream",
     "text": [
      "/home/aeolian83/anaconda3/envs/llm_for_p311/lib/python3.11/site-packages/peft/utils/save_and_load.py:168: UserWarning: Setting `save_embedding_layers` to `True` as the embedding layer has been resized during finetuning.\n",
      "  warnings.warn(\n"
     ]
    },
    {
     "name": "stdout",
     "output_type": "stream",
     "text": [
      "{'loss': 1.7268, 'grad_norm': 0.1875, 'learning_rate': 0.00012496833572574518, 'epoch': 0.79}\n",
      "{'loss': 1.6646, 'grad_norm': 0.2197265625, 'learning_rate': 0.00012479945959638605, 'epoch': 0.79}\n"
     ]
    },
    {
     "name": "stderr",
     "output_type": "stream",
     "text": [
      "/home/aeolian83/anaconda3/envs/llm_for_p311/lib/python3.11/site-packages/peft/utils/save_and_load.py:168: UserWarning: Setting `save_embedding_layers` to `True` as the embedding layer has been resized during finetuning.\n",
      "  warnings.warn(\n"
     ]
    },
    {
     "name": "stdout",
     "output_type": "stream",
     "text": [
      "{'loss': 1.7218, 'grad_norm': 0.462890625, 'learning_rate': 0.00012463058346702695, 'epoch': 0.79}\n",
      "{'loss': 1.8056, 'grad_norm': 0.400390625, 'learning_rate': 0.00012446170733766782, 'epoch': 0.79}\n"
     ]
    },
    {
     "name": "stderr",
     "output_type": "stream",
     "text": [
      "/home/aeolian83/anaconda3/envs/llm_for_p311/lib/python3.11/site-packages/peft/utils/save_and_load.py:168: UserWarning: Setting `save_embedding_layers` to `True` as the embedding layer has been resized during finetuning.\n",
      "  warnings.warn(\n"
     ]
    },
    {
     "name": "stdout",
     "output_type": "stream",
     "text": [
      "{'loss': 1.5247, 'grad_norm': 0.9453125, 'learning_rate': 0.0001242928312083087, 'epoch': 0.79}\n",
      "{'loss': 1.602, 'grad_norm': 0.2021484375, 'learning_rate': 0.0001241239550789496, 'epoch': 0.8}\n"
     ]
    },
    {
     "name": "stderr",
     "output_type": "stream",
     "text": [
      "/home/aeolian83/anaconda3/envs/llm_for_p311/lib/python3.11/site-packages/peft/utils/save_and_load.py:168: UserWarning: Setting `save_embedding_layers` to `True` as the embedding layer has been resized during finetuning.\n",
      "  warnings.warn(\n"
     ]
    },
    {
     "name": "stdout",
     "output_type": "stream",
     "text": [
      "{'loss': 1.6249, 'grad_norm': 0.259765625, 'learning_rate': 0.0001239550789495905, 'epoch': 0.8}\n",
      "{'loss': 1.7045, 'grad_norm': 0.3125, 'learning_rate': 0.00012378620282023136, 'epoch': 0.8}\n"
     ]
    },
    {
     "name": "stderr",
     "output_type": "stream",
     "text": [
      "/home/aeolian83/anaconda3/envs/llm_for_p311/lib/python3.11/site-packages/peft/utils/save_and_load.py:168: UserWarning: Setting `save_embedding_layers` to `True` as the embedding layer has been resized during finetuning.\n",
      "  warnings.warn(\n"
     ]
    },
    {
     "name": "stdout",
     "output_type": "stream",
     "text": [
      "{'loss': 1.9256, 'grad_norm': 0.400390625, 'learning_rate': 0.00012361732669087224, 'epoch': 0.8}\n",
      "{'loss': 1.7501, 'grad_norm': 1.3125, 'learning_rate': 0.00012344845056151314, 'epoch': 0.8}\n"
     ]
    },
    {
     "name": "stderr",
     "output_type": "stream",
     "text": [
      "/home/aeolian83/anaconda3/envs/llm_for_p311/lib/python3.11/site-packages/peft/utils/save_and_load.py:168: UserWarning: Setting `save_embedding_layers` to `True` as the embedding layer has been resized during finetuning.\n",
      "  warnings.warn(\n"
     ]
    },
    {
     "name": "stdout",
     "output_type": "stream",
     "text": [
      "{'loss': 1.6887, 'grad_norm': 0.220703125, 'learning_rate': 0.000123279574432154, 'epoch': 0.8}\n",
      "{'loss': 1.7208, 'grad_norm': 0.251953125, 'learning_rate': 0.0001231106983027949, 'epoch': 0.81}\n"
     ]
    },
    {
     "name": "stderr",
     "output_type": "stream",
     "text": [
      "/home/aeolian83/anaconda3/envs/llm_for_p311/lib/python3.11/site-packages/peft/utils/save_and_load.py:168: UserWarning: Setting `save_embedding_layers` to `True` as the embedding layer has been resized during finetuning.\n",
      "  warnings.warn(\n"
     ]
    },
    {
     "name": "stdout",
     "output_type": "stream",
     "text": [
      "{'loss': 1.7218, 'grad_norm': 0.412109375, 'learning_rate': 0.0001229418221734358, 'epoch': 0.81}\n",
      "{'loss': 1.834, 'grad_norm': 0.48046875, 'learning_rate': 0.00012277294604407668, 'epoch': 0.81}\n"
     ]
    },
    {
     "name": "stderr",
     "output_type": "stream",
     "text": [
      "/home/aeolian83/anaconda3/envs/llm_for_p311/lib/python3.11/site-packages/peft/utils/save_and_load.py:168: UserWarning: Setting `save_embedding_layers` to `True` as the embedding layer has been resized during finetuning.\n",
      "  warnings.warn(\n"
     ]
    },
    {
     "name": "stdout",
     "output_type": "stream",
     "text": [
      "{'loss': 1.8774, 'grad_norm': 1.59375, 'learning_rate': 0.00012260406991471755, 'epoch': 0.81}\n",
      "{'loss': 1.7677, 'grad_norm': 0.2412109375, 'learning_rate': 0.00012243519378535845, 'epoch': 0.81}\n"
     ]
    },
    {
     "name": "stderr",
     "output_type": "stream",
     "text": [
      "/home/aeolian83/anaconda3/envs/llm_for_p311/lib/python3.11/site-packages/peft/utils/save_and_load.py:168: UserWarning: Setting `save_embedding_layers` to `True` as the embedding layer has been resized during finetuning.\n",
      "  warnings.warn(\n"
     ]
    },
    {
     "name": "stdout",
     "output_type": "stream",
     "text": [
      "{'loss': 1.7768, 'grad_norm': 0.1904296875, 'learning_rate': 0.00012226631765599935, 'epoch': 0.81}\n",
      "{'loss': 1.7326, 'grad_norm': 0.38671875, 'learning_rate': 0.00012209744152664022, 'epoch': 0.82}\n"
     ]
    },
    {
     "name": "stderr",
     "output_type": "stream",
     "text": [
      "/home/aeolian83/anaconda3/envs/llm_for_p311/lib/python3.11/site-packages/peft/utils/save_and_load.py:168: UserWarning: Setting `save_embedding_layers` to `True` as the embedding layer has been resized during finetuning.\n",
      "  warnings.warn(\n"
     ]
    },
    {
     "name": "stdout",
     "output_type": "stream",
     "text": [
      "{'loss': 1.8209, 'grad_norm': 0.474609375, 'learning_rate': 0.0001219285653972811, 'epoch': 0.82}\n",
      "{'loss': 1.4153, 'grad_norm': 1.46875, 'learning_rate': 0.00012175968926792198, 'epoch': 0.82}\n"
     ]
    },
    {
     "name": "stderr",
     "output_type": "stream",
     "text": [
      "/home/aeolian83/anaconda3/envs/llm_for_p311/lib/python3.11/site-packages/peft/utils/save_and_load.py:168: UserWarning: Setting `save_embedding_layers` to `True` as the embedding layer has been resized during finetuning.\n",
      "  warnings.warn(\n"
     ]
    },
    {
     "name": "stdout",
     "output_type": "stream",
     "text": [
      "{'loss': 1.5151, 'grad_norm': 0.228515625, 'learning_rate': 0.00012159081313856286, 'epoch': 0.82}\n",
      "{'loss': 1.567, 'grad_norm': 0.2451171875, 'learning_rate': 0.00012142193700920375, 'epoch': 0.82}\n"
     ]
    },
    {
     "name": "stderr",
     "output_type": "stream",
     "text": [
      "/home/aeolian83/anaconda3/envs/llm_for_p311/lib/python3.11/site-packages/peft/utils/save_and_load.py:168: UserWarning: Setting `save_embedding_layers` to `True` as the embedding layer has been resized during finetuning.\n",
      "  warnings.warn(\n"
     ]
    },
    {
     "name": "stdout",
     "output_type": "stream",
     "text": [
      "{'loss': 1.7929, 'grad_norm': 0.443359375, 'learning_rate': 0.00012125306087984465, 'epoch': 0.82}\n",
      "{'loss': 1.5887, 'grad_norm': 1.0546875, 'learning_rate': 0.00012108418475048553, 'epoch': 0.83}\n"
     ]
    },
    {
     "name": "stderr",
     "output_type": "stream",
     "text": [
      "/home/aeolian83/anaconda3/envs/llm_for_p311/lib/python3.11/site-packages/peft/utils/save_and_load.py:168: UserWarning: Setting `save_embedding_layers` to `True` as the embedding layer has been resized during finetuning.\n",
      "  warnings.warn(\n"
     ]
    },
    {
     "name": "stdout",
     "output_type": "stream",
     "text": [
      "{'loss': 1.5595, 'grad_norm': 0.953125, 'learning_rate': 0.00012091530862112641, 'epoch': 0.83}\n",
      "{'loss': 1.9783, 'grad_norm': 0.2255859375, 'learning_rate': 0.00012074643249176729, 'epoch': 0.83}\n"
     ]
    },
    {
     "name": "stderr",
     "output_type": "stream",
     "text": [
      "/home/aeolian83/anaconda3/envs/llm_for_p311/lib/python3.11/site-packages/peft/utils/save_and_load.py:168: UserWarning: Setting `save_embedding_layers` to `True` as the embedding layer has been resized during finetuning.\n",
      "  warnings.warn(\n"
     ]
    },
    {
     "name": "stdout",
     "output_type": "stream",
     "text": [
      "{'loss': 1.736, 'grad_norm': 0.23828125, 'learning_rate': 0.00012057755636240818, 'epoch': 0.83}\n",
      "{'loss': 1.7539, 'grad_norm': 0.361328125, 'learning_rate': 0.00012040868023304905, 'epoch': 0.83}\n"
     ]
    },
    {
     "name": "stderr",
     "output_type": "stream",
     "text": [
      "/home/aeolian83/anaconda3/envs/llm_for_p311/lib/python3.11/site-packages/peft/utils/save_and_load.py:168: UserWarning: Setting `save_embedding_layers` to `True` as the embedding layer has been resized during finetuning.\n",
      "  warnings.warn(\n"
     ]
    },
    {
     "name": "stdout",
     "output_type": "stream",
     "text": [
      "{'loss': 1.7329, 'grad_norm': 0.40625, 'learning_rate': 0.00012023980410368996, 'epoch': 0.83}\n",
      "{'loss': 1.6279, 'grad_norm': 0.5625, 'learning_rate': 0.00012007092797433084, 'epoch': 0.84}\n"
     ]
    },
    {
     "name": "stderr",
     "output_type": "stream",
     "text": [
      "/home/aeolian83/anaconda3/envs/llm_for_p311/lib/python3.11/site-packages/peft/utils/save_and_load.py:168: UserWarning: Setting `save_embedding_layers` to `True` as the embedding layer has been resized during finetuning.\n",
      "  warnings.warn(\n"
     ]
    },
    {
     "name": "stdout",
     "output_type": "stream",
     "text": [
      "{'loss': 1.5408, 'grad_norm': 0.2412109375, 'learning_rate': 0.00011990205184497172, 'epoch': 0.84}\n",
      "{'loss': 1.827, 'grad_norm': 0.337890625, 'learning_rate': 0.0001197331757156126, 'epoch': 0.84}\n"
     ]
    },
    {
     "name": "stderr",
     "output_type": "stream",
     "text": [
      "/home/aeolian83/anaconda3/envs/llm_for_p311/lib/python3.11/site-packages/peft/utils/save_and_load.py:168: UserWarning: Setting `save_embedding_layers` to `True` as the embedding layer has been resized during finetuning.\n",
      "  warnings.warn(\n"
     ]
    },
    {
     "name": "stdout",
     "output_type": "stream",
     "text": [
      "{'loss': 1.6404, 'grad_norm': 0.33203125, 'learning_rate': 0.00011956429958625348, 'epoch': 0.84}\n",
      "{'loss': 1.7637, 'grad_norm': 0.44140625, 'learning_rate': 0.00011939542345689438, 'epoch': 0.84}\n"
     ]
    },
    {
     "name": "stderr",
     "output_type": "stream",
     "text": [
      "/home/aeolian83/anaconda3/envs/llm_for_p311/lib/python3.11/site-packages/peft/utils/save_and_load.py:168: UserWarning: Setting `save_embedding_layers` to `True` as the embedding layer has been resized during finetuning.\n",
      "  warnings.warn(\n"
     ]
    },
    {
     "name": "stdout",
     "output_type": "stream",
     "text": [
      "{'loss': 1.5677, 'grad_norm': 0.78125, 'learning_rate': 0.00011922654732753526, 'epoch': 0.84}\n",
      "{'loss': 1.4603, 'grad_norm': 0.35546875, 'learning_rate': 0.00011905767119817615, 'epoch': 0.85}\n"
     ]
    },
    {
     "name": "stderr",
     "output_type": "stream",
     "text": [
      "/home/aeolian83/anaconda3/envs/llm_for_p311/lib/python3.11/site-packages/peft/utils/save_and_load.py:168: UserWarning: Setting `save_embedding_layers` to `True` as the embedding layer has been resized during finetuning.\n",
      "  warnings.warn(\n"
     ]
    },
    {
     "name": "stdout",
     "output_type": "stream",
     "text": [
      "{'loss': 1.6445, 'grad_norm': 0.2734375, 'learning_rate': 0.00011888879506881702, 'epoch': 0.85}\n",
      "{'loss': 1.7399, 'grad_norm': 0.341796875, 'learning_rate': 0.00011871991893945791, 'epoch': 0.85}\n"
     ]
    },
    {
     "name": "stderr",
     "output_type": "stream",
     "text": [
      "/home/aeolian83/anaconda3/envs/llm_for_p311/lib/python3.11/site-packages/peft/utils/save_and_load.py:168: UserWarning: Setting `save_embedding_layers` to `True` as the embedding layer has been resized during finetuning.\n",
      "  warnings.warn(\n"
     ]
    },
    {
     "name": "stdout",
     "output_type": "stream",
     "text": [
      "{'loss': 1.912, 'grad_norm': 0.61328125, 'learning_rate': 0.00011855104281009879, 'epoch': 0.85}\n",
      "{'loss': 1.572, 'grad_norm': 0.8359375, 'learning_rate': 0.00011838216668073969, 'epoch': 0.85}\n"
     ]
    },
    {
     "name": "stderr",
     "output_type": "stream",
     "text": [
      "/home/aeolian83/anaconda3/envs/llm_for_p311/lib/python3.11/site-packages/peft/utils/save_and_load.py:168: UserWarning: Setting `save_embedding_layers` to `True` as the embedding layer has been resized during finetuning.\n",
      "  warnings.warn(\n"
     ]
    },
    {
     "name": "stdout",
     "output_type": "stream",
     "text": [
      "{'loss': 1.6134, 'grad_norm': 0.26171875, 'learning_rate': 0.00011821329055138058, 'epoch': 0.85}\n",
      "{'loss': 1.7403, 'grad_norm': 0.267578125, 'learning_rate': 0.00011804441442202145, 'epoch': 0.86}\n"
     ]
    },
    {
     "name": "stderr",
     "output_type": "stream",
     "text": [
      "/home/aeolian83/anaconda3/envs/llm_for_p311/lib/python3.11/site-packages/peft/utils/save_and_load.py:168: UserWarning: Setting `save_embedding_layers` to `True` as the embedding layer has been resized during finetuning.\n",
      "  warnings.warn(\n"
     ]
    },
    {
     "name": "stdout",
     "output_type": "stream",
     "text": [
      "{'loss': 1.8044, 'grad_norm': 0.2890625, 'learning_rate': 0.00011787553829266234, 'epoch': 0.86}\n",
      "{'loss': 1.8638, 'grad_norm': 0.67578125, 'learning_rate': 0.00011770666216330322, 'epoch': 0.86}\n"
     ]
    },
    {
     "name": "stderr",
     "output_type": "stream",
     "text": [
      "/home/aeolian83/anaconda3/envs/llm_for_p311/lib/python3.11/site-packages/peft/utils/save_and_load.py:168: UserWarning: Setting `save_embedding_layers` to `True` as the embedding layer has been resized during finetuning.\n",
      "  warnings.warn(\n"
     ]
    },
    {
     "name": "stdout",
     "output_type": "stream",
     "text": [
      "{'loss': 1.5107, 'grad_norm': 1.3359375, 'learning_rate': 0.00011753778603394409, 'epoch': 0.86}\n",
      "{'loss': 1.4818, 'grad_norm': 0.2119140625, 'learning_rate': 0.000117368909904585, 'epoch': 0.86}\n"
     ]
    },
    {
     "name": "stderr",
     "output_type": "stream",
     "text": [
      "/home/aeolian83/anaconda3/envs/llm_for_p311/lib/python3.11/site-packages/peft/utils/save_and_load.py:168: UserWarning: Setting `save_embedding_layers` to `True` as the embedding layer has been resized during finetuning.\n",
      "  warnings.warn(\n"
     ]
    },
    {
     "name": "stdout",
     "output_type": "stream",
     "text": [
      "{'loss': 1.6991, 'grad_norm': 0.3359375, 'learning_rate': 0.00011720003377522588, 'epoch': 0.86}\n",
      "{'loss': 1.7204, 'grad_norm': 0.30078125, 'learning_rate': 0.00011703115764586676, 'epoch': 0.86}\n"
     ]
    },
    {
     "name": "stderr",
     "output_type": "stream",
     "text": [
      "/home/aeolian83/anaconda3/envs/llm_for_p311/lib/python3.11/site-packages/peft/utils/save_and_load.py:168: UserWarning: Setting `save_embedding_layers` to `True` as the embedding layer has been resized during finetuning.\n",
      "  warnings.warn(\n"
     ]
    },
    {
     "name": "stdout",
     "output_type": "stream",
     "text": [
      "{'loss': 1.959, 'grad_norm': 0.5625, 'learning_rate': 0.00011686228151650765, 'epoch': 0.87}\n",
      "{'loss': 1.5535, 'grad_norm': 0.8671875, 'learning_rate': 0.00011669340538714852, 'epoch': 0.87}\n"
     ]
    },
    {
     "name": "stderr",
     "output_type": "stream",
     "text": [
      "/home/aeolian83/anaconda3/envs/llm_for_p311/lib/python3.11/site-packages/peft/utils/save_and_load.py:168: UserWarning: Setting `save_embedding_layers` to `True` as the embedding layer has been resized during finetuning.\n",
      "  warnings.warn(\n"
     ]
    },
    {
     "name": "stdout",
     "output_type": "stream",
     "text": [
      "{'loss': 1.8579, 'grad_norm': 0.23046875, 'learning_rate': 0.00011652452925778943, 'epoch': 0.87}\n",
      "{'loss': 1.6644, 'grad_norm': 0.236328125, 'learning_rate': 0.0001163556531284303, 'epoch': 0.87}\n"
     ]
    },
    {
     "name": "stderr",
     "output_type": "stream",
     "text": [
      "/home/aeolian83/anaconda3/envs/llm_for_p311/lib/python3.11/site-packages/peft/utils/save_and_load.py:168: UserWarning: Setting `save_embedding_layers` to `True` as the embedding layer has been resized during finetuning.\n",
      "  warnings.warn(\n"
     ]
    },
    {
     "name": "stdout",
     "output_type": "stream",
     "text": [
      "{'loss': 1.8578, 'grad_norm': 0.38671875, 'learning_rate': 0.00011618677699907119, 'epoch': 0.87}\n",
      "{'loss': 1.6794, 'grad_norm': 0.51953125, 'learning_rate': 0.00011601790086971206, 'epoch': 0.87}\n"
     ]
    },
    {
     "name": "stderr",
     "output_type": "stream",
     "text": [
      "/home/aeolian83/anaconda3/envs/llm_for_p311/lib/python3.11/site-packages/peft/utils/save_and_load.py:168: UserWarning: Setting `save_embedding_layers` to `True` as the embedding layer has been resized during finetuning.\n",
      "  warnings.warn(\n"
     ]
    },
    {
     "name": "stdout",
     "output_type": "stream",
     "text": [
      "{'loss': 1.468, 'grad_norm': 0.9453125, 'learning_rate': 0.00011584902474035295, 'epoch': 0.88}\n",
      "{'loss': 1.5807, 'grad_norm': 0.22265625, 'learning_rate': 0.00011568014861099384, 'epoch': 0.88}\n"
     ]
    },
    {
     "name": "stderr",
     "output_type": "stream",
     "text": [
      "/home/aeolian83/anaconda3/envs/llm_for_p311/lib/python3.11/site-packages/peft/utils/save_and_load.py:168: UserWarning: Setting `save_embedding_layers` to `True` as the embedding layer has been resized during finetuning.\n",
      "  warnings.warn(\n"
     ]
    },
    {
     "name": "stdout",
     "output_type": "stream",
     "text": [
      "{'loss': 1.6353, 'grad_norm': 0.259765625, 'learning_rate': 0.00011551127248163473, 'epoch': 0.88}\n",
      "{'loss': 1.7232, 'grad_norm': 0.330078125, 'learning_rate': 0.00011534239635227562, 'epoch': 0.88}\n"
     ]
    },
    {
     "name": "stderr",
     "output_type": "stream",
     "text": [
      "/home/aeolian83/anaconda3/envs/llm_for_p311/lib/python3.11/site-packages/peft/utils/save_and_load.py:168: UserWarning: Setting `save_embedding_layers` to `True` as the embedding layer has been resized during finetuning.\n",
      "  warnings.warn(\n"
     ]
    },
    {
     "name": "stdout",
     "output_type": "stream",
     "text": [
      "{'loss': 1.592, 'grad_norm': 0.5234375, 'learning_rate': 0.00011517352022291649, 'epoch': 0.88}\n",
      "{'loss': 1.4755, 'grad_norm': 1.0546875, 'learning_rate': 0.00011500464409355738, 'epoch': 0.88}\n"
     ]
    },
    {
     "name": "stderr",
     "output_type": "stream",
     "text": [
      "/home/aeolian83/anaconda3/envs/llm_for_p311/lib/python3.11/site-packages/peft/utils/save_and_load.py:168: UserWarning: Setting `save_embedding_layers` to `True` as the embedding layer has been resized during finetuning.\n",
      "  warnings.warn(\n"
     ]
    },
    {
     "name": "stdout",
     "output_type": "stream",
     "text": [
      "{'loss': 1.7236, 'grad_norm': 0.197265625, 'learning_rate': 0.00011483576796419826, 'epoch': 0.89}\n",
      "{'loss': 1.5928, 'grad_norm': 0.255859375, 'learning_rate': 0.00011466689183483914, 'epoch': 0.89}\n"
     ]
    },
    {
     "name": "stderr",
     "output_type": "stream",
     "text": [
      "/home/aeolian83/anaconda3/envs/llm_for_p311/lib/python3.11/site-packages/peft/utils/save_and_load.py:168: UserWarning: Setting `save_embedding_layers` to `True` as the embedding layer has been resized during finetuning.\n",
      "  warnings.warn(\n"
     ]
    },
    {
     "name": "stdout",
     "output_type": "stream",
     "text": [
      "{'loss': 1.717, 'grad_norm': 0.29296875, 'learning_rate': 0.00011449801570548005, 'epoch': 0.89}\n",
      "{'loss': 1.917, 'grad_norm': 0.5703125, 'learning_rate': 0.00011432913957612092, 'epoch': 0.89}\n"
     ]
    },
    {
     "name": "stderr",
     "output_type": "stream",
     "text": [
      "/home/aeolian83/anaconda3/envs/llm_for_p311/lib/python3.11/site-packages/peft/utils/save_and_load.py:168: UserWarning: Setting `save_embedding_layers` to `True` as the embedding layer has been resized during finetuning.\n",
      "  warnings.warn(\n"
     ]
    },
    {
     "name": "stdout",
     "output_type": "stream",
     "text": [
      "{'loss': 1.5359, 'grad_norm': 1.1015625, 'learning_rate': 0.0001141602634467618, 'epoch': 0.89}\n",
      "{'loss': 1.7044, 'grad_norm': 0.240234375, 'learning_rate': 0.00011399138731740269, 'epoch': 0.89}\n"
     ]
    },
    {
     "name": "stderr",
     "output_type": "stream",
     "text": [
      "/home/aeolian83/anaconda3/envs/llm_for_p311/lib/python3.11/site-packages/peft/utils/save_and_load.py:168: UserWarning: Setting `save_embedding_layers` to `True` as the embedding layer has been resized during finetuning.\n",
      "  warnings.warn(\n"
     ]
    },
    {
     "name": "stdout",
     "output_type": "stream",
     "text": [
      "{'loss': 1.6014, 'grad_norm': 0.287109375, 'learning_rate': 0.00011382251118804356, 'epoch': 0.9}\n",
      "{'loss': 1.6137, 'grad_norm': 0.390625, 'learning_rate': 0.00011365363505868448, 'epoch': 0.9}\n"
     ]
    },
    {
     "name": "stderr",
     "output_type": "stream",
     "text": [
      "/home/aeolian83/anaconda3/envs/llm_for_p311/lib/python3.11/site-packages/peft/utils/save_and_load.py:168: UserWarning: Setting `save_embedding_layers` to `True` as the embedding layer has been resized during finetuning.\n",
      "  warnings.warn(\n"
     ]
    },
    {
     "name": "stdout",
     "output_type": "stream",
     "text": [
      "{'loss': 1.9063, 'grad_norm': 0.44921875, 'learning_rate': 0.00011348475892932535, 'epoch': 0.9}\n",
      "{'loss': 1.4213, 'grad_norm': 1.078125, 'learning_rate': 0.00011331588279996623, 'epoch': 0.9}\n"
     ]
    },
    {
     "name": "stderr",
     "output_type": "stream",
     "text": [
      "/home/aeolian83/anaconda3/envs/llm_for_p311/lib/python3.11/site-packages/peft/utils/save_and_load.py:168: UserWarning: Setting `save_embedding_layers` to `True` as the embedding layer has been resized during finetuning.\n",
      "  warnings.warn(\n"
     ]
    },
    {
     "name": "stdout",
     "output_type": "stream",
     "text": [
      "{'loss': 1.7483, 'grad_norm': 0.2470703125, 'learning_rate': 0.00011314700667060712, 'epoch': 0.9}\n",
      "{'loss': 1.6066, 'grad_norm': 0.2099609375, 'learning_rate': 0.00011297813054124799, 'epoch': 0.9}\n"
     ]
    },
    {
     "name": "stderr",
     "output_type": "stream",
     "text": [
      "/home/aeolian83/anaconda3/envs/llm_for_p311/lib/python3.11/site-packages/peft/utils/save_and_load.py:168: UserWarning: Setting `save_embedding_layers` to `True` as the embedding layer has been resized during finetuning.\n",
      "  warnings.warn(\n"
     ]
    },
    {
     "name": "stdout",
     "output_type": "stream",
     "text": [
      "{'loss': 1.8775, 'grad_norm': 0.404296875, 'learning_rate': 0.00011280925441188888, 'epoch': 0.91}\n",
      "{'loss': 1.8635, 'grad_norm': 0.40625, 'learning_rate': 0.00011264037828252978, 'epoch': 0.91}\n"
     ]
    },
    {
     "name": "stderr",
     "output_type": "stream",
     "text": [
      "/home/aeolian83/anaconda3/envs/llm_for_p311/lib/python3.11/site-packages/peft/utils/save_and_load.py:168: UserWarning: Setting `save_embedding_layers` to `True` as the embedding layer has been resized during finetuning.\n",
      "  warnings.warn(\n"
     ]
    },
    {
     "name": "stdout",
     "output_type": "stream",
     "text": [
      "{'loss': 1.7259, 'grad_norm': 0.67578125, 'learning_rate': 0.00011247150215317066, 'epoch': 0.91}\n",
      "{'loss': 1.4301, 'grad_norm': 0.28125, 'learning_rate': 0.00011230262602381154, 'epoch': 0.91}\n"
     ]
    },
    {
     "name": "stderr",
     "output_type": "stream",
     "text": [
      "/home/aeolian83/anaconda3/envs/llm_for_p311/lib/python3.11/site-packages/peft/utils/save_and_load.py:168: UserWarning: Setting `save_embedding_layers` to `True` as the embedding layer has been resized during finetuning.\n",
      "  warnings.warn(\n"
     ]
    },
    {
     "name": "stdout",
     "output_type": "stream",
     "text": [
      "{'loss': 1.6468, 'grad_norm': 0.27734375, 'learning_rate': 0.00011213374989445242, 'epoch': 0.91}\n",
      "{'loss': 1.8404, 'grad_norm': 0.421875, 'learning_rate': 0.0001119648737650933, 'epoch': 0.91}\n"
     ]
    },
    {
     "name": "stderr",
     "output_type": "stream",
     "text": [
      "/home/aeolian83/anaconda3/envs/llm_for_p311/lib/python3.11/site-packages/peft/utils/save_and_load.py:168: UserWarning: Setting `save_embedding_layers` to `True` as the embedding layer has been resized during finetuning.\n",
      "  warnings.warn(\n"
     ]
    },
    {
     "name": "stdout",
     "output_type": "stream",
     "text": [
      "{'loss': 2.0103, 'grad_norm': 0.404296875, 'learning_rate': 0.00011179599763573418, 'epoch': 0.92}\n",
      "{'loss': 1.5073, 'grad_norm': 1.1875, 'learning_rate': 0.00011162712150637509, 'epoch': 0.92}\n"
     ]
    },
    {
     "name": "stderr",
     "output_type": "stream",
     "text": [
      "/home/aeolian83/anaconda3/envs/llm_for_p311/lib/python3.11/site-packages/peft/utils/save_and_load.py:168: UserWarning: Setting `save_embedding_layers` to `True` as the embedding layer has been resized during finetuning.\n",
      "  warnings.warn(\n"
     ]
    },
    {
     "name": "stdout",
     "output_type": "stream",
     "text": [
      "{'loss': 1.7429, 'grad_norm': 0.287109375, 'learning_rate': 0.00011145824537701596, 'epoch': 0.92}\n",
      "{'loss': 1.6987, 'grad_norm': 0.25390625, 'learning_rate': 0.00011128936924765685, 'epoch': 0.92}\n"
     ]
    },
    {
     "name": "stderr",
     "output_type": "stream",
     "text": [
      "/home/aeolian83/anaconda3/envs/llm_for_p311/lib/python3.11/site-packages/peft/utils/save_and_load.py:168: UserWarning: Setting `save_embedding_layers` to `True` as the embedding layer has been resized during finetuning.\n",
      "  warnings.warn(\n"
     ]
    },
    {
     "name": "stdout",
     "output_type": "stream",
     "text": [
      "{'loss': 1.7536, 'grad_norm': 0.326171875, 'learning_rate': 0.00011112049311829773, 'epoch': 0.92}\n",
      "{'loss': 1.7882, 'grad_norm': 0.380859375, 'learning_rate': 0.0001109516169889386, 'epoch': 0.92}\n"
     ]
    },
    {
     "name": "stderr",
     "output_type": "stream",
     "text": [
      "/home/aeolian83/anaconda3/envs/llm_for_p311/lib/python3.11/site-packages/peft/utils/save_and_load.py:168: UserWarning: Setting `save_embedding_layers` to `True` as the embedding layer has been resized during finetuning.\n",
      "  warnings.warn(\n"
     ]
    },
    {
     "name": "stdout",
     "output_type": "stream",
     "text": [
      "{'loss': 1.4507, 'grad_norm': 0.49609375, 'learning_rate': 0.00011078274085957952, 'epoch': 0.93}\n",
      "{'loss': 1.9265, 'grad_norm': 0.216796875, 'learning_rate': 0.00011061386473022039, 'epoch': 0.93}\n"
     ]
    },
    {
     "name": "stderr",
     "output_type": "stream",
     "text": [
      "/home/aeolian83/anaconda3/envs/llm_for_p311/lib/python3.11/site-packages/peft/utils/save_and_load.py:168: UserWarning: Setting `save_embedding_layers` to `True` as the embedding layer has been resized during finetuning.\n",
      "  warnings.warn(\n"
     ]
    },
    {
     "name": "stdout",
     "output_type": "stream",
     "text": [
      "{'loss': 1.6533, 'grad_norm': 0.28125, 'learning_rate': 0.00011044498860086128, 'epoch': 0.93}\n",
      "{'loss': 1.8531, 'grad_norm': 0.310546875, 'learning_rate': 0.00011027611247150216, 'epoch': 0.93}\n"
     ]
    },
    {
     "name": "stderr",
     "output_type": "stream",
     "text": [
      "/home/aeolian83/anaconda3/envs/llm_for_p311/lib/python3.11/site-packages/peft/utils/save_and_load.py:168: UserWarning: Setting `save_embedding_layers` to `True` as the embedding layer has been resized during finetuning.\n",
      "  warnings.warn(\n"
     ]
    },
    {
     "name": "stdout",
     "output_type": "stream",
     "text": [
      "{'loss': 1.676, 'grad_norm': 0.74609375, 'learning_rate': 0.00011010723634214304, 'epoch': 0.93}\n",
      "{'loss': 1.5284, 'grad_norm': 0.66796875, 'learning_rate': 0.00010993836021278392, 'epoch': 0.93}\n"
     ]
    },
    {
     "name": "stderr",
     "output_type": "stream",
     "text": [
      "/home/aeolian83/anaconda3/envs/llm_for_p311/lib/python3.11/site-packages/peft/utils/save_and_load.py:168: UserWarning: Setting `save_embedding_layers` to `True` as the embedding layer has been resized during finetuning.\n",
      "  warnings.warn(\n"
     ]
    },
    {
     "name": "stdout",
     "output_type": "stream",
     "text": [
      "{'loss': 1.6311, 'grad_norm': 0.23828125, 'learning_rate': 0.00010976948408342482, 'epoch': 0.94}\n",
      "{'loss': 1.6705, 'grad_norm': 0.384765625, 'learning_rate': 0.0001096006079540657, 'epoch': 0.94}\n"
     ]
    },
    {
     "name": "stderr",
     "output_type": "stream",
     "text": [
      "/home/aeolian83/anaconda3/envs/llm_for_p311/lib/python3.11/site-packages/peft/utils/save_and_load.py:168: UserWarning: Setting `save_embedding_layers` to `True` as the embedding layer has been resized during finetuning.\n",
      "  warnings.warn(\n"
     ]
    },
    {
     "name": "stdout",
     "output_type": "stream",
     "text": [
      "{'loss': 1.7819, 'grad_norm': 0.396484375, 'learning_rate': 0.00010943173182470659, 'epoch': 0.94}\n",
      "{'loss': 1.8548, 'grad_norm': 0.62109375, 'learning_rate': 0.00010926285569534746, 'epoch': 0.94}\n"
     ]
    },
    {
     "name": "stderr",
     "output_type": "stream",
     "text": [
      "/home/aeolian83/anaconda3/envs/llm_for_p311/lib/python3.11/site-packages/peft/utils/save_and_load.py:168: UserWarning: Setting `save_embedding_layers` to `True` as the embedding layer has been resized during finetuning.\n",
      "  warnings.warn(\n"
     ]
    },
    {
     "name": "stdout",
     "output_type": "stream",
     "text": [
      "{'loss': 1.626, 'grad_norm': 0.7890625, 'learning_rate': 0.00010909397956598835, 'epoch': 0.94}\n",
      "{'loss': 1.6844, 'grad_norm': 0.25390625, 'learning_rate': 0.00010892510343662922, 'epoch': 0.94}\n"
     ]
    },
    {
     "name": "stderr",
     "output_type": "stream",
     "text": [
      "/home/aeolian83/anaconda3/envs/llm_for_p311/lib/python3.11/site-packages/peft/utils/save_and_load.py:168: UserWarning: Setting `save_embedding_layers` to `True` as the embedding layer has been resized during finetuning.\n",
      "  warnings.warn(\n"
     ]
    },
    {
     "name": "stdout",
     "output_type": "stream",
     "text": [
      "{'loss': 1.6468, 'grad_norm': 0.28125, 'learning_rate': 0.00010875622730727013, 'epoch': 0.95}\n",
      "{'loss': 1.735, 'grad_norm': 0.380859375, 'learning_rate': 0.000108587351177911, 'epoch': 0.95}\n"
     ]
    },
    {
     "name": "stderr",
     "output_type": "stream",
     "text": [
      "/home/aeolian83/anaconda3/envs/llm_for_p311/lib/python3.11/site-packages/peft/utils/save_and_load.py:168: UserWarning: Setting `save_embedding_layers` to `True` as the embedding layer has been resized during finetuning.\n",
      "  warnings.warn(\n"
     ]
    },
    {
     "name": "stdout",
     "output_type": "stream",
     "text": [
      "{'loss': 1.799, 'grad_norm': 0.65234375, 'learning_rate': 0.00010841847504855189, 'epoch': 0.95}\n",
      "{'loss': 1.4772, 'grad_norm': 0.9453125, 'learning_rate': 0.00010824959891919278, 'epoch': 0.95}\n"
     ]
    },
    {
     "name": "stderr",
     "output_type": "stream",
     "text": [
      "/home/aeolian83/anaconda3/envs/llm_for_p311/lib/python3.11/site-packages/peft/utils/save_and_load.py:168: UserWarning: Setting `save_embedding_layers` to `True` as the embedding layer has been resized during finetuning.\n",
      "  warnings.warn(\n"
     ]
    },
    {
     "name": "stdout",
     "output_type": "stream",
     "text": [
      "{'loss': 1.4827, 'grad_norm': 0.216796875, 'learning_rate': 0.00010808072278983365, 'epoch': 0.95}\n",
      "{'loss': 1.6849, 'grad_norm': 0.265625, 'learning_rate': 0.00010791184666047456, 'epoch': 0.95}\n"
     ]
    },
    {
     "name": "stderr",
     "output_type": "stream",
     "text": [
      "/home/aeolian83/anaconda3/envs/llm_for_p311/lib/python3.11/site-packages/peft/utils/save_and_load.py:168: UserWarning: Setting `save_embedding_layers` to `True` as the embedding layer has been resized during finetuning.\n",
      "  warnings.warn(\n"
     ]
    },
    {
     "name": "stdout",
     "output_type": "stream",
     "text": [
      "{'loss': 1.7511, 'grad_norm': 0.337890625, 'learning_rate': 0.00010774297053111543, 'epoch': 0.95}\n",
      "{'loss': 1.7559, 'grad_norm': 0.3828125, 'learning_rate': 0.00010757409440175632, 'epoch': 0.96}\n"
     ]
    },
    {
     "name": "stderr",
     "output_type": "stream",
     "text": [
      "/home/aeolian83/anaconda3/envs/llm_for_p311/lib/python3.11/site-packages/peft/utils/save_and_load.py:168: UserWarning: Setting `save_embedding_layers` to `True` as the embedding layer has been resized during finetuning.\n",
      "  warnings.warn(\n"
     ]
    },
    {
     "name": "stdout",
     "output_type": "stream",
     "text": [
      "{'loss': 1.6352, 'grad_norm': 0.69140625, 'learning_rate': 0.0001074052182723972, 'epoch': 0.96}\n",
      "{'loss': 1.8676, 'grad_norm': 0.2490234375, 'learning_rate': 0.00010723634214303808, 'epoch': 0.96}\n"
     ]
    },
    {
     "name": "stderr",
     "output_type": "stream",
     "text": [
      "/home/aeolian83/anaconda3/envs/llm_for_p311/lib/python3.11/site-packages/peft/utils/save_and_load.py:168: UserWarning: Setting `save_embedding_layers` to `True` as the embedding layer has been resized during finetuning.\n",
      "  warnings.warn(\n"
     ]
    },
    {
     "name": "stdout",
     "output_type": "stream",
     "text": [
      "{'loss': 1.7532, 'grad_norm': 0.30859375, 'learning_rate': 0.00010706746601367896, 'epoch': 0.96}\n",
      "{'loss': 1.7558, 'grad_norm': 0.390625, 'learning_rate': 0.00010689858988431986, 'epoch': 0.96}\n"
     ]
    },
    {
     "name": "stderr",
     "output_type": "stream",
     "text": [
      "/home/aeolian83/anaconda3/envs/llm_for_p311/lib/python3.11/site-packages/peft/utils/save_and_load.py:168: UserWarning: Setting `save_embedding_layers` to `True` as the embedding layer has been resized during finetuning.\n",
      "  warnings.warn(\n"
     ]
    },
    {
     "name": "stdout",
     "output_type": "stream",
     "text": [
      "{'loss': 1.8675, 'grad_norm': 0.50390625, 'learning_rate': 0.00010672971375496075, 'epoch': 0.96}\n",
      "{'loss': 1.4898, 'grad_norm': 0.671875, 'learning_rate': 0.00010656083762560163, 'epoch': 0.97}\n"
     ]
    },
    {
     "name": "stderr",
     "output_type": "stream",
     "text": [
      "/home/aeolian83/anaconda3/envs/llm_for_p311/lib/python3.11/site-packages/peft/utils/save_and_load.py:168: UserWarning: Setting `save_embedding_layers` to `True` as the embedding layer has been resized during finetuning.\n",
      "  warnings.warn(\n"
     ]
    },
    {
     "name": "stdout",
     "output_type": "stream",
     "text": [
      "{'loss': 1.6656, 'grad_norm': 0.2890625, 'learning_rate': 0.0001063919614962425, 'epoch': 0.97}\n",
      "{'loss': 1.7155, 'grad_norm': 0.2216796875, 'learning_rate': 0.00010622308536688339, 'epoch': 0.97}\n"
     ]
    },
    {
     "name": "stderr",
     "output_type": "stream",
     "text": [
      "/home/aeolian83/anaconda3/envs/llm_for_p311/lib/python3.11/site-packages/peft/utils/save_and_load.py:168: UserWarning: Setting `save_embedding_layers` to `True` as the embedding layer has been resized during finetuning.\n",
      "  warnings.warn(\n"
     ]
    },
    {
     "name": "stdout",
     "output_type": "stream",
     "text": [
      "{'loss': 1.9131, 'grad_norm': 0.38671875, 'learning_rate': 0.00010605420923752428, 'epoch': 0.97}\n",
      "{'loss': 1.7645, 'grad_norm': 0.59375, 'learning_rate': 0.00010588533310816518, 'epoch': 0.97}\n"
     ]
    },
    {
     "name": "stderr",
     "output_type": "stream",
     "text": [
      "/home/aeolian83/anaconda3/envs/llm_for_p311/lib/python3.11/site-packages/peft/utils/save_and_load.py:168: UserWarning: Setting `save_embedding_layers` to `True` as the embedding layer has been resized during finetuning.\n",
      "  warnings.warn(\n"
     ]
    },
    {
     "name": "stdout",
     "output_type": "stream",
     "text": [
      "{'loss': 1.3998, 'grad_norm': 1.515625, 'learning_rate': 0.00010571645697880605, 'epoch': 0.97}\n",
      "{'loss': 1.691, 'grad_norm': 0.2099609375, 'learning_rate': 0.00010554758084944693, 'epoch': 0.98}\n"
     ]
    },
    {
     "name": "stderr",
     "output_type": "stream",
     "text": [
      "/home/aeolian83/anaconda3/envs/llm_for_p311/lib/python3.11/site-packages/peft/utils/save_and_load.py:168: UserWarning: Setting `save_embedding_layers` to `True` as the embedding layer has been resized during finetuning.\n",
      "  warnings.warn(\n"
     ]
    },
    {
     "name": "stdout",
     "output_type": "stream",
     "text": [
      "{'loss': 1.7555, 'grad_norm': 0.37890625, 'learning_rate': 0.00010537870472008782, 'epoch': 0.98}\n",
      "{'loss': 1.8248, 'grad_norm': 0.349609375, 'learning_rate': 0.00010520982859072869, 'epoch': 0.98}\n"
     ]
    },
    {
     "name": "stderr",
     "output_type": "stream",
     "text": [
      "/home/aeolian83/anaconda3/envs/llm_for_p311/lib/python3.11/site-packages/peft/utils/save_and_load.py:168: UserWarning: Setting `save_embedding_layers` to `True` as the embedding layer has been resized during finetuning.\n",
      "  warnings.warn(\n"
     ]
    },
    {
     "name": "stdout",
     "output_type": "stream",
     "text": [
      "{'loss': 1.6343, 'grad_norm': 0.392578125, 'learning_rate': 0.00010504095246136958, 'epoch': 0.98}\n",
      "{'loss': 1.7756, 'grad_norm': 0.68359375, 'learning_rate': 0.00010487207633201048, 'epoch': 0.98}\n"
     ]
    },
    {
     "name": "stderr",
     "output_type": "stream",
     "text": [
      "/home/aeolian83/anaconda3/envs/llm_for_p311/lib/python3.11/site-packages/peft/utils/save_and_load.py:168: UserWarning: Setting `save_embedding_layers` to `True` as the embedding layer has been resized during finetuning.\n",
      "  warnings.warn(\n"
     ]
    },
    {
     "name": "stdout",
     "output_type": "stream",
     "text": [
      "{'loss': 1.634, 'grad_norm': 0.21484375, 'learning_rate': 0.00010470320020265136, 'epoch': 0.98}\n",
      "{'loss': 1.7631, 'grad_norm': 0.24609375, 'learning_rate': 0.00010453432407329225, 'epoch': 0.99}\n"
     ]
    },
    {
     "name": "stderr",
     "output_type": "stream",
     "text": [
      "/home/aeolian83/anaconda3/envs/llm_for_p311/lib/python3.11/site-packages/peft/utils/save_and_load.py:168: UserWarning: Setting `save_embedding_layers` to `True` as the embedding layer has been resized during finetuning.\n",
      "  warnings.warn(\n"
     ]
    },
    {
     "name": "stdout",
     "output_type": "stream",
     "text": [
      "{'loss': 1.8136, 'grad_norm': 0.373046875, 'learning_rate': 0.00010436544794393312, 'epoch': 0.99}\n",
      "{'loss': 1.6801, 'grad_norm': 0.71875, 'learning_rate': 0.000104196571814574, 'epoch': 0.99}\n"
     ]
    },
    {
     "name": "stderr",
     "output_type": "stream",
     "text": [
      "/home/aeolian83/anaconda3/envs/llm_for_p311/lib/python3.11/site-packages/peft/utils/save_and_load.py:168: UserWarning: Setting `save_embedding_layers` to `True` as the embedding layer has been resized during finetuning.\n",
      "  warnings.warn(\n"
     ]
    },
    {
     "name": "stdout",
     "output_type": "stream",
     "text": [
      "{'loss': 1.6198, 'grad_norm': 0.8359375, 'learning_rate': 0.0001040276956852149, 'epoch': 0.99}\n",
      "{'loss': 1.6657, 'grad_norm': 0.220703125, 'learning_rate': 0.00010385881955585579, 'epoch': 0.99}\n"
     ]
    },
    {
     "name": "stderr",
     "output_type": "stream",
     "text": [
      "/home/aeolian83/anaconda3/envs/llm_for_p311/lib/python3.11/site-packages/peft/utils/save_and_load.py:168: UserWarning: Setting `save_embedding_layers` to `True` as the embedding layer has been resized during finetuning.\n",
      "  warnings.warn(\n"
     ]
    },
    {
     "name": "stdout",
     "output_type": "stream",
     "text": [
      "{'loss': 1.6652, 'grad_norm': 0.306640625, 'learning_rate': 0.00010368994342649668, 'epoch': 0.99}\n",
      "{'loss': 1.5672, 'grad_norm': 0.26953125, 'learning_rate': 0.00010352106729713755, 'epoch': 1.0}\n"
     ]
    },
    {
     "name": "stderr",
     "output_type": "stream",
     "text": [
      "/home/aeolian83/anaconda3/envs/llm_for_p311/lib/python3.11/site-packages/peft/utils/save_and_load.py:168: UserWarning: Setting `save_embedding_layers` to `True` as the embedding layer has been resized during finetuning.\n",
      "  warnings.warn(\n"
     ]
    },
    {
     "name": "stdout",
     "output_type": "stream",
     "text": [
      "{'loss': 1.7594, 'grad_norm': 0.58203125, 'learning_rate': 0.00010335219116777843, 'epoch': 1.0}\n",
      "{'loss': 1.6529, 'grad_norm': 0.74609375, 'learning_rate': 0.00010318331503841932, 'epoch': 1.0}\n"
     ]
    },
    {
     "name": "stderr",
     "output_type": "stream",
     "text": [
      "/home/aeolian83/anaconda3/envs/llm_for_p311/lib/python3.11/site-packages/peft/utils/save_and_load.py:168: UserWarning: Setting `save_embedding_layers` to `True` as the embedding layer has been resized during finetuning.\n",
      "  warnings.warn(\n"
     ]
    },
    {
     "name": "stdout",
     "output_type": "stream",
     "text": [
      "{'loss': 1.8514, 'grad_norm': 0.1787109375, 'learning_rate': 0.00010301443890906022, 'epoch': 1.0}\n",
      "{'loss': 1.6059, 'grad_norm': 0.2333984375, 'learning_rate': 0.0001028455627797011, 'epoch': 1.0}\n"
     ]
    },
    {
     "name": "stderr",
     "output_type": "stream",
     "text": [
      "/home/aeolian83/anaconda3/envs/llm_for_p311/lib/python3.11/site-packages/peft/utils/save_and_load.py:168: UserWarning: Setting `save_embedding_layers` to `True` as the embedding layer has been resized during finetuning.\n",
      "  warnings.warn(\n"
     ]
    },
    {
     "name": "stdout",
     "output_type": "stream",
     "text": [
      "{'loss': 1.5773, 'grad_norm': 0.31640625, 'learning_rate': 0.00010267668665034198, 'epoch': 1.0}\n",
      "{'loss': 1.7261, 'grad_norm': 0.3828125, 'learning_rate': 0.00010250781052098286, 'epoch': 1.01}\n"
     ]
    },
    {
     "name": "stderr",
     "output_type": "stream",
     "text": [
      "/home/aeolian83/anaconda3/envs/llm_for_p311/lib/python3.11/site-packages/peft/utils/save_and_load.py:168: UserWarning: Setting `save_embedding_layers` to `True` as the embedding layer has been resized during finetuning.\n",
      "  warnings.warn(\n"
     ]
    },
    {
     "name": "stdout",
     "output_type": "stream",
     "text": [
      "{'loss': 1.7115, 'grad_norm': 0.453125, 'learning_rate': 0.00010233893439162375, 'epoch': 1.01}\n",
      "{'loss': 1.4712, 'grad_norm': 0.2060546875, 'learning_rate': 0.00010217005826226462, 'epoch': 1.01}\n"
     ]
    },
    {
     "name": "stderr",
     "output_type": "stream",
     "text": [
      "/home/aeolian83/anaconda3/envs/llm_for_p311/lib/python3.11/site-packages/peft/utils/save_and_load.py:168: UserWarning: Setting `save_embedding_layers` to `True` as the embedding layer has been resized during finetuning.\n",
      "  warnings.warn(\n"
     ]
    },
    {
     "name": "stdout",
     "output_type": "stream",
     "text": [
      "{'loss': 1.4828, 'grad_norm': 0.3359375, 'learning_rate': 0.00010200118213290552, 'epoch': 1.01}\n",
      "{'loss': 1.6581, 'grad_norm': 0.3359375, 'learning_rate': 0.0001018323060035464, 'epoch': 1.01}\n"
     ]
    },
    {
     "name": "stderr",
     "output_type": "stream",
     "text": [
      "/home/aeolian83/anaconda3/envs/llm_for_p311/lib/python3.11/site-packages/peft/utils/save_and_load.py:168: UserWarning: Setting `save_embedding_layers` to `True` as the embedding layer has been resized during finetuning.\n",
      "  warnings.warn(\n"
     ]
    },
    {
     "name": "stdout",
     "output_type": "stream",
     "text": [
      "{'loss': 1.6625, 'grad_norm': 0.4453125, 'learning_rate': 0.00010166342987418729, 'epoch': 1.01}\n",
      "{'loss': 1.7863, 'grad_norm': 0.62109375, 'learning_rate': 0.00010149455374482816, 'epoch': 1.02}\n"
     ]
    },
    {
     "name": "stderr",
     "output_type": "stream",
     "text": [
      "/home/aeolian83/anaconda3/envs/llm_for_p311/lib/python3.11/site-packages/peft/utils/save_and_load.py:168: UserWarning: Setting `save_embedding_layers` to `True` as the embedding layer has been resized during finetuning.\n",
      "  warnings.warn(\n"
     ]
    },
    {
     "name": "stdout",
     "output_type": "stream",
     "text": [
      "{'loss': 1.619, 'grad_norm': 0.2041015625, 'learning_rate': 0.00010132567761546905, 'epoch': 1.02}\n",
      "{'loss': 1.7596, 'grad_norm': 0.2470703125, 'learning_rate': 0.00010115680148610995, 'epoch': 1.02}\n"
     ]
    },
    {
     "name": "stderr",
     "output_type": "stream",
     "text": [
      "/home/aeolian83/anaconda3/envs/llm_for_p311/lib/python3.11/site-packages/peft/utils/save_and_load.py:168: UserWarning: Setting `save_embedding_layers` to `True` as the embedding layer has been resized during finetuning.\n",
      "  warnings.warn(\n"
     ]
    },
    {
     "name": "stdout",
     "output_type": "stream",
     "text": [
      "{'loss': 1.7122, 'grad_norm': 0.396484375, 'learning_rate': 0.00010098792535675083, 'epoch': 1.02}\n",
      "{'loss': 1.6813, 'grad_norm': 0.4296875, 'learning_rate': 0.00010081904922739172, 'epoch': 1.02}\n"
     ]
    },
    {
     "name": "stderr",
     "output_type": "stream",
     "text": [
      "/home/aeolian83/anaconda3/envs/llm_for_p311/lib/python3.11/site-packages/peft/utils/save_and_load.py:168: UserWarning: Setting `save_embedding_layers` to `True` as the embedding layer has been resized during finetuning.\n",
      "  warnings.warn(\n"
     ]
    },
    {
     "name": "stdout",
     "output_type": "stream",
     "text": [
      "{'loss': 1.5491, 'grad_norm': 0.63671875, 'learning_rate': 0.00010065017309803259, 'epoch': 1.02}\n",
      "{'loss': 1.5967, 'grad_norm': 0.216796875, 'learning_rate': 0.00010048129696867348, 'epoch': 1.03}\n"
     ]
    },
    {
     "name": "stderr",
     "output_type": "stream",
     "text": [
      "/home/aeolian83/anaconda3/envs/llm_for_p311/lib/python3.11/site-packages/peft/utils/save_and_load.py:168: UserWarning: Setting `save_embedding_layers` to `True` as the embedding layer has been resized during finetuning.\n",
      "  warnings.warn(\n"
     ]
    },
    {
     "name": "stdout",
     "output_type": "stream",
     "text": [
      "{'loss': 1.5945, 'grad_norm': 0.28125, 'learning_rate': 0.00010031242083931436, 'epoch': 1.03}\n",
      "{'loss': 1.6101, 'grad_norm': 0.353515625, 'learning_rate': 0.00010014354470995526, 'epoch': 1.03}\n"
     ]
    },
    {
     "name": "stderr",
     "output_type": "stream",
     "text": [
      "/home/aeolian83/anaconda3/envs/llm_for_p311/lib/python3.11/site-packages/peft/utils/save_and_load.py:168: UserWarning: Setting `save_embedding_layers` to `True` as the embedding layer has been resized during finetuning.\n",
      "  warnings.warn(\n"
     ]
    },
    {
     "name": "stdout",
     "output_type": "stream",
     "text": [
      "{'loss': 1.6017, 'grad_norm': 0.439453125, 'learning_rate': 9.997466858059615e-05, 'epoch': 1.03}\n",
      "{'loss': 1.7285, 'grad_norm': 0.453125, 'learning_rate': 9.980579245123702e-05, 'epoch': 1.03}\n"
     ]
    },
    {
     "name": "stderr",
     "output_type": "stream",
     "text": [
      "/home/aeolian83/anaconda3/envs/llm_for_p311/lib/python3.11/site-packages/peft/utils/save_and_load.py:168: UserWarning: Setting `save_embedding_layers` to `True` as the embedding layer has been resized during finetuning.\n",
      "  warnings.warn(\n"
     ]
    },
    {
     "name": "stdout",
     "output_type": "stream",
     "text": [
      "{'loss': 1.687, 'grad_norm': 0.21484375, 'learning_rate': 9.96369163218779e-05, 'epoch': 1.03}\n",
      "{'loss': 1.3906, 'grad_norm': 0.23046875, 'learning_rate': 9.946804019251879e-05, 'epoch': 1.04}\n"
     ]
    },
    {
     "name": "stderr",
     "output_type": "stream",
     "text": [
      "/home/aeolian83/anaconda3/envs/llm_for_p311/lib/python3.11/site-packages/peft/utils/save_and_load.py:168: UserWarning: Setting `save_embedding_layers` to `True` as the embedding layer has been resized during finetuning.\n",
      "  warnings.warn(\n"
     ]
    },
    {
     "name": "stdout",
     "output_type": "stream",
     "text": [
      "{'loss': 1.4183, 'grad_norm': 0.267578125, 'learning_rate': 9.929916406315968e-05, 'epoch': 1.04}\n",
      "{'loss': 1.619, 'grad_norm': 0.451171875, 'learning_rate': 9.913028793380056e-05, 'epoch': 1.04}\n"
     ]
    },
    {
     "name": "stderr",
     "output_type": "stream",
     "text": [
      "/home/aeolian83/anaconda3/envs/llm_for_p311/lib/python3.11/site-packages/peft/utils/save_and_load.py:168: UserWarning: Setting `save_embedding_layers` to `True` as the embedding layer has been resized during finetuning.\n",
      "  warnings.warn(\n"
     ]
    },
    {
     "name": "stdout",
     "output_type": "stream",
     "text": [
      "{'loss': 1.7862, 'grad_norm': 0.8671875, 'learning_rate': 9.896141180444145e-05, 'epoch': 1.04}\n",
      "{'loss': 1.5763, 'grad_norm': 0.2734375, 'learning_rate': 9.879253567508233e-05, 'epoch': 1.04}\n"
     ]
    },
    {
     "name": "stderr",
     "output_type": "stream",
     "text": [
      "/home/aeolian83/anaconda3/envs/llm_for_p311/lib/python3.11/site-packages/peft/utils/save_and_load.py:168: UserWarning: Setting `save_embedding_layers` to `True` as the embedding layer has been resized during finetuning.\n",
      "  warnings.warn(\n"
     ]
    },
    {
     "name": "stdout",
     "output_type": "stream",
     "text": [
      "{'loss': 1.5496, 'grad_norm': 0.2890625, 'learning_rate': 9.86236595457232e-05, 'epoch': 1.04}\n",
      "{'loss': 1.5913, 'grad_norm': 0.71484375, 'learning_rate': 9.84547834163641e-05, 'epoch': 1.05}\n"
     ]
    },
    {
     "name": "stderr",
     "output_type": "stream",
     "text": [
      "/home/aeolian83/anaconda3/envs/llm_for_p311/lib/python3.11/site-packages/peft/utils/save_and_load.py:168: UserWarning: Setting `save_embedding_layers` to `True` as the embedding layer has been resized during finetuning.\n",
      "  warnings.warn(\n"
     ]
    },
    {
     "name": "stdout",
     "output_type": "stream",
     "text": [
      "{'loss': 1.8506, 'grad_norm': 0.421875, 'learning_rate': 9.828590728700499e-05, 'epoch': 1.05}\n",
      "{'loss': 1.5979, 'grad_norm': 0.67578125, 'learning_rate': 9.811703115764586e-05, 'epoch': 1.05}\n"
     ]
    },
    {
     "name": "stderr",
     "output_type": "stream",
     "text": [
      "/home/aeolian83/anaconda3/envs/llm_for_p311/lib/python3.11/site-packages/peft/utils/save_and_load.py:168: UserWarning: Setting `save_embedding_layers` to `True` as the embedding layer has been resized during finetuning.\n",
      "  warnings.warn(\n"
     ]
    },
    {
     "name": "stdout",
     "output_type": "stream",
     "text": [
      "{'loss': 1.5753, 'grad_norm': 0.31640625, 'learning_rate': 9.794815502828676e-05, 'epoch': 1.05}\n",
      "{'loss': 1.6771, 'grad_norm': 0.25390625, 'learning_rate': 9.777927889892763e-05, 'epoch': 1.05}\n"
     ]
    },
    {
     "name": "stderr",
     "output_type": "stream",
     "text": [
      "/home/aeolian83/anaconda3/envs/llm_for_p311/lib/python3.11/site-packages/peft/utils/save_and_load.py:168: UserWarning: Setting `save_embedding_layers` to `True` as the embedding layer has been resized during finetuning.\n",
      "  warnings.warn(\n"
     ]
    },
    {
     "name": "stdout",
     "output_type": "stream",
     "text": [
      "{'loss': 1.6009, 'grad_norm': 0.3828125, 'learning_rate': 9.761040276956852e-05, 'epoch': 1.05}\n",
      "{'loss': 1.7085, 'grad_norm': 0.53125, 'learning_rate': 9.744152664020942e-05, 'epoch': 1.05}\n"
     ]
    },
    {
     "name": "stderr",
     "output_type": "stream",
     "text": [
      "/home/aeolian83/anaconda3/envs/llm_for_p311/lib/python3.11/site-packages/peft/utils/save_and_load.py:168: UserWarning: Setting `save_embedding_layers` to `True` as the embedding layer has been resized during finetuning.\n",
      "  warnings.warn(\n"
     ]
    },
    {
     "name": "stdout",
     "output_type": "stream",
     "text": [
      "{'loss': 1.4764, 'grad_norm': 0.8984375, 'learning_rate': 9.727265051085029e-05, 'epoch': 1.06}\n",
      "{'loss': 1.4211, 'grad_norm': 0.26953125, 'learning_rate': 9.710377438149119e-05, 'epoch': 1.06}\n"
     ]
    },
    {
     "name": "stderr",
     "output_type": "stream",
     "text": [
      "/home/aeolian83/anaconda3/envs/llm_for_p311/lib/python3.11/site-packages/peft/utils/save_and_load.py:168: UserWarning: Setting `save_embedding_layers` to `True` as the embedding layer has been resized during finetuning.\n",
      "  warnings.warn(\n"
     ]
    },
    {
     "name": "stdout",
     "output_type": "stream",
     "text": [
      "{'loss': 1.6689, 'grad_norm': 0.361328125, 'learning_rate': 9.693489825213206e-05, 'epoch': 1.06}\n",
      "{'loss': 1.7701, 'grad_norm': 0.388671875, 'learning_rate': 9.676602212277295e-05, 'epoch': 1.06}\n"
     ]
    },
    {
     "name": "stderr",
     "output_type": "stream",
     "text": [
      "/home/aeolian83/anaconda3/envs/llm_for_p311/lib/python3.11/site-packages/peft/utils/save_and_load.py:168: UserWarning: Setting `save_embedding_layers` to `True` as the embedding layer has been resized during finetuning.\n",
      "  warnings.warn(\n"
     ]
    },
    {
     "name": "stdout",
     "output_type": "stream",
     "text": [
      "{'loss': 1.8599, 'grad_norm': 0.55859375, 'learning_rate': 9.659714599341383e-05, 'epoch': 1.06}\n",
      "{'loss': 1.5729, 'grad_norm': 0.76953125, 'learning_rate': 9.642826986405472e-05, 'epoch': 1.06}\n"
     ]
    },
    {
     "name": "stderr",
     "output_type": "stream",
     "text": [
      "/home/aeolian83/anaconda3/envs/llm_for_p311/lib/python3.11/site-packages/peft/utils/save_and_load.py:168: UserWarning: Setting `save_embedding_layers` to `True` as the embedding layer has been resized during finetuning.\n",
      "  warnings.warn(\n"
     ]
    },
    {
     "name": "stdout",
     "output_type": "stream",
     "text": [
      "{'loss': 1.8616, 'grad_norm': 0.2890625, 'learning_rate': 9.62593937346956e-05, 'epoch': 1.07}\n",
      "{'loss': 1.4973, 'grad_norm': 0.21875, 'learning_rate': 9.609051760533649e-05, 'epoch': 1.07}\n"
     ]
    },
    {
     "name": "stderr",
     "output_type": "stream",
     "text": [
      "/home/aeolian83/anaconda3/envs/llm_for_p311/lib/python3.11/site-packages/peft/utils/save_and_load.py:168: UserWarning: Setting `save_embedding_layers` to `True` as the embedding layer has been resized during finetuning.\n",
      "  warnings.warn(\n"
     ]
    },
    {
     "name": "stdout",
     "output_type": "stream",
     "text": [
      "{'loss': 1.5283, 'grad_norm': 0.31640625, 'learning_rate': 9.592164147597738e-05, 'epoch': 1.07}\n",
      "{'loss': 1.7374, 'grad_norm': 0.5546875, 'learning_rate': 9.575276534661826e-05, 'epoch': 1.07}\n"
     ]
    },
    {
     "name": "stderr",
     "output_type": "stream",
     "text": [
      "/home/aeolian83/anaconda3/envs/llm_for_p311/lib/python3.11/site-packages/peft/utils/save_and_load.py:168: UserWarning: Setting `save_embedding_layers` to `True` as the embedding layer has been resized during finetuning.\n",
      "  warnings.warn(\n"
     ]
    },
    {
     "name": "stdout",
     "output_type": "stream",
     "text": [
      "{'loss': 1.6661, 'grad_norm': 0.67578125, 'learning_rate': 9.558388921725915e-05, 'epoch': 1.07}\n",
      "{'loss': 1.539, 'grad_norm': 0.26171875, 'learning_rate': 9.541501308790003e-05, 'epoch': 1.07}\n"
     ]
    },
    {
     "name": "stderr",
     "output_type": "stream",
     "text": [
      "/home/aeolian83/anaconda3/envs/llm_for_p311/lib/python3.11/site-packages/peft/utils/save_and_load.py:168: UserWarning: Setting `save_embedding_layers` to `True` as the embedding layer has been resized during finetuning.\n",
      "  warnings.warn(\n"
     ]
    },
    {
     "name": "stdout",
     "output_type": "stream",
     "text": [
      "{'loss': 1.7409, 'grad_norm': 0.34375, 'learning_rate': 9.52461369585409e-05, 'epoch': 1.08}\n",
      "{'loss': 1.4964, 'grad_norm': 0.31640625, 'learning_rate': 9.50772608291818e-05, 'epoch': 1.08}\n"
     ]
    },
    {
     "name": "stderr",
     "output_type": "stream",
     "text": [
      "/home/aeolian83/anaconda3/envs/llm_for_p311/lib/python3.11/site-packages/peft/utils/save_and_load.py:168: UserWarning: Setting `save_embedding_layers` to `True` as the embedding layer has been resized during finetuning.\n",
      "  warnings.warn(\n"
     ]
    },
    {
     "name": "stdout",
     "output_type": "stream",
     "text": [
      "{'loss': 1.6132, 'grad_norm': 0.486328125, 'learning_rate': 9.490838469982268e-05, 'epoch': 1.08}\n",
      "{'loss': 1.7795, 'grad_norm': 0.734375, 'learning_rate': 9.473950857046356e-05, 'epoch': 1.08}\n"
     ]
    },
    {
     "name": "stderr",
     "output_type": "stream",
     "text": [
      "/home/aeolian83/anaconda3/envs/llm_for_p311/lib/python3.11/site-packages/peft/utils/save_and_load.py:168: UserWarning: Setting `save_embedding_layers` to `True` as the embedding layer has been resized during finetuning.\n",
      "  warnings.warn(\n"
     ]
    },
    {
     "name": "stdout",
     "output_type": "stream",
     "text": [
      "{'loss': 1.5184, 'grad_norm': 0.267578125, 'learning_rate': 9.457063244110446e-05, 'epoch': 1.08}\n",
      "{'loss': 1.5886, 'grad_norm': 0.455078125, 'learning_rate': 9.440175631174533e-05, 'epoch': 1.08}\n"
     ]
    },
    {
     "name": "stderr",
     "output_type": "stream",
     "text": [
      "/home/aeolian83/anaconda3/envs/llm_for_p311/lib/python3.11/site-packages/peft/utils/save_and_load.py:168: UserWarning: Setting `save_embedding_layers` to `True` as the embedding layer has been resized during finetuning.\n",
      "  warnings.warn(\n"
     ]
    },
    {
     "name": "stdout",
     "output_type": "stream",
     "text": [
      "{'loss': 1.7205, 'grad_norm': 0.310546875, 'learning_rate': 9.423288018238623e-05, 'epoch': 1.09}\n",
      "{'loss': 1.6325, 'grad_norm': 0.451171875, 'learning_rate': 9.40640040530271e-05, 'epoch': 1.09}\n"
     ]
    },
    {
     "name": "stderr",
     "output_type": "stream",
     "text": [
      "/home/aeolian83/anaconda3/envs/llm_for_p311/lib/python3.11/site-packages/peft/utils/save_and_load.py:168: UserWarning: Setting `save_embedding_layers` to `True` as the embedding layer has been resized during finetuning.\n",
      "  warnings.warn(\n"
     ]
    },
    {
     "name": "stdout",
     "output_type": "stream",
     "text": [
      "{'loss': 1.7205, 'grad_norm': 0.640625, 'learning_rate': 9.389512792366799e-05, 'epoch': 1.09}\n",
      "{'loss': 1.6068, 'grad_norm': 0.291015625, 'learning_rate': 9.372625179430889e-05, 'epoch': 1.09}\n"
     ]
    },
    {
     "name": "stderr",
     "output_type": "stream",
     "text": [
      "/home/aeolian83/anaconda3/envs/llm_for_p311/lib/python3.11/site-packages/peft/utils/save_and_load.py:168: UserWarning: Setting `save_embedding_layers` to `True` as the embedding layer has been resized during finetuning.\n",
      "  warnings.warn(\n"
     ]
    },
    {
     "name": "stdout",
     "output_type": "stream",
     "text": [
      "{'loss': 1.5917, 'grad_norm': 0.259765625, 'learning_rate': 9.355737566494976e-05, 'epoch': 1.09}\n",
      "{'loss': 1.594, 'grad_norm': 0.412109375, 'learning_rate': 9.338849953559065e-05, 'epoch': 1.09}\n"
     ]
    },
    {
     "name": "stderr",
     "output_type": "stream",
     "text": [
      "/home/aeolian83/anaconda3/envs/llm_for_p311/lib/python3.11/site-packages/peft/utils/save_and_load.py:168: UserWarning: Setting `save_embedding_layers` to `True` as the embedding layer has been resized during finetuning.\n",
      "  warnings.warn(\n"
     ]
    },
    {
     "name": "stdout",
     "output_type": "stream",
     "text": [
      "{'loss': 1.7015, 'grad_norm': 0.423828125, 'learning_rate': 9.321962340623153e-05, 'epoch': 1.1}\n",
      "{'loss': 1.7667, 'grad_norm': 0.55859375, 'learning_rate': 9.305074727687242e-05, 'epoch': 1.1}\n"
     ]
    },
    {
     "name": "stderr",
     "output_type": "stream",
     "text": [
      "/home/aeolian83/anaconda3/envs/llm_for_p311/lib/python3.11/site-packages/peft/utils/save_and_load.py:168: UserWarning: Setting `save_embedding_layers` to `True` as the embedding layer has been resized during finetuning.\n",
      "  warnings.warn(\n"
     ]
    },
    {
     "name": "stdout",
     "output_type": "stream",
     "text": [
      "{'loss': 1.6927, 'grad_norm': 0.330078125, 'learning_rate': 9.28818711475133e-05, 'epoch': 1.1}\n",
      "{'loss': 1.5384, 'grad_norm': 0.32421875, 'learning_rate': 9.271299501815419e-05, 'epoch': 1.1}\n"
     ]
    },
    {
     "name": "stderr",
     "output_type": "stream",
     "text": [
      "/home/aeolian83/anaconda3/envs/llm_for_p311/lib/python3.11/site-packages/peft/utils/save_and_load.py:168: UserWarning: Setting `save_embedding_layers` to `True` as the embedding layer has been resized during finetuning.\n",
      "  warnings.warn(\n"
     ]
    },
    {
     "name": "stdout",
     "output_type": "stream",
     "text": [
      "{'loss': 1.6705, 'grad_norm': 0.333984375, 'learning_rate': 9.254411888879508e-05, 'epoch': 1.1}\n",
      "{'loss': 1.8404, 'grad_norm': 0.44921875, 'learning_rate': 9.237524275943595e-05, 'epoch': 1.1}\n"
     ]
    },
    {
     "name": "stderr",
     "output_type": "stream",
     "text": [
      "/home/aeolian83/anaconda3/envs/llm_for_p311/lib/python3.11/site-packages/peft/utils/save_and_load.py:168: UserWarning: Setting `save_embedding_layers` to `True` as the embedding layer has been resized during finetuning.\n",
      "  warnings.warn(\n"
     ]
    },
    {
     "name": "stdout",
     "output_type": "stream",
     "text": [
      "{'loss': 1.7264, 'grad_norm': 0.77734375, 'learning_rate': 9.220636663007685e-05, 'epoch': 1.11}\n",
      "{'loss': 1.5667, 'grad_norm': 0.248046875, 'learning_rate': 9.203749050071773e-05, 'epoch': 1.11}\n"
     ]
    },
    {
     "name": "stderr",
     "output_type": "stream",
     "text": [
      "/home/aeolian83/anaconda3/envs/llm_for_p311/lib/python3.11/site-packages/peft/utils/save_and_load.py:168: UserWarning: Setting `save_embedding_layers` to `True` as the embedding layer has been resized during finetuning.\n",
      "  warnings.warn(\n"
     ]
    },
    {
     "name": "stdout",
     "output_type": "stream",
     "text": [
      "{'loss': 1.6175, 'grad_norm': 0.375, 'learning_rate': 9.18686143713586e-05, 'epoch': 1.11}\n",
      "{'loss': 1.5574, 'grad_norm': 0.337890625, 'learning_rate': 9.16997382419995e-05, 'epoch': 1.11}\n"
     ]
    },
    {
     "name": "stderr",
     "output_type": "stream",
     "text": [
      "/home/aeolian83/anaconda3/envs/llm_for_p311/lib/python3.11/site-packages/peft/utils/save_and_load.py:168: UserWarning: Setting `save_embedding_layers` to `True` as the embedding layer has been resized during finetuning.\n",
      "  warnings.warn(\n"
     ]
    },
    {
     "name": "stdout",
     "output_type": "stream",
     "text": [
      "{'loss': 1.5996, 'grad_norm': 0.337890625, 'learning_rate': 9.153086211264038e-05, 'epoch': 1.11}\n",
      "{'loss': 1.7555, 'grad_norm': 0.6484375, 'learning_rate': 9.136198598328128e-05, 'epoch': 1.11}\n"
     ]
    },
    {
     "name": "stderr",
     "output_type": "stream",
     "text": [
      "/home/aeolian83/anaconda3/envs/llm_for_p311/lib/python3.11/site-packages/peft/utils/save_and_load.py:168: UserWarning: Setting `save_embedding_layers` to `True` as the embedding layer has been resized during finetuning.\n",
      "  warnings.warn(\n"
     ]
    },
    {
     "name": "stdout",
     "output_type": "stream",
     "text": [
      "{'loss': 1.5705, 'grad_norm': 0.298828125, 'learning_rate': 9.119310985392215e-05, 'epoch': 1.12}\n",
      "{'loss': 1.6649, 'grad_norm': 0.25390625, 'learning_rate': 9.102423372456303e-05, 'epoch': 1.12}\n"
     ]
    },
    {
     "name": "stderr",
     "output_type": "stream",
     "text": [
      "/home/aeolian83/anaconda3/envs/llm_for_p311/lib/python3.11/site-packages/peft/utils/save_and_load.py:168: UserWarning: Setting `save_embedding_layers` to `True` as the embedding layer has been resized during finetuning.\n",
      "  warnings.warn(\n"
     ]
    },
    {
     "name": "stdout",
     "output_type": "stream",
     "text": [
      "{'loss': 1.5709, 'grad_norm': 0.31640625, 'learning_rate': 9.085535759520393e-05, 'epoch': 1.12}\n",
      "{'loss': 1.6828, 'grad_norm': 0.3671875, 'learning_rate': 9.06864814658448e-05, 'epoch': 1.12}\n"
     ]
    },
    {
     "name": "stderr",
     "output_type": "stream",
     "text": [
      "/home/aeolian83/anaconda3/envs/llm_for_p311/lib/python3.11/site-packages/peft/utils/save_and_load.py:168: UserWarning: Setting `save_embedding_layers` to `True` as the embedding layer has been resized during finetuning.\n",
      "  warnings.warn(\n"
     ]
    },
    {
     "name": "stdout",
     "output_type": "stream",
     "text": [
      "{'loss': 1.6467, 'grad_norm': 0.9375, 'learning_rate': 9.051760533648569e-05, 'epoch': 1.12}\n",
      "{'loss': 1.6015, 'grad_norm': 0.2275390625, 'learning_rate': 9.034872920712658e-05, 'epoch': 1.12}\n"
     ]
    },
    {
     "name": "stderr",
     "output_type": "stream",
     "text": [
      "/home/aeolian83/anaconda3/envs/llm_for_p311/lib/python3.11/site-packages/peft/utils/save_and_load.py:168: UserWarning: Setting `save_embedding_layers` to `True` as the embedding layer has been resized during finetuning.\n",
      "  warnings.warn(\n"
     ]
    },
    {
     "name": "stdout",
     "output_type": "stream",
     "text": [
      "{'loss': 1.6301, 'grad_norm': 0.326171875, 'learning_rate': 9.017985307776746e-05, 'epoch': 1.13}\n",
      "{'loss': 1.6265, 'grad_norm': 0.32421875, 'learning_rate': 9.001097694840835e-05, 'epoch': 1.13}\n"
     ]
    },
    {
     "name": "stderr",
     "output_type": "stream",
     "text": [
      "/home/aeolian83/anaconda3/envs/llm_for_p311/lib/python3.11/site-packages/peft/utils/save_and_load.py:168: UserWarning: Setting `save_embedding_layers` to `True` as the embedding layer has been resized during finetuning.\n",
      "  warnings.warn(\n"
     ]
    },
    {
     "name": "stdout",
     "output_type": "stream",
     "text": [
      "{'loss': 1.7608, 'grad_norm': 0.5390625, 'learning_rate': 8.984210081904923e-05, 'epoch': 1.13}\n",
      "{'loss': 1.4671, 'grad_norm': 0.66796875, 'learning_rate': 8.967322468969012e-05, 'epoch': 1.13}\n"
     ]
    },
    {
     "name": "stderr",
     "output_type": "stream",
     "text": [
      "/home/aeolian83/anaconda3/envs/llm_for_p311/lib/python3.11/site-packages/peft/utils/save_and_load.py:168: UserWarning: Setting `save_embedding_layers` to `True` as the embedding layer has been resized during finetuning.\n",
      "  warnings.warn(\n"
     ]
    },
    {
     "name": "stdout",
     "output_type": "stream",
     "text": [
      "{'loss': 1.4756, 'grad_norm': 0.2275390625, 'learning_rate': 8.950434856033099e-05, 'epoch': 1.13}\n",
      "{'loss': 1.5481, 'grad_norm': 0.265625, 'learning_rate': 8.933547243097189e-05, 'epoch': 1.13}\n"
     ]
    },
    {
     "name": "stderr",
     "output_type": "stream",
     "text": [
      "/home/aeolian83/anaconda3/envs/llm_for_p311/lib/python3.11/site-packages/peft/utils/save_and_load.py:168: UserWarning: Setting `save_embedding_layers` to `True` as the embedding layer has been resized during finetuning.\n",
      "  warnings.warn(\n"
     ]
    },
    {
     "name": "stdout",
     "output_type": "stream",
     "text": [
      "{'loss': 1.741, 'grad_norm': 0.33203125, 'learning_rate': 8.916659630161278e-05, 'epoch': 1.14}\n",
      "{'loss': 1.6069, 'grad_norm': 0.462890625, 'learning_rate': 8.899772017225365e-05, 'epoch': 1.14}\n"
     ]
    },
    {
     "name": "stderr",
     "output_type": "stream",
     "text": [
      "/home/aeolian83/anaconda3/envs/llm_for_p311/lib/python3.11/site-packages/peft/utils/save_and_load.py:168: UserWarning: Setting `save_embedding_layers` to `True` as the embedding layer has been resized during finetuning.\n",
      "  warnings.warn(\n"
     ]
    },
    {
     "name": "stdout",
     "output_type": "stream",
     "text": [
      "{'loss': 1.7487, 'grad_norm': 0.64453125, 'learning_rate': 8.882884404289455e-05, 'epoch': 1.14}\n",
      "{'loss': 1.7113, 'grad_norm': 0.25390625, 'learning_rate': 8.865996791353542e-05, 'epoch': 1.14}\n"
     ]
    },
    {
     "name": "stderr",
     "output_type": "stream",
     "text": [
      "/home/aeolian83/anaconda3/envs/llm_for_p311/lib/python3.11/site-packages/peft/utils/save_and_load.py:168: UserWarning: Setting `save_embedding_layers` to `True` as the embedding layer has been resized during finetuning.\n",
      "  warnings.warn(\n"
     ]
    },
    {
     "name": "stdout",
     "output_type": "stream",
     "text": [
      "{'loss': 1.7368, 'grad_norm': 0.234375, 'learning_rate': 8.84910917841763e-05, 'epoch': 1.14}\n",
      "{'loss': 1.6577, 'grad_norm': 0.40625, 'learning_rate': 8.832221565481719e-05, 'epoch': 1.14}\n"
     ]
    },
    {
     "name": "stderr",
     "output_type": "stream",
     "text": [
      "/home/aeolian83/anaconda3/envs/llm_for_p311/lib/python3.11/site-packages/peft/utils/save_and_load.py:168: UserWarning: Setting `save_embedding_layers` to `True` as the embedding layer has been resized during finetuning.\n",
      "  warnings.warn(\n"
     ]
    },
    {
     "name": "stdout",
     "output_type": "stream",
     "text": [
      "{'loss': 1.5475, 'grad_norm': 0.29296875, 'learning_rate': 8.815333952545808e-05, 'epoch': 1.14}\n",
      "{'loss': 1.8911, 'grad_norm': 0.578125, 'learning_rate': 8.798446339609898e-05, 'epoch': 1.15}\n"
     ]
    },
    {
     "name": "stderr",
     "output_type": "stream",
     "text": [
      "/home/aeolian83/anaconda3/envs/llm_for_p311/lib/python3.11/site-packages/peft/utils/save_and_load.py:168: UserWarning: Setting `save_embedding_layers` to `True` as the embedding layer has been resized during finetuning.\n",
      "  warnings.warn(\n"
     ]
    },
    {
     "name": "stdout",
     "output_type": "stream",
     "text": [
      "{'loss': 1.4967, 'grad_norm': 0.1884765625, 'learning_rate': 8.781558726673985e-05, 'epoch': 1.15}\n",
      "{'loss': 1.6996, 'grad_norm': 0.23828125, 'learning_rate': 8.764671113738073e-05, 'epoch': 1.15}\n"
     ]
    },
    {
     "name": "stderr",
     "output_type": "stream",
     "text": [
      "/home/aeolian83/anaconda3/envs/llm_for_p311/lib/python3.11/site-packages/peft/utils/save_and_load.py:168: UserWarning: Setting `save_embedding_layers` to `True` as the embedding layer has been resized during finetuning.\n",
      "  warnings.warn(\n"
     ]
    },
    {
     "name": "stdout",
     "output_type": "stream",
     "text": [
      "{'loss': 1.7484, 'grad_norm': 0.30859375, 'learning_rate': 8.747783500802162e-05, 'epoch': 1.15}\n",
      "{'loss': 1.6017, 'grad_norm': 0.34375, 'learning_rate': 8.73089588786625e-05, 'epoch': 1.15}\n"
     ]
    },
    {
     "name": "stderr",
     "output_type": "stream",
     "text": [
      "/home/aeolian83/anaconda3/envs/llm_for_p311/lib/python3.11/site-packages/peft/utils/save_and_load.py:168: UserWarning: Setting `save_embedding_layers` to `True` as the embedding layer has been resized during finetuning.\n",
      "  warnings.warn(\n"
     ]
    },
    {
     "name": "stdout",
     "output_type": "stream",
     "text": [
      "{'loss': 1.8229, 'grad_norm': 0.61328125, 'learning_rate': 8.714008274930339e-05, 'epoch': 1.15}\n",
      "{'loss': 1.601, 'grad_norm': 0.298828125, 'learning_rate': 8.697120661994428e-05, 'epoch': 1.16}\n"
     ]
    },
    {
     "name": "stderr",
     "output_type": "stream",
     "text": [
      "/home/aeolian83/anaconda3/envs/llm_for_p311/lib/python3.11/site-packages/peft/utils/save_and_load.py:168: UserWarning: Setting `save_embedding_layers` to `True` as the embedding layer has been resized during finetuning.\n",
      "  warnings.warn(\n"
     ]
    },
    {
     "name": "stdout",
     "output_type": "stream",
     "text": [
      "{'loss': 1.5948, 'grad_norm': 0.263671875, 'learning_rate': 8.680233049058516e-05, 'epoch': 1.16}\n",
      "{'loss': 1.6294, 'grad_norm': 0.384765625, 'learning_rate': 8.663345436122605e-05, 'epoch': 1.16}\n"
     ]
    },
    {
     "name": "stderr",
     "output_type": "stream",
     "text": [
      "/home/aeolian83/anaconda3/envs/llm_for_p311/lib/python3.11/site-packages/peft/utils/save_and_load.py:168: UserWarning: Setting `save_embedding_layers` to `True` as the embedding layer has been resized during finetuning.\n",
      "  warnings.warn(\n"
     ]
    },
    {
     "name": "stdout",
     "output_type": "stream",
     "text": [
      "{'loss': 1.7243, 'grad_norm': 0.458984375, 'learning_rate': 8.646457823186693e-05, 'epoch': 1.16}\n",
      "{'loss': 1.4694, 'grad_norm': 0.66015625, 'learning_rate': 8.629570210250782e-05, 'epoch': 1.16}\n"
     ]
    },
    {
     "name": "stderr",
     "output_type": "stream",
     "text": [
      "/home/aeolian83/anaconda3/envs/llm_for_p311/lib/python3.11/site-packages/peft/utils/save_and_load.py:168: UserWarning: Setting `save_embedding_layers` to `True` as the embedding layer has been resized during finetuning.\n",
      "  warnings.warn(\n"
     ]
    },
    {
     "name": "stdout",
     "output_type": "stream",
     "text": [
      "{'loss': 1.2388, 'grad_norm': 0.267578125, 'learning_rate': 8.612682597314869e-05, 'epoch': 1.16}\n",
      "{'loss': 1.5609, 'grad_norm': 0.287109375, 'learning_rate': 8.595794984378959e-05, 'epoch': 1.17}\n"
     ]
    },
    {
     "name": "stderr",
     "output_type": "stream",
     "text": [
      "/home/aeolian83/anaconda3/envs/llm_for_p311/lib/python3.11/site-packages/peft/utils/save_and_load.py:168: UserWarning: Setting `save_embedding_layers` to `True` as the embedding layer has been resized during finetuning.\n",
      "  warnings.warn(\n"
     ]
    },
    {
     "name": "stdout",
     "output_type": "stream",
     "text": [
      "{'loss': 1.7405, 'grad_norm': 0.32421875, 'learning_rate': 8.578907371443046e-05, 'epoch': 1.17}\n",
      "{'loss': 1.7132, 'grad_norm': 0.4375, 'learning_rate': 8.562019758507135e-05, 'epoch': 1.17}\n"
     ]
    },
    {
     "name": "stderr",
     "output_type": "stream",
     "text": [
      "/home/aeolian83/anaconda3/envs/llm_for_p311/lib/python3.11/site-packages/peft/utils/save_and_load.py:168: UserWarning: Setting `save_embedding_layers` to `True` as the embedding layer has been resized during finetuning.\n",
      "  warnings.warn(\n"
     ]
    },
    {
     "name": "stdout",
     "output_type": "stream",
     "text": [
      "{'loss': 1.6577, 'grad_norm': 0.72265625, 'learning_rate': 8.545132145571225e-05, 'epoch': 1.17}\n",
      "{'loss': 1.7829, 'grad_norm': 0.240234375, 'learning_rate': 8.528244532635312e-05, 'epoch': 1.17}\n"
     ]
    },
    {
     "name": "stderr",
     "output_type": "stream",
     "text": [
      "/home/aeolian83/anaconda3/envs/llm_for_p311/lib/python3.11/site-packages/peft/utils/save_and_load.py:168: UserWarning: Setting `save_embedding_layers` to `True` as the embedding layer has been resized during finetuning.\n",
      "  warnings.warn(\n"
     ]
    },
    {
     "name": "stdout",
     "output_type": "stream",
     "text": [
      "{'loss': 1.6965, 'grad_norm': 0.375, 'learning_rate': 8.511356919699402e-05, 'epoch': 1.17}\n",
      "{'loss': 1.6522, 'grad_norm': 0.294921875, 'learning_rate': 8.494469306763489e-05, 'epoch': 1.18}\n"
     ]
    },
    {
     "name": "stderr",
     "output_type": "stream",
     "text": [
      "/home/aeolian83/anaconda3/envs/llm_for_p311/lib/python3.11/site-packages/peft/utils/save_and_load.py:168: UserWarning: Setting `save_embedding_layers` to `True` as the embedding layer has been resized during finetuning.\n",
      "  warnings.warn(\n"
     ]
    },
    {
     "name": "stdout",
     "output_type": "stream",
     "text": [
      "{'loss': 1.77, 'grad_norm': 0.490234375, 'learning_rate': 8.477581693827578e-05, 'epoch': 1.18}\n",
      "{'loss': 1.626, 'grad_norm': 0.6328125, 'learning_rate': 8.460694080891666e-05, 'epoch': 1.18}\n"
     ]
    },
    {
     "name": "stderr",
     "output_type": "stream",
     "text": [
      "/home/aeolian83/anaconda3/envs/llm_for_p311/lib/python3.11/site-packages/peft/utils/save_and_load.py:168: UserWarning: Setting `save_embedding_layers` to `True` as the embedding layer has been resized during finetuning.\n",
      "  warnings.warn(\n"
     ]
    },
    {
     "name": "stdout",
     "output_type": "stream",
     "text": [
      "{'loss': 1.501, 'grad_norm': 0.24609375, 'learning_rate': 8.443806467955755e-05, 'epoch': 1.18}\n",
      "{'loss': 1.5055, 'grad_norm': 0.314453125, 'learning_rate': 8.426918855019843e-05, 'epoch': 1.18}\n"
     ]
    },
    {
     "name": "stderr",
     "output_type": "stream",
     "text": [
      "/home/aeolian83/anaconda3/envs/llm_for_p311/lib/python3.11/site-packages/peft/utils/save_and_load.py:168: UserWarning: Setting `save_embedding_layers` to `True` as the embedding layer has been resized during finetuning.\n",
      "  warnings.warn(\n"
     ]
    },
    {
     "name": "stdout",
     "output_type": "stream",
     "text": [
      "{'loss': 1.5724, 'grad_norm': 0.34375, 'learning_rate': 8.410031242083932e-05, 'epoch': 1.18}\n",
      "{'loss': 1.5125, 'grad_norm': 0.400390625, 'learning_rate': 8.39314362914802e-05, 'epoch': 1.19}\n"
     ]
    },
    {
     "name": "stderr",
     "output_type": "stream",
     "text": [
      "/home/aeolian83/anaconda3/envs/llm_for_p311/lib/python3.11/site-packages/peft/utils/save_and_load.py:168: UserWarning: Setting `save_embedding_layers` to `True` as the embedding layer has been resized during finetuning.\n",
      "  warnings.warn(\n"
     ]
    },
    {
     "name": "stdout",
     "output_type": "stream",
     "text": [
      "{'loss': 1.5724, 'grad_norm': 0.6640625, 'learning_rate': 8.376256016212109e-05, 'epoch': 1.19}\n",
      "{'loss': 1.5155, 'grad_norm': 0.23046875, 'learning_rate': 8.359368403276198e-05, 'epoch': 1.19}\n"
     ]
    },
    {
     "name": "stderr",
     "output_type": "stream",
     "text": [
      "/home/aeolian83/anaconda3/envs/llm_for_p311/lib/python3.11/site-packages/peft/utils/save_and_load.py:168: UserWarning: Setting `save_embedding_layers` to `True` as the embedding layer has been resized during finetuning.\n",
      "  warnings.warn(\n"
     ]
    },
    {
     "name": "stdout",
     "output_type": "stream",
     "text": [
      "{'loss': 1.612, 'grad_norm': 0.369140625, 'learning_rate': 8.342480790340286e-05, 'epoch': 1.19}\n",
      "{'loss': 1.6325, 'grad_norm': 0.31640625, 'learning_rate': 8.325593177404373e-05, 'epoch': 1.19}\n"
     ]
    },
    {
     "name": "stderr",
     "output_type": "stream",
     "text": [
      "/home/aeolian83/anaconda3/envs/llm_for_p311/lib/python3.11/site-packages/peft/utils/save_and_load.py:168: UserWarning: Setting `save_embedding_layers` to `True` as the embedding layer has been resized during finetuning.\n",
      "  warnings.warn(\n"
     ]
    },
    {
     "name": "stdout",
     "output_type": "stream",
     "text": [
      "{'loss': 1.8134, 'grad_norm': 0.58984375, 'learning_rate': 8.308705564468463e-05, 'epoch': 1.19}\n",
      "{'loss': 1.725, 'grad_norm': 0.67578125, 'learning_rate': 8.29181795153255e-05, 'epoch': 1.2}\n"
     ]
    },
    {
     "name": "stderr",
     "output_type": "stream",
     "text": [
      "/home/aeolian83/anaconda3/envs/llm_for_p311/lib/python3.11/site-packages/peft/utils/save_and_load.py:168: UserWarning: Setting `save_embedding_layers` to `True` as the embedding layer has been resized during finetuning.\n",
      "  warnings.warn(\n"
     ]
    },
    {
     "name": "stdout",
     "output_type": "stream",
     "text": [
      "{'loss': 1.5174, 'grad_norm': 0.2021484375, 'learning_rate': 8.274930338596639e-05, 'epoch': 1.2}\n",
      "{'loss': 1.4581, 'grad_norm': 0.337890625, 'learning_rate': 8.258042725660729e-05, 'epoch': 1.2}\n"
     ]
    },
    {
     "name": "stderr",
     "output_type": "stream",
     "text": [
      "/home/aeolian83/anaconda3/envs/llm_for_p311/lib/python3.11/site-packages/peft/utils/save_and_load.py:168: UserWarning: Setting `save_embedding_layers` to `True` as the embedding layer has been resized during finetuning.\n",
      "  warnings.warn(\n"
     ]
    },
    {
     "name": "stdout",
     "output_type": "stream",
     "text": [
      "{'loss': 1.7086, 'grad_norm': 0.45703125, 'learning_rate': 8.241155112724816e-05, 'epoch': 1.2}\n",
      "{'loss': 1.7193, 'grad_norm': 0.482421875, 'learning_rate': 8.224267499788906e-05, 'epoch': 1.2}\n"
     ]
    },
    {
     "name": "stderr",
     "output_type": "stream",
     "text": [
      "/home/aeolian83/anaconda3/envs/llm_for_p311/lib/python3.11/site-packages/peft/utils/save_and_load.py:168: UserWarning: Setting `save_embedding_layers` to `True` as the embedding layer has been resized during finetuning.\n",
      "  warnings.warn(\n"
     ]
    },
    {
     "name": "stdout",
     "output_type": "stream",
     "text": [
      "{'loss': 1.6971, 'grad_norm': 0.6953125, 'learning_rate': 8.207379886852993e-05, 'epoch': 1.2}\n",
      "{'loss': 1.6652, 'grad_norm': 0.2197265625, 'learning_rate': 8.190492273917082e-05, 'epoch': 1.21}\n"
     ]
    },
    {
     "name": "stderr",
     "output_type": "stream",
     "text": [
      "/home/aeolian83/anaconda3/envs/llm_for_p311/lib/python3.11/site-packages/peft/utils/save_and_load.py:168: UserWarning: Setting `save_embedding_layers` to `True` as the embedding layer has been resized during finetuning.\n",
      "  warnings.warn(\n"
     ]
    },
    {
     "name": "stdout",
     "output_type": "stream",
     "text": [
      "{'loss': 1.677, 'grad_norm': 0.318359375, 'learning_rate': 8.173604660981172e-05, 'epoch': 1.21}\n",
      "{'loss': 1.6069, 'grad_norm': 0.3125, 'learning_rate': 8.156717048045259e-05, 'epoch': 1.21}\n"
     ]
    },
    {
     "name": "stderr",
     "output_type": "stream",
     "text": [
      "/home/aeolian83/anaconda3/envs/llm_for_p311/lib/python3.11/site-packages/peft/utils/save_and_load.py:168: UserWarning: Setting `save_embedding_layers` to `True` as the embedding layer has been resized during finetuning.\n",
      "  warnings.warn(\n"
     ]
    },
    {
     "name": "stdout",
     "output_type": "stream",
     "text": [
      "{'loss': 1.6881, 'grad_norm': 0.43359375, 'learning_rate': 8.139829435109348e-05, 'epoch': 1.21}\n",
      "{'loss': 1.4468, 'grad_norm': 0.68359375, 'learning_rate': 8.122941822173436e-05, 'epoch': 1.21}\n"
     ]
    },
    {
     "name": "stderr",
     "output_type": "stream",
     "text": [
      "/home/aeolian83/anaconda3/envs/llm_for_p311/lib/python3.11/site-packages/peft/utils/save_and_load.py:168: UserWarning: Setting `save_embedding_layers` to `True` as the embedding layer has been resized during finetuning.\n",
      "  warnings.warn(\n"
     ]
    },
    {
     "name": "stdout",
     "output_type": "stream",
     "text": [
      "{'loss': 1.4822, 'grad_norm': 0.2431640625, 'learning_rate': 8.106054209237525e-05, 'epoch': 1.21}\n",
      "{'loss': 1.6363, 'grad_norm': 0.26171875, 'learning_rate': 8.089166596301613e-05, 'epoch': 1.22}\n"
     ]
    },
    {
     "name": "stderr",
     "output_type": "stream",
     "text": [
      "/home/aeolian83/anaconda3/envs/llm_for_p311/lib/python3.11/site-packages/peft/utils/save_and_load.py:168: UserWarning: Setting `save_embedding_layers` to `True` as the embedding layer has been resized during finetuning.\n",
      "  warnings.warn(\n"
     ]
    },
    {
     "name": "stdout",
     "output_type": "stream",
     "text": [
      "{'loss': 1.5734, 'grad_norm': 0.326171875, 'learning_rate': 8.072278983365702e-05, 'epoch': 1.22}\n",
      "{'loss': 1.6091, 'grad_norm': 0.5, 'learning_rate': 8.05539137042979e-05, 'epoch': 1.22}\n"
     ]
    },
    {
     "name": "stderr",
     "output_type": "stream",
     "text": [
      "/home/aeolian83/anaconda3/envs/llm_for_p311/lib/python3.11/site-packages/peft/utils/save_and_load.py:168: UserWarning: Setting `save_embedding_layers` to `True` as the embedding layer has been resized during finetuning.\n",
      "  warnings.warn(\n"
     ]
    },
    {
     "name": "stdout",
     "output_type": "stream",
     "text": [
      "{'loss': 1.6894, 'grad_norm': 1.1171875, 'learning_rate': 8.038503757493878e-05, 'epoch': 1.22}\n",
      "{'loss': 1.5315, 'grad_norm': 0.271484375, 'learning_rate': 8.021616144557968e-05, 'epoch': 1.22}\n"
     ]
    },
    {
     "name": "stderr",
     "output_type": "stream",
     "text": [
      "/home/aeolian83/anaconda3/envs/llm_for_p311/lib/python3.11/site-packages/peft/utils/save_and_load.py:168: UserWarning: Setting `save_embedding_layers` to `True` as the embedding layer has been resized during finetuning.\n",
      "  warnings.warn(\n"
     ]
    },
    {
     "name": "stdout",
     "output_type": "stream",
     "text": [
      "{'loss': 1.6836, 'grad_norm': 0.25, 'learning_rate': 8.004728531622056e-05, 'epoch': 1.22}\n",
      "{'loss': 1.6534, 'grad_norm': 0.36328125, 'learning_rate': 7.987840918686143e-05, 'epoch': 1.23}\n"
     ]
    },
    {
     "name": "stderr",
     "output_type": "stream",
     "text": [
      "/home/aeolian83/anaconda3/envs/llm_for_p311/lib/python3.11/site-packages/peft/utils/save_and_load.py:168: UserWarning: Setting `save_embedding_layers` to `True` as the embedding layer has been resized during finetuning.\n",
      "  warnings.warn(\n"
     ]
    },
    {
     "name": "stdout",
     "output_type": "stream",
     "text": [
      "{'loss': 1.7632, 'grad_norm': 0.4296875, 'learning_rate': 7.970953305750233e-05, 'epoch': 1.23}\n",
      "{'loss': 1.8934, 'grad_norm': 0.73046875, 'learning_rate': 7.95406569281432e-05, 'epoch': 1.23}\n"
     ]
    },
    {
     "name": "stderr",
     "output_type": "stream",
     "text": [
      "/home/aeolian83/anaconda3/envs/llm_for_p311/lib/python3.11/site-packages/peft/utils/save_and_load.py:168: UserWarning: Setting `save_embedding_layers` to `True` as the embedding layer has been resized during finetuning.\n",
      "  warnings.warn(\n"
     ]
    },
    {
     "name": "stdout",
     "output_type": "stream",
     "text": [
      "{'loss': 1.5136, 'grad_norm': 0.2109375, 'learning_rate': 7.93717807987841e-05, 'epoch': 1.23}\n",
      "{'loss': 1.4747, 'grad_norm': 0.34375, 'learning_rate': 7.920290466942498e-05, 'epoch': 1.23}\n"
     ]
    },
    {
     "name": "stderr",
     "output_type": "stream",
     "text": [
      "/home/aeolian83/anaconda3/envs/llm_for_p311/lib/python3.11/site-packages/peft/utils/save_and_load.py:168: UserWarning: Setting `save_embedding_layers` to `True` as the embedding layer has been resized during finetuning.\n",
      "  warnings.warn(\n"
     ]
    },
    {
     "name": "stdout",
     "output_type": "stream",
     "text": [
      "{'loss': 1.7401, 'grad_norm': 0.326171875, 'learning_rate': 7.903402854006586e-05, 'epoch': 1.23}\n",
      "{'loss': 1.6318, 'grad_norm': 0.408203125, 'learning_rate': 7.886515241070676e-05, 'epoch': 1.24}\n"
     ]
    },
    {
     "name": "stderr",
     "output_type": "stream",
     "text": [
      "/home/aeolian83/anaconda3/envs/llm_for_p311/lib/python3.11/site-packages/peft/utils/save_and_load.py:168: UserWarning: Setting `save_embedding_layers` to `True` as the embedding layer has been resized during finetuning.\n",
      "  warnings.warn(\n"
     ]
    },
    {
     "name": "stdout",
     "output_type": "stream",
     "text": [
      "{'loss': 1.5699, 'grad_norm': 0.734375, 'learning_rate': 7.869627628134763e-05, 'epoch': 1.24}\n",
      "{'loss': 1.5171, 'grad_norm': 0.2578125, 'learning_rate': 7.852740015198852e-05, 'epoch': 1.24}\n"
     ]
    },
    {
     "name": "stderr",
     "output_type": "stream",
     "text": [
      "/home/aeolian83/anaconda3/envs/llm_for_p311/lib/python3.11/site-packages/peft/utils/save_and_load.py:168: UserWarning: Setting `save_embedding_layers` to `True` as the embedding layer has been resized during finetuning.\n",
      "  warnings.warn(\n"
     ]
    },
    {
     "name": "stdout",
     "output_type": "stream",
     "text": [
      "{'loss': 1.5518, 'grad_norm': 0.322265625, 'learning_rate': 7.83585240226294e-05, 'epoch': 1.24}\n",
      "{'loss': 1.5849, 'grad_norm': 0.455078125, 'learning_rate': 7.818964789327029e-05, 'epoch': 1.24}\n"
     ]
    },
    {
     "name": "stderr",
     "output_type": "stream",
     "text": [
      "/home/aeolian83/anaconda3/envs/llm_for_p311/lib/python3.11/site-packages/peft/utils/save_and_load.py:168: UserWarning: Setting `save_embedding_layers` to `True` as the embedding layer has been resized during finetuning.\n",
      "  warnings.warn(\n"
     ]
    },
    {
     "name": "stdout",
     "output_type": "stream",
     "text": [
      "{'loss': 1.5301, 'grad_norm': 0.51953125, 'learning_rate': 7.802077176391118e-05, 'epoch': 1.24}\n",
      "{'loss': 1.3453, 'grad_norm': 0.65625, 'learning_rate': 7.785189563455206e-05, 'epoch': 1.24}\n"
     ]
    },
    {
     "name": "stderr",
     "output_type": "stream",
     "text": [
      "/home/aeolian83/anaconda3/envs/llm_for_p311/lib/python3.11/site-packages/peft/utils/save_and_load.py:168: UserWarning: Setting `save_embedding_layers` to `True` as the embedding layer has been resized during finetuning.\n",
      "  warnings.warn(\n"
     ]
    },
    {
     "name": "stdout",
     "output_type": "stream",
     "text": [
      "{'loss': 1.5099, 'grad_norm': 0.275390625, 'learning_rate': 7.768301950519295e-05, 'epoch': 1.25}\n",
      "{'loss': 1.6573, 'grad_norm': 0.330078125, 'learning_rate': 7.751414337583382e-05, 'epoch': 1.25}\n"
     ]
    },
    {
     "name": "stderr",
     "output_type": "stream",
     "text": [
      "/home/aeolian83/anaconda3/envs/llm_for_p311/lib/python3.11/site-packages/peft/utils/save_and_load.py:168: UserWarning: Setting `save_embedding_layers` to `True` as the embedding layer has been resized during finetuning.\n",
      "  warnings.warn(\n"
     ]
    },
    {
     "name": "stdout",
     "output_type": "stream",
     "text": [
      "{'loss': 1.7334, 'grad_norm': 0.33203125, 'learning_rate': 7.734526724647472e-05, 'epoch': 1.25}\n",
      "{'loss': 1.5842, 'grad_norm': 0.67578125, 'learning_rate': 7.71763911171156e-05, 'epoch': 1.25}\n"
     ]
    },
    {
     "name": "stderr",
     "output_type": "stream",
     "text": [
      "/home/aeolian83/anaconda3/envs/llm_for_p311/lib/python3.11/site-packages/peft/utils/save_and_load.py:168: UserWarning: Setting `save_embedding_layers` to `True` as the embedding layer has been resized during finetuning.\n",
      "  warnings.warn(\n"
     ]
    },
    {
     "name": "stdout",
     "output_type": "stream",
     "text": [
      "{'loss': 1.4806, 'grad_norm': 0.8125, 'learning_rate': 7.700751498775648e-05, 'epoch': 1.25}\n",
      "{'loss': 1.2046, 'grad_norm': 0.171875, 'learning_rate': 7.683863885839738e-05, 'epoch': 1.25}\n"
     ]
    },
    {
     "name": "stderr",
     "output_type": "stream",
     "text": [
      "/home/aeolian83/anaconda3/envs/llm_for_p311/lib/python3.11/site-packages/peft/utils/save_and_load.py:168: UserWarning: Setting `save_embedding_layers` to `True` as the embedding layer has been resized during finetuning.\n",
      "  warnings.warn(\n"
     ]
    },
    {
     "name": "stdout",
     "output_type": "stream",
     "text": [
      "{'loss': 1.6636, 'grad_norm': 0.35546875, 'learning_rate': 7.666976272903825e-05, 'epoch': 1.26}\n",
      "{'loss': 1.6608, 'grad_norm': 0.330078125, 'learning_rate': 7.650088659967913e-05, 'epoch': 1.26}\n"
     ]
    },
    {
     "name": "stderr",
     "output_type": "stream",
     "text": [
      "/home/aeolian83/anaconda3/envs/llm_for_p311/lib/python3.11/site-packages/peft/utils/save_and_load.py:168: UserWarning: Setting `save_embedding_layers` to `True` as the embedding layer has been resized during finetuning.\n",
      "  warnings.warn(\n"
     ]
    },
    {
     "name": "stdout",
     "output_type": "stream",
     "text": [
      "{'loss': 1.7926, 'grad_norm': 0.478515625, 'learning_rate': 7.633201047032003e-05, 'epoch': 1.26}\n",
      "{'loss': 1.3702, 'grad_norm': 0.83984375, 'learning_rate': 7.61631343409609e-05, 'epoch': 1.26}\n"
     ]
    },
    {
     "name": "stderr",
     "output_type": "stream",
     "text": [
      "/home/aeolian83/anaconda3/envs/llm_for_p311/lib/python3.11/site-packages/peft/utils/save_and_load.py:168: UserWarning: Setting `save_embedding_layers` to `True` as the embedding layer has been resized during finetuning.\n",
      "  warnings.warn(\n"
     ]
    },
    {
     "name": "stdout",
     "output_type": "stream",
     "text": [
      "{'loss': 1.2408, 'grad_norm': 0.224609375, 'learning_rate': 7.59942582116018e-05, 'epoch': 1.26}\n",
      "{'loss': 1.6653, 'grad_norm': 0.236328125, 'learning_rate': 7.582538208224268e-05, 'epoch': 1.26}\n"
     ]
    },
    {
     "name": "stderr",
     "output_type": "stream",
     "text": [
      "/home/aeolian83/anaconda3/envs/llm_for_p311/lib/python3.11/site-packages/peft/utils/save_and_load.py:168: UserWarning: Setting `save_embedding_layers` to `True` as the embedding layer has been resized during finetuning.\n",
      "  warnings.warn(\n"
     ]
    },
    {
     "name": "stdout",
     "output_type": "stream",
     "text": [
      "{'loss': 1.646, 'grad_norm': 0.322265625, 'learning_rate': 7.565650595288356e-05, 'epoch': 1.27}\n",
      "{'loss': 1.6546, 'grad_norm': 0.458984375, 'learning_rate': 7.548762982352445e-05, 'epoch': 1.27}\n"
     ]
    },
    {
     "name": "stderr",
     "output_type": "stream",
     "text": [
      "/home/aeolian83/anaconda3/envs/llm_for_p311/lib/python3.11/site-packages/peft/utils/save_and_load.py:168: UserWarning: Setting `save_embedding_layers` to `True` as the embedding layer has been resized during finetuning.\n",
      "  warnings.warn(\n"
     ]
    },
    {
     "name": "stdout",
     "output_type": "stream",
     "text": [
      "{'loss': 1.766, 'grad_norm': 0.5625, 'learning_rate': 7.531875369416533e-05, 'epoch': 1.27}\n",
      "{'loss': 1.5389, 'grad_norm': 0.251953125, 'learning_rate': 7.514987756480622e-05, 'epoch': 1.27}\n"
     ]
    },
    {
     "name": "stderr",
     "output_type": "stream",
     "text": [
      "/home/aeolian83/anaconda3/envs/llm_for_p311/lib/python3.11/site-packages/peft/utils/save_and_load.py:168: UserWarning: Setting `save_embedding_layers` to `True` as the embedding layer has been resized during finetuning.\n",
      "  warnings.warn(\n"
     ]
    },
    {
     "name": "stdout",
     "output_type": "stream",
     "text": [
      "{'loss': 1.6095, 'grad_norm': 0.275390625, 'learning_rate': 7.49810014354471e-05, 'epoch': 1.27}\n",
      "{'loss': 1.6941, 'grad_norm': 0.36328125, 'learning_rate': 7.481212530608799e-05, 'epoch': 1.27}\n"
     ]
    },
    {
     "name": "stderr",
     "output_type": "stream",
     "text": [
      "/home/aeolian83/anaconda3/envs/llm_for_p311/lib/python3.11/site-packages/peft/utils/save_and_load.py:168: UserWarning: Setting `save_embedding_layers` to `True` as the embedding layer has been resized during finetuning.\n",
      "  warnings.warn(\n"
     ]
    },
    {
     "name": "stdout",
     "output_type": "stream",
     "text": [
      "{'loss': 1.6135, 'grad_norm': 0.337890625, 'learning_rate': 7.464324917672888e-05, 'epoch': 1.28}\n",
      "{'loss': 1.54, 'grad_norm': 0.353515625, 'learning_rate': 7.447437304736976e-05, 'epoch': 1.28}\n"
     ]
    },
    {
     "name": "stderr",
     "output_type": "stream",
     "text": [
      "/home/aeolian83/anaconda3/envs/llm_for_p311/lib/python3.11/site-packages/peft/utils/save_and_load.py:168: UserWarning: Setting `save_embedding_layers` to `True` as the embedding layer has been resized during finetuning.\n",
      "  warnings.warn(\n"
     ]
    },
    {
     "name": "stdout",
     "output_type": "stream",
     "text": [
      "{'loss': 1.4597, 'grad_norm': 0.1640625, 'learning_rate': 7.430549691801065e-05, 'epoch': 1.28}\n",
      "{'loss': 1.6932, 'grad_norm': 0.34765625, 'learning_rate': 7.413662078865152e-05, 'epoch': 1.28}\n"
     ]
    },
    {
     "name": "stderr",
     "output_type": "stream",
     "text": [
      "/home/aeolian83/anaconda3/envs/llm_for_p311/lib/python3.11/site-packages/peft/utils/save_and_load.py:168: UserWarning: Setting `save_embedding_layers` to `True` as the embedding layer has been resized during finetuning.\n",
      "  warnings.warn(\n"
     ]
    },
    {
     "name": "stdout",
     "output_type": "stream",
     "text": [
      "{'loss': 1.5151, 'grad_norm': 0.408203125, 'learning_rate': 7.396774465929242e-05, 'epoch': 1.28}\n",
      "{'loss': 1.5798, 'grad_norm': 0.490234375, 'learning_rate': 7.379886852993329e-05, 'epoch': 1.28}\n"
     ]
    },
    {
     "name": "stderr",
     "output_type": "stream",
     "text": [
      "/home/aeolian83/anaconda3/envs/llm_for_p311/lib/python3.11/site-packages/peft/utils/save_and_load.py:168: UserWarning: Setting `save_embedding_layers` to `True` as the embedding layer has been resized during finetuning.\n",
      "  warnings.warn(\n"
     ]
    },
    {
     "name": "stdout",
     "output_type": "stream",
     "text": [
      "{'loss': 1.5644, 'grad_norm': 0.8359375, 'learning_rate': 7.362999240057418e-05, 'epoch': 1.29}\n",
      "{'loss': 1.6503, 'grad_norm': 0.365234375, 'learning_rate': 7.346111627121508e-05, 'epoch': 1.29}\n"
     ]
    },
    {
     "name": "stderr",
     "output_type": "stream",
     "text": [
      "/home/aeolian83/anaconda3/envs/llm_for_p311/lib/python3.11/site-packages/peft/utils/save_and_load.py:168: UserWarning: Setting `save_embedding_layers` to `True` as the embedding layer has been resized during finetuning.\n",
      "  warnings.warn(\n"
     ]
    },
    {
     "name": "stdout",
     "output_type": "stream",
     "text": [
      "{'loss': 1.5148, 'grad_norm': 0.318359375, 'learning_rate': 7.329224014185595e-05, 'epoch': 1.29}\n",
      "{'loss': 1.803, 'grad_norm': 0.451171875, 'learning_rate': 7.312336401249685e-05, 'epoch': 1.29}\n"
     ]
    },
    {
     "name": "stderr",
     "output_type": "stream",
     "text": [
      "/home/aeolian83/anaconda3/envs/llm_for_p311/lib/python3.11/site-packages/peft/utils/save_and_load.py:168: UserWarning: Setting `save_embedding_layers` to `True` as the embedding layer has been resized during finetuning.\n",
      "  warnings.warn(\n"
     ]
    },
    {
     "name": "stdout",
     "output_type": "stream",
     "text": [
      "{'loss': 1.6548, 'grad_norm': 0.494140625, 'learning_rate': 7.295448788313772e-05, 'epoch': 1.29}\n",
      "{'loss': 1.47, 'grad_norm': 0.6484375, 'learning_rate': 7.27856117537786e-05, 'epoch': 1.29}\n"
     ]
    },
    {
     "name": "stderr",
     "output_type": "stream",
     "text": [
      "/home/aeolian83/anaconda3/envs/llm_for_p311/lib/python3.11/site-packages/peft/utils/save_and_load.py:168: UserWarning: Setting `save_embedding_layers` to `True` as the embedding layer has been resized during finetuning.\n",
      "  warnings.warn(\n"
     ]
    },
    {
     "name": "stdout",
     "output_type": "stream",
     "text": [
      "{'loss': 1.4114, 'grad_norm': 0.25390625, 'learning_rate': 7.261673562441949e-05, 'epoch': 1.3}\n",
      "{'loss': 1.652, 'grad_norm': 0.404296875, 'learning_rate': 7.244785949506038e-05, 'epoch': 1.3}\n"
     ]
    },
    {
     "name": "stderr",
     "output_type": "stream",
     "text": [
      "/home/aeolian83/anaconda3/envs/llm_for_p311/lib/python3.11/site-packages/peft/utils/save_and_load.py:168: UserWarning: Setting `save_embedding_layers` to `True` as the embedding layer has been resized during finetuning.\n",
      "  warnings.warn(\n"
     ]
    },
    {
     "name": "stdout",
     "output_type": "stream",
     "text": [
      "{'loss': 1.6992, 'grad_norm': 0.345703125, 'learning_rate': 7.227898336570126e-05, 'epoch': 1.3}\n",
      "{'loss': 1.9203, 'grad_norm': 0.53125, 'learning_rate': 7.211010723634215e-05, 'epoch': 1.3}\n"
     ]
    },
    {
     "name": "stderr",
     "output_type": "stream",
     "text": [
      "/home/aeolian83/anaconda3/envs/llm_for_p311/lib/python3.11/site-packages/peft/utils/save_and_load.py:168: UserWarning: Setting `save_embedding_layers` to `True` as the embedding layer has been resized during finetuning.\n",
      "  warnings.warn(\n"
     ]
    },
    {
     "name": "stdout",
     "output_type": "stream",
     "text": [
      "{'loss': 1.7626, 'grad_norm': 0.6015625, 'learning_rate': 7.194123110698303e-05, 'epoch': 1.3}\n",
      "{'loss': 1.5071, 'grad_norm': 0.263671875, 'learning_rate': 7.177235497762392e-05, 'epoch': 1.3}\n"
     ]
    },
    {
     "name": "stderr",
     "output_type": "stream",
     "text": [
      "/home/aeolian83/anaconda3/envs/llm_for_p311/lib/python3.11/site-packages/peft/utils/save_and_load.py:168: UserWarning: Setting `save_embedding_layers` to `True` as the embedding layer has been resized during finetuning.\n",
      "  warnings.warn(\n"
     ]
    },
    {
     "name": "stdout",
     "output_type": "stream",
     "text": [
      "{'loss': 1.5906, 'grad_norm': 0.275390625, 'learning_rate': 7.16034788482648e-05, 'epoch': 1.31}\n",
      "{'loss': 1.6419, 'grad_norm': 0.3046875, 'learning_rate': 7.143460271890569e-05, 'epoch': 1.31}\n"
     ]
    },
    {
     "name": "stderr",
     "output_type": "stream",
     "text": [
      "/home/aeolian83/anaconda3/envs/llm_for_p311/lib/python3.11/site-packages/peft/utils/save_and_load.py:168: UserWarning: Setting `save_embedding_layers` to `True` as the embedding layer has been resized during finetuning.\n",
      "  warnings.warn(\n"
     ]
    },
    {
     "name": "stdout",
     "output_type": "stream",
     "text": [
      "{'loss': 1.7469, 'grad_norm': 0.51953125, 'learning_rate': 7.126572658954656e-05, 'epoch': 1.31}\n",
      "{'loss': 1.7359, 'grad_norm': 0.82421875, 'learning_rate': 7.109685046018746e-05, 'epoch': 1.31}\n"
     ]
    },
    {
     "name": "stderr",
     "output_type": "stream",
     "text": [
      "/home/aeolian83/anaconda3/envs/llm_for_p311/lib/python3.11/site-packages/peft/utils/save_and_load.py:168: UserWarning: Setting `save_embedding_layers` to `True` as the embedding layer has been resized during finetuning.\n",
      "  warnings.warn(\n"
     ]
    },
    {
     "name": "stdout",
     "output_type": "stream",
     "text": [
      "{'loss': 1.7201, 'grad_norm': 0.30859375, 'learning_rate': 7.092797433082833e-05, 'epoch': 1.31}\n",
      "{'loss': 1.5555, 'grad_norm': 0.32421875, 'learning_rate': 7.075909820146922e-05, 'epoch': 1.31}\n"
     ]
    },
    {
     "name": "stderr",
     "output_type": "stream",
     "text": [
      "/home/aeolian83/anaconda3/envs/llm_for_p311/lib/python3.11/site-packages/peft/utils/save_and_load.py:168: UserWarning: Setting `save_embedding_layers` to `True` as the embedding layer has been resized during finetuning.\n",
      "  warnings.warn(\n"
     ]
    },
    {
     "name": "stdout",
     "output_type": "stream",
     "text": [
      "{'loss': 1.5625, 'grad_norm': 0.384765625, 'learning_rate': 7.059022207211012e-05, 'epoch': 1.32}\n",
      "{'loss': 1.7671, 'grad_norm': 0.45703125, 'learning_rate': 7.042134594275099e-05, 'epoch': 1.32}\n"
     ]
    },
    {
     "name": "stderr",
     "output_type": "stream",
     "text": [
      "/home/aeolian83/anaconda3/envs/llm_for_p311/lib/python3.11/site-packages/peft/utils/save_and_load.py:168: UserWarning: Setting `save_embedding_layers` to `True` as the embedding layer has been resized during finetuning.\n",
      "  warnings.warn(\n"
     ]
    },
    {
     "name": "stdout",
     "output_type": "stream",
     "text": [
      "{'loss': 1.3312, 'grad_norm': 0.58984375, 'learning_rate': 7.025246981339189e-05, 'epoch': 1.32}\n",
      "{'loss': 1.4352, 'grad_norm': 0.275390625, 'learning_rate': 7.008359368403276e-05, 'epoch': 1.32}\n"
     ]
    },
    {
     "name": "stderr",
     "output_type": "stream",
     "text": [
      "/home/aeolian83/anaconda3/envs/llm_for_p311/lib/python3.11/site-packages/peft/utils/save_and_load.py:168: UserWarning: Setting `save_embedding_layers` to `True` as the embedding layer has been resized during finetuning.\n",
      "  warnings.warn(\n"
     ]
    },
    {
     "name": "stdout",
     "output_type": "stream",
     "text": [
      "{'loss': 1.6207, 'grad_norm': 0.34765625, 'learning_rate': 6.991471755467365e-05, 'epoch': 1.32}\n",
      "{'loss': 1.7012, 'grad_norm': 0.326171875, 'learning_rate': 6.974584142531455e-05, 'epoch': 1.32}\n"
     ]
    },
    {
     "name": "stderr",
     "output_type": "stream",
     "text": [
      "/home/aeolian83/anaconda3/envs/llm_for_p311/lib/python3.11/site-packages/peft/utils/save_and_load.py:168: UserWarning: Setting `save_embedding_layers` to `True` as the embedding layer has been resized during finetuning.\n",
      "  warnings.warn(\n"
     ]
    },
    {
     "name": "stdout",
     "output_type": "stream",
     "text": [
      "{'loss': 1.9189, 'grad_norm': 0.43359375, 'learning_rate': 6.957696529595542e-05, 'epoch': 1.33}\n",
      "{'loss': 1.7742, 'grad_norm': 0.8125, 'learning_rate': 6.94080891665963e-05, 'epoch': 1.33}\n"
     ]
    },
    {
     "name": "stderr",
     "output_type": "stream",
     "text": [
      "/home/aeolian83/anaconda3/envs/llm_for_p311/lib/python3.11/site-packages/peft/utils/save_and_load.py:168: UserWarning: Setting `save_embedding_layers` to `True` as the embedding layer has been resized during finetuning.\n",
      "  warnings.warn(\n"
     ]
    },
    {
     "name": "stdout",
     "output_type": "stream",
     "text": [
      "{'loss': 1.5032, 'grad_norm': 0.30078125, 'learning_rate': 6.923921303723719e-05, 'epoch': 1.33}\n",
      "{'loss': 1.6797, 'grad_norm': 0.2578125, 'learning_rate': 6.907033690787808e-05, 'epoch': 1.33}\n"
     ]
    },
    {
     "name": "stderr",
     "output_type": "stream",
     "text": [
      "/home/aeolian83/anaconda3/envs/llm_for_p311/lib/python3.11/site-packages/peft/utils/save_and_load.py:168: UserWarning: Setting `save_embedding_layers` to `True` as the embedding layer has been resized during finetuning.\n",
      "  warnings.warn(\n"
     ]
    },
    {
     "name": "stdout",
     "output_type": "stream",
     "text": [
      "{'loss': 1.6556, 'grad_norm': 0.39453125, 'learning_rate': 6.890146077851896e-05, 'epoch': 1.33}\n",
      "{'loss': 1.6502, 'grad_norm': 0.51171875, 'learning_rate': 6.873258464915985e-05, 'epoch': 1.33}\n"
     ]
    },
    {
     "name": "stderr",
     "output_type": "stream",
     "text": [
      "/home/aeolian83/anaconda3/envs/llm_for_p311/lib/python3.11/site-packages/peft/utils/save_and_load.py:168: UserWarning: Setting `save_embedding_layers` to `True` as the embedding layer has been resized during finetuning.\n",
      "  warnings.warn(\n"
     ]
    },
    {
     "name": "stdout",
     "output_type": "stream",
     "text": [
      "{'loss': 1.6309, 'grad_norm': 0.59375, 'learning_rate': 6.856370851980073e-05, 'epoch': 1.33}\n",
      "{'loss': 1.5559, 'grad_norm': 0.263671875, 'learning_rate': 6.83948323904416e-05, 'epoch': 1.34}\n"
     ]
    },
    {
     "name": "stderr",
     "output_type": "stream",
     "text": [
      "/home/aeolian83/anaconda3/envs/llm_for_p311/lib/python3.11/site-packages/peft/utils/save_and_load.py:168: UserWarning: Setting `save_embedding_layers` to `True` as the embedding layer has been resized during finetuning.\n",
      "  warnings.warn(\n"
     ]
    },
    {
     "name": "stdout",
     "output_type": "stream",
     "text": [
      "{'loss': 1.5956, 'grad_norm': 0.353515625, 'learning_rate': 6.82259562610825e-05, 'epoch': 1.34}\n",
      "{'loss': 1.6678, 'grad_norm': 0.345703125, 'learning_rate': 6.805708013172339e-05, 'epoch': 1.34}\n"
     ]
    },
    {
     "name": "stderr",
     "output_type": "stream",
     "text": [
      "/home/aeolian83/anaconda3/envs/llm_for_p311/lib/python3.11/site-packages/peft/utils/save_and_load.py:168: UserWarning: Setting `save_embedding_layers` to `True` as the embedding layer has been resized during finetuning.\n",
      "  warnings.warn(\n"
     ]
    },
    {
     "name": "stdout",
     "output_type": "stream",
     "text": [
      "{'loss': 1.9176, 'grad_norm': 0.400390625, 'learning_rate': 6.788820400236426e-05, 'epoch': 1.34}\n",
      "{'loss': 1.4981, 'grad_norm': 0.63671875, 'learning_rate': 6.771932787300516e-05, 'epoch': 1.34}\n"
     ]
    },
    {
     "name": "stderr",
     "output_type": "stream",
     "text": [
      "/home/aeolian83/anaconda3/envs/llm_for_p311/lib/python3.11/site-packages/peft/utils/save_and_load.py:168: UserWarning: Setting `save_embedding_layers` to `True` as the embedding layer has been resized during finetuning.\n",
      "  warnings.warn(\n"
     ]
    },
    {
     "name": "stdout",
     "output_type": "stream",
     "text": [
      "{'loss': 1.4702, 'grad_norm': 0.1787109375, 'learning_rate': 6.755045174364603e-05, 'epoch': 1.34}\n",
      "{'loss': 1.6682, 'grad_norm': 0.287109375, 'learning_rate': 6.738157561428693e-05, 'epoch': 1.35}\n"
     ]
    },
    {
     "name": "stderr",
     "output_type": "stream",
     "text": [
      "/home/aeolian83/anaconda3/envs/llm_for_p311/lib/python3.11/site-packages/peft/utils/save_and_load.py:168: UserWarning: Setting `save_embedding_layers` to `True` as the embedding layer has been resized during finetuning.\n",
      "  warnings.warn(\n"
     ]
    },
    {
     "name": "stdout",
     "output_type": "stream",
     "text": [
      "{'loss': 1.6656, 'grad_norm': 0.318359375, 'learning_rate': 6.72126994849278e-05, 'epoch': 1.35}\n",
      "{'loss': 1.6381, 'grad_norm': 0.451171875, 'learning_rate': 6.704382335556869e-05, 'epoch': 1.35}\n"
     ]
    },
    {
     "name": "stderr",
     "output_type": "stream",
     "text": [
      "/home/aeolian83/anaconda3/envs/llm_for_p311/lib/python3.11/site-packages/peft/utils/save_and_load.py:168: UserWarning: Setting `save_embedding_layers` to `True` as the embedding layer has been resized during finetuning.\n",
      "  warnings.warn(\n"
     ]
    },
    {
     "name": "stdout",
     "output_type": "stream",
     "text": [
      "{'loss': 1.6454, 'grad_norm': 0.62109375, 'learning_rate': 6.687494722620959e-05, 'epoch': 1.35}\n",
      "{'loss': 1.3381, 'grad_norm': 0.24609375, 'learning_rate': 6.670607109685046e-05, 'epoch': 1.35}\n"
     ]
    },
    {
     "name": "stderr",
     "output_type": "stream",
     "text": [
      "/home/aeolian83/anaconda3/envs/llm_for_p311/lib/python3.11/site-packages/peft/utils/save_and_load.py:168: UserWarning: Setting `save_embedding_layers` to `True` as the embedding layer has been resized during finetuning.\n",
      "  warnings.warn(\n"
     ]
    },
    {
     "name": "stdout",
     "output_type": "stream",
     "text": [
      "{'loss': 1.7472, 'grad_norm': 0.421875, 'learning_rate': 6.653719496749135e-05, 'epoch': 1.35}\n",
      "{'loss': 1.7892, 'grad_norm': 0.318359375, 'learning_rate': 6.636831883813223e-05, 'epoch': 1.36}\n"
     ]
    },
    {
     "name": "stderr",
     "output_type": "stream",
     "text": [
      "/home/aeolian83/anaconda3/envs/llm_for_p311/lib/python3.11/site-packages/peft/utils/save_and_load.py:168: UserWarning: Setting `save_embedding_layers` to `True` as the embedding layer has been resized during finetuning.\n",
      "  warnings.warn(\n"
     ]
    },
    {
     "name": "stdout",
     "output_type": "stream",
     "text": [
      "{'loss': 1.8007, 'grad_norm': 0.54296875, 'learning_rate': 6.619944270877312e-05, 'epoch': 1.36}\n",
      "{'loss': 1.6413, 'grad_norm': 0.77734375, 'learning_rate': 6.6030566579414e-05, 'epoch': 1.36}\n"
     ]
    },
    {
     "name": "stderr",
     "output_type": "stream",
     "text": [
      "/home/aeolian83/anaconda3/envs/llm_for_p311/lib/python3.11/site-packages/peft/utils/save_and_load.py:168: UserWarning: Setting `save_embedding_layers` to `True` as the embedding layer has been resized during finetuning.\n",
      "  warnings.warn(\n"
     ]
    },
    {
     "name": "stdout",
     "output_type": "stream",
     "text": [
      "{'loss': 1.3357, 'grad_norm': 0.228515625, 'learning_rate': 6.586169045005489e-05, 'epoch': 1.36}\n",
      "{'loss': 1.5306, 'grad_norm': 0.25390625, 'learning_rate': 6.569281432069577e-05, 'epoch': 1.36}\n"
     ]
    },
    {
     "name": "stderr",
     "output_type": "stream",
     "text": [
      "/home/aeolian83/anaconda3/envs/llm_for_p311/lib/python3.11/site-packages/peft/utils/save_and_load.py:168: UserWarning: Setting `save_embedding_layers` to `True` as the embedding layer has been resized during finetuning.\n",
      "  warnings.warn(\n"
     ]
    },
    {
     "name": "stdout",
     "output_type": "stream",
     "text": [
      "{'loss': 1.6974, 'grad_norm': 0.3203125, 'learning_rate': 6.552393819133665e-05, 'epoch': 1.36}\n",
      "{'loss': 1.7528, 'grad_norm': 0.455078125, 'learning_rate': 6.535506206197755e-05, 'epoch': 1.37}\n"
     ]
    },
    {
     "name": "stderr",
     "output_type": "stream",
     "text": [
      "/home/aeolian83/anaconda3/envs/llm_for_p311/lib/python3.11/site-packages/peft/utils/save_and_load.py:168: UserWarning: Setting `save_embedding_layers` to `True` as the embedding layer has been resized during finetuning.\n",
      "  warnings.warn(\n"
     ]
    },
    {
     "name": "stdout",
     "output_type": "stream",
     "text": [
      "{'loss': 1.5447, 'grad_norm': 0.80078125, 'learning_rate': 6.518618593261843e-05, 'epoch': 1.37}\n",
      "{'loss': 1.3773, 'grad_norm': 0.2109375, 'learning_rate': 6.50173098032593e-05, 'epoch': 1.37}\n"
     ]
    },
    {
     "name": "stderr",
     "output_type": "stream",
     "text": [
      "/home/aeolian83/anaconda3/envs/llm_for_p311/lib/python3.11/site-packages/peft/utils/save_and_load.py:168: UserWarning: Setting `save_embedding_layers` to `True` as the embedding layer has been resized during finetuning.\n",
      "  warnings.warn(\n"
     ]
    },
    {
     "name": "stdout",
     "output_type": "stream",
     "text": [
      "{'loss': 1.6867, 'grad_norm': 0.31640625, 'learning_rate': 6.48484336739002e-05, 'epoch': 1.37}\n",
      "{'loss': 1.6309, 'grad_norm': 0.33203125, 'learning_rate': 6.467955754454108e-05, 'epoch': 1.37}\n"
     ]
    },
    {
     "name": "stderr",
     "output_type": "stream",
     "text": [
      "/home/aeolian83/anaconda3/envs/llm_for_p311/lib/python3.11/site-packages/peft/utils/save_and_load.py:168: UserWarning: Setting `save_embedding_layers` to `True` as the embedding layer has been resized during finetuning.\n",
      "  warnings.warn(\n"
     ]
    },
    {
     "name": "stdout",
     "output_type": "stream",
     "text": [
      "{'loss': 1.838, 'grad_norm': 0.455078125, 'learning_rate': 6.451068141518196e-05, 'epoch': 1.37}\n",
      "{'loss': 1.7817, 'grad_norm': 0.921875, 'learning_rate': 6.434180528582286e-05, 'epoch': 1.38}\n"
     ]
    },
    {
     "name": "stderr",
     "output_type": "stream",
     "text": [
      "/home/aeolian83/anaconda3/envs/llm_for_p311/lib/python3.11/site-packages/peft/utils/save_and_load.py:168: UserWarning: Setting `save_embedding_layers` to `True` as the embedding layer has been resized during finetuning.\n",
      "  warnings.warn(\n"
     ]
    },
    {
     "name": "stdout",
     "output_type": "stream",
     "text": [
      "{'loss': 1.5343, 'grad_norm': 0.232421875, 'learning_rate': 6.417292915646373e-05, 'epoch': 1.38}\n",
      "{'loss': 1.5237, 'grad_norm': 0.3359375, 'learning_rate': 6.400405302710463e-05, 'epoch': 1.38}\n"
     ]
    },
    {
     "name": "stderr",
     "output_type": "stream",
     "text": [
      "/home/aeolian83/anaconda3/envs/llm_for_p311/lib/python3.11/site-packages/peft/utils/save_and_load.py:168: UserWarning: Setting `save_embedding_layers` to `True` as the embedding layer has been resized during finetuning.\n",
      "  warnings.warn(\n"
     ]
    },
    {
     "name": "stdout",
     "output_type": "stream",
     "text": [
      "{'loss': 1.6538, 'grad_norm': 0.2734375, 'learning_rate': 6.38351768977455e-05, 'epoch': 1.38}\n",
      "{'loss': 1.537, 'grad_norm': 0.5625, 'learning_rate': 6.366630076838639e-05, 'epoch': 1.38}\n"
     ]
    },
    {
     "name": "stderr",
     "output_type": "stream",
     "text": [
      "/home/aeolian83/anaconda3/envs/llm_for_p311/lib/python3.11/site-packages/peft/utils/save_and_load.py:168: UserWarning: Setting `save_embedding_layers` to `True` as the embedding layer has been resized during finetuning.\n",
      "  warnings.warn(\n"
     ]
    },
    {
     "name": "stdout",
     "output_type": "stream",
     "text": [
      "{'loss': 1.4819, 'grad_norm': 0.6796875, 'learning_rate': 6.349742463902728e-05, 'epoch': 1.38}\n",
      "{'loss': 1.5441, 'grad_norm': 0.25390625, 'learning_rate': 6.332854850966816e-05, 'epoch': 1.39}\n"
     ]
    },
    {
     "name": "stderr",
     "output_type": "stream",
     "text": [
      "/home/aeolian83/anaconda3/envs/llm_for_p311/lib/python3.11/site-packages/peft/utils/save_and_load.py:168: UserWarning: Setting `save_embedding_layers` to `True` as the embedding layer has been resized during finetuning.\n",
      "  warnings.warn(\n"
     ]
    },
    {
     "name": "stdout",
     "output_type": "stream",
     "text": [
      "{'loss': 1.4223, 'grad_norm': 0.2734375, 'learning_rate': 6.315967238030905e-05, 'epoch': 1.39}\n",
      "{'loss': 1.6519, 'grad_norm': 0.416015625, 'learning_rate': 6.299079625094993e-05, 'epoch': 1.39}\n"
     ]
    },
    {
     "name": "stderr",
     "output_type": "stream",
     "text": [
      "/home/aeolian83/anaconda3/envs/llm_for_p311/lib/python3.11/site-packages/peft/utils/save_and_load.py:168: UserWarning: Setting `save_embedding_layers` to `True` as the embedding layer has been resized during finetuning.\n",
      "  warnings.warn(\n"
     ]
    },
    {
     "name": "stdout",
     "output_type": "stream",
     "text": [
      "{'loss': 1.6147, 'grad_norm': 0.408203125, 'learning_rate': 6.282192012159082e-05, 'epoch': 1.39}\n",
      "{'loss': 1.4676, 'grad_norm': 0.65625, 'learning_rate': 6.26530439922317e-05, 'epoch': 1.39}\n"
     ]
    },
    {
     "name": "stderr",
     "output_type": "stream",
     "text": [
      "/home/aeolian83/anaconda3/envs/llm_for_p311/lib/python3.11/site-packages/peft/utils/save_and_load.py:168: UserWarning: Setting `save_embedding_layers` to `True` as the embedding layer has been resized during finetuning.\n",
      "  warnings.warn(\n"
     ]
    },
    {
     "name": "stdout",
     "output_type": "stream",
     "text": [
      "{'loss': 1.6054, 'grad_norm': 0.240234375, 'learning_rate': 6.248416786287259e-05, 'epoch': 1.39}\n",
      "{'loss': 1.5473, 'grad_norm': 0.27734375, 'learning_rate': 6.231529173351347e-05, 'epoch': 1.4}\n"
     ]
    },
    {
     "name": "stderr",
     "output_type": "stream",
     "text": [
      "/home/aeolian83/anaconda3/envs/llm_for_p311/lib/python3.11/site-packages/peft/utils/save_and_load.py:168: UserWarning: Setting `save_embedding_layers` to `True` as the embedding layer has been resized during finetuning.\n",
      "  warnings.warn(\n"
     ]
    },
    {
     "name": "stdout",
     "output_type": "stream",
     "text": [
      "{'loss': 1.7685, 'grad_norm': 0.37109375, 'learning_rate': 6.214641560415435e-05, 'epoch': 1.4}\n",
      "{'loss': 1.6706, 'grad_norm': 0.412109375, 'learning_rate': 6.197753947479525e-05, 'epoch': 1.4}\n"
     ]
    },
    {
     "name": "stderr",
     "output_type": "stream",
     "text": [
      "/home/aeolian83/anaconda3/envs/llm_for_p311/lib/python3.11/site-packages/peft/utils/save_and_load.py:168: UserWarning: Setting `save_embedding_layers` to `True` as the embedding layer has been resized during finetuning.\n",
      "  warnings.warn(\n"
     ]
    },
    {
     "name": "stdout",
     "output_type": "stream",
     "text": [
      "{'loss': 1.4031, 'grad_norm': 0.6953125, 'learning_rate': 6.180866334543612e-05, 'epoch': 1.4}\n",
      "{'loss': 1.4894, 'grad_norm': 0.2119140625, 'learning_rate': 6.1639787216077e-05, 'epoch': 1.4}\n"
     ]
    },
    {
     "name": "stderr",
     "output_type": "stream",
     "text": [
      "/home/aeolian83/anaconda3/envs/llm_for_p311/lib/python3.11/site-packages/peft/utils/save_and_load.py:168: UserWarning: Setting `save_embedding_layers` to `True` as the embedding layer has been resized during finetuning.\n",
      "  warnings.warn(\n"
     ]
    },
    {
     "name": "stdout",
     "output_type": "stream",
     "text": [
      "{'loss': 1.6401, 'grad_norm': 0.26171875, 'learning_rate': 6.14709110867179e-05, 'epoch': 1.4}\n",
      "{'loss': 1.6554, 'grad_norm': 0.318359375, 'learning_rate': 6.130203495735878e-05, 'epoch': 1.41}\n"
     ]
    },
    {
     "name": "stderr",
     "output_type": "stream",
     "text": [
      "/home/aeolian83/anaconda3/envs/llm_for_p311/lib/python3.11/site-packages/peft/utils/save_and_load.py:168: UserWarning: Setting `save_embedding_layers` to `True` as the embedding layer has been resized during finetuning.\n",
      "  warnings.warn(\n"
     ]
    },
    {
     "name": "stdout",
     "output_type": "stream",
     "text": [
      "{'loss': 1.6198, 'grad_norm': 0.427734375, 'learning_rate': 6.113315882799967e-05, 'epoch': 1.41}\n",
      "{'loss': 1.6906, 'grad_norm': 0.6953125, 'learning_rate': 6.096428269864055e-05, 'epoch': 1.41}\n"
     ]
    },
    {
     "name": "stderr",
     "output_type": "stream",
     "text": [
      "/home/aeolian83/anaconda3/envs/llm_for_p311/lib/python3.11/site-packages/peft/utils/save_and_load.py:168: UserWarning: Setting `save_embedding_layers` to `True` as the embedding layer has been resized during finetuning.\n",
      "  warnings.warn(\n"
     ]
    },
    {
     "name": "stdout",
     "output_type": "stream",
     "text": [
      "{'loss': 1.4502, 'grad_norm': 0.259765625, 'learning_rate': 6.079540656928143e-05, 'epoch': 1.41}\n",
      "{'loss': 1.5512, 'grad_norm': 0.361328125, 'learning_rate': 6.0626530439922325e-05, 'epoch': 1.41}\n"
     ]
    },
    {
     "name": "stderr",
     "output_type": "stream",
     "text": [
      "/home/aeolian83/anaconda3/envs/llm_for_p311/lib/python3.11/site-packages/peft/utils/save_and_load.py:168: UserWarning: Setting `save_embedding_layers` to `True` as the embedding layer has been resized during finetuning.\n",
      "  warnings.warn(\n"
     ]
    },
    {
     "name": "stdout",
     "output_type": "stream",
     "text": [
      "{'loss': 1.6087, 'grad_norm': 0.369140625, 'learning_rate': 6.0457654310563203e-05, 'epoch': 1.41}\n",
      "{'loss': 1.7343, 'grad_norm': 0.6015625, 'learning_rate': 6.028877818120409e-05, 'epoch': 1.42}\n"
     ]
    },
    {
     "name": "stderr",
     "output_type": "stream",
     "text": [
      "/home/aeolian83/anaconda3/envs/llm_for_p311/lib/python3.11/site-packages/peft/utils/save_and_load.py:168: UserWarning: Setting `save_embedding_layers` to `True` as the embedding layer has been resized during finetuning.\n",
      "  warnings.warn(\n"
     ]
    },
    {
     "name": "stdout",
     "output_type": "stream",
     "text": [
      "{'loss': 1.4295, 'grad_norm': 0.73828125, 'learning_rate': 6.011990205184498e-05, 'epoch': 1.42}\n",
      "{'loss': 1.4152, 'grad_norm': 0.275390625, 'learning_rate': 5.995102592248586e-05, 'epoch': 1.42}\n"
     ]
    },
    {
     "name": "stderr",
     "output_type": "stream",
     "text": [
      "/home/aeolian83/anaconda3/envs/llm_for_p311/lib/python3.11/site-packages/peft/utils/save_and_load.py:168: UserWarning: Setting `save_embedding_layers` to `True` as the embedding layer has been resized during finetuning.\n",
      "  warnings.warn(\n"
     ]
    },
    {
     "name": "stdout",
     "output_type": "stream",
     "text": [
      "{'loss': 1.5176, 'grad_norm': 0.248046875, 'learning_rate': 5.978214979312674e-05, 'epoch': 1.42}\n",
      "{'loss': 1.6707, 'grad_norm': 0.3359375, 'learning_rate': 5.961327366376763e-05, 'epoch': 1.42}\n"
     ]
    },
    {
     "name": "stderr",
     "output_type": "stream",
     "text": [
      "/home/aeolian83/anaconda3/envs/llm_for_p311/lib/python3.11/site-packages/peft/utils/save_and_load.py:168: UserWarning: Setting `save_embedding_layers` to `True` as the embedding layer has been resized during finetuning.\n",
      "  warnings.warn(\n"
     ]
    },
    {
     "name": "stdout",
     "output_type": "stream",
     "text": [
      "{'loss': 1.6343, 'grad_norm': 0.443359375, 'learning_rate': 5.944439753440851e-05, 'epoch': 1.42}\n",
      "{'loss': 1.7095, 'grad_norm': 0.74609375, 'learning_rate': 5.9275521405049396e-05, 'epoch': 1.43}\n"
     ]
    },
    {
     "name": "stderr",
     "output_type": "stream",
     "text": [
      "/home/aeolian83/anaconda3/envs/llm_for_p311/lib/python3.11/site-packages/peft/utils/save_and_load.py:168: UserWarning: Setting `save_embedding_layers` to `True` as the embedding layer has been resized during finetuning.\n",
      "  warnings.warn(\n"
     ]
    },
    {
     "name": "stdout",
     "output_type": "stream",
     "text": [
      "{'loss': 1.7135, 'grad_norm': 0.2734375, 'learning_rate': 5.910664527569029e-05, 'epoch': 1.43}\n",
      "{'loss': 1.5656, 'grad_norm': 0.2890625, 'learning_rate': 5.893776914633117e-05, 'epoch': 1.43}\n"
     ]
    },
    {
     "name": "stderr",
     "output_type": "stream",
     "text": [
      "/home/aeolian83/anaconda3/envs/llm_for_p311/lib/python3.11/site-packages/peft/utils/save_and_load.py:168: UserWarning: Setting `save_embedding_layers` to `True` as the embedding layer has been resized during finetuning.\n",
      "  warnings.warn(\n"
     ]
    },
    {
     "name": "stdout",
     "output_type": "stream",
     "text": [
      "{'loss': 1.5667, 'grad_norm': 0.32421875, 'learning_rate': 5.8768893016972046e-05, 'epoch': 1.43}\n",
      "{'loss': 1.8076, 'grad_norm': 0.451171875, 'learning_rate': 5.860001688761294e-05, 'epoch': 1.43}\n"
     ]
    },
    {
     "name": "stderr",
     "output_type": "stream",
     "text": [
      "/home/aeolian83/anaconda3/envs/llm_for_p311/lib/python3.11/site-packages/peft/utils/save_and_load.py:168: UserWarning: Setting `save_embedding_layers` to `True` as the embedding layer has been resized during finetuning.\n",
      "  warnings.warn(\n"
     ]
    },
    {
     "name": "stdout",
     "output_type": "stream",
     "text": [
      "{'loss': 1.5649, 'grad_norm': 0.69140625, 'learning_rate': 5.8431140758253825e-05, 'epoch': 1.43}\n",
      "{'loss': 1.6606, 'grad_norm': 0.294921875, 'learning_rate': 5.826226462889472e-05, 'epoch': 1.43}\n"
     ]
    },
    {
     "name": "stderr",
     "output_type": "stream",
     "text": [
      "/home/aeolian83/anaconda3/envs/llm_for_p311/lib/python3.11/site-packages/peft/utils/save_and_load.py:168: UserWarning: Setting `save_embedding_layers` to `True` as the embedding layer has been resized during finetuning.\n",
      "  warnings.warn(\n"
     ]
    },
    {
     "name": "stdout",
     "output_type": "stream",
     "text": [
      "{'loss': 1.64, 'grad_norm': 0.283203125, 'learning_rate': 5.8093388499535596e-05, 'epoch': 1.44}\n",
      "{'loss': 1.6329, 'grad_norm': 0.28515625, 'learning_rate': 5.7924512370176475e-05, 'epoch': 1.44}\n"
     ]
    },
    {
     "name": "stderr",
     "output_type": "stream",
     "text": [
      "/home/aeolian83/anaconda3/envs/llm_for_p311/lib/python3.11/site-packages/peft/utils/save_and_load.py:168: UserWarning: Setting `save_embedding_layers` to `True` as the embedding layer has been resized during finetuning.\n",
      "  warnings.warn(\n"
     ]
    },
    {
     "name": "stdout",
     "output_type": "stream",
     "text": [
      "{'loss': 1.7215, 'grad_norm': 0.412109375, 'learning_rate': 5.775563624081737e-05, 'epoch': 1.44}\n",
      "{'loss': 1.6263, 'grad_norm': 0.8046875, 'learning_rate': 5.7586760111458246e-05, 'epoch': 1.44}\n"
     ]
    },
    {
     "name": "stderr",
     "output_type": "stream",
     "text": [
      "/home/aeolian83/anaconda3/envs/llm_for_p311/lib/python3.11/site-packages/peft/utils/save_and_load.py:168: UserWarning: Setting `save_embedding_layers` to `True` as the embedding layer has been resized during finetuning.\n",
      "  warnings.warn(\n"
     ]
    },
    {
     "name": "stdout",
     "output_type": "stream",
     "text": [
      "{'loss': 1.3006, 'grad_norm': 0.216796875, 'learning_rate': 5.741788398209913e-05, 'epoch': 1.44}\n",
      "{'loss': 1.6821, 'grad_norm': 0.3046875, 'learning_rate': 5.7249007852740024e-05, 'epoch': 1.44}\n"
     ]
    },
    {
     "name": "stderr",
     "output_type": "stream",
     "text": [
      "/home/aeolian83/anaconda3/envs/llm_for_p311/lib/python3.11/site-packages/peft/utils/save_and_load.py:168: UserWarning: Setting `save_embedding_layers` to `True` as the embedding layer has been resized during finetuning.\n",
      "  warnings.warn(\n"
     ]
    },
    {
     "name": "stdout",
     "output_type": "stream",
     "text": [
      "{'loss': 1.5391, 'grad_norm': 0.416015625, 'learning_rate': 5.70801317233809e-05, 'epoch': 1.45}\n",
      "{'loss': 1.7884, 'grad_norm': 0.443359375, 'learning_rate': 5.691125559402178e-05, 'epoch': 1.45}\n"
     ]
    },
    {
     "name": "stderr",
     "output_type": "stream",
     "text": [
      "/home/aeolian83/anaconda3/envs/llm_for_p311/lib/python3.11/site-packages/peft/utils/save_and_load.py:168: UserWarning: Setting `save_embedding_layers` to `True` as the embedding layer has been resized during finetuning.\n",
      "  warnings.warn(\n"
     ]
    },
    {
     "name": "stdout",
     "output_type": "stream",
     "text": [
      "{'loss': 1.3844, 'grad_norm': 0.87109375, 'learning_rate': 5.6742379464662674e-05, 'epoch': 1.45}\n",
      "{'loss': 1.6334, 'grad_norm': 0.244140625, 'learning_rate': 5.657350333530356e-05, 'epoch': 1.45}\n"
     ]
    },
    {
     "name": "stderr",
     "output_type": "stream",
     "text": [
      "/home/aeolian83/anaconda3/envs/llm_for_p311/lib/python3.11/site-packages/peft/utils/save_and_load.py:168: UserWarning: Setting `save_embedding_layers` to `True` as the embedding layer has been resized during finetuning.\n",
      "  warnings.warn(\n"
     ]
    },
    {
     "name": "stdout",
     "output_type": "stream",
     "text": [
      "{'loss': 1.6353, 'grad_norm': 0.318359375, 'learning_rate': 5.640462720594444e-05, 'epoch': 1.45}\n",
      "{'loss': 1.731, 'grad_norm': 0.3359375, 'learning_rate': 5.623575107658533e-05, 'epoch': 1.45}\n"
     ]
    },
    {
     "name": "stderr",
     "output_type": "stream",
     "text": [
      "/home/aeolian83/anaconda3/envs/llm_for_p311/lib/python3.11/site-packages/peft/utils/save_and_load.py:168: UserWarning: Setting `save_embedding_layers` to `True` as the embedding layer has been resized during finetuning.\n",
      "  warnings.warn(\n"
     ]
    },
    {
     "name": "stdout",
     "output_type": "stream",
     "text": [
      "{'loss': 1.7636, 'grad_norm': 0.4453125, 'learning_rate': 5.606687494722621e-05, 'epoch': 1.46}\n",
      "{'loss': 1.5177, 'grad_norm': 0.65234375, 'learning_rate': 5.589799881786709e-05, 'epoch': 1.46}\n"
     ]
    },
    {
     "name": "stderr",
     "output_type": "stream",
     "text": [
      "/home/aeolian83/anaconda3/envs/llm_for_p311/lib/python3.11/site-packages/peft/utils/save_and_load.py:168: UserWarning: Setting `save_embedding_layers` to `True` as the embedding layer has been resized during finetuning.\n",
      "  warnings.warn(\n"
     ]
    },
    {
     "name": "stdout",
     "output_type": "stream",
     "text": [
      "{'loss': 1.3296, 'grad_norm': 0.3125, 'learning_rate': 5.572912268850798e-05, 'epoch': 1.46}\n",
      "{'loss': 1.5217, 'grad_norm': 0.27734375, 'learning_rate': 5.556024655914887e-05, 'epoch': 1.46}\n"
     ]
    },
    {
     "name": "stderr",
     "output_type": "stream",
     "text": [
      "/home/aeolian83/anaconda3/envs/llm_for_p311/lib/python3.11/site-packages/peft/utils/save_and_load.py:168: UserWarning: Setting `save_embedding_layers` to `True` as the embedding layer has been resized during finetuning.\n",
      "  warnings.warn(\n"
     ]
    },
    {
     "name": "stdout",
     "output_type": "stream",
     "text": [
      "{'loss': 1.6513, 'grad_norm': 0.361328125, 'learning_rate': 5.539137042978976e-05, 'epoch': 1.46}\n",
      "{'loss': 1.7911, 'grad_norm': 0.439453125, 'learning_rate': 5.522249430043064e-05, 'epoch': 1.46}\n"
     ]
    },
    {
     "name": "stderr",
     "output_type": "stream",
     "text": [
      "/home/aeolian83/anaconda3/envs/llm_for_p311/lib/python3.11/site-packages/peft/utils/save_and_load.py:168: UserWarning: Setting `save_embedding_layers` to `True` as the embedding layer has been resized during finetuning.\n",
      "  warnings.warn(\n"
     ]
    },
    {
     "name": "stdout",
     "output_type": "stream",
     "text": [
      "{'loss': 1.5139, 'grad_norm': 0.71484375, 'learning_rate': 5.505361817107152e-05, 'epoch': 1.47}\n",
      "{'loss': 1.4264, 'grad_norm': 0.255859375, 'learning_rate': 5.488474204171241e-05, 'epoch': 1.47}\n"
     ]
    },
    {
     "name": "stderr",
     "output_type": "stream",
     "text": [
      "/home/aeolian83/anaconda3/envs/llm_for_p311/lib/python3.11/site-packages/peft/utils/save_and_load.py:168: UserWarning: Setting `save_embedding_layers` to `True` as the embedding layer has been resized during finetuning.\n",
      "  warnings.warn(\n"
     ]
    },
    {
     "name": "stdout",
     "output_type": "stream",
     "text": [
      "{'loss': 1.5843, 'grad_norm': 0.255859375, 'learning_rate': 5.4715865912353296e-05, 'epoch': 1.47}\n",
      "{'loss': 1.6784, 'grad_norm': 0.333984375, 'learning_rate': 5.4546989782994175e-05, 'epoch': 1.47}\n"
     ]
    },
    {
     "name": "stderr",
     "output_type": "stream",
     "text": [
      "/home/aeolian83/anaconda3/envs/llm_for_p311/lib/python3.11/site-packages/peft/utils/save_and_load.py:168: UserWarning: Setting `save_embedding_layers` to `True` as the embedding layer has been resized during finetuning.\n",
      "  warnings.warn(\n"
     ]
    },
    {
     "name": "stdout",
     "output_type": "stream",
     "text": [
      "{'loss': 1.8222, 'grad_norm': 0.42578125, 'learning_rate': 5.437811365363507e-05, 'epoch': 1.47}\n",
      "{'loss': 1.7545, 'grad_norm': 1.0, 'learning_rate': 5.4209237524275946e-05, 'epoch': 1.47}\n"
     ]
    },
    {
     "name": "stderr",
     "output_type": "stream",
     "text": [
      "/home/aeolian83/anaconda3/envs/llm_for_p311/lib/python3.11/site-packages/peft/utils/save_and_load.py:168: UserWarning: Setting `save_embedding_layers` to `True` as the embedding layer has been resized during finetuning.\n",
      "  warnings.warn(\n"
     ]
    },
    {
     "name": "stdout",
     "output_type": "stream",
     "text": [
      "{'loss': 1.2602, 'grad_norm': 0.3046875, 'learning_rate': 5.4040361394916825e-05, 'epoch': 1.48}\n",
      "{'loss': 1.6367, 'grad_norm': 0.3203125, 'learning_rate': 5.387148526555772e-05, 'epoch': 1.48}\n"
     ]
    },
    {
     "name": "stderr",
     "output_type": "stream",
     "text": [
      "/home/aeolian83/anaconda3/envs/llm_for_p311/lib/python3.11/site-packages/peft/utils/save_and_load.py:168: UserWarning: Setting `save_embedding_layers` to `True` as the embedding layer has been resized during finetuning.\n",
      "  warnings.warn(\n"
     ]
    },
    {
     "name": "stdout",
     "output_type": "stream",
     "text": [
      "{'loss': 1.6284, 'grad_norm': 0.44140625, 'learning_rate': 5.37026091361986e-05, 'epoch': 1.48}\n",
      "{'loss': 1.5624, 'grad_norm': 0.421875, 'learning_rate': 5.353373300683948e-05, 'epoch': 1.48}\n"
     ]
    },
    {
     "name": "stderr",
     "output_type": "stream",
     "text": [
      "/home/aeolian83/anaconda3/envs/llm_for_p311/lib/python3.11/site-packages/peft/utils/save_and_load.py:168: UserWarning: Setting `save_embedding_layers` to `True` as the embedding layer has been resized during finetuning.\n",
      "  warnings.warn(\n"
     ]
    },
    {
     "name": "stdout",
     "output_type": "stream",
     "text": [
      "{'loss': 1.5015, 'grad_norm': 0.81640625, 'learning_rate': 5.3364856877480374e-05, 'epoch': 1.48}\n",
      "{'loss': 1.6333, 'grad_norm': 0.341796875, 'learning_rate': 5.319598074812125e-05, 'epoch': 1.48}\n"
     ]
    },
    {
     "name": "stderr",
     "output_type": "stream",
     "text": [
      "/home/aeolian83/anaconda3/envs/llm_for_p311/lib/python3.11/site-packages/peft/utils/save_and_load.py:168: UserWarning: Setting `save_embedding_layers` to `True` as the embedding layer has been resized during finetuning.\n",
      "  warnings.warn(\n"
     ]
    },
    {
     "name": "stdout",
     "output_type": "stream",
     "text": [
      "{'loss': 1.5592, 'grad_norm': 0.3984375, 'learning_rate': 5.302710461876214e-05, 'epoch': 1.49}\n",
      "{'loss': 1.6377, 'grad_norm': 0.435546875, 'learning_rate': 5.2858228489403024e-05, 'epoch': 1.49}\n"
     ]
    },
    {
     "name": "stderr",
     "output_type": "stream",
     "text": [
      "/home/aeolian83/anaconda3/envs/llm_for_p311/lib/python3.11/site-packages/peft/utils/save_and_load.py:168: UserWarning: Setting `save_embedding_layers` to `True` as the embedding layer has been resized during finetuning.\n",
      "  warnings.warn(\n"
     ]
    },
    {
     "name": "stdout",
     "output_type": "stream",
     "text": [
      "{'loss': 1.5712, 'grad_norm': 0.51171875, 'learning_rate': 5.268935236004391e-05, 'epoch': 1.49}\n",
      "{'loss': 1.4321, 'grad_norm': 0.76171875, 'learning_rate': 5.252047623068479e-05, 'epoch': 1.49}\n"
     ]
    },
    {
     "name": "stderr",
     "output_type": "stream",
     "text": [
      "/home/aeolian83/anaconda3/envs/llm_for_p311/lib/python3.11/site-packages/peft/utils/save_and_load.py:168: UserWarning: Setting `save_embedding_layers` to `True` as the embedding layer has been resized during finetuning.\n",
      "  warnings.warn(\n"
     ]
    },
    {
     "name": "stdout",
     "output_type": "stream",
     "text": [
      "{'loss': 1.4574, 'grad_norm': 0.302734375, 'learning_rate': 5.235160010132568e-05, 'epoch': 1.49}\n",
      "{'loss': 1.5742, 'grad_norm': 0.267578125, 'learning_rate': 5.218272397196656e-05, 'epoch': 1.49}\n"
     ]
    },
    {
     "name": "stderr",
     "output_type": "stream",
     "text": [
      "/home/aeolian83/anaconda3/envs/llm_for_p311/lib/python3.11/site-packages/peft/utils/save_and_load.py:168: UserWarning: Setting `save_embedding_layers` to `True` as the embedding layer has been resized during finetuning.\n",
      "  warnings.warn(\n"
     ]
    },
    {
     "name": "stdout",
     "output_type": "stream",
     "text": [
      "{'loss': 1.679, 'grad_norm': 0.330078125, 'learning_rate': 5.201384784260745e-05, 'epoch': 1.5}\n",
      "{'loss': 1.7219, 'grad_norm': 0.4921875, 'learning_rate': 5.184497171324834e-05, 'epoch': 1.5}\n"
     ]
    },
    {
     "name": "stderr",
     "output_type": "stream",
     "text": [
      "/home/aeolian83/anaconda3/envs/llm_for_p311/lib/python3.11/site-packages/peft/utils/save_and_load.py:168: UserWarning: Setting `save_embedding_layers` to `True` as the embedding layer has been resized during finetuning.\n",
      "  warnings.warn(\n"
     ]
    },
    {
     "name": "stdout",
     "output_type": "stream",
     "text": [
      "{'loss': 1.5212, 'grad_norm': 0.796875, 'learning_rate': 5.167609558388922e-05, 'epoch': 1.5}\n",
      "{'loss': 1.4335, 'grad_norm': 0.275390625, 'learning_rate': 5.150721945453011e-05, 'epoch': 1.5}\n"
     ]
    },
    {
     "name": "stderr",
     "output_type": "stream",
     "text": [
      "/home/aeolian83/anaconda3/envs/llm_for_p311/lib/python3.11/site-packages/peft/utils/save_and_load.py:168: UserWarning: Setting `save_embedding_layers` to `True` as the embedding layer has been resized during finetuning.\n",
      "  warnings.warn(\n"
     ]
    },
    {
     "name": "stdout",
     "output_type": "stream",
     "text": [
      "{'loss': 1.5585, 'grad_norm': 0.330078125, 'learning_rate': 5.133834332517099e-05, 'epoch': 1.5}\n",
      "{'loss': 1.5826, 'grad_norm': 0.326171875, 'learning_rate': 5.1169467195811874e-05, 'epoch': 1.5}\n"
     ]
    },
    {
     "name": "stderr",
     "output_type": "stream",
     "text": [
      "/home/aeolian83/anaconda3/envs/llm_for_p311/lib/python3.11/site-packages/peft/utils/save_and_load.py:168: UserWarning: Setting `save_embedding_layers` to `True` as the embedding layer has been resized during finetuning.\n",
      "  warnings.warn(\n"
     ]
    },
    {
     "name": "stdout",
     "output_type": "stream",
     "text": [
      "{'loss': 1.7127, 'grad_norm': 0.56640625, 'learning_rate': 5.100059106645276e-05, 'epoch': 1.51}\n",
      "{'loss': 1.6327, 'grad_norm': 0.734375, 'learning_rate': 5.0831714937093646e-05, 'epoch': 1.51}\n"
     ]
    },
    {
     "name": "stderr",
     "output_type": "stream",
     "text": [
      "/home/aeolian83/anaconda3/envs/llm_for_p311/lib/python3.11/site-packages/peft/utils/save_and_load.py:168: UserWarning: Setting `save_embedding_layers` to `True` as the embedding layer has been resized during finetuning.\n",
      "  warnings.warn(\n"
     ]
    },
    {
     "name": "stdout",
     "output_type": "stream",
     "text": [
      "{'loss': 1.6228, 'grad_norm': 0.2470703125, 'learning_rate': 5.0662838807734524e-05, 'epoch': 1.51}\n",
      "{'loss': 1.6213, 'grad_norm': 0.296875, 'learning_rate': 5.049396267837542e-05, 'epoch': 1.51}\n"
     ]
    },
    {
     "name": "stderr",
     "output_type": "stream",
     "text": [
      "/home/aeolian83/anaconda3/envs/llm_for_p311/lib/python3.11/site-packages/peft/utils/save_and_load.py:168: UserWarning: Setting `save_embedding_layers` to `True` as the embedding layer has been resized during finetuning.\n",
      "  warnings.warn(\n"
     ]
    },
    {
     "name": "stdout",
     "output_type": "stream",
     "text": [
      "{'loss': 1.7342, 'grad_norm': 0.365234375, 'learning_rate': 5.0325086549016296e-05, 'epoch': 1.51}\n",
      "{'loss': 1.7058, 'grad_norm': 0.498046875, 'learning_rate': 5.015621041965718e-05, 'epoch': 1.51}\n"
     ]
    },
    {
     "name": "stderr",
     "output_type": "stream",
     "text": [
      "/home/aeolian83/anaconda3/envs/llm_for_p311/lib/python3.11/site-packages/peft/utils/save_and_load.py:168: UserWarning: Setting `save_embedding_layers` to `True` as the embedding layer has been resized during finetuning.\n",
      "  warnings.warn(\n"
     ]
    },
    {
     "name": "stdout",
     "output_type": "stream",
     "text": [
      "{'loss': 1.6284, 'grad_norm': 0.71875, 'learning_rate': 4.9987334290298074e-05, 'epoch': 1.52}\n",
      "{'loss': 1.7816, 'grad_norm': 0.30078125, 'learning_rate': 4.981845816093895e-05, 'epoch': 1.52}\n"
     ]
    },
    {
     "name": "stderr",
     "output_type": "stream",
     "text": [
      "/home/aeolian83/anaconda3/envs/llm_for_p311/lib/python3.11/site-packages/peft/utils/save_and_load.py:168: UserWarning: Setting `save_embedding_layers` to `True` as the embedding layer has been resized during finetuning.\n",
      "  warnings.warn(\n"
     ]
    },
    {
     "name": "stdout",
     "output_type": "stream",
     "text": [
      "{'loss': 1.4548, 'grad_norm': 0.25, 'learning_rate': 4.964958203157984e-05, 'epoch': 1.52}\n",
      "{'loss': 1.662, 'grad_norm': 0.41796875, 'learning_rate': 4.9480705902220724e-05, 'epoch': 1.52}\n"
     ]
    },
    {
     "name": "stderr",
     "output_type": "stream",
     "text": [
      "/home/aeolian83/anaconda3/envs/llm_for_p311/lib/python3.11/site-packages/peft/utils/save_and_load.py:168: UserWarning: Setting `save_embedding_layers` to `True` as the embedding layer has been resized during finetuning.\n",
      "  warnings.warn(\n"
     ]
    },
    {
     "name": "stdout",
     "output_type": "stream",
     "text": [
      "{'loss': 1.7037, 'grad_norm': 0.4375, 'learning_rate': 4.93118297728616e-05, 'epoch': 1.52}\n",
      "{'loss': 1.614, 'grad_norm': 0.53515625, 'learning_rate': 4.9142953643502495e-05, 'epoch': 1.52}\n"
     ]
    },
    {
     "name": "stderr",
     "output_type": "stream",
     "text": [
      "/home/aeolian83/anaconda3/envs/llm_for_p311/lib/python3.11/site-packages/peft/utils/save_and_load.py:168: UserWarning: Setting `save_embedding_layers` to `True` as the embedding layer has been resized during finetuning.\n",
      "  warnings.warn(\n"
     ]
    },
    {
     "name": "stdout",
     "output_type": "stream",
     "text": [
      "{'loss': 1.5172, 'grad_norm': 0.3125, 'learning_rate': 4.897407751414338e-05, 'epoch': 1.52}\n",
      "{'loss': 1.7366, 'grad_norm': 0.251953125, 'learning_rate': 4.880520138478426e-05, 'epoch': 1.53}\n"
     ]
    },
    {
     "name": "stderr",
     "output_type": "stream",
     "text": [
      "/home/aeolian83/anaconda3/envs/llm_for_p311/lib/python3.11/site-packages/peft/utils/save_and_load.py:168: UserWarning: Setting `save_embedding_layers` to `True` as the embedding layer has been resized during finetuning.\n",
      "  warnings.warn(\n"
     ]
    },
    {
     "name": "stdout",
     "output_type": "stream",
     "text": [
      "{'loss': 1.6629, 'grad_norm': 0.361328125, 'learning_rate': 4.8636325255425146e-05, 'epoch': 1.53}\n",
      "{'loss': 1.6585, 'grad_norm': 0.50390625, 'learning_rate': 4.846744912606603e-05, 'epoch': 1.53}\n"
     ]
    },
    {
     "name": "stderr",
     "output_type": "stream",
     "text": [
      "/home/aeolian83/anaconda3/envs/llm_for_p311/lib/python3.11/site-packages/peft/utils/save_and_load.py:168: UserWarning: Setting `save_embedding_layers` to `True` as the embedding layer has been resized during finetuning.\n",
      "  warnings.warn(\n"
     ]
    },
    {
     "name": "stdout",
     "output_type": "stream",
     "text": [
      "{'loss': 1.7302, 'grad_norm': 0.7578125, 'learning_rate': 4.829857299670692e-05, 'epoch': 1.53}\n",
      "{'loss': 1.5067, 'grad_norm': 0.298828125, 'learning_rate': 4.81296968673478e-05, 'epoch': 1.53}\n"
     ]
    },
    {
     "name": "stderr",
     "output_type": "stream",
     "text": [
      "/home/aeolian83/anaconda3/envs/llm_for_p311/lib/python3.11/site-packages/peft/utils/save_and_load.py:168: UserWarning: Setting `save_embedding_layers` to `True` as the embedding layer has been resized during finetuning.\n",
      "  warnings.warn(\n"
     ]
    },
    {
     "name": "stdout",
     "output_type": "stream",
     "text": [
      "{'loss': 1.5543, 'grad_norm': 0.3671875, 'learning_rate': 4.796082073798869e-05, 'epoch': 1.53}\n",
      "{'loss': 1.6235, 'grad_norm': 0.453125, 'learning_rate': 4.7791944608629574e-05, 'epoch': 1.54}\n"
     ]
    },
    {
     "name": "stderr",
     "output_type": "stream",
     "text": [
      "/home/aeolian83/anaconda3/envs/llm_for_p311/lib/python3.11/site-packages/peft/utils/save_and_load.py:168: UserWarning: Setting `save_embedding_layers` to `True` as the embedding layer has been resized during finetuning.\n",
      "  warnings.warn(\n"
     ]
    },
    {
     "name": "stdout",
     "output_type": "stream",
     "text": [
      "{'loss': 1.7649, 'grad_norm': 0.466796875, 'learning_rate': 4.762306847927045e-05, 'epoch': 1.54}\n",
      "{'loss': 1.5098, 'grad_norm': 0.63671875, 'learning_rate': 4.745419234991134e-05, 'epoch': 1.54}\n"
     ]
    },
    {
     "name": "stderr",
     "output_type": "stream",
     "text": [
      "/home/aeolian83/anaconda3/envs/llm_for_p311/lib/python3.11/site-packages/peft/utils/save_and_load.py:168: UserWarning: Setting `save_embedding_layers` to `True` as the embedding layer has been resized during finetuning.\n",
      "  warnings.warn(\n"
     ]
    },
    {
     "name": "stdout",
     "output_type": "stream",
     "text": [
      "{'loss': 1.3101, 'grad_norm': 0.197265625, 'learning_rate': 4.728531622055223e-05, 'epoch': 1.54}\n",
      "{'loss': 1.6368, 'grad_norm': 0.287109375, 'learning_rate': 4.711644009119312e-05, 'epoch': 1.54}\n"
     ]
    },
    {
     "name": "stderr",
     "output_type": "stream",
     "text": [
      "/home/aeolian83/anaconda3/envs/llm_for_p311/lib/python3.11/site-packages/peft/utils/save_and_load.py:168: UserWarning: Setting `save_embedding_layers` to `True` as the embedding layer has been resized during finetuning.\n",
      "  warnings.warn(\n"
     ]
    },
    {
     "name": "stdout",
     "output_type": "stream",
     "text": [
      "{'loss': 1.6275, 'grad_norm': 0.3359375, 'learning_rate': 4.6947563961833996e-05, 'epoch': 1.54}\n",
      "{'loss': 1.6633, 'grad_norm': 0.474609375, 'learning_rate': 4.677868783247488e-05, 'epoch': 1.55}\n"
     ]
    },
    {
     "name": "stderr",
     "output_type": "stream",
     "text": [
      "/home/aeolian83/anaconda3/envs/llm_for_p311/lib/python3.11/site-packages/peft/utils/save_and_load.py:168: UserWarning: Setting `save_embedding_layers` to `True` as the embedding layer has been resized during finetuning.\n",
      "  warnings.warn(\n"
     ]
    },
    {
     "name": "stdout",
     "output_type": "stream",
     "text": [
      "{'loss': 1.9011, 'grad_norm': 0.546875, 'learning_rate': 4.660981170311577e-05, 'epoch': 1.55}\n",
      "{'loss': 1.5364, 'grad_norm': 0.271484375, 'learning_rate': 4.644093557375665e-05, 'epoch': 1.55}\n"
     ]
    },
    {
     "name": "stderr",
     "output_type": "stream",
     "text": [
      "/home/aeolian83/anaconda3/envs/llm_for_p311/lib/python3.11/site-packages/peft/utils/save_and_load.py:168: UserWarning: Setting `save_embedding_layers` to `True` as the embedding layer has been resized during finetuning.\n",
      "  warnings.warn(\n"
     ]
    },
    {
     "name": "stdout",
     "output_type": "stream",
     "text": [
      "{'loss': 1.6342, 'grad_norm': 0.328125, 'learning_rate': 4.627205944439754e-05, 'epoch': 1.55}\n",
      "{'loss': 1.6496, 'grad_norm': 0.44140625, 'learning_rate': 4.6103183315038424e-05, 'epoch': 1.55}\n"
     ]
    },
    {
     "name": "stderr",
     "output_type": "stream",
     "text": [
      "/home/aeolian83/anaconda3/envs/llm_for_p311/lib/python3.11/site-packages/peft/utils/save_and_load.py:168: UserWarning: Setting `save_embedding_layers` to `True` as the embedding layer has been resized during finetuning.\n",
      "  warnings.warn(\n"
     ]
    },
    {
     "name": "stdout",
     "output_type": "stream",
     "text": [
      "{'loss': 1.5805, 'grad_norm': 0.458984375, 'learning_rate': 4.59343071856793e-05, 'epoch': 1.55}\n",
      "{'loss': 1.6461, 'grad_norm': 0.80859375, 'learning_rate': 4.576543105632019e-05, 'epoch': 1.56}\n"
     ]
    },
    {
     "name": "stderr",
     "output_type": "stream",
     "text": [
      "/home/aeolian83/anaconda3/envs/llm_for_p311/lib/python3.11/site-packages/peft/utils/save_and_load.py:168: UserWarning: Setting `save_embedding_layers` to `True` as the embedding layer has been resized during finetuning.\n",
      "  warnings.warn(\n"
     ]
    },
    {
     "name": "stdout",
     "output_type": "stream",
     "text": [
      "{'loss': 1.454, 'grad_norm': 0.2734375, 'learning_rate': 4.5596554926961074e-05, 'epoch': 1.56}\n",
      "{'loss': 1.7151, 'grad_norm': 0.3984375, 'learning_rate': 4.5427678797601966e-05, 'epoch': 1.56}\n"
     ]
    },
    {
     "name": "stderr",
     "output_type": "stream",
     "text": [
      "/home/aeolian83/anaconda3/envs/llm_for_p311/lib/python3.11/site-packages/peft/utils/save_and_load.py:168: UserWarning: Setting `save_embedding_layers` to `True` as the embedding layer has been resized during finetuning.\n",
      "  warnings.warn(\n"
     ]
    },
    {
     "name": "stdout",
     "output_type": "stream",
     "text": [
      "{'loss': 1.637, 'grad_norm': 0.29296875, 'learning_rate': 4.5258802668242845e-05, 'epoch': 1.56}\n",
      "{'loss': 1.7576, 'grad_norm': 0.486328125, 'learning_rate': 4.508992653888373e-05, 'epoch': 1.56}\n"
     ]
    },
    {
     "name": "stderr",
     "output_type": "stream",
     "text": [
      "/home/aeolian83/anaconda3/envs/llm_for_p311/lib/python3.11/site-packages/peft/utils/save_and_load.py:168: UserWarning: Setting `save_embedding_layers` to `True` as the embedding layer has been resized during finetuning.\n",
      "  warnings.warn(\n"
     ]
    },
    {
     "name": "stdout",
     "output_type": "stream",
     "text": [
      "{'loss': 1.8012, 'grad_norm': 0.7421875, 'learning_rate': 4.492105040952462e-05, 'epoch': 1.56}\n",
      "{'loss': 1.5331, 'grad_norm': 0.26953125, 'learning_rate': 4.4752174280165496e-05, 'epoch': 1.57}\n"
     ]
    },
    {
     "name": "stderr",
     "output_type": "stream",
     "text": [
      "/home/aeolian83/anaconda3/envs/llm_for_p311/lib/python3.11/site-packages/peft/utils/save_and_load.py:168: UserWarning: Setting `save_embedding_layers` to `True` as the embedding layer has been resized during finetuning.\n",
      "  warnings.warn(\n"
     ]
    },
    {
     "name": "stdout",
     "output_type": "stream",
     "text": [
      "{'loss': 1.6818, 'grad_norm': 0.384765625, 'learning_rate': 4.458329815080639e-05, 'epoch': 1.57}\n",
      "{'loss': 1.7111, 'grad_norm': 0.357421875, 'learning_rate': 4.4414422021447274e-05, 'epoch': 1.57}\n"
     ]
    },
    {
     "name": "stderr",
     "output_type": "stream",
     "text": [
      "/home/aeolian83/anaconda3/envs/llm_for_p311/lib/python3.11/site-packages/peft/utils/save_and_load.py:168: UserWarning: Setting `save_embedding_layers` to `True` as the embedding layer has been resized during finetuning.\n",
      "  warnings.warn(\n"
     ]
    },
    {
     "name": "stdout",
     "output_type": "stream",
     "text": [
      "{'loss': 1.8748, 'grad_norm': 0.408203125, 'learning_rate': 4.424554589208815e-05, 'epoch': 1.57}\n",
      "{'loss': 1.5879, 'grad_norm': 0.796875, 'learning_rate': 4.407666976272904e-05, 'epoch': 1.57}\n"
     ]
    },
    {
     "name": "stderr",
     "output_type": "stream",
     "text": [
      "/home/aeolian83/anaconda3/envs/llm_for_p311/lib/python3.11/site-packages/peft/utils/save_and_load.py:168: UserWarning: Setting `save_embedding_layers` to `True` as the embedding layer has been resized during finetuning.\n",
      "  warnings.warn(\n"
     ]
    },
    {
     "name": "stdout",
     "output_type": "stream",
     "text": [
      "{'loss': 1.3942, 'grad_norm': 0.24609375, 'learning_rate': 4.3907793633369924e-05, 'epoch': 1.57}\n",
      "{'loss': 1.5478, 'grad_norm': 0.337890625, 'learning_rate': 4.373891750401081e-05, 'epoch': 1.58}\n"
     ]
    },
    {
     "name": "stderr",
     "output_type": "stream",
     "text": [
      "/home/aeolian83/anaconda3/envs/llm_for_p311/lib/python3.11/site-packages/peft/utils/save_and_load.py:168: UserWarning: Setting `save_embedding_layers` to `True` as the embedding layer has been resized during finetuning.\n",
      "  warnings.warn(\n"
     ]
    },
    {
     "name": "stdout",
     "output_type": "stream",
     "text": [
      "{'loss': 1.596, 'grad_norm': 0.466796875, 'learning_rate': 4.3570041374651695e-05, 'epoch': 1.58}\n",
      "{'loss': 1.7468, 'grad_norm': 0.55078125, 'learning_rate': 4.340116524529258e-05, 'epoch': 1.58}\n"
     ]
    },
    {
     "name": "stderr",
     "output_type": "stream",
     "text": [
      "/home/aeolian83/anaconda3/envs/llm_for_p311/lib/python3.11/site-packages/peft/utils/save_and_load.py:168: UserWarning: Setting `save_embedding_layers` to `True` as the embedding layer has been resized during finetuning.\n",
      "  warnings.warn(\n"
     ]
    },
    {
     "name": "stdout",
     "output_type": "stream",
     "text": [
      "{'loss': 1.4608, 'grad_norm': 0.88671875, 'learning_rate': 4.3232289115933467e-05, 'epoch': 1.58}\n",
      "{'loss': 1.5888, 'grad_norm': 0.1708984375, 'learning_rate': 4.3063412986574345e-05, 'epoch': 1.58}\n"
     ]
    },
    {
     "name": "stderr",
     "output_type": "stream",
     "text": [
      "/home/aeolian83/anaconda3/envs/llm_for_p311/lib/python3.11/site-packages/peft/utils/save_and_load.py:168: UserWarning: Setting `save_embedding_layers` to `True` as the embedding layer has been resized during finetuning.\n",
      "  warnings.warn(\n"
     ]
    },
    {
     "name": "stdout",
     "output_type": "stream",
     "text": [
      "{'loss': 1.661, 'grad_norm': 0.298828125, 'learning_rate': 4.289453685721523e-05, 'epoch': 1.58}\n",
      "{'loss': 1.6793, 'grad_norm': 0.3515625, 'learning_rate': 4.2725660727856124e-05, 'epoch': 1.59}\n"
     ]
    },
    {
     "name": "stderr",
     "output_type": "stream",
     "text": [
      "/home/aeolian83/anaconda3/envs/llm_for_p311/lib/python3.11/site-packages/peft/utils/save_and_load.py:168: UserWarning: Setting `save_embedding_layers` to `True` as the embedding layer has been resized during finetuning.\n",
      "  warnings.warn(\n"
     ]
    },
    {
     "name": "stdout",
     "output_type": "stream",
     "text": [
      "{'loss': 1.7532, 'grad_norm': 0.447265625, 'learning_rate': 4.255678459849701e-05, 'epoch': 1.59}\n",
      "{'loss': 1.5546, 'grad_norm': 0.88671875, 'learning_rate': 4.238790846913789e-05, 'epoch': 1.59}\n"
     ]
    },
    {
     "name": "stderr",
     "output_type": "stream",
     "text": [
      "/home/aeolian83/anaconda3/envs/llm_for_p311/lib/python3.11/site-packages/peft/utils/save_and_load.py:168: UserWarning: Setting `save_embedding_layers` to `True` as the embedding layer has been resized during finetuning.\n",
      "  warnings.warn(\n"
     ]
    },
    {
     "name": "stdout",
     "output_type": "stream",
     "text": [
      "{'loss': 1.4304, 'grad_norm': 0.1845703125, 'learning_rate': 4.2219032339778774e-05, 'epoch': 1.59}\n",
      "{'loss': 1.4258, 'grad_norm': 0.341796875, 'learning_rate': 4.205015621041966e-05, 'epoch': 1.59}\n"
     ]
    },
    {
     "name": "stderr",
     "output_type": "stream",
     "text": [
      "/home/aeolian83/anaconda3/envs/llm_for_p311/lib/python3.11/site-packages/peft/utils/save_and_load.py:168: UserWarning: Setting `save_embedding_layers` to `True` as the embedding layer has been resized during finetuning.\n",
      "  warnings.warn(\n"
     ]
    },
    {
     "name": "stdout",
     "output_type": "stream",
     "text": [
      "{'loss': 1.7126, 'grad_norm': 0.376953125, 'learning_rate': 4.1881280081060545e-05, 'epoch': 1.59}\n",
      "{'loss': 1.7453, 'grad_norm': 0.466796875, 'learning_rate': 4.171240395170143e-05, 'epoch': 1.6}\n"
     ]
    },
    {
     "name": "stderr",
     "output_type": "stream",
     "text": [
      "/home/aeolian83/anaconda3/envs/llm_for_p311/lib/python3.11/site-packages/peft/utils/save_and_load.py:168: UserWarning: Setting `save_embedding_layers` to `True` as the embedding layer has been resized during finetuning.\n",
      "  warnings.warn(\n"
     ]
    },
    {
     "name": "stdout",
     "output_type": "stream",
     "text": [
      "{'loss': 1.4692, 'grad_norm': 0.78125, 'learning_rate': 4.1543527822342316e-05, 'epoch': 1.6}\n",
      "{'loss': 1.3801, 'grad_norm': 0.27734375, 'learning_rate': 4.1374651692983195e-05, 'epoch': 1.6}\n"
     ]
    },
    {
     "name": "stderr",
     "output_type": "stream",
     "text": [
      "/home/aeolian83/anaconda3/envs/llm_for_p311/lib/python3.11/site-packages/peft/utils/save_and_load.py:168: UserWarning: Setting `save_embedding_layers` to `True` as the embedding layer has been resized during finetuning.\n",
      "  warnings.warn(\n"
     ]
    },
    {
     "name": "stdout",
     "output_type": "stream",
     "text": [
      "{'loss': 1.5556, 'grad_norm': 0.275390625, 'learning_rate': 4.120577556362408e-05, 'epoch': 1.6}\n",
      "{'loss': 1.7199, 'grad_norm': 0.365234375, 'learning_rate': 4.103689943426497e-05, 'epoch': 1.6}\n"
     ]
    },
    {
     "name": "stderr",
     "output_type": "stream",
     "text": [
      "/home/aeolian83/anaconda3/envs/llm_for_p311/lib/python3.11/site-packages/peft/utils/save_and_load.py:168: UserWarning: Setting `save_embedding_layers` to `True` as the embedding layer has been resized during finetuning.\n",
      "  warnings.warn(\n"
     ]
    },
    {
     "name": "stdout",
     "output_type": "stream",
     "text": [
      "{'loss': 2.0074, 'grad_norm': 0.54296875, 'learning_rate': 4.086802330490586e-05, 'epoch': 1.6}\n",
      "{'loss': 1.5578, 'grad_norm': 0.578125, 'learning_rate': 4.069914717554674e-05, 'epoch': 1.61}\n"
     ]
    },
    {
     "name": "stderr",
     "output_type": "stream",
     "text": [
      "/home/aeolian83/anaconda3/envs/llm_for_p311/lib/python3.11/site-packages/peft/utils/save_and_load.py:168: UserWarning: Setting `save_embedding_layers` to `True` as the embedding layer has been resized during finetuning.\n",
      "  warnings.warn(\n"
     ]
    },
    {
     "name": "stdout",
     "output_type": "stream",
     "text": [
      "{'loss': 1.6471, 'grad_norm': 0.25390625, 'learning_rate': 4.0530271046187624e-05, 'epoch': 1.61}\n",
      "{'loss': 1.6702, 'grad_norm': 0.330078125, 'learning_rate': 4.036139491682851e-05, 'epoch': 1.61}\n"
     ]
    },
    {
     "name": "stderr",
     "output_type": "stream",
     "text": [
      "/home/aeolian83/anaconda3/envs/llm_for_p311/lib/python3.11/site-packages/peft/utils/save_and_load.py:168: UserWarning: Setting `save_embedding_layers` to `True` as the embedding layer has been resized during finetuning.\n",
      "  warnings.warn(\n"
     ]
    },
    {
     "name": "stdout",
     "output_type": "stream",
     "text": [
      "{'loss': 1.7026, 'grad_norm': 0.41796875, 'learning_rate': 4.019251878746939e-05, 'epoch': 1.61}\n",
      "{'loss': 1.8355, 'grad_norm': 0.48046875, 'learning_rate': 4.002364265811028e-05, 'epoch': 1.61}\n"
     ]
    },
    {
     "name": "stderr",
     "output_type": "stream",
     "text": [
      "/home/aeolian83/anaconda3/envs/llm_for_p311/lib/python3.11/site-packages/peft/utils/save_and_load.py:168: UserWarning: Setting `save_embedding_layers` to `True` as the embedding layer has been resized during finetuning.\n",
      "  warnings.warn(\n"
     ]
    },
    {
     "name": "stdout",
     "output_type": "stream",
     "text": [
      "{'loss': 1.6345, 'grad_norm': 0.78515625, 'learning_rate': 3.9854766528751166e-05, 'epoch': 1.61}\n",
      "{'loss': 1.366, 'grad_norm': 0.337890625, 'learning_rate': 3.968589039939205e-05, 'epoch': 1.62}\n"
     ]
    },
    {
     "name": "stderr",
     "output_type": "stream",
     "text": [
      "/home/aeolian83/anaconda3/envs/llm_for_p311/lib/python3.11/site-packages/peft/utils/save_and_load.py:168: UserWarning: Setting `save_embedding_layers` to `True` as the embedding layer has been resized during finetuning.\n",
      "  warnings.warn(\n"
     ]
    },
    {
     "name": "stdout",
     "output_type": "stream",
     "text": [
      "{'loss': 1.6513, 'grad_norm': 0.3515625, 'learning_rate': 3.951701427003293e-05, 'epoch': 1.62}\n",
      "{'loss': 1.6697, 'grad_norm': 0.3671875, 'learning_rate': 3.9348138140673817e-05, 'epoch': 1.62}\n"
     ]
    },
    {
     "name": "stderr",
     "output_type": "stream",
     "text": [
      "/home/aeolian83/anaconda3/envs/llm_for_p311/lib/python3.11/site-packages/peft/utils/save_and_load.py:168: UserWarning: Setting `save_embedding_layers` to `True` as the embedding layer has been resized during finetuning.\n",
      "  warnings.warn(\n"
     ]
    },
    {
     "name": "stdout",
     "output_type": "stream",
     "text": [
      "{'loss': 1.6378, 'grad_norm': 0.5, 'learning_rate': 3.91792620113147e-05, 'epoch': 1.62}\n",
      "{'loss': 1.7169, 'grad_norm': 1.0859375, 'learning_rate': 3.901038588195559e-05, 'epoch': 1.62}\n"
     ]
    },
    {
     "name": "stderr",
     "output_type": "stream",
     "text": [
      "/home/aeolian83/anaconda3/envs/llm_for_p311/lib/python3.11/site-packages/peft/utils/save_and_load.py:168: UserWarning: Setting `save_embedding_layers` to `True` as the embedding layer has been resized during finetuning.\n",
      "  warnings.warn(\n"
     ]
    },
    {
     "name": "stdout",
     "output_type": "stream",
     "text": [
      "{'loss': 1.5437, 'grad_norm': 0.212890625, 'learning_rate': 3.8841509752596474e-05, 'epoch': 1.62}\n",
      "{'loss': 1.4344, 'grad_norm': 0.294921875, 'learning_rate': 3.867263362323736e-05, 'epoch': 1.62}\n"
     ]
    },
    {
     "name": "stderr",
     "output_type": "stream",
     "text": [
      "/home/aeolian83/anaconda3/envs/llm_for_p311/lib/python3.11/site-packages/peft/utils/save_and_load.py:168: UserWarning: Setting `save_embedding_layers` to `True` as the embedding layer has been resized during finetuning.\n",
      "  warnings.warn(\n"
     ]
    },
    {
     "name": "stdout",
     "output_type": "stream",
     "text": [
      "{'loss': 1.7425, 'grad_norm': 0.35546875, 'learning_rate': 3.850375749387824e-05, 'epoch': 1.63}\n",
      "{'loss': 1.6213, 'grad_norm': 0.546875, 'learning_rate': 3.8334881364519124e-05, 'epoch': 1.63}\n"
     ]
    },
    {
     "name": "stderr",
     "output_type": "stream",
     "text": [
      "/home/aeolian83/anaconda3/envs/llm_for_p311/lib/python3.11/site-packages/peft/utils/save_and_load.py:168: UserWarning: Setting `save_embedding_layers` to `True` as the embedding layer has been resized during finetuning.\n",
      "  warnings.warn(\n"
     ]
    },
    {
     "name": "stdout",
     "output_type": "stream",
     "text": [
      "{'loss': 1.5543, 'grad_norm': 0.89453125, 'learning_rate': 3.8166005235160016e-05, 'epoch': 1.63}\n",
      "{'loss': 1.7494, 'grad_norm': 0.2119140625, 'learning_rate': 3.79971291058009e-05, 'epoch': 1.63}\n"
     ]
    },
    {
     "name": "stderr",
     "output_type": "stream",
     "text": [
      "/home/aeolian83/anaconda3/envs/llm_for_p311/lib/python3.11/site-packages/peft/utils/save_and_load.py:168: UserWarning: Setting `save_embedding_layers` to `True` as the embedding layer has been resized during finetuning.\n",
      "  warnings.warn(\n"
     ]
    },
    {
     "name": "stdout",
     "output_type": "stream",
     "text": [
      "{'loss': 1.5106, 'grad_norm': 0.2734375, 'learning_rate': 3.782825297644178e-05, 'epoch': 1.63}\n",
      "{'loss': 1.692, 'grad_norm': 0.330078125, 'learning_rate': 3.7659376847082666e-05, 'epoch': 1.63}\n"
     ]
    },
    {
     "name": "stderr",
     "output_type": "stream",
     "text": [
      "/home/aeolian83/anaconda3/envs/llm_for_p311/lib/python3.11/site-packages/peft/utils/save_and_load.py:168: UserWarning: Setting `save_embedding_layers` to `True` as the embedding layer has been resized during finetuning.\n",
      "  warnings.warn(\n"
     ]
    },
    {
     "name": "stdout",
     "output_type": "stream",
     "text": [
      "{'loss': 1.8182, 'grad_norm': 0.4375, 'learning_rate': 3.749050071772355e-05, 'epoch': 1.64}\n",
      "{'loss': 1.7, 'grad_norm': 0.73046875, 'learning_rate': 3.732162458836444e-05, 'epoch': 1.64}\n"
     ]
    },
    {
     "name": "stderr",
     "output_type": "stream",
     "text": [
      "/home/aeolian83/anaconda3/envs/llm_for_p311/lib/python3.11/site-packages/peft/utils/save_and_load.py:168: UserWarning: Setting `save_embedding_layers` to `True` as the embedding layer has been resized during finetuning.\n",
      "  warnings.warn(\n"
     ]
    },
    {
     "name": "stdout",
     "output_type": "stream",
     "text": [
      "{'loss': 1.7193, 'grad_norm': 0.236328125, 'learning_rate': 3.715274845900532e-05, 'epoch': 1.64}\n",
      "{'loss': 1.5763, 'grad_norm': 0.240234375, 'learning_rate': 3.698387232964621e-05, 'epoch': 1.64}\n"
     ]
    },
    {
     "name": "stderr",
     "output_type": "stream",
     "text": [
      "/home/aeolian83/anaconda3/envs/llm_for_p311/lib/python3.11/site-packages/peft/utils/save_and_load.py:168: UserWarning: Setting `save_embedding_layers` to `True` as the embedding layer has been resized during finetuning.\n",
      "  warnings.warn(\n"
     ]
    },
    {
     "name": "stdout",
     "output_type": "stream",
     "text": [
      "{'loss': 1.5779, 'grad_norm': 0.5703125, 'learning_rate': 3.681499620028709e-05, 'epoch': 1.64}\n",
      "{'loss': 1.7677, 'grad_norm': 0.48828125, 'learning_rate': 3.6646120070927974e-05, 'epoch': 1.64}\n"
     ]
    },
    {
     "name": "stderr",
     "output_type": "stream",
     "text": [
      "/home/aeolian83/anaconda3/envs/llm_for_p311/lib/python3.11/site-packages/peft/utils/save_and_load.py:168: UserWarning: Setting `save_embedding_layers` to `True` as the embedding layer has been resized during finetuning.\n",
      "  warnings.warn(\n"
     ]
    },
    {
     "name": "stdout",
     "output_type": "stream",
     "text": [
      "{'loss': 1.6332, 'grad_norm': 0.6875, 'learning_rate': 3.647724394156886e-05, 'epoch': 1.65}\n",
      "{'loss': 1.4374, 'grad_norm': 0.28515625, 'learning_rate': 3.6308367812209745e-05, 'epoch': 1.65}\n"
     ]
    },
    {
     "name": "stderr",
     "output_type": "stream",
     "text": [
      "/home/aeolian83/anaconda3/envs/llm_for_p311/lib/python3.11/site-packages/peft/utils/save_and_load.py:168: UserWarning: Setting `save_embedding_layers` to `True` as the embedding layer has been resized during finetuning.\n",
      "  warnings.warn(\n"
     ]
    },
    {
     "name": "stdout",
     "output_type": "stream",
     "text": [
      "{'loss': 1.5284, 'grad_norm': 0.251953125, 'learning_rate': 3.613949168285063e-05, 'epoch': 1.65}\n",
      "{'loss': 1.6688, 'grad_norm': 0.365234375, 'learning_rate': 3.5970615553491516e-05, 'epoch': 1.65}\n"
     ]
    },
    {
     "name": "stderr",
     "output_type": "stream",
     "text": [
      "/home/aeolian83/anaconda3/envs/llm_for_p311/lib/python3.11/site-packages/peft/utils/save_and_load.py:168: UserWarning: Setting `save_embedding_layers` to `True` as the embedding layer has been resized during finetuning.\n",
      "  warnings.warn(\n"
     ]
    },
    {
     "name": "stdout",
     "output_type": "stream",
     "text": [
      "{'loss': 1.699, 'grad_norm': 0.47265625, 'learning_rate': 3.58017394241324e-05, 'epoch': 1.65}\n",
      "{'loss': 1.6284, 'grad_norm': 1.1328125, 'learning_rate': 3.563286329477328e-05, 'epoch': 1.65}\n"
     ]
    },
    {
     "name": "stderr",
     "output_type": "stream",
     "text": [
      "/home/aeolian83/anaconda3/envs/llm_for_p311/lib/python3.11/site-packages/peft/utils/save_and_load.py:168: UserWarning: Setting `save_embedding_layers` to `True` as the embedding layer has been resized during finetuning.\n",
      "  warnings.warn(\n"
     ]
    },
    {
     "name": "stdout",
     "output_type": "stream",
     "text": [
      "{'loss': 1.5152, 'grad_norm': 0.271484375, 'learning_rate': 3.5463987165414166e-05, 'epoch': 1.66}\n",
      "{'loss': 1.6734, 'grad_norm': 0.337890625, 'learning_rate': 3.529511103605506e-05, 'epoch': 1.66}\n"
     ]
    },
    {
     "name": "stderr",
     "output_type": "stream",
     "text": [
      "/home/aeolian83/anaconda3/envs/llm_for_p311/lib/python3.11/site-packages/peft/utils/save_and_load.py:168: UserWarning: Setting `save_embedding_layers` to `True` as the embedding layer has been resized during finetuning.\n",
      "  warnings.warn(\n"
     ]
    },
    {
     "name": "stdout",
     "output_type": "stream",
     "text": [
      "{'loss': 1.5806, 'grad_norm': 0.271484375, 'learning_rate': 3.5126234906695945e-05, 'epoch': 1.66}\n",
      "{'loss': 1.7896, 'grad_norm': 0.4296875, 'learning_rate': 3.4957358777336823e-05, 'epoch': 1.66}\n"
     ]
    },
    {
     "name": "stderr",
     "output_type": "stream",
     "text": [
      "/home/aeolian83/anaconda3/envs/llm_for_p311/lib/python3.11/site-packages/peft/utils/save_and_load.py:168: UserWarning: Setting `save_embedding_layers` to `True` as the embedding layer has been resized during finetuning.\n",
      "  warnings.warn(\n"
     ]
    },
    {
     "name": "stdout",
     "output_type": "stream",
     "text": [
      "{'loss': 1.5644, 'grad_norm': 0.71875, 'learning_rate': 3.478848264797771e-05, 'epoch': 1.66}\n",
      "{'loss': 1.5986, 'grad_norm': 0.283203125, 'learning_rate': 3.4619606518618595e-05, 'epoch': 1.66}\n"
     ]
    },
    {
     "name": "stderr",
     "output_type": "stream",
     "text": [
      "/home/aeolian83/anaconda3/envs/llm_for_p311/lib/python3.11/site-packages/peft/utils/save_and_load.py:168: UserWarning: Setting `save_embedding_layers` to `True` as the embedding layer has been resized during finetuning.\n",
      "  warnings.warn(\n"
     ]
    },
    {
     "name": "stdout",
     "output_type": "stream",
     "text": [
      "{'loss': 1.444, 'grad_norm': 0.318359375, 'learning_rate': 3.445073038925948e-05, 'epoch': 1.67}\n",
      "{'loss': 1.7908, 'grad_norm': 0.408203125, 'learning_rate': 3.4281854259900366e-05, 'epoch': 1.67}\n"
     ]
    },
    {
     "name": "stderr",
     "output_type": "stream",
     "text": [
      "/home/aeolian83/anaconda3/envs/llm_for_p311/lib/python3.11/site-packages/peft/utils/save_and_load.py:168: UserWarning: Setting `save_embedding_layers` to `True` as the embedding layer has been resized during finetuning.\n",
      "  warnings.warn(\n"
     ]
    },
    {
     "name": "stdout",
     "output_type": "stream",
     "text": [
      "{'loss': 1.6412, 'grad_norm': 0.388671875, 'learning_rate': 3.411297813054125e-05, 'epoch': 1.67}\n",
      "{'loss': 1.6127, 'grad_norm': 0.80859375, 'learning_rate': 3.394410200118213e-05, 'epoch': 1.67}\n"
     ]
    },
    {
     "name": "stderr",
     "output_type": "stream",
     "text": [
      "/home/aeolian83/anaconda3/envs/llm_for_p311/lib/python3.11/site-packages/peft/utils/save_and_load.py:168: UserWarning: Setting `save_embedding_layers` to `True` as the embedding layer has been resized during finetuning.\n",
      "  warnings.warn(\n"
     ]
    },
    {
     "name": "stdout",
     "output_type": "stream",
     "text": [
      "{'loss': 1.4111, 'grad_norm': 0.21875, 'learning_rate': 3.3775225871823016e-05, 'epoch': 1.67}\n",
      "{'loss': 1.6969, 'grad_norm': 0.263671875, 'learning_rate': 3.36063497424639e-05, 'epoch': 1.67}\n"
     ]
    },
    {
     "name": "stderr",
     "output_type": "stream",
     "text": [
      "/home/aeolian83/anaconda3/envs/llm_for_p311/lib/python3.11/site-packages/peft/utils/save_and_load.py:168: UserWarning: Setting `save_embedding_layers` to `True` as the embedding layer has been resized during finetuning.\n",
      "  warnings.warn(\n"
     ]
    },
    {
     "name": "stdout",
     "output_type": "stream",
     "text": [
      "{'loss': 1.6695, 'grad_norm': 0.322265625, 'learning_rate': 3.3437473613104794e-05, 'epoch': 1.68}\n",
      "{'loss': 1.5983, 'grad_norm': 0.376953125, 'learning_rate': 3.326859748374567e-05, 'epoch': 1.68}\n"
     ]
    },
    {
     "name": "stderr",
     "output_type": "stream",
     "text": [
      "/home/aeolian83/anaconda3/envs/llm_for_p311/lib/python3.11/site-packages/peft/utils/save_and_load.py:168: UserWarning: Setting `save_embedding_layers` to `True` as the embedding layer has been resized during finetuning.\n",
      "  warnings.warn(\n"
     ]
    },
    {
     "name": "stdout",
     "output_type": "stream",
     "text": [
      "{'loss': 1.6725, 'grad_norm': 0.796875, 'learning_rate': 3.309972135438656e-05, 'epoch': 1.68}\n",
      "{'loss': 1.4012, 'grad_norm': 0.3203125, 'learning_rate': 3.2930845225027445e-05, 'epoch': 1.68}\n"
     ]
    },
    {
     "name": "stderr",
     "output_type": "stream",
     "text": [
      "/home/aeolian83/anaconda3/envs/llm_for_p311/lib/python3.11/site-packages/peft/utils/save_and_load.py:168: UserWarning: Setting `save_embedding_layers` to `True` as the embedding layer has been resized during finetuning.\n",
      "  warnings.warn(\n"
     ]
    },
    {
     "name": "stdout",
     "output_type": "stream",
     "text": [
      "{'loss': 1.6293, 'grad_norm': 0.267578125, 'learning_rate': 3.2761969095668324e-05, 'epoch': 1.68}\n",
      "{'loss': 1.7671, 'grad_norm': 0.5, 'learning_rate': 3.2593092966309216e-05, 'epoch': 1.68}\n"
     ]
    },
    {
     "name": "stderr",
     "output_type": "stream",
     "text": [
      "/home/aeolian83/anaconda3/envs/llm_for_p311/lib/python3.11/site-packages/peft/utils/save_and_load.py:168: UserWarning: Setting `save_embedding_layers` to `True` as the embedding layer has been resized during finetuning.\n",
      "  warnings.warn(\n"
     ]
    },
    {
     "name": "stdout",
     "output_type": "stream",
     "text": [
      "{'loss': 1.6805, 'grad_norm': 0.439453125, 'learning_rate': 3.24242168369501e-05, 'epoch': 1.69}\n",
      "{'loss': 1.5402, 'grad_norm': 0.87109375, 'learning_rate': 3.225534070759098e-05, 'epoch': 1.69}\n"
     ]
    },
    {
     "name": "stderr",
     "output_type": "stream",
     "text": [
      "/home/aeolian83/anaconda3/envs/llm_for_p311/lib/python3.11/site-packages/peft/utils/save_and_load.py:168: UserWarning: Setting `save_embedding_layers` to `True` as the embedding layer has been resized during finetuning.\n",
      "  warnings.warn(\n"
     ]
    },
    {
     "name": "stdout",
     "output_type": "stream",
     "text": [
      "{'loss': 1.7827, 'grad_norm': 0.203125, 'learning_rate': 3.2086464578231866e-05, 'epoch': 1.69}\n",
      "{'loss': 1.4838, 'grad_norm': 0.298828125, 'learning_rate': 3.191758844887275e-05, 'epoch': 1.69}\n"
     ]
    },
    {
     "name": "stderr",
     "output_type": "stream",
     "text": [
      "/home/aeolian83/anaconda3/envs/llm_for_p311/lib/python3.11/site-packages/peft/utils/save_and_load.py:168: UserWarning: Setting `save_embedding_layers` to `True` as the embedding layer has been resized during finetuning.\n",
      "  warnings.warn(\n"
     ]
    },
    {
     "name": "stdout",
     "output_type": "stream",
     "text": [
      "{'loss': 1.6408, 'grad_norm': 0.345703125, 'learning_rate': 3.174871231951364e-05, 'epoch': 1.69}\n",
      "{'loss': 1.7246, 'grad_norm': 0.40625, 'learning_rate': 3.157983619015452e-05, 'epoch': 1.69}\n"
     ]
    },
    {
     "name": "stderr",
     "output_type": "stream",
     "text": [
      "/home/aeolian83/anaconda3/envs/llm_for_p311/lib/python3.11/site-packages/peft/utils/save_and_load.py:168: UserWarning: Setting `save_embedding_layers` to `True` as the embedding layer has been resized during finetuning.\n",
      "  warnings.warn(\n"
     ]
    },
    {
     "name": "stdout",
     "output_type": "stream",
     "text": [
      "{'loss': 1.3927, 'grad_norm': 0.6640625, 'learning_rate': 3.141096006079541e-05, 'epoch': 1.7}\n",
      "{'loss': 1.5457, 'grad_norm': 0.298828125, 'learning_rate': 3.1242083931436294e-05, 'epoch': 1.7}\n"
     ]
    },
    {
     "name": "stderr",
     "output_type": "stream",
     "text": [
      "/home/aeolian83/anaconda3/envs/llm_for_p311/lib/python3.11/site-packages/peft/utils/save_and_load.py:168: UserWarning: Setting `save_embedding_layers` to `True` as the embedding layer has been resized during finetuning.\n",
      "  warnings.warn(\n"
     ]
    },
    {
     "name": "stdout",
     "output_type": "stream",
     "text": [
      "{'loss': 1.7908, 'grad_norm': 0.291015625, 'learning_rate': 3.107320780207717e-05, 'epoch': 1.7}\n",
      "{'loss': 1.6066, 'grad_norm': 0.359375, 'learning_rate': 3.090433167271806e-05, 'epoch': 1.7}\n"
     ]
    },
    {
     "name": "stderr",
     "output_type": "stream",
     "text": [
      "/home/aeolian83/anaconda3/envs/llm_for_p311/lib/python3.11/site-packages/peft/utils/save_and_load.py:168: UserWarning: Setting `save_embedding_layers` to `True` as the embedding layer has been resized during finetuning.\n",
      "  warnings.warn(\n"
     ]
    },
    {
     "name": "stdout",
     "output_type": "stream",
     "text": [
      "{'loss': 1.7512, 'grad_norm': 0.62109375, 'learning_rate': 3.073545554335895e-05, 'epoch': 1.7}\n",
      "{'loss': 1.6717, 'grad_norm': 0.70703125, 'learning_rate': 3.056657941399984e-05, 'epoch': 1.7}\n"
     ]
    },
    {
     "name": "stderr",
     "output_type": "stream",
     "text": [
      "/home/aeolian83/anaconda3/envs/llm_for_p311/lib/python3.11/site-packages/peft/utils/save_and_load.py:168: UserWarning: Setting `save_embedding_layers` to `True` as the embedding layer has been resized during finetuning.\n",
      "  warnings.warn(\n"
     ]
    },
    {
     "name": "stdout",
     "output_type": "stream",
     "text": [
      "{'loss': 1.2128, 'grad_norm': 0.267578125, 'learning_rate': 3.0397703284640716e-05, 'epoch': 1.71}\n",
      "{'loss': 1.5252, 'grad_norm': 0.3046875, 'learning_rate': 3.0228827155281602e-05, 'epoch': 1.71}\n"
     ]
    },
    {
     "name": "stderr",
     "output_type": "stream",
     "text": [
      "/home/aeolian83/anaconda3/envs/llm_for_p311/lib/python3.11/site-packages/peft/utils/save_and_load.py:168: UserWarning: Setting `save_embedding_layers` to `True` as the embedding layer has been resized during finetuning.\n",
      "  warnings.warn(\n"
     ]
    },
    {
     "name": "stdout",
     "output_type": "stream",
     "text": [
      "{'loss': 1.62, 'grad_norm': 0.373046875, 'learning_rate': 3.005995102592249e-05, 'epoch': 1.71}\n",
      "{'loss': 1.4485, 'grad_norm': 0.61328125, 'learning_rate': 2.989107489656337e-05, 'epoch': 1.71}\n"
     ]
    },
    {
     "name": "stderr",
     "output_type": "stream",
     "text": [
      "/home/aeolian83/anaconda3/envs/llm_for_p311/lib/python3.11/site-packages/peft/utils/save_and_load.py:168: UserWarning: Setting `save_embedding_layers` to `True` as the embedding layer has been resized during finetuning.\n",
      "  warnings.warn(\n"
     ]
    },
    {
     "name": "stdout",
     "output_type": "stream",
     "text": [
      "{'loss': 1.4888, 'grad_norm': 0.85546875, 'learning_rate': 2.9722198767204255e-05, 'epoch': 1.71}\n",
      "{'loss': 1.5561, 'grad_norm': 0.267578125, 'learning_rate': 2.9553322637845144e-05, 'epoch': 1.71}\n"
     ]
    },
    {
     "name": "stderr",
     "output_type": "stream",
     "text": [
      "/home/aeolian83/anaconda3/envs/llm_for_p311/lib/python3.11/site-packages/peft/utils/save_and_load.py:168: UserWarning: Setting `save_embedding_layers` to `True` as the embedding layer has been resized during finetuning.\n",
      "  warnings.warn(\n"
     ]
    },
    {
     "name": "stdout",
     "output_type": "stream",
     "text": [
      "{'loss': 1.5613, 'grad_norm': 0.291015625, 'learning_rate': 2.9384446508486023e-05, 'epoch': 1.71}\n",
      "{'loss': 1.5895, 'grad_norm': 0.439453125, 'learning_rate': 2.9215570379126912e-05, 'epoch': 1.72}\n"
     ]
    },
    {
     "name": "stderr",
     "output_type": "stream",
     "text": [
      "/home/aeolian83/anaconda3/envs/llm_for_p311/lib/python3.11/site-packages/peft/utils/save_and_load.py:168: UserWarning: Setting `save_embedding_layers` to `True` as the embedding layer has been resized during finetuning.\n",
      "  warnings.warn(\n"
     ]
    },
    {
     "name": "stdout",
     "output_type": "stream",
     "text": [
      "{'loss': 1.6303, 'grad_norm': 0.60546875, 'learning_rate': 2.9046694249767798e-05, 'epoch': 1.72}\n",
      "{'loss': 1.5068, 'grad_norm': 0.94140625, 'learning_rate': 2.8877818120408684e-05, 'epoch': 1.72}\n"
     ]
    },
    {
     "name": "stderr",
     "output_type": "stream",
     "text": [
      "/home/aeolian83/anaconda3/envs/llm_for_p311/lib/python3.11/site-packages/peft/utils/save_and_load.py:168: UserWarning: Setting `save_embedding_layers` to `True` as the embedding layer has been resized during finetuning.\n",
      "  warnings.warn(\n"
     ]
    },
    {
     "name": "stdout",
     "output_type": "stream",
     "text": [
      "{'loss': 1.5611, 'grad_norm': 0.263671875, 'learning_rate': 2.8708941991049566e-05, 'epoch': 1.72}\n",
      "{'loss': 1.6463, 'grad_norm': 0.357421875, 'learning_rate': 2.854006586169045e-05, 'epoch': 1.72}\n"
     ]
    },
    {
     "name": "stderr",
     "output_type": "stream",
     "text": [
      "/home/aeolian83/anaconda3/envs/llm_for_p311/lib/python3.11/site-packages/peft/utils/save_and_load.py:168: UserWarning: Setting `save_embedding_layers` to `True` as the embedding layer has been resized during finetuning.\n",
      "  warnings.warn(\n"
     ]
    },
    {
     "name": "stdout",
     "output_type": "stream",
     "text": [
      "{'loss': 1.7392, 'grad_norm': 0.3203125, 'learning_rate': 2.8371189732331337e-05, 'epoch': 1.72}\n",
      "{'loss': 1.7294, 'grad_norm': 0.44921875, 'learning_rate': 2.820231360297222e-05, 'epoch': 1.73}\n"
     ]
    },
    {
     "name": "stderr",
     "output_type": "stream",
     "text": [
      "/home/aeolian83/anaconda3/envs/llm_for_p311/lib/python3.11/site-packages/peft/utils/save_and_load.py:168: UserWarning: Setting `save_embedding_layers` to `True` as the embedding layer has been resized during finetuning.\n",
      "  warnings.warn(\n"
     ]
    },
    {
     "name": "stdout",
     "output_type": "stream",
     "text": [
      "{'loss': 1.4813, 'grad_norm': 0.58984375, 'learning_rate': 2.8033437473613105e-05, 'epoch': 1.73}\n",
      "{'loss': 1.6338, 'grad_norm': 0.28125, 'learning_rate': 2.786456134425399e-05, 'epoch': 1.73}\n"
     ]
    },
    {
     "name": "stderr",
     "output_type": "stream",
     "text": [
      "/home/aeolian83/anaconda3/envs/llm_for_p311/lib/python3.11/site-packages/peft/utils/save_and_load.py:168: UserWarning: Setting `save_embedding_layers` to `True` as the embedding layer has been resized during finetuning.\n",
      "  warnings.warn(\n"
     ]
    },
    {
     "name": "stdout",
     "output_type": "stream",
     "text": [
      "{'loss': 1.5397, 'grad_norm': 0.296875, 'learning_rate': 2.769568521489488e-05, 'epoch': 1.73}\n",
      "{'loss': 1.5896, 'grad_norm': 0.3125, 'learning_rate': 2.752680908553576e-05, 'epoch': 1.73}\n"
     ]
    },
    {
     "name": "stderr",
     "output_type": "stream",
     "text": [
      "/home/aeolian83/anaconda3/envs/llm_for_p311/lib/python3.11/site-packages/peft/utils/save_and_load.py:168: UserWarning: Setting `save_embedding_layers` to `True` as the embedding layer has been resized during finetuning.\n",
      "  warnings.warn(\n"
     ]
    },
    {
     "name": "stdout",
     "output_type": "stream",
     "text": [
      "{'loss': 1.8232, 'grad_norm': 0.3984375, 'learning_rate': 2.7357932956176648e-05, 'epoch': 1.73}\n",
      "{'loss': 1.6185, 'grad_norm': 0.671875, 'learning_rate': 2.7189056826817533e-05, 'epoch': 1.74}\n"
     ]
    },
    {
     "name": "stderr",
     "output_type": "stream",
     "text": [
      "/home/aeolian83/anaconda3/envs/llm_for_p311/lib/python3.11/site-packages/peft/utils/save_and_load.py:168: UserWarning: Setting `save_embedding_layers` to `True` as the embedding layer has been resized during finetuning.\n",
      "  warnings.warn(\n"
     ]
    },
    {
     "name": "stdout",
     "output_type": "stream",
     "text": [
      "{'loss': 1.4793, 'grad_norm': 0.29296875, 'learning_rate': 2.7020180697458412e-05, 'epoch': 1.74}\n",
      "{'loss': 1.6985, 'grad_norm': 0.52734375, 'learning_rate': 2.68513045680993e-05, 'epoch': 1.74}\n"
     ]
    },
    {
     "name": "stderr",
     "output_type": "stream",
     "text": [
      "/home/aeolian83/anaconda3/envs/llm_for_p311/lib/python3.11/site-packages/peft/utils/save_and_load.py:168: UserWarning: Setting `save_embedding_layers` to `True` as the embedding layer has been resized during finetuning.\n",
      "  warnings.warn(\n"
     ]
    },
    {
     "name": "stdout",
     "output_type": "stream",
     "text": [
      "{'loss': 1.6003, 'grad_norm': 0.3359375, 'learning_rate': 2.6682428438740187e-05, 'epoch': 1.74}\n",
      "{'loss': 1.5637, 'grad_norm': 0.5078125, 'learning_rate': 2.651355230938107e-05, 'epoch': 1.74}\n"
     ]
    },
    {
     "name": "stderr",
     "output_type": "stream",
     "text": [
      "/home/aeolian83/anaconda3/envs/llm_for_p311/lib/python3.11/site-packages/peft/utils/save_and_load.py:168: UserWarning: Setting `save_embedding_layers` to `True` as the embedding layer has been resized during finetuning.\n",
      "  warnings.warn(\n"
     ]
    },
    {
     "name": "stdout",
     "output_type": "stream",
     "text": [
      "{'loss': 1.5087, 'grad_norm': 0.7578125, 'learning_rate': 2.6344676180021955e-05, 'epoch': 1.74}\n",
      "{'loss': 1.3721, 'grad_norm': 0.267578125, 'learning_rate': 2.617580005066284e-05, 'epoch': 1.75}\n"
     ]
    },
    {
     "name": "stderr",
     "output_type": "stream",
     "text": [
      "/home/aeolian83/anaconda3/envs/llm_for_p311/lib/python3.11/site-packages/peft/utils/save_and_load.py:168: UserWarning: Setting `save_embedding_layers` to `True` as the embedding layer has been resized during finetuning.\n",
      "  warnings.warn(\n"
     ]
    },
    {
     "name": "stdout",
     "output_type": "stream",
     "text": [
      "{'loss': 1.7164, 'grad_norm': 0.29296875, 'learning_rate': 2.6006923921303726e-05, 'epoch': 1.75}\n",
      "{'loss': 1.5904, 'grad_norm': 0.423828125, 'learning_rate': 2.583804779194461e-05, 'epoch': 1.75}\n"
     ]
    },
    {
     "name": "stderr",
     "output_type": "stream",
     "text": [
      "/home/aeolian83/anaconda3/envs/llm_for_p311/lib/python3.11/site-packages/peft/utils/save_and_load.py:168: UserWarning: Setting `save_embedding_layers` to `True` as the embedding layer has been resized during finetuning.\n",
      "  warnings.warn(\n"
     ]
    },
    {
     "name": "stdout",
     "output_type": "stream",
     "text": [
      "{'loss': 1.641, 'grad_norm': 0.671875, 'learning_rate': 2.5669171662585494e-05, 'epoch': 1.75}\n",
      "{'loss': 1.7137, 'grad_norm': 0.83203125, 'learning_rate': 2.550029553322638e-05, 'epoch': 1.75}\n"
     ]
    },
    {
     "name": "stderr",
     "output_type": "stream",
     "text": [
      "/home/aeolian83/anaconda3/envs/llm_for_p311/lib/python3.11/site-packages/peft/utils/save_and_load.py:168: UserWarning: Setting `save_embedding_layers` to `True` as the embedding layer has been resized during finetuning.\n",
      "  warnings.warn(\n"
     ]
    },
    {
     "name": "stdout",
     "output_type": "stream",
     "text": [
      "{'loss': 1.3608, 'grad_norm': 0.25390625, 'learning_rate': 2.5331419403867262e-05, 'epoch': 1.75}\n",
      "{'loss': 1.4472, 'grad_norm': 0.296875, 'learning_rate': 2.5162543274508148e-05, 'epoch': 1.76}\n"
     ]
    },
    {
     "name": "stderr",
     "output_type": "stream",
     "text": [
      "/home/aeolian83/anaconda3/envs/llm_for_p311/lib/python3.11/site-packages/peft/utils/save_and_load.py:168: UserWarning: Setting `save_embedding_layers` to `True` as the embedding layer has been resized during finetuning.\n",
      "  warnings.warn(\n"
     ]
    },
    {
     "name": "stdout",
     "output_type": "stream",
     "text": [
      "{'loss': 1.6944, 'grad_norm': 0.294921875, 'learning_rate': 2.4993667145149037e-05, 'epoch': 1.76}\n",
      "{'loss': 1.7983, 'grad_norm': 0.474609375, 'learning_rate': 2.482479101578992e-05, 'epoch': 1.76}\n"
     ]
    },
    {
     "name": "stderr",
     "output_type": "stream",
     "text": [
      "/home/aeolian83/anaconda3/envs/llm_for_p311/lib/python3.11/site-packages/peft/utils/save_and_load.py:168: UserWarning: Setting `save_embedding_layers` to `True` as the embedding layer has been resized during finetuning.\n",
      "  warnings.warn(\n"
     ]
    },
    {
     "name": "stdout",
     "output_type": "stream",
     "text": [
      "{'loss': 1.6777, 'grad_norm': 0.8671875, 'learning_rate': 2.46559148864308e-05, 'epoch': 1.76}\n",
      "{'loss': 1.6503, 'grad_norm': 0.248046875, 'learning_rate': 2.448703875707169e-05, 'epoch': 1.76}\n"
     ]
    },
    {
     "name": "stderr",
     "output_type": "stream",
     "text": [
      "/home/aeolian83/anaconda3/envs/llm_for_p311/lib/python3.11/site-packages/peft/utils/save_and_load.py:168: UserWarning: Setting `save_embedding_layers` to `True` as the embedding layer has been resized during finetuning.\n",
      "  warnings.warn(\n"
     ]
    },
    {
     "name": "stdout",
     "output_type": "stream",
     "text": [
      "{'loss': 1.5453, 'grad_norm': 0.2890625, 'learning_rate': 2.4318162627712573e-05, 'epoch': 1.76}\n",
      "{'loss': 1.6155, 'grad_norm': 0.39453125, 'learning_rate': 2.414928649835346e-05, 'epoch': 1.77}\n"
     ]
    },
    {
     "name": "stderr",
     "output_type": "stream",
     "text": [
      "/home/aeolian83/anaconda3/envs/llm_for_p311/lib/python3.11/site-packages/peft/utils/save_and_load.py:168: UserWarning: Setting `save_embedding_layers` to `True` as the embedding layer has been resized during finetuning.\n",
      "  warnings.warn(\n"
     ]
    },
    {
     "name": "stdout",
     "output_type": "stream",
     "text": [
      "{'loss': 1.6881, 'grad_norm': 0.498046875, 'learning_rate': 2.3980410368994344e-05, 'epoch': 1.77}\n",
      "{'loss': 1.502, 'grad_norm': 0.765625, 'learning_rate': 2.3811534239635226e-05, 'epoch': 1.77}\n"
     ]
    },
    {
     "name": "stderr",
     "output_type": "stream",
     "text": [
      "/home/aeolian83/anaconda3/envs/llm_for_p311/lib/python3.11/site-packages/peft/utils/save_and_load.py:168: UserWarning: Setting `save_embedding_layers` to `True` as the embedding layer has been resized during finetuning.\n",
      "  warnings.warn(\n"
     ]
    },
    {
     "name": "stdout",
     "output_type": "stream",
     "text": [
      "{'loss': 1.5378, 'grad_norm': 0.330078125, 'learning_rate': 2.3642658110276115e-05, 'epoch': 1.77}\n",
      "{'loss': 1.5765, 'grad_norm': 0.357421875, 'learning_rate': 2.3473781980916998e-05, 'epoch': 1.77}\n"
     ]
    },
    {
     "name": "stderr",
     "output_type": "stream",
     "text": [
      "/home/aeolian83/anaconda3/envs/llm_for_p311/lib/python3.11/site-packages/peft/utils/save_and_load.py:168: UserWarning: Setting `save_embedding_layers` to `True` as the embedding layer has been resized during finetuning.\n",
      "  warnings.warn(\n"
     ]
    },
    {
     "name": "stdout",
     "output_type": "stream",
     "text": [
      "{'loss': 1.6092, 'grad_norm': 0.390625, 'learning_rate': 2.3304905851557883e-05, 'epoch': 1.77}\n",
      "{'loss': 1.6753, 'grad_norm': 0.51171875, 'learning_rate': 2.313602972219877e-05, 'epoch': 1.78}\n"
     ]
    },
    {
     "name": "stderr",
     "output_type": "stream",
     "text": [
      "/home/aeolian83/anaconda3/envs/llm_for_p311/lib/python3.11/site-packages/peft/utils/save_and_load.py:168: UserWarning: Setting `save_embedding_layers` to `True` as the embedding layer has been resized during finetuning.\n",
      "  warnings.warn(\n"
     ]
    },
    {
     "name": "stdout",
     "output_type": "stream",
     "text": [
      "{'loss': 1.7465, 'grad_norm': 0.79296875, 'learning_rate': 2.296715359283965e-05, 'epoch': 1.78}\n",
      "{'loss': 1.4129, 'grad_norm': 0.21484375, 'learning_rate': 2.2798277463480537e-05, 'epoch': 1.78}\n"
     ]
    },
    {
     "name": "stderr",
     "output_type": "stream",
     "text": [
      "/home/aeolian83/anaconda3/envs/llm_for_p311/lib/python3.11/site-packages/peft/utils/save_and_load.py:168: UserWarning: Setting `save_embedding_layers` to `True` as the embedding layer has been resized during finetuning.\n",
      "  warnings.warn(\n"
     ]
    },
    {
     "name": "stdout",
     "output_type": "stream",
     "text": [
      "{'loss': 1.5399, 'grad_norm': 0.298828125, 'learning_rate': 2.2629401334121423e-05, 'epoch': 1.78}\n",
      "{'loss': 1.6866, 'grad_norm': 0.326171875, 'learning_rate': 2.246052520476231e-05, 'epoch': 1.78}\n"
     ]
    },
    {
     "name": "stderr",
     "output_type": "stream",
     "text": [
      "/home/aeolian83/anaconda3/envs/llm_for_p311/lib/python3.11/site-packages/peft/utils/save_and_load.py:168: UserWarning: Setting `save_embedding_layers` to `True` as the embedding layer has been resized during finetuning.\n",
      "  warnings.warn(\n"
     ]
    },
    {
     "name": "stdout",
     "output_type": "stream",
     "text": [
      "{'loss': 1.7484, 'grad_norm': 0.5234375, 'learning_rate': 2.2291649075403194e-05, 'epoch': 1.78}\n",
      "{'loss': 1.5292, 'grad_norm': 1.078125, 'learning_rate': 2.2122772946044076e-05, 'epoch': 1.79}\n"
     ]
    },
    {
     "name": "stderr",
     "output_type": "stream",
     "text": [
      "/home/aeolian83/anaconda3/envs/llm_for_p311/lib/python3.11/site-packages/peft/utils/save_and_load.py:168: UserWarning: Setting `save_embedding_layers` to `True` as the embedding layer has been resized during finetuning.\n",
      "  warnings.warn(\n"
     ]
    },
    {
     "name": "stdout",
     "output_type": "stream",
     "text": [
      "{'loss': 1.3438, 'grad_norm': 0.2060546875, 'learning_rate': 2.1953896816684962e-05, 'epoch': 1.79}\n",
      "{'loss': 1.4857, 'grad_norm': 0.24609375, 'learning_rate': 2.1785020687325848e-05, 'epoch': 1.79}\n"
     ]
    },
    {
     "name": "stderr",
     "output_type": "stream",
     "text": [
      "/home/aeolian83/anaconda3/envs/llm_for_p311/lib/python3.11/site-packages/peft/utils/save_and_load.py:168: UserWarning: Setting `save_embedding_layers` to `True` as the embedding layer has been resized during finetuning.\n",
      "  warnings.warn(\n"
     ]
    },
    {
     "name": "stdout",
     "output_type": "stream",
     "text": [
      "{'loss': 1.5754, 'grad_norm': 0.36328125, 'learning_rate': 2.1616144557966733e-05, 'epoch': 1.79}\n",
      "{'loss': 1.6025, 'grad_norm': 0.53515625, 'learning_rate': 2.1447268428607616e-05, 'epoch': 1.79}\n"
     ]
    },
    {
     "name": "stderr",
     "output_type": "stream",
     "text": [
      "/home/aeolian83/anaconda3/envs/llm_for_p311/lib/python3.11/site-packages/peft/utils/save_and_load.py:168: UserWarning: Setting `save_embedding_layers` to `True` as the embedding layer has been resized during finetuning.\n",
      "  warnings.warn(\n"
     ]
    },
    {
     "name": "stdout",
     "output_type": "stream",
     "text": [
      "{'loss': 1.6155, 'grad_norm': 0.91015625, 'learning_rate': 2.1278392299248505e-05, 'epoch': 1.79}\n",
      "{'loss': 1.679, 'grad_norm': 0.2080078125, 'learning_rate': 2.1109516169889387e-05, 'epoch': 1.8}\n"
     ]
    },
    {
     "name": "stderr",
     "output_type": "stream",
     "text": [
      "/home/aeolian83/anaconda3/envs/llm_for_p311/lib/python3.11/site-packages/peft/utils/save_and_load.py:168: UserWarning: Setting `save_embedding_layers` to `True` as the embedding layer has been resized during finetuning.\n",
      "  warnings.warn(\n"
     ]
    },
    {
     "name": "stdout",
     "output_type": "stream",
     "text": [
      "{'loss': 1.5514, 'grad_norm': 0.27734375, 'learning_rate': 2.0940640040530273e-05, 'epoch': 1.8}\n",
      "{'loss': 1.6395, 'grad_norm': 0.478515625, 'learning_rate': 2.0771763911171158e-05, 'epoch': 1.8}\n"
     ]
    },
    {
     "name": "stderr",
     "output_type": "stream",
     "text": [
      "/home/aeolian83/anaconda3/envs/llm_for_p311/lib/python3.11/site-packages/peft/utils/save_and_load.py:168: UserWarning: Setting `save_embedding_layers` to `True` as the embedding layer has been resized during finetuning.\n",
      "  warnings.warn(\n"
     ]
    },
    {
     "name": "stdout",
     "output_type": "stream",
     "text": [
      "{'loss': 1.5712, 'grad_norm': 0.58984375, 'learning_rate': 2.060288778181204e-05, 'epoch': 1.8}\n",
      "{'loss': 1.5777, 'grad_norm': 0.80859375, 'learning_rate': 2.043401165245293e-05, 'epoch': 1.8}\n"
     ]
    },
    {
     "name": "stderr",
     "output_type": "stream",
     "text": [
      "/home/aeolian83/anaconda3/envs/llm_for_p311/lib/python3.11/site-packages/peft/utils/save_and_load.py:168: UserWarning: Setting `save_embedding_layers` to `True` as the embedding layer has been resized during finetuning.\n",
      "  warnings.warn(\n"
     ]
    },
    {
     "name": "stdout",
     "output_type": "stream",
     "text": [
      "{'loss': 1.7693, 'grad_norm': 0.263671875, 'learning_rate': 2.0265135523093812e-05, 'epoch': 1.8}\n",
      "{'loss': 1.6145, 'grad_norm': 0.392578125, 'learning_rate': 2.0096259393734694e-05, 'epoch': 1.81}\n"
     ]
    },
    {
     "name": "stderr",
     "output_type": "stream",
     "text": [
      "/home/aeolian83/anaconda3/envs/llm_for_p311/lib/python3.11/site-packages/peft/utils/save_and_load.py:168: UserWarning: Setting `save_embedding_layers` to `True` as the embedding layer has been resized during finetuning.\n",
      "  warnings.warn(\n"
     ]
    },
    {
     "name": "stdout",
     "output_type": "stream",
     "text": [
      "{'loss': 1.6901, 'grad_norm': 0.408203125, 'learning_rate': 1.9927383264375583e-05, 'epoch': 1.81}\n",
      "{'loss': 1.6431, 'grad_norm': 0.451171875, 'learning_rate': 1.9758507135016465e-05, 'epoch': 1.81}\n"
     ]
    },
    {
     "name": "stderr",
     "output_type": "stream",
     "text": [
      "/home/aeolian83/anaconda3/envs/llm_for_p311/lib/python3.11/site-packages/peft/utils/save_and_load.py:168: UserWarning: Setting `save_embedding_layers` to `True` as the embedding layer has been resized during finetuning.\n",
      "  warnings.warn(\n"
     ]
    },
    {
     "name": "stdout",
     "output_type": "stream",
     "text": [
      "{'loss': 1.617, 'grad_norm': 0.76953125, 'learning_rate': 1.958963100565735e-05, 'epoch': 1.81}\n",
      "{'loss': 1.4882, 'grad_norm': 0.232421875, 'learning_rate': 1.9420754876298237e-05, 'epoch': 1.81}\n"
     ]
    },
    {
     "name": "stderr",
     "output_type": "stream",
     "text": [
      "/home/aeolian83/anaconda3/envs/llm_for_p311/lib/python3.11/site-packages/peft/utils/save_and_load.py:168: UserWarning: Setting `save_embedding_layers` to `True` as the embedding layer has been resized during finetuning.\n",
      "  warnings.warn(\n"
     ]
    },
    {
     "name": "stdout",
     "output_type": "stream",
     "text": [
      "{'loss': 1.6991, 'grad_norm': 0.314453125, 'learning_rate': 1.925187874693912e-05, 'epoch': 1.81}\n",
      "{'loss': 1.7142, 'grad_norm': 0.439453125, 'learning_rate': 1.9083002617580008e-05, 'epoch': 1.81}\n"
     ]
    },
    {
     "name": "stderr",
     "output_type": "stream",
     "text": [
      "/home/aeolian83/anaconda3/envs/llm_for_p311/lib/python3.11/site-packages/peft/utils/save_and_load.py:168: UserWarning: Setting `save_embedding_layers` to `True` as the embedding layer has been resized during finetuning.\n",
      "  warnings.warn(\n"
     ]
    },
    {
     "name": "stdout",
     "output_type": "stream",
     "text": [
      "{'loss': 1.7574, 'grad_norm': 0.478515625, 'learning_rate': 1.891412648822089e-05, 'epoch': 1.82}\n",
      "{'loss': 1.5467, 'grad_norm': 0.66796875, 'learning_rate': 1.8745250358861776e-05, 'epoch': 1.82}\n"
     ]
    },
    {
     "name": "stderr",
     "output_type": "stream",
     "text": [
      "/home/aeolian83/anaconda3/envs/llm_for_p311/lib/python3.11/site-packages/peft/utils/save_and_load.py:168: UserWarning: Setting `save_embedding_layers` to `True` as the embedding layer has been resized during finetuning.\n",
      "  warnings.warn(\n"
     ]
    },
    {
     "name": "stdout",
     "output_type": "stream",
     "text": [
      "{'loss': 1.6566, 'grad_norm': 0.2158203125, 'learning_rate': 1.857637422950266e-05, 'epoch': 1.82}\n",
      "{'loss': 1.5495, 'grad_norm': 0.3046875, 'learning_rate': 1.8407498100143544e-05, 'epoch': 1.82}\n"
     ]
    },
    {
     "name": "stderr",
     "output_type": "stream",
     "text": [
      "/home/aeolian83/anaconda3/envs/llm_for_p311/lib/python3.11/site-packages/peft/utils/save_and_load.py:168: UserWarning: Setting `save_embedding_layers` to `True` as the embedding layer has been resized during finetuning.\n",
      "  warnings.warn(\n"
     ]
    },
    {
     "name": "stdout",
     "output_type": "stream",
     "text": [
      "{'loss': 1.5058, 'grad_norm': 0.31640625, 'learning_rate': 1.823862197078443e-05, 'epoch': 1.82}\n",
      "{'loss': 1.5767, 'grad_norm': 0.5546875, 'learning_rate': 1.8069745841425315e-05, 'epoch': 1.82}\n"
     ]
    },
    {
     "name": "stderr",
     "output_type": "stream",
     "text": [
      "/home/aeolian83/anaconda3/envs/llm_for_p311/lib/python3.11/site-packages/peft/utils/save_and_load.py:168: UserWarning: Setting `save_embedding_layers` to `True` as the embedding layer has been resized during finetuning.\n",
      "  warnings.warn(\n"
     ]
    },
    {
     "name": "stdout",
     "output_type": "stream",
     "text": [
      "{'loss': 1.4828, 'grad_norm': 0.9609375, 'learning_rate': 1.79008697120662e-05, 'epoch': 1.83}\n",
      "{'loss': 1.2113, 'grad_norm': 0.31640625, 'learning_rate': 1.7731993582707083e-05, 'epoch': 1.83}\n"
     ]
    },
    {
     "name": "stderr",
     "output_type": "stream",
     "text": [
      "/home/aeolian83/anaconda3/envs/llm_for_p311/lib/python3.11/site-packages/peft/utils/save_and_load.py:168: UserWarning: Setting `save_embedding_layers` to `True` as the embedding layer has been resized during finetuning.\n",
      "  warnings.warn(\n"
     ]
    },
    {
     "name": "stdout",
     "output_type": "stream",
     "text": [
      "{'loss': 1.6971, 'grad_norm': 0.302734375, 'learning_rate': 1.7563117453347972e-05, 'epoch': 1.83}\n",
      "{'loss': 1.6028, 'grad_norm': 0.37890625, 'learning_rate': 1.7394241323988855e-05, 'epoch': 1.83}\n"
     ]
    },
    {
     "name": "stderr",
     "output_type": "stream",
     "text": [
      "/home/aeolian83/anaconda3/envs/llm_for_p311/lib/python3.11/site-packages/peft/utils/save_and_load.py:168: UserWarning: Setting `save_embedding_layers` to `True` as the embedding layer has been resized during finetuning.\n",
      "  warnings.warn(\n"
     ]
    },
    {
     "name": "stdout",
     "output_type": "stream",
     "text": [
      "{'loss': 1.7966, 'grad_norm': 0.6015625, 'learning_rate': 1.722536519462974e-05, 'epoch': 1.83}\n",
      "{'loss': 1.6033, 'grad_norm': 0.7734375, 'learning_rate': 1.7056489065270626e-05, 'epoch': 1.83}\n"
     ]
    },
    {
     "name": "stderr",
     "output_type": "stream",
     "text": [
      "/home/aeolian83/anaconda3/envs/llm_for_p311/lib/python3.11/site-packages/peft/utils/save_and_load.py:168: UserWarning: Setting `save_embedding_layers` to `True` as the embedding layer has been resized during finetuning.\n",
      "  warnings.warn(\n"
     ]
    },
    {
     "name": "stdout",
     "output_type": "stream",
     "text": [
      "{'loss': 1.3642, 'grad_norm': 0.193359375, 'learning_rate': 1.6887612935911508e-05, 'epoch': 1.84}\n",
      "{'loss': 1.6184, 'grad_norm': 0.31640625, 'learning_rate': 1.6718736806552397e-05, 'epoch': 1.84}\n"
     ]
    },
    {
     "name": "stderr",
     "output_type": "stream",
     "text": [
      "/home/aeolian83/anaconda3/envs/llm_for_p311/lib/python3.11/site-packages/peft/utils/save_and_load.py:168: UserWarning: Setting `save_embedding_layers` to `True` as the embedding layer has been resized during finetuning.\n",
      "  warnings.warn(\n"
     ]
    },
    {
     "name": "stdout",
     "output_type": "stream",
     "text": [
      "{'loss': 1.7131, 'grad_norm': 0.2890625, 'learning_rate': 1.654986067719328e-05, 'epoch': 1.84}\n",
      "{'loss': 1.6593, 'grad_norm': 0.498046875, 'learning_rate': 1.6380984547834162e-05, 'epoch': 1.84}\n"
     ]
    },
    {
     "name": "stderr",
     "output_type": "stream",
     "text": [
      "/home/aeolian83/anaconda3/envs/llm_for_p311/lib/python3.11/site-packages/peft/utils/save_and_load.py:168: UserWarning: Setting `save_embedding_layers` to `True` as the embedding layer has been resized during finetuning.\n",
      "  warnings.warn(\n"
     ]
    },
    {
     "name": "stdout",
     "output_type": "stream",
     "text": [
      "{'loss': 1.4362, 'grad_norm': 0.625, 'learning_rate': 1.621210841847505e-05, 'epoch': 1.84}\n",
      "{'loss': 1.667, 'grad_norm': 0.2734375, 'learning_rate': 1.6043232289115933e-05, 'epoch': 1.84}\n"
     ]
    },
    {
     "name": "stderr",
     "output_type": "stream",
     "text": [
      "/home/aeolian83/anaconda3/envs/llm_for_p311/lib/python3.11/site-packages/peft/utils/save_and_load.py:168: UserWarning: Setting `save_embedding_layers` to `True` as the embedding layer has been resized during finetuning.\n",
      "  warnings.warn(\n"
     ]
    },
    {
     "name": "stdout",
     "output_type": "stream",
     "text": [
      "{'loss': 1.5908, 'grad_norm': 0.322265625, 'learning_rate': 1.587435615975682e-05, 'epoch': 1.85}\n",
      "{'loss': 1.7064, 'grad_norm': 0.35546875, 'learning_rate': 1.5705480030397704e-05, 'epoch': 1.85}\n"
     ]
    },
    {
     "name": "stderr",
     "output_type": "stream",
     "text": [
      "/home/aeolian83/anaconda3/envs/llm_for_p311/lib/python3.11/site-packages/peft/utils/save_and_load.py:168: UserWarning: Setting `save_embedding_layers` to `True` as the embedding layer has been resized during finetuning.\n",
      "  warnings.warn(\n"
     ]
    },
    {
     "name": "stdout",
     "output_type": "stream",
     "text": [
      "{'loss': 1.6452, 'grad_norm': 0.388671875, 'learning_rate': 1.5536603901038587e-05, 'epoch': 1.85}\n",
      "{'loss': 1.4832, 'grad_norm': 0.92578125, 'learning_rate': 1.5367727771679476e-05, 'epoch': 1.85}\n"
     ]
    },
    {
     "name": "stderr",
     "output_type": "stream",
     "text": [
      "/home/aeolian83/anaconda3/envs/llm_for_p311/lib/python3.11/site-packages/peft/utils/save_and_load.py:168: UserWarning: Setting `save_embedding_layers` to `True` as the embedding layer has been resized during finetuning.\n",
      "  warnings.warn(\n"
     ]
    },
    {
     "name": "stdout",
     "output_type": "stream",
     "text": [
      "{'loss': 1.571, 'grad_norm': 0.2431640625, 'learning_rate': 1.5198851642320358e-05, 'epoch': 1.85}\n",
      "{'loss': 1.5676, 'grad_norm': 0.263671875, 'learning_rate': 1.5029975512961245e-05, 'epoch': 1.85}\n"
     ]
    },
    {
     "name": "stderr",
     "output_type": "stream",
     "text": [
      "/home/aeolian83/anaconda3/envs/llm_for_p311/lib/python3.11/site-packages/peft/utils/save_and_load.py:168: UserWarning: Setting `save_embedding_layers` to `True` as the embedding layer has been resized during finetuning.\n",
      "  warnings.warn(\n"
     ]
    },
    {
     "name": "stdout",
     "output_type": "stream",
     "text": [
      "{'loss': 1.6468, 'grad_norm': 0.423828125, 'learning_rate': 1.4861099383602128e-05, 'epoch': 1.86}\n",
      "{'loss': 1.6639, 'grad_norm': 0.5390625, 'learning_rate': 1.4692223254243012e-05, 'epoch': 1.86}\n"
     ]
    },
    {
     "name": "stderr",
     "output_type": "stream",
     "text": [
      "/home/aeolian83/anaconda3/envs/llm_for_p311/lib/python3.11/site-packages/peft/utils/save_and_load.py:168: UserWarning: Setting `save_embedding_layers` to `True` as the embedding layer has been resized during finetuning.\n",
      "  warnings.warn(\n"
     ]
    },
    {
     "name": "stdout",
     "output_type": "stream",
     "text": [
      "{'loss': 1.699, 'grad_norm': 0.77734375, 'learning_rate': 1.4523347124883899e-05, 'epoch': 1.86}\n",
      "{'loss': 1.6609, 'grad_norm': 0.2216796875, 'learning_rate': 1.4354470995524783e-05, 'epoch': 1.86}\n"
     ]
    },
    {
     "name": "stderr",
     "output_type": "stream",
     "text": [
      "/home/aeolian83/anaconda3/envs/llm_for_p311/lib/python3.11/site-packages/peft/utils/save_and_load.py:168: UserWarning: Setting `save_embedding_layers` to `True` as the embedding layer has been resized during finetuning.\n",
      "  warnings.warn(\n"
     ]
    },
    {
     "name": "stdout",
     "output_type": "stream",
     "text": [
      "{'loss': 1.6214, 'grad_norm': 0.32421875, 'learning_rate': 1.4185594866165669e-05, 'epoch': 1.86}\n",
      "{'loss': 1.7119, 'grad_norm': 0.369140625, 'learning_rate': 1.4016718736806553e-05, 'epoch': 1.86}\n"
     ]
    },
    {
     "name": "stderr",
     "output_type": "stream",
     "text": [
      "/home/aeolian83/anaconda3/envs/llm_for_p311/lib/python3.11/site-packages/peft/utils/save_and_load.py:168: UserWarning: Setting `save_embedding_layers` to `True` as the embedding layer has been resized during finetuning.\n",
      "  warnings.warn(\n"
     ]
    },
    {
     "name": "stdout",
     "output_type": "stream",
     "text": [
      "{'loss': 1.6744, 'grad_norm': 0.388671875, 'learning_rate': 1.384784260744744e-05, 'epoch': 1.87}\n",
      "{'loss': 1.6566, 'grad_norm': 0.7109375, 'learning_rate': 1.3678966478088324e-05, 'epoch': 1.87}\n"
     ]
    },
    {
     "name": "stderr",
     "output_type": "stream",
     "text": [
      "/home/aeolian83/anaconda3/envs/llm_for_p311/lib/python3.11/site-packages/peft/utils/save_and_load.py:168: UserWarning: Setting `save_embedding_layers` to `True` as the embedding layer has been resized during finetuning.\n",
      "  warnings.warn(\n"
     ]
    },
    {
     "name": "stdout",
     "output_type": "stream",
     "text": [
      "{'loss': 1.6414, 'grad_norm': 0.212890625, 'learning_rate': 1.3510090348729206e-05, 'epoch': 1.87}\n",
      "{'loss': 1.5811, 'grad_norm': 0.390625, 'learning_rate': 1.3341214219370094e-05, 'epoch': 1.87}\n"
     ]
    },
    {
     "name": "stderr",
     "output_type": "stream",
     "text": [
      "/home/aeolian83/anaconda3/envs/llm_for_p311/lib/python3.11/site-packages/peft/utils/save_and_load.py:168: UserWarning: Setting `save_embedding_layers` to `True` as the embedding layer has been resized during finetuning.\n",
      "  warnings.warn(\n"
     ]
    },
    {
     "name": "stdout",
     "output_type": "stream",
     "text": [
      "{'loss': 1.7202, 'grad_norm': 0.33203125, 'learning_rate': 1.3172338090010978e-05, 'epoch': 1.87}\n",
      "{'loss': 1.6611, 'grad_norm': 0.484375, 'learning_rate': 1.3003461960651863e-05, 'epoch': 1.87}\n"
     ]
    },
    {
     "name": "stderr",
     "output_type": "stream",
     "text": [
      "/home/aeolian83/anaconda3/envs/llm_for_p311/lib/python3.11/site-packages/peft/utils/save_and_load.py:168: UserWarning: Setting `save_embedding_layers` to `True` as the embedding layer has been resized during finetuning.\n",
      "  warnings.warn(\n"
     ]
    },
    {
     "name": "stdout",
     "output_type": "stream",
     "text": [
      "{'loss': 1.5349, 'grad_norm': 0.88671875, 'learning_rate': 1.2834585831292747e-05, 'epoch': 1.88}\n",
      "{'loss': 1.2649, 'grad_norm': 0.251953125, 'learning_rate': 1.2665709701933631e-05, 'epoch': 1.88}\n"
     ]
    },
    {
     "name": "stderr",
     "output_type": "stream",
     "text": [
      "/home/aeolian83/anaconda3/envs/llm_for_p311/lib/python3.11/site-packages/peft/utils/save_and_load.py:168: UserWarning: Setting `save_embedding_layers` to `True` as the embedding layer has been resized during finetuning.\n",
      "  warnings.warn(\n"
     ]
    },
    {
     "name": "stdout",
     "output_type": "stream",
     "text": [
      "{'loss': 1.5505, 'grad_norm': 0.3359375, 'learning_rate': 1.2496833572574518e-05, 'epoch': 1.88}\n",
      "{'loss': 1.6575, 'grad_norm': 0.333984375, 'learning_rate': 1.23279574432154e-05, 'epoch': 1.88}\n"
     ]
    },
    {
     "name": "stderr",
     "output_type": "stream",
     "text": [
      "/home/aeolian83/anaconda3/envs/llm_for_p311/lib/python3.11/site-packages/peft/utils/save_and_load.py:168: UserWarning: Setting `save_embedding_layers` to `True` as the embedding layer has been resized during finetuning.\n",
      "  warnings.warn(\n"
     ]
    },
    {
     "name": "stdout",
     "output_type": "stream",
     "text": [
      "{'loss': 1.8261, 'grad_norm': 0.4765625, 'learning_rate': 1.2159081313856286e-05, 'epoch': 1.88}\n",
      "{'loss': 1.6241, 'grad_norm': 0.72265625, 'learning_rate': 1.1990205184497172e-05, 'epoch': 1.88}\n"
     ]
    },
    {
     "name": "stderr",
     "output_type": "stream",
     "text": [
      "/home/aeolian83/anaconda3/envs/llm_for_p311/lib/python3.11/site-packages/peft/utils/save_and_load.py:168: UserWarning: Setting `save_embedding_layers` to `True` as the embedding layer has been resized during finetuning.\n",
      "  warnings.warn(\n"
     ]
    },
    {
     "name": "stdout",
     "output_type": "stream",
     "text": [
      "{'loss': 1.7241, 'grad_norm': 0.255859375, 'learning_rate': 1.1821329055138058e-05, 'epoch': 1.89}\n",
      "{'loss': 1.5081, 'grad_norm': 0.283203125, 'learning_rate': 1.1652452925778942e-05, 'epoch': 1.89}\n"
     ]
    },
    {
     "name": "stderr",
     "output_type": "stream",
     "text": [
      "/home/aeolian83/anaconda3/envs/llm_for_p311/lib/python3.11/site-packages/peft/utils/save_and_load.py:168: UserWarning: Setting `save_embedding_layers` to `True` as the embedding layer has been resized during finetuning.\n",
      "  warnings.warn(\n"
     ]
    },
    {
     "name": "stdout",
     "output_type": "stream",
     "text": [
      "{'loss': 1.6539, 'grad_norm': 0.408203125, 'learning_rate': 1.1483576796419826e-05, 'epoch': 1.89}\n",
      "{'loss': 1.5922, 'grad_norm': 0.50390625, 'learning_rate': 1.1314700667060711e-05, 'epoch': 1.89}\n"
     ]
    },
    {
     "name": "stderr",
     "output_type": "stream",
     "text": [
      "/home/aeolian83/anaconda3/envs/llm_for_p311/lib/python3.11/site-packages/peft/utils/save_and_load.py:168: UserWarning: Setting `save_embedding_layers` to `True` as the embedding layer has been resized during finetuning.\n",
      "  warnings.warn(\n"
     ]
    },
    {
     "name": "stdout",
     "output_type": "stream",
     "text": [
      "{'loss': 1.6118, 'grad_norm': 0.6875, 'learning_rate': 1.1145824537701597e-05, 'epoch': 1.89}\n",
      "{'loss': 1.397, 'grad_norm': 0.27734375, 'learning_rate': 1.0976948408342481e-05, 'epoch': 1.89}\n"
     ]
    },
    {
     "name": "stderr",
     "output_type": "stream",
     "text": [
      "/home/aeolian83/anaconda3/envs/llm_for_p311/lib/python3.11/site-packages/peft/utils/save_and_load.py:168: UserWarning: Setting `save_embedding_layers` to `True` as the embedding layer has been resized during finetuning.\n",
      "  warnings.warn(\n"
     ]
    },
    {
     "name": "stdout",
     "output_type": "stream",
     "text": [
      "{'loss': 1.6032, 'grad_norm': 0.306640625, 'learning_rate': 1.0808072278983367e-05, 'epoch': 1.9}\n",
      "{'loss': 1.7402, 'grad_norm': 0.3671875, 'learning_rate': 1.0639196149624252e-05, 'epoch': 1.9}\n"
     ]
    },
    {
     "name": "stderr",
     "output_type": "stream",
     "text": [
      "/home/aeolian83/anaconda3/envs/llm_for_p311/lib/python3.11/site-packages/peft/utils/save_and_load.py:168: UserWarning: Setting `save_embedding_layers` to `True` as the embedding layer has been resized during finetuning.\n",
      "  warnings.warn(\n"
     ]
    },
    {
     "name": "stdout",
     "output_type": "stream",
     "text": [
      "{'loss': 1.7875, 'grad_norm': 0.470703125, 'learning_rate': 1.0470320020265136e-05, 'epoch': 1.9}\n",
      "{'loss': 1.7373, 'grad_norm': 0.58984375, 'learning_rate': 1.030144389090602e-05, 'epoch': 1.9}\n"
     ]
    },
    {
     "name": "stderr",
     "output_type": "stream",
     "text": [
      "/home/aeolian83/anaconda3/envs/llm_for_p311/lib/python3.11/site-packages/peft/utils/save_and_load.py:168: UserWarning: Setting `save_embedding_layers` to `True` as the embedding layer has been resized during finetuning.\n",
      "  warnings.warn(\n"
     ]
    },
    {
     "name": "stdout",
     "output_type": "stream",
     "text": [
      "{'loss': 1.529, 'grad_norm': 0.25, 'learning_rate': 1.0132567761546906e-05, 'epoch': 1.9}\n",
      "{'loss': 1.6534, 'grad_norm': 0.28515625, 'learning_rate': 9.963691632187792e-06, 'epoch': 1.9}\n"
     ]
    },
    {
     "name": "stderr",
     "output_type": "stream",
     "text": [
      "/home/aeolian83/anaconda3/envs/llm_for_p311/lib/python3.11/site-packages/peft/utils/save_and_load.py:168: UserWarning: Setting `save_embedding_layers` to `True` as the embedding layer has been resized during finetuning.\n",
      "  warnings.warn(\n"
     ]
    },
    {
     "name": "stdout",
     "output_type": "stream",
     "text": [
      "{'loss': 1.8489, 'grad_norm': 0.46875, 'learning_rate': 9.794815502828676e-06, 'epoch': 1.9}\n",
      "{'loss': 1.8543, 'grad_norm': 0.54296875, 'learning_rate': 9.62593937346956e-06, 'epoch': 1.91}\n"
     ]
    },
    {
     "name": "stderr",
     "output_type": "stream",
     "text": [
      "/home/aeolian83/anaconda3/envs/llm_for_p311/lib/python3.11/site-packages/peft/utils/save_and_load.py:168: UserWarning: Setting `save_embedding_layers` to `True` as the embedding layer has been resized during finetuning.\n",
      "  warnings.warn(\n"
     ]
    },
    {
     "name": "stdout",
     "output_type": "stream",
     "text": [
      "{'loss': 1.83, 'grad_norm': 0.84375, 'learning_rate': 9.457063244110445e-06, 'epoch': 1.91}\n",
      "{'loss': 1.3174, 'grad_norm': 0.228515625, 'learning_rate': 9.28818711475133e-06, 'epoch': 1.91}\n"
     ]
    },
    {
     "name": "stderr",
     "output_type": "stream",
     "text": [
      "/home/aeolian83/anaconda3/envs/llm_for_p311/lib/python3.11/site-packages/peft/utils/save_and_load.py:168: UserWarning: Setting `save_embedding_layers` to `True` as the embedding layer has been resized during finetuning.\n",
      "  warnings.warn(\n"
     ]
    },
    {
     "name": "stdout",
     "output_type": "stream",
     "text": [
      "{'loss': 1.5537, 'grad_norm': 0.28515625, 'learning_rate': 9.119310985392215e-06, 'epoch': 1.91}\n",
      "{'loss': 1.6533, 'grad_norm': 0.357421875, 'learning_rate': 8.9504348560331e-06, 'epoch': 1.91}\n"
     ]
    },
    {
     "name": "stderr",
     "output_type": "stream",
     "text": [
      "/home/aeolian83/anaconda3/envs/llm_for_p311/lib/python3.11/site-packages/peft/utils/save_and_load.py:168: UserWarning: Setting `save_embedding_layers` to `True` as the embedding layer has been resized during finetuning.\n",
      "  warnings.warn(\n"
     ]
    },
    {
     "name": "stdout",
     "output_type": "stream",
     "text": [
      "{'loss': 1.7893, 'grad_norm': 0.431640625, 'learning_rate': 8.781558726673986e-06, 'epoch': 1.91}\n",
      "{'loss': 1.4109, 'grad_norm': 0.71875, 'learning_rate': 8.61268259731487e-06, 'epoch': 1.92}\n"
     ]
    },
    {
     "name": "stderr",
     "output_type": "stream",
     "text": [
      "/home/aeolian83/anaconda3/envs/llm_for_p311/lib/python3.11/site-packages/peft/utils/save_and_load.py:168: UserWarning: Setting `save_embedding_layers` to `True` as the embedding layer has been resized during finetuning.\n",
      "  warnings.warn(\n"
     ]
    },
    {
     "name": "stdout",
     "output_type": "stream",
     "text": [
      "{'loss': 1.5046, 'grad_norm': 0.33203125, 'learning_rate': 8.443806467955754e-06, 'epoch': 1.92}\n",
      "{'loss': 1.6703, 'grad_norm': 0.27734375, 'learning_rate': 8.27493033859664e-06, 'epoch': 1.92}\n"
     ]
    },
    {
     "name": "stderr",
     "output_type": "stream",
     "text": [
      "/home/aeolian83/anaconda3/envs/llm_for_p311/lib/python3.11/site-packages/peft/utils/save_and_load.py:168: UserWarning: Setting `save_embedding_layers` to `True` as the embedding layer has been resized during finetuning.\n",
      "  warnings.warn(\n"
     ]
    },
    {
     "name": "stdout",
     "output_type": "stream",
     "text": [
      "{'loss': 1.4947, 'grad_norm': 0.421875, 'learning_rate': 8.106054209237525e-06, 'epoch': 1.92}\n",
      "{'loss': 1.7909, 'grad_norm': 0.5625, 'learning_rate': 7.93717807987841e-06, 'epoch': 1.92}\n"
     ]
    },
    {
     "name": "stderr",
     "output_type": "stream",
     "text": [
      "/home/aeolian83/anaconda3/envs/llm_for_p311/lib/python3.11/site-packages/peft/utils/save_and_load.py:168: UserWarning: Setting `save_embedding_layers` to `True` as the embedding layer has been resized during finetuning.\n",
      "  warnings.warn(\n"
     ]
    },
    {
     "name": "stdout",
     "output_type": "stream",
     "text": [
      "{'loss': 1.538, 'grad_norm': 0.88671875, 'learning_rate': 7.768301950519293e-06, 'epoch': 1.92}\n",
      "{'loss': 1.3085, 'grad_norm': 0.2099609375, 'learning_rate': 7.599425821160179e-06, 'epoch': 1.93}\n"
     ]
    },
    {
     "name": "stderr",
     "output_type": "stream",
     "text": [
      "/home/aeolian83/anaconda3/envs/llm_for_p311/lib/python3.11/site-packages/peft/utils/save_and_load.py:168: UserWarning: Setting `save_embedding_layers` to `True` as the embedding layer has been resized during finetuning.\n",
      "  warnings.warn(\n"
     ]
    },
    {
     "name": "stdout",
     "output_type": "stream",
     "text": [
      "{'loss': 1.6761, 'grad_norm': 0.318359375, 'learning_rate': 7.430549691801064e-06, 'epoch': 1.93}\n",
      "{'loss': 1.6103, 'grad_norm': 0.330078125, 'learning_rate': 7.2616735624419495e-06, 'epoch': 1.93}\n"
     ]
    },
    {
     "name": "stderr",
     "output_type": "stream",
     "text": [
      "/home/aeolian83/anaconda3/envs/llm_for_p311/lib/python3.11/site-packages/peft/utils/save_and_load.py:168: UserWarning: Setting `save_embedding_layers` to `True` as the embedding layer has been resized during finetuning.\n",
      "  warnings.warn(\n"
     ]
    },
    {
     "name": "stdout",
     "output_type": "stream",
     "text": [
      "{'loss': 1.7114, 'grad_norm': 0.515625, 'learning_rate': 7.092797433082834e-06, 'epoch': 1.93}\n",
      "{'loss': 1.5641, 'grad_norm': 0.7109375, 'learning_rate': 6.92392130372372e-06, 'epoch': 1.93}\n"
     ]
    },
    {
     "name": "stderr",
     "output_type": "stream",
     "text": [
      "/home/aeolian83/anaconda3/envs/llm_for_p311/lib/python3.11/site-packages/peft/utils/save_and_load.py:168: UserWarning: Setting `save_embedding_layers` to `True` as the embedding layer has been resized during finetuning.\n",
      "  warnings.warn(\n"
     ]
    },
    {
     "name": "stdout",
     "output_type": "stream",
     "text": [
      "{'loss': 1.6507, 'grad_norm': 0.33984375, 'learning_rate': 6.755045174364603e-06, 'epoch': 1.93}\n",
      "{'loss': 1.5994, 'grad_norm': 0.376953125, 'learning_rate': 6.586169045005489e-06, 'epoch': 1.94}\n"
     ]
    },
    {
     "name": "stderr",
     "output_type": "stream",
     "text": [
      "/home/aeolian83/anaconda3/envs/llm_for_p311/lib/python3.11/site-packages/peft/utils/save_and_load.py:168: UserWarning: Setting `save_embedding_layers` to `True` as the embedding layer has been resized during finetuning.\n",
      "  warnings.warn(\n"
     ]
    },
    {
     "name": "stdout",
     "output_type": "stream",
     "text": [
      "{'loss': 1.6074, 'grad_norm': 0.35546875, 'learning_rate': 6.4172929156463736e-06, 'epoch': 1.94}\n",
      "{'loss': 1.6368, 'grad_norm': 0.384765625, 'learning_rate': 6.248416786287259e-06, 'epoch': 1.94}\n"
     ]
    },
    {
     "name": "stderr",
     "output_type": "stream",
     "text": [
      "/home/aeolian83/anaconda3/envs/llm_for_p311/lib/python3.11/site-packages/peft/utils/save_and_load.py:168: UserWarning: Setting `save_embedding_layers` to `True` as the embedding layer has been resized during finetuning.\n",
      "  warnings.warn(\n"
     ]
    },
    {
     "name": "stdout",
     "output_type": "stream",
     "text": [
      "{'loss': 1.6904, 'grad_norm': 0.890625, 'learning_rate': 6.079540656928143e-06, 'epoch': 1.94}\n",
      "{'loss': 1.4254, 'grad_norm': 0.291015625, 'learning_rate': 5.910664527569029e-06, 'epoch': 1.94}\n"
     ]
    },
    {
     "name": "stderr",
     "output_type": "stream",
     "text": [
      "/home/aeolian83/anaconda3/envs/llm_for_p311/lib/python3.11/site-packages/peft/utils/save_and_load.py:168: UserWarning: Setting `save_embedding_layers` to `True` as the embedding layer has been resized during finetuning.\n",
      "  warnings.warn(\n"
     ]
    },
    {
     "name": "stdout",
     "output_type": "stream",
     "text": [
      "{'loss': 1.7382, 'grad_norm': 0.240234375, 'learning_rate': 5.741788398209913e-06, 'epoch': 1.94}\n",
      "{'loss': 1.7369, 'grad_norm': 0.32421875, 'learning_rate': 5.5729122688507985e-06, 'epoch': 1.95}\n"
     ]
    },
    {
     "name": "stderr",
     "output_type": "stream",
     "text": [
      "/home/aeolian83/anaconda3/envs/llm_for_p311/lib/python3.11/site-packages/peft/utils/save_and_load.py:168: UserWarning: Setting `save_embedding_layers` to `True` as the embedding layer has been resized during finetuning.\n",
      "  warnings.warn(\n"
     ]
    },
    {
     "name": "stdout",
     "output_type": "stream",
     "text": [
      "{'loss': 1.8138, 'grad_norm': 0.443359375, 'learning_rate': 5.404036139491683e-06, 'epoch': 1.95}\n",
      "{'loss': 1.5129, 'grad_norm': 0.8515625, 'learning_rate': 5.235160010132568e-06, 'epoch': 1.95}\n"
     ]
    },
    {
     "name": "stderr",
     "output_type": "stream",
     "text": [
      "/home/aeolian83/anaconda3/envs/llm_for_p311/lib/python3.11/site-packages/peft/utils/save_and_load.py:168: UserWarning: Setting `save_embedding_layers` to `True` as the embedding layer has been resized during finetuning.\n",
      "  warnings.warn(\n"
     ]
    },
    {
     "name": "stdout",
     "output_type": "stream",
     "text": [
      "{'loss': 1.4226, 'grad_norm': 0.32421875, 'learning_rate': 5.066283880773453e-06, 'epoch': 1.95}\n",
      "{'loss': 1.7442, 'grad_norm': 0.341796875, 'learning_rate': 4.897407751414338e-06, 'epoch': 1.95}\n"
     ]
    },
    {
     "name": "stderr",
     "output_type": "stream",
     "text": [
      "/home/aeolian83/anaconda3/envs/llm_for_p311/lib/python3.11/site-packages/peft/utils/save_and_load.py:168: UserWarning: Setting `save_embedding_layers` to `True` as the embedding layer has been resized during finetuning.\n",
      "  warnings.warn(\n"
     ]
    },
    {
     "name": "stdout",
     "output_type": "stream",
     "text": [
      "{'loss': 1.7121, 'grad_norm': 0.4140625, 'learning_rate': 4.728531622055223e-06, 'epoch': 1.95}\n",
      "{'loss': 1.6819, 'grad_norm': 0.4765625, 'learning_rate': 4.559655492696107e-06, 'epoch': 1.96}\n"
     ]
    },
    {
     "name": "stderr",
     "output_type": "stream",
     "text": [
      "/home/aeolian83/anaconda3/envs/llm_for_p311/lib/python3.11/site-packages/peft/utils/save_and_load.py:168: UserWarning: Setting `save_embedding_layers` to `True` as the embedding layer has been resized during finetuning.\n",
      "  warnings.warn(\n"
     ]
    },
    {
     "name": "stdout",
     "output_type": "stream",
     "text": [
      "{'loss': 1.4376, 'grad_norm': 0.734375, 'learning_rate': 4.390779363336993e-06, 'epoch': 1.96}\n",
      "{'loss': 1.4625, 'grad_norm': 0.26171875, 'learning_rate': 4.221903233977877e-06, 'epoch': 1.96}\n"
     ]
    },
    {
     "name": "stderr",
     "output_type": "stream",
     "text": [
      "/home/aeolian83/anaconda3/envs/llm_for_p311/lib/python3.11/site-packages/peft/utils/save_and_load.py:168: UserWarning: Setting `save_embedding_layers` to `True` as the embedding layer has been resized during finetuning.\n",
      "  warnings.warn(\n"
     ]
    },
    {
     "name": "stdout",
     "output_type": "stream",
     "text": [
      "{'loss': 1.7365, 'grad_norm': 0.2373046875, 'learning_rate': 4.053027104618763e-06, 'epoch': 1.96}\n",
      "{'loss': 1.6589, 'grad_norm': 0.271484375, 'learning_rate': 3.884150975259647e-06, 'epoch': 1.96}\n"
     ]
    },
    {
     "name": "stderr",
     "output_type": "stream",
     "text": [
      "/home/aeolian83/anaconda3/envs/llm_for_p311/lib/python3.11/site-packages/peft/utils/save_and_load.py:168: UserWarning: Setting `save_embedding_layers` to `True` as the embedding layer has been resized during finetuning.\n",
      "  warnings.warn(\n"
     ]
    },
    {
     "name": "stdout",
     "output_type": "stream",
     "text": [
      "{'loss': 1.6115, 'grad_norm': 0.54296875, 'learning_rate': 3.715274845900532e-06, 'epoch': 1.96}\n",
      "{'loss': 1.6189, 'grad_norm': 0.6171875, 'learning_rate': 3.546398716541417e-06, 'epoch': 1.97}\n"
     ]
    },
    {
     "name": "stderr",
     "output_type": "stream",
     "text": [
      "/home/aeolian83/anaconda3/envs/llm_for_p311/lib/python3.11/site-packages/peft/utils/save_and_load.py:168: UserWarning: Setting `save_embedding_layers` to `True` as the embedding layer has been resized during finetuning.\n",
      "  warnings.warn(\n"
     ]
    },
    {
     "name": "stdout",
     "output_type": "stream",
     "text": [
      "{'loss': 1.5281, 'grad_norm': 0.193359375, 'learning_rate': 3.3775225871823015e-06, 'epoch': 1.97}\n",
      "{'loss': 1.6809, 'grad_norm': 0.30859375, 'learning_rate': 3.2086464578231868e-06, 'epoch': 1.97}\n"
     ]
    },
    {
     "name": "stderr",
     "output_type": "stream",
     "text": [
      "/home/aeolian83/anaconda3/envs/llm_for_p311/lib/python3.11/site-packages/peft/utils/save_and_load.py:168: UserWarning: Setting `save_embedding_layers` to `True` as the embedding layer has been resized during finetuning.\n",
      "  warnings.warn(\n"
     ]
    },
    {
     "name": "stdout",
     "output_type": "stream",
     "text": [
      "{'loss': 1.6264, 'grad_norm': 0.419921875, 'learning_rate': 3.0397703284640716e-06, 'epoch': 1.97}\n",
      "{'loss': 1.666, 'grad_norm': 0.50390625, 'learning_rate': 2.8708941991049564e-06, 'epoch': 1.97}\n"
     ]
    },
    {
     "name": "stderr",
     "output_type": "stream",
     "text": [
      "/home/aeolian83/anaconda3/envs/llm_for_p311/lib/python3.11/site-packages/peft/utils/save_and_load.py:168: UserWarning: Setting `save_embedding_layers` to `True` as the embedding layer has been resized during finetuning.\n",
      "  warnings.warn(\n"
     ]
    },
    {
     "name": "stdout",
     "output_type": "stream",
     "text": [
      "{'loss': 1.5994, 'grad_norm': 1.0, 'learning_rate': 2.7020180697458417e-06, 'epoch': 1.97}\n",
      "{'loss': 1.4069, 'grad_norm': 0.2197265625, 'learning_rate': 2.5331419403867265e-06, 'epoch': 1.98}\n"
     ]
    },
    {
     "name": "stderr",
     "output_type": "stream",
     "text": [
      "/home/aeolian83/anaconda3/envs/llm_for_p311/lib/python3.11/site-packages/peft/utils/save_and_load.py:168: UserWarning: Setting `save_embedding_layers` to `True` as the embedding layer has been resized during finetuning.\n",
      "  warnings.warn(\n"
     ]
    },
    {
     "name": "stdout",
     "output_type": "stream",
     "text": [
      "{'loss': 1.589, 'grad_norm': 0.26171875, 'learning_rate': 2.3642658110276113e-06, 'epoch': 1.98}\n",
      "{'loss': 1.7602, 'grad_norm': 0.416015625, 'learning_rate': 2.1953896816684965e-06, 'epoch': 1.98}\n"
     ]
    },
    {
     "name": "stderr",
     "output_type": "stream",
     "text": [
      "/home/aeolian83/anaconda3/envs/llm_for_p311/lib/python3.11/site-packages/peft/utils/save_and_load.py:168: UserWarning: Setting `save_embedding_layers` to `True` as the embedding layer has been resized during finetuning.\n",
      "  warnings.warn(\n"
     ]
    },
    {
     "name": "stdout",
     "output_type": "stream",
     "text": [
      "{'loss': 1.6686, 'grad_norm': 0.49609375, 'learning_rate': 2.0265135523093814e-06, 'epoch': 1.98}\n",
      "{'loss': 1.519, 'grad_norm': 0.50390625, 'learning_rate': 1.857637422950266e-06, 'epoch': 1.98}\n"
     ]
    },
    {
     "name": "stderr",
     "output_type": "stream",
     "text": [
      "/home/aeolian83/anaconda3/envs/llm_for_p311/lib/python3.11/site-packages/peft/utils/save_and_load.py:168: UserWarning: Setting `save_embedding_layers` to `True` as the embedding layer has been resized during finetuning.\n",
      "  warnings.warn(\n"
     ]
    },
    {
     "name": "stdout",
     "output_type": "stream",
     "text": [
      "{'loss': 1.7831, 'grad_norm': 0.23828125, 'learning_rate': 1.6887612935911508e-06, 'epoch': 1.98}\n",
      "{'loss': 1.6827, 'grad_norm': 0.302734375, 'learning_rate': 1.5198851642320358e-06, 'epoch': 1.99}\n"
     ]
    },
    {
     "name": "stderr",
     "output_type": "stream",
     "text": [
      "/home/aeolian83/anaconda3/envs/llm_for_p311/lib/python3.11/site-packages/peft/utils/save_and_load.py:168: UserWarning: Setting `save_embedding_layers` to `True` as the embedding layer has been resized during finetuning.\n",
      "  warnings.warn(\n"
     ]
    },
    {
     "name": "stdout",
     "output_type": "stream",
     "text": [
      "{'loss': 1.5679, 'grad_norm': 0.3046875, 'learning_rate': 1.3510090348729208e-06, 'epoch': 1.99}\n",
      "{'loss': 1.7407, 'grad_norm': 0.466796875, 'learning_rate': 1.1821329055138056e-06, 'epoch': 1.99}\n"
     ]
    },
    {
     "name": "stderr",
     "output_type": "stream",
     "text": [
      "/home/aeolian83/anaconda3/envs/llm_for_p311/lib/python3.11/site-packages/peft/utils/save_and_load.py:168: UserWarning: Setting `save_embedding_layers` to `True` as the embedding layer has been resized during finetuning.\n",
      "  warnings.warn(\n"
     ]
    },
    {
     "name": "stdout",
     "output_type": "stream",
     "text": [
      "{'loss': 1.4453, 'grad_norm': 0.625, 'learning_rate': 1.0132567761546907e-06, 'epoch': 1.99}\n",
      "{'loss': 1.4969, 'grad_norm': 0.2080078125, 'learning_rate': 8.443806467955754e-07, 'epoch': 1.99}\n"
     ]
    },
    {
     "name": "stderr",
     "output_type": "stream",
     "text": [
      "/home/aeolian83/anaconda3/envs/llm_for_p311/lib/python3.11/site-packages/peft/utils/save_and_load.py:168: UserWarning: Setting `save_embedding_layers` to `True` as the embedding layer has been resized during finetuning.\n",
      "  warnings.warn(\n"
     ]
    },
    {
     "name": "stdout",
     "output_type": "stream",
     "text": [
      "{'loss': 1.5751, 'grad_norm': 0.29296875, 'learning_rate': 6.755045174364604e-07, 'epoch': 1.99}\n",
      "{'loss': 1.7137, 'grad_norm': 0.306640625, 'learning_rate': 5.066283880773453e-07, 'epoch': 2.0}\n"
     ]
    },
    {
     "name": "stderr",
     "output_type": "stream",
     "text": [
      "/home/aeolian83/anaconda3/envs/llm_for_p311/lib/python3.11/site-packages/peft/utils/save_and_load.py:168: UserWarning: Setting `save_embedding_layers` to `True` as the embedding layer has been resized during finetuning.\n",
      "  warnings.warn(\n"
     ]
    },
    {
     "name": "stdout",
     "output_type": "stream",
     "text": [
      "{'loss': 1.7115, 'grad_norm': 0.4765625, 'learning_rate': 3.377522587182302e-07, 'epoch': 2.0}\n",
      "{'loss': 1.7684, 'grad_norm': 0.93359375, 'learning_rate': 1.688761293591151e-07, 'epoch': 2.0}\n"
     ]
    },
    {
     "name": "stderr",
     "output_type": "stream",
     "text": [
      "/home/aeolian83/anaconda3/envs/llm_for_p311/lib/python3.11/site-packages/peft/utils/save_and_load.py:168: UserWarning: Setting `save_embedding_layers` to `True` as the embedding layer has been resized during finetuning.\n",
      "  warnings.warn(\n"
     ]
    },
    {
     "name": "stdout",
     "output_type": "stream",
     "text": [
      "{'loss': 1.466, 'grad_norm': 0.671875, 'learning_rate': 0.0, 'epoch': 2.0}\n",
      "{'train_runtime': 15517.1967, 'train_samples_per_second': 1.574, 'train_steps_per_second': 0.787, 'train_loss': 1.6900457468118752, 'epoch': 2.0}\n"
     ]
    },
    {
     "data": {
      "text/plain": [
       "TrainOutput(global_step=12210, training_loss=1.6900457468118752, metrics={'train_runtime': 15517.1967, 'train_samples_per_second': 1.574, 'train_steps_per_second': 0.787, 'train_loss': 1.6900457468118752, 'epoch': 2.0})"
      ]
     },
     "execution_count": 28,
     "metadata": {},
     "output_type": "execute_result"
    }
   ],
   "source": [
    "trainer.train()"
   ]
  },
  {
   "cell_type": "code",
   "execution_count": null,
   "metadata": {},
   "outputs": [],
   "source": [
    "lora_model_save_dir = \"./results/experi_08\""
   ]
  },
  {
   "cell_type": "code",
   "execution_count": 29,
   "metadata": {},
   "outputs": [],
   "source": [
    "model_to_save = trainer.model.module if hasattr(trainer.model, 'module') else trainer.model  # Take care of distributed/parallel training\n",
    "model_to_save.save_pretrained(lora_model_save_dir, save_embedding_layers = True)"
   ]
  },
  {
   "cell_type": "code",
   "execution_count": 30,
   "metadata": {},
   "outputs": [],
   "source": [
    "lora_config = LoraConfig.from_pretrained(lora_model_save_dir)\n",
    "model = get_peft_model(model, lora_config)"
   ]
  },
  {
   "cell_type": "code",
   "execution_count": 35,
   "metadata": {},
   "outputs": [
    {
     "data": {
      "text/plain": [
       "CommitInfo(commit_url='https://huggingface.co/aeolian83/llama_ko_sft_kullm_experi_05/commit/a660bf40db1d86c7dea85c0a2328f73c61f61596', commit_message='Upload tokenizer', commit_description='', oid='a660bf40db1d86c7dea85c0a2328f73c61f61596', pr_url=None, pr_revision=None, pr_num=None)"
      ]
     },
     "execution_count": 35,
     "metadata": {},
     "output_type": "execute_result"
    }
   ],
   "source": [
    "tokenizer.push_to_hub('aeolian83/llama_ko_sft_kullm_experi_05')"
   ]
  },
  {
   "cell_type": "code",
   "execution_count": null,
   "metadata": {},
   "outputs": [],
   "source": []
  },
  {
   "cell_type": "code",
   "execution_count": null,
   "metadata": {},
   "outputs": [],
   "source": []
  }
 ],
 "metadata": {
  "kernelspec": {
   "display_name": "llm_for_p311",
   "language": "python",
   "name": "python3"
  },
  "language_info": {
   "codemirror_mode": {
    "name": "ipython",
    "version": 3
   },
   "file_extension": ".py",
   "mimetype": "text/x-python",
   "name": "python",
   "nbconvert_exporter": "python",
   "pygments_lexer": "ipython3",
   "version": "3.11.7"
  }
 },
 "nbformat": 4,
 "nbformat_minor": 2
}
