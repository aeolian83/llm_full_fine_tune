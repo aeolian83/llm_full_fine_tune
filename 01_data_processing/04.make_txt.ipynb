{
 "cells": [
  {
   "cell_type": "markdown",
   "metadata": {},
   "source": [
    "# jsonl파일을 txt파일로 만들기 \n",
    "\n",
    "- sentencepiece로 토크나이저를 제작하기 위해서는 개행 구분되어진 연속된 txt파일이 필요하다. 그래서 jsonl파일을 txt로 파일로 전환해야 한다. \n",
    "- 총 용량이 48GB에 달하는 만큼 멀티프로세싱으로 진행하려 한다. \n",
    "- cpu 개수 만큼 chunk로 나누어 임시파일로 저장한 뒤에 멀티프로세싱으로 진행한 뒤에 합친다. \n",
    "\n",
    "</br>\n",
    "\n",
    "- 위처럼 고려했으나 메모리에 한번에 올리지 못하면 사실상 병렬처리를 할수가 없다. 그렇기 때문에 병렬처리를 할 이유가없다. 지금 시스템 메모리가 64GB라 통으로 메모리에 올린뒤 병렬 처리 하는 것은 비효율적이다. 사실 메모리로 읽어 오는 시간이 문제기 때문이다. 그냥 단일 프로세스로 진행하려 한다. \n",
    "- 11분 8초 소요"
   ]
  },
  {
   "cell_type": "code",
   "execution_count": 1,
   "metadata": {},
   "outputs": [],
   "source": [
    "import json\n",
    "from multiprocessing import Pool, cpu_count\n",
    "import os"
   ]
  },
  {
   "cell_type": "code",
   "execution_count": 1,
   "metadata": {},
   "outputs": [],
   "source": [
    "# .jsonl 파일 경로\n",
    "jsonl_file_path = '/mnt/t7/dnn/llm_practicing/korean_data/aihub_merged.jsonl'\n",
    "# 최종 출력 파일 경로\n",
    "output_text_file_path = '/mnt/t7/dnn/llm_practicing/korean_data/aihub_merged.txt'"
   ]
  },
  {
   "cell_type": "code",
   "execution_count": 7,
   "metadata": {},
   "outputs": [],
   "source": [
    "# .jsonl 파일을 읽고 각 객체의 \"target\" 값을 추출하여 새 파일에 저장\n",
    "with open(jsonl_file_path, 'r', encoding='utf-8') as jsonl_file, \\\n",
    "     open(output_text_file_path, 'w', encoding='utf-8') as output_file:\n",
    "    for line in jsonl_file:\n",
    "        # 각 줄을 JSON 객체로 변환\n",
    "        json_obj = json.loads(line)\n",
    "        # \"target\" 필드의 값을 추출하여 새 파일에 쓰기\n",
    "        output_file.write(json_obj[\"text\"] + '\\n')\n",
    "\n",
    "# 이제 output.txt 파일을 SentencePiece 모델 훈련의 입력으로 사용\n"
   ]
  },
  {
   "cell_type": "code",
   "execution_count": 3,
   "metadata": {},
   "outputs": [],
   "source": [
    "import sentencepiece as spm"
   ]
  },
  {
   "cell_type": "code",
   "execution_count": null,
   "metadata": {},
   "outputs": [
    {
     "ename": "",
     "evalue": "",
     "output_type": "error",
     "traceback": [
      "\u001b[1;31mThe Kernel crashed while executing code in the current cell or a previous cell. \n",
      "\u001b[1;31mPlease review the code in the cell(s) to identify a possible cause of the failure. \n",
      "\u001b[1;31mClick <a href='https://aka.ms/vscodeJupyterKernelCrash'>here</a> for more info. \n",
      "\u001b[1;31mView Jupyter <a href='command:jupyter.viewOutput'>log</a> for further details."
     ]
    }
   ],
   "source": [
    "prefix = \"newtoken-sp-bpe-nsmc-byte-fallback\"\n",
    "vocab_size = 31900-7\n",
    "spm.SentencePieceTrainer.train(\n",
    "    f\"--input={output_text_file_path} --model_prefix={prefix} --vocab_size={vocab_size + 7}\" + \n",
    "    \" --model_type=bpe\" +\n",
    "    \" --max_sentence_length=999999\" + # 문장 최대 길이 -> 이게 너무 길면 에러발생함\n",
    "    \" --pad_id=0 --pad_piece=<pad>\" + # pad (0)\n",
    "    \" --unk_id=1 --unk_piece=<unk>\" + # unknown (1)\n",
    "    \" --bos_id=2 --bos_piece=<s>\" + # begin of sequence (2)\n",
    "    \" --eos_id=3 --eos_piece=</s>\" + # end of sequence (3)\n",
    "    \" --byte_fallback=true\" + # add byte_fallback for unk tokens\n",
    "    \" --user_defined_symbols=<sep>,<cls>,<mask>\") # 사용자 정의 토큰"
   ]
  },
  {
   "cell_type": "code",
   "execution_count": null,
   "metadata": {},
   "outputs": [],
   "source": []
  },
  {
   "cell_type": "code",
   "execution_count": null,
   "metadata": {},
   "outputs": [],
   "source": []
  },
  {
   "cell_type": "code",
   "execution_count": null,
   "metadata": {},
   "outputs": [],
   "source": []
  },
  {
   "cell_type": "code",
   "execution_count": null,
   "metadata": {},
   "outputs": [],
   "source": []
  },
  {
   "cell_type": "code",
   "execution_count": null,
   "metadata": {},
   "outputs": [],
   "source": []
  },
  {
   "cell_type": "code",
   "execution_count": null,
   "metadata": {},
   "outputs": [],
   "source": []
  },
  {
   "cell_type": "code",
   "execution_count": null,
   "metadata": {},
   "outputs": [],
   "source": []
  },
  {
   "cell_type": "code",
   "execution_count": null,
   "metadata": {},
   "outputs": [],
   "source": []
  },
  {
   "cell_type": "code",
   "execution_count": null,
   "metadata": {},
   "outputs": [],
   "source": []
  },
  {
   "cell_type": "code",
   "execution_count": null,
   "metadata": {},
   "outputs": [],
   "source": []
  },
  {
   "cell_type": "code",
   "execution_count": null,
   "metadata": {},
   "outputs": [],
   "source": []
  },
  {
   "cell_type": "code",
   "execution_count": null,
   "metadata": {},
   "outputs": [],
   "source": []
  },
  {
   "cell_type": "code",
   "execution_count": null,
   "metadata": {},
   "outputs": [],
   "source": []
  },
  {
   "cell_type": "code",
   "execution_count": null,
   "metadata": {},
   "outputs": [],
   "source": []
  },
  {
   "cell_type": "code",
   "execution_count": null,
   "metadata": {},
   "outputs": [],
   "source": []
  },
  {
   "cell_type": "code",
   "execution_count": null,
   "metadata": {},
   "outputs": [],
   "source": []
  },
  {
   "cell_type": "code",
   "execution_count": null,
   "metadata": {},
   "outputs": [],
   "source": []
  },
  {
   "cell_type": "code",
   "execution_count": null,
   "metadata": {},
   "outputs": [],
   "source": []
  },
  {
   "cell_type": "code",
   "execution_count": null,
   "metadata": {},
   "outputs": [],
   "source": []
  }
 ],
 "metadata": {
  "kernelspec": {
   "display_name": "dps_for_p380",
   "language": "python",
   "name": "python3"
  },
  "language_info": {
   "codemirror_mode": {
    "name": "ipython",
    "version": 3
   },
   "file_extension": ".py",
   "mimetype": "text/x-python",
   "name": "python",
   "nbconvert_exporter": "python",
   "pygments_lexer": "ipython3",
   "version": "3.8.0"
  }
 },
 "nbformat": 4,
 "nbformat_minor": 2
}
