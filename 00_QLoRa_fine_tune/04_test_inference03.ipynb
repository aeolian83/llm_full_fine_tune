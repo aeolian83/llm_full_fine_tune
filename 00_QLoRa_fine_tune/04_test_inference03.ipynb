{
 "cells": [
  {
   "cell_type": "code",
   "execution_count": 1,
   "metadata": {},
   "outputs": [
    {
     "name": "stdout",
     "output_type": "stream",
     "text": [
      "Token has not been saved to git credential helper. Pass `add_to_git_credential=True` if you want to set the git credential as well.\n",
      "Token is valid (permission: write).\n",
      "Your token has been saved to /home/aeolian83/.cache/huggingface/token\n",
      "Login successful\n"
     ]
    }
   ],
   "source": [
    "import os\n",
    "from huggingface_hub import login\n",
    "from dotenv import load_dotenv\n",
    "\n",
    "load_dotenv()\n",
    "\n",
    "\n",
    "login(token= os.environ[\"HF_TOKEN\"])"
   ]
  },
  {
   "cell_type": "code",
   "execution_count": 2,
   "metadata": {},
   "outputs": [],
   "source": [
    "import torch\n",
    "import transformers\n",
    "from transformers import AutoTokenizer, AutoModelForCausalLM, BitsAndBytesConfig"
   ]
  },
  {
   "cell_type": "code",
   "execution_count": 3,
   "metadata": {},
   "outputs": [],
   "source": [
    "model_id = 'aeolian83/llama_ko_sft_kullm_experi_03'\n",
    "device_map = {\"\": 0}\n",
    "cache_model_dir=\"/mnt/t7/.cache/huggingface/models\""
   ]
  },
  {
   "cell_type": "code",
   "execution_count": 4,
   "metadata": {},
   "outputs": [],
   "source": [
    "quantization_config = BitsAndBytesConfig(\n",
    "    load_in_4bit=True,\n",
    "    bnb_4bit_compute_dtype=torch.float16,\n",
    "    bnb_4bit_quant_type=\"nf4\"\n",
    ")"
   ]
  },
  {
   "cell_type": "code",
   "execution_count": 5,
   "metadata": {},
   "outputs": [
    {
     "data": {
      "application/vnd.jupyter.widget-view+json": {
       "model_id": "d026c830cc1644afbdded69f548dc7db",
       "version_major": 2,
       "version_minor": 0
      },
      "text/plain": [
       "config.json:   0%|          | 0.00/722 [00:00<?, ?B/s]"
      ]
     },
     "metadata": {},
     "output_type": "display_data"
    },
    {
     "data": {
      "application/vnd.jupyter.widget-view+json": {
       "model_id": "85d47b8d60654779b1683bbfb274481b",
       "version_major": 2,
       "version_minor": 0
      },
      "text/plain": [
       "model.safetensors.index.json:   0%|          | 0.00/23.9k [00:00<?, ?B/s]"
      ]
     },
     "metadata": {},
     "output_type": "display_data"
    },
    {
     "data": {
      "application/vnd.jupyter.widget-view+json": {
       "model_id": "e3fe1cd45004403f9d560c629856500c",
       "version_major": 2,
       "version_minor": 0
      },
      "text/plain": [
       "Downloading shards:   0%|          | 0/3 [00:00<?, ?it/s]"
      ]
     },
     "metadata": {},
     "output_type": "display_data"
    },
    {
     "data": {
      "application/vnd.jupyter.widget-view+json": {
       "model_id": "8eb829cff42b45269949bb0e04e68645",
       "version_major": 2,
       "version_minor": 0
      },
      "text/plain": [
       "model-00001-of-00003.safetensors:   0%|          | 0.00/4.97G [00:00<?, ?B/s]"
      ]
     },
     "metadata": {},
     "output_type": "display_data"
    },
    {
     "data": {
      "application/vnd.jupyter.widget-view+json": {
       "model_id": "6dc298437dad47b49d9f05616819b116",
       "version_major": 2,
       "version_minor": 0
      },
      "text/plain": [
       "model-00002-of-00003.safetensors:   0%|          | 0.00/4.95G [00:00<?, ?B/s]"
      ]
     },
     "metadata": {},
     "output_type": "display_data"
    },
    {
     "data": {
      "application/vnd.jupyter.widget-view+json": {
       "model_id": "0ee151c56b214092a035829e41f3360c",
       "version_major": 2,
       "version_minor": 0
      },
      "text/plain": [
       "model-00003-of-00003.safetensors:   0%|          | 0.00/3.80G [00:00<?, ?B/s]"
      ]
     },
     "metadata": {},
     "output_type": "display_data"
    },
    {
     "data": {
      "application/vnd.jupyter.widget-view+json": {
       "model_id": "ec3c995b22084eabb771d894f4561197",
       "version_major": 2,
       "version_minor": 0
      },
      "text/plain": [
       "Loading checkpoint shards:   0%|          | 0/3 [00:00<?, ?it/s]"
      ]
     },
     "metadata": {},
     "output_type": "display_data"
    },
    {
     "data": {
      "application/vnd.jupyter.widget-view+json": {
       "model_id": "ed4e3e6a43294948a10b3bd8247f8673",
       "version_major": 2,
       "version_minor": 0
      },
      "text/plain": [
       "generation_config.json:   0%|          | 0.00/154 [00:00<?, ?B/s]"
      ]
     },
     "metadata": {},
     "output_type": "display_data"
    },
    {
     "data": {
      "application/vnd.jupyter.widget-view+json": {
       "model_id": "322801d79e494f7a8cb4d2ac100c1839",
       "version_major": 2,
       "version_minor": 0
      },
      "text/plain": [
       "tokenizer_config.json:   0%|          | 0.00/1.76k [00:00<?, ?B/s]"
      ]
     },
     "metadata": {},
     "output_type": "display_data"
    },
    {
     "data": {
      "application/vnd.jupyter.widget-view+json": {
       "model_id": "2cad1ae8c1d14a38aa9936866338df93",
       "version_major": 2,
       "version_minor": 0
      },
      "text/plain": [
       "tokenizer.json:   0%|          | 0.00/2.55M [00:00<?, ?B/s]"
      ]
     },
     "metadata": {},
     "output_type": "display_data"
    },
    {
     "data": {
      "application/vnd.jupyter.widget-view+json": {
       "model_id": "8ed9a3d6e34a4dda915dbcead87386ce",
       "version_major": 2,
       "version_minor": 0
      },
      "text/plain": [
       "special_tokens_map.json:   0%|          | 0.00/551 [00:00<?, ?B/s]"
      ]
     },
     "metadata": {},
     "output_type": "display_data"
    }
   ],
   "source": [
    "model = AutoModelForCausalLM.from_pretrained(model_id, quantization_config=quantization_config, device_map=device_map, cache_dir=cache_model_dir)\n",
    "tokenizer = AutoTokenizer.from_pretrained(model_id, cache_dir=cache_model_dir)"
   ]
  },
  {
   "cell_type": "code",
   "execution_count": 6,
   "metadata": {},
   "outputs": [],
   "source": [
    "device = \"cuda:0\""
   ]
  },
  {
   "cell_type": "code",
   "execution_count": 7,
   "metadata": {},
   "outputs": [],
   "source": [
    "text_01 = \"### instruction: 작업치료사가 어떤 치료를 하는지 알려줘.\\n\\n### output:\"\n",
    "inputs = tokenizer(text_01, return_tensors=\"pt\").to(device)"
   ]
  },
  {
   "cell_type": "code",
   "execution_count": 8,
   "metadata": {},
   "outputs": [],
   "source": [
    "inputs = tokenizer(text_01, return_tensors=\"pt\").to(device)\n",
    "outputs = model.generate(**inputs, max_new_tokens=500)"
   ]
  },
  {
   "cell_type": "code",
   "execution_count": 9,
   "metadata": {},
   "outputs": [
    {
     "name": "stdout",
     "output_type": "stream",
     "text": [
      "### instruction: 작업치료사가 어떤 치료를 하는지 알려줘.\n",
      "\n",
      "### output: 작업치료사는 신체적, 정신적, 사회적 장애를 가진 사람들을 대상으로 치료하는 전문가입니다. 작업치료사는 환자의 기능과 능력을 향상시키기 위해 치료, 교육, 훈련, 재활을 제공합니다. 작업치료사는 환자의 신체적, 정신적, 사회적 요구를 평가하고 치료 계획을 세웁니다. 치료는 환자 개인의 필요에 따라 다양한 치료 기법을 사용하여 수행됩니다. 작업치료사는 환자의 치료 목표를 설정하고 치료 계획을 세우는 데 도움을 주는 환자 및 가족과 협력합니다. 치료는 환자 개인의 필요에 따라 다양한 치료 기법을 사용하여 수행됩니다. 작업치료사는 환자의 치료 목표를 설정하고 치료 계획을 세우는 데 도움을 주는 환자 및 가족과 협력합니다. 치료는 환자 개인의 필요에 따라 다양한 치료 기법을 사용하여 수행됩니다. 작업치료사는 환자의 치료 목표를 설정하고 치료 계획을 세우는 데 도움을 주는 환자 및 가족과 협력합니다. 치료는 환자 개인의 필요에 따라 다양한 치료 기법을 사용하여 수행됩니다. 작업치료사는 환자의 치료 목표를 설정하고 치료 계획을 세우는 데 도움을 주는 환자 및 가족과 협력합니다. 치료는 환자 개인의 필요에 따라 다양한 치료 기법을 사용하여 수행됩니다. 작업치료사는 환자의 치료 목표를 설정하고 치료 계획을 세우는 데 도움을 주는 환자 및 가족과 협력합니다. 치료는 환자 개인의 필요에 따라 다양한 치료 기법을 사용하여 수행됩니다. 작업치료사는 환자의 치료 목표를 설정하고 치료 계획을 세우는 데 도움을 주는 환자 및 가족과 협력합니다. 치료는 환자 개인의 필요에 따라 다양한 치료 기법을 사용하여 수행됩니다. 작업치료사는 환자의 치료 목표를 설정하고 치료 계획을 세우는 데 도움을 주는 환자 및 가족과 협력합니다. 치료는 환자 개인의 필요에 따라 다양한 치료 기법을 사용하여 수행됩니다. 작업치료사는 환자의 치료 목표를 설정하고 치료 계획을 세우는 데 도움을 주는 환자 및 가족과 협력합니다. 치료는 환자 개인의 필요에 따라 다양한 치료 기법을 사용하여 수행됩니다. 작업치료사는 환자의 치료 목표를 설정하고 치료 계획을 세우는 데 도움을 주는 환자 및 가족과 협력합니다. 치료는 환자 개인의 필요에 따라 다양한 치료 기법을 사용하여 수행됩니다. 작업치료사는 환자의 치료 목표를 설정하고 치료 계획을 세우는 데 도움을 주는 환자 및 가족과 협력합니다. 치료는 환자 개인의 필요에 따라 다양한 치료 기법을 사용하여 수행됩니다. 작업치료사는 환자의 치료 목표를 설정하고 치료 계획을 세우는 데 도움을 주는 환자 및 가족과 협력합니다. 치료는 환자 개인의 필요에\n",
      "519\n"
     ]
    }
   ],
   "source": [
    "print(tokenizer.decode(outputs[0], skip_special_tokens=True))\n",
    "print(len(outputs[0]))"
   ]
  },
  {
   "cell_type": "code",
   "execution_count": 10,
   "metadata": {},
   "outputs": [
    {
     "data": {
      "text/plain": [
       "'</s>'"
      ]
     },
     "execution_count": 10,
     "metadata": {},
     "output_type": "execute_result"
    }
   ],
   "source": [
    "tokenizer.eos_token"
   ]
  },
  {
   "cell_type": "code",
   "execution_count": 11,
   "metadata": {},
   "outputs": [
    {
     "name": "stdout",
     "output_type": "stream",
     "text": [
      "tensor([    1,   835, 15278, 29901, 34996, 35491, 32570, 32886, 39802, 36177,\n",
      "        32947, 45189, 29889,    13,    13,  2277, 29937,  1962, 29901, 34996,\n",
      "        35491, 32566, 40196, 44824, 29892, 32394, 44824, 29892, 34933, 34059,\n",
      "        31517, 34044, 38827, 33726, 33199, 32022, 33479, 32214, 29889, 34996,\n",
      "        35491, 32566, 32391, 33022, 34431, 31906, 39419, 38904, 32631, 30827,\n",
      "        32248, 33199, 29892, 32730, 29892, 34518, 29892, 37945, 31286, 32771,\n",
      "        32111, 29889, 34996, 35491, 32566, 32391, 33022, 40196, 44824, 29892,\n",
      "        32394, 44824, 29892, 34933, 33439, 31517, 33114, 32020, 33199, 37776,\n",
      "        32078, 46147, 32009, 29889, 33199, 31081, 35604, 40128, 32395, 31054,\n",
      "        32567, 32894, 33199, 32013, 35100, 32332, 32932, 35242, 33214, 29889,\n",
      "        34996, 35491, 32566, 32391, 33022, 33199, 42134, 40953, 32020, 33199,\n",
      "        37776, 32078, 33870, 32392, 37367, 34584, 35604, 32356, 32813, 31906,\n",
      "        33700, 32111, 29889, 33199, 31081, 35604, 40128, 32395, 31054, 32567,\n",
      "        32894, 33199, 32013, 35100, 32332, 32932, 35242, 33214, 29889, 34996,\n",
      "        35491, 32566, 32391, 33022, 33199, 42134, 40953, 32020, 33199, 37776,\n",
      "        32078, 33870, 32392, 37367, 34584, 35604, 32356, 32813, 31906, 33700,\n",
      "        32111, 29889, 33199, 31081, 35604, 40128, 32395, 31054, 32567, 32894,\n",
      "        33199, 32013, 35100, 32332, 32932, 35242, 33214, 29889, 34996, 35491,\n",
      "        32566, 32391, 33022, 33199, 42134, 40953, 32020, 33199, 37776, 32078,\n",
      "        33870, 32392, 37367, 34584, 35604, 32356, 32813, 31906, 33700, 32111,\n",
      "        29889, 33199, 31081, 35604, 40128, 32395, 31054, 32567, 32894, 33199,\n",
      "        32013, 35100, 32332, 32932, 35242, 33214, 29889, 34996, 35491, 32566,\n",
      "        32391, 33022, 33199, 42134, 40953, 32020, 33199, 37776, 32078, 33870,\n",
      "        32392, 37367, 34584, 35604, 32356, 32813, 31906, 33700, 32111, 29889,\n",
      "        33199, 31081, 35604, 40128, 32395, 31054, 32567, 32894, 33199, 32013,\n",
      "        35100, 32332, 32932, 35242, 33214, 29889, 34996, 35491, 32566, 32391,\n",
      "        33022, 33199, 42134, 40953, 32020, 33199, 37776, 32078, 33870, 32392,\n",
      "        37367, 34584, 35604, 32356, 32813, 31906, 33700, 32111, 29889, 33199,\n",
      "        31081, 35604, 40128, 32395, 31054, 32567, 32894, 33199, 32013, 35100,\n",
      "        32332, 32932, 35242, 33214, 29889, 34996, 35491, 32566, 32391, 33022,\n",
      "        33199, 42134, 40953, 32020, 33199, 37776, 32078, 33870, 32392, 37367,\n",
      "        34584, 35604, 32356, 32813, 31906, 33700, 32111, 29889, 33199, 31081,\n",
      "        35604, 40128, 32395, 31054, 32567, 32894, 33199, 32013, 35100, 32332,\n",
      "        32932, 35242, 33214, 29889, 34996, 35491, 32566, 32391, 33022, 33199,\n",
      "        42134, 40953, 32020, 33199, 37776, 32078, 33870, 32392, 37367, 34584,\n",
      "        35604, 32356, 32813, 31906, 33700, 32111, 29889, 33199, 31081, 35604,\n",
      "        40128, 32395, 31054, 32567, 32894, 33199, 32013, 35100, 32332, 32932,\n",
      "        35242, 33214, 29889, 34996, 35491, 32566, 32391, 33022, 33199, 42134,\n",
      "        40953, 32020, 33199, 37776, 32078, 33870, 32392, 37367, 34584, 35604,\n",
      "        32356, 32813, 31906, 33700, 32111, 29889, 33199, 31081, 35604, 40128,\n",
      "        32395, 31054, 32567, 32894, 33199, 32013, 35100, 32332, 32932, 35242,\n",
      "        33214, 29889, 34996, 35491, 32566, 32391, 33022, 33199, 42134, 40953,\n",
      "        32020, 33199, 37776, 32078, 33870, 32392, 37367, 34584, 35604, 32356,\n",
      "        32813, 31906, 33700, 32111, 29889, 33199, 31081, 35604, 40128, 32395,\n",
      "        31054, 32567, 32894, 33199, 32013, 35100, 32332, 32932, 35242, 33214,\n",
      "        29889, 34996, 35491, 32566, 32391, 33022, 33199, 42134, 40953, 32020,\n",
      "        33199, 37776, 32078, 33870, 32392, 37367, 34584, 35604, 32356, 32813,\n",
      "        31906, 33700, 32111, 29889, 33199, 31081, 35604, 40128, 32395, 31054,\n",
      "        32567, 32894, 33199, 32013, 35100, 32332, 32932, 35242, 33214, 29889,\n",
      "        34996, 35491, 32566, 32391, 33022, 33199, 42134, 40953, 32020, 33199,\n",
      "        37776, 32078, 33870, 32392, 37367, 34584, 35604, 32356, 32813, 31906,\n",
      "        33700, 32111, 29889, 33199, 31081, 35604, 40128, 32395, 31054],\n",
      "       device='cuda:0')\n"
     ]
    }
   ],
   "source": [
    "print(outputs[0])"
   ]
  },
  {
   "cell_type": "code",
   "execution_count": 12,
   "metadata": {},
   "outputs": [],
   "source": [
    "pad_tok = [32303]"
   ]
  },
  {
   "cell_type": "code",
   "execution_count": 13,
   "metadata": {},
   "outputs": [
    {
     "data": {
      "text/plain": [
       "'한다'"
      ]
     },
     "execution_count": 13,
     "metadata": {},
     "output_type": "execute_result"
    }
   ],
   "source": [
    "tokenizer.decode(pad_tok, skip_special_tokens=False)"
   ]
  },
  {
   "cell_type": "code",
   "execution_count": 14,
   "metadata": {},
   "outputs": [],
   "source": [
    "outputs = model.generate(**inputs, num_beams = 3, early_stopping=True, max_new_tokens=1024, do_sample=True, top_k=10, top_p=0.95, eos_token_id=tokenizer.eos_token_id, temperature = 0.1)"
   ]
  },
  {
   "cell_type": "code",
   "execution_count": 15,
   "metadata": {},
   "outputs": [
    {
     "name": "stdout",
     "output_type": "stream",
     "text": [
      "### instruction: 작업치료사가 어떤 치료를 하는지 알려줘.\n",
      "\n",
      "### output: 작업치료사는 신체적, 정신적, 사회적 장애를 가진 사람들을 대상으로 치료하는 전문가입니다. 작업치료사는 환자의 기능과 능력을 향상시키기 위해 치료, 교육, 훈련, 재활을 제공합니다. 작업치료사는 환자의 신체적, 정신적, 사회적 요구를 평가하고 치료 계획을 세웁니다. 치료는 환자 개인의 필요에 따라 다양한 치료 기법을 사용하여 수행됩니다. 작업치료사는 환자의 치료 목표를 설정하고 치료 계획을 세우는 데 도움을 주는 환자 및 가족과 협력합니다. 치료는 환자 개인의 필요에 따라 다양한 치료 기법을 사용하여 수행됩니다. 작업치료사는 환자의 치료 목표를 설정하고 치료 계획을 세우는 데 도움을 주는 환자 및 가족과 협력합니다. 치료는 환자 개인의 필요에 따라 다양한 치료 기법을 사용하여 수행됩니다. 작업치료사는 환자의 치료 목표를 설정하고 치료 계획을 세우는 데 도움을 주는 환자 및 가족과 협력합니다. 치료는 환자 개인의 필요에 따라 다양한 치료 기법을 사용하여 수행됩니다. 작업치료사는 환자의 치료 목표를 설정하고 치료 계획을 세우는 데 도움을 주는 환자 및 가족과 협력합니다. 치료는 환자 개인의 필요에 따라 다양한 치료 기법을 사용하여 수행됩니다. 작업치료사는 환자의 치료 목표를 설정하고 치료 계획을 세우는 데 도움을 주는 환자 및 가족과 협력합니다. 치료는 환자 개인의 필요에 따라 다양한 치료 기법을 사용하여 수행됩니다. 작업치료사는 환자의 치료 목표를 설정하고 치료 계획을 세우는 데 도움을 주는 환자 및 가족과 협력합니다. 치료는 환자 개인의 필요에 따라 다양한 치료 기법을 사용하여 수행됩니다. 작업치료사는 환자의 치료 목표를 설정하고 치료 계획을 세우는 데 도움을 주는 환자 및 가족과 협력합니다. 치료는 환자 개인의 필요에 따라 다양한 치료 기법을 사용하여 수행됩니다. 작업치료사는 환자의 치료 목표를 설정하고 치료 계획을 세우는 데 도움을 주는 환자 및 가족과 협력합니다. 치료는 환자 개인의 필요에 따라 다양한 치료 기법을 사용하여 수행됩니다. 작업치료사는 환자의 치료 목표를 설정하고 치료 계획을 세우는 데 도움을 주는 환자 및 가족과 협력합니다. 치료는 환자 개인의 필요에 따라 다양한 치료 기법을 사용하여 수행됩니다. 작업치료사는 환자의 치료 목표를 설정하고 치료 계획을 세우는 데 도움을 주는 환자 및 가족과 협력합니다. 치료는 환자 개인의 필요에 따라 다양한 치료 기법을 사용하여 수행됩니다. 작업치료사는 환자의 치료 목표를 설정하고 치료 계획을 세우는 데 도움을 주는 환자 및 가족과 협력합니다. 치료는 환자 개인의 필요에 따라 다양한 치료 기법을 사용하여 수행됩니다. 작업치료사는 환자의 치료 목표를 설정하고 치료 계획을 세우는 데 도움을 주는 환자 및 가족과 협력합니다. 치료는 환자 개인의 필요에 따라 다양한 치료 기법을 사용하여 수행됩니다. 작업치료사는 환자의 치료 목표를 설정하고 치료 계획을 세우는 데 도움을 주는 환자 및 가족과 협력합니다. 치료는 환자 개인의 필요에 따라 다양한 치료 기법을 사용하여 수행됩니다. 작업치료사는 환자의 치료 목표를 설정하고 치료 계획을 세우는 데 도움을 주는 환자 및 가족과 협력합니다. 치료는 환자 개인의 필요에 따라 다양한 치료 기법을 사용하여 수행됩니다. 작업치료사는 환자의 치료 목표를 설정하고 치료 계획을 세우는 데 도움을 주는 환자 및 가족과 협력합니다. 치료는 환자 개인의 필요에 따라 다양한 치료 기법을 사용하여 수행됩니다. 작업치료사는 환자의 치료 목표를 설정하고 치료 계획을 세우는 데 도움을 주는 환자 및 가족과 협력합니다. 치료는 환자 개인의 필요에 따라 다양한 치료 기법을 사용하여 수행됩니다. 작업치료사는 환자의 치료 목표를 설정하고 치료 계획을 세우는 데 도움을 주는 환자 및 가족과 협력합니다. 치료는 환자 개인의 필요에 따라 다양한 치료 기법을 사용하여 수행됩니다. 작업치료사는 환자의 치료 목표를 설정하고 치료 계획을 세우는 데 도움을 주는 환자 및 가족과 협력합니다. 치료는 환자 개인의 필요에 따라 다양한 치료 기법을 사용하여 수행됩니다. 작업치료사는 환자의 치료 목표를 설정하고 치료 계획을 세우는 데 도움을 주는 환자 및 가족과 협력합니다. 치료는 환자 개인의 필요에 따라 다양한 치료 기법을 사용하여 수행됩니다. 작업치료사는 환자의 치료 목표를 설정하고 치료 계획을 세우는 데 도움을 주는 환자 및 가족과 협력합니다. 치료는 환자 개인의 필요에 따라 다양한 치료 기법을 사용하여 수행됩니다. 작업치료사는 환자의 치료 목표를 설정하고 치료 계획을 세우는 데 도움을 주는 환자 및 가족과 협력합니다. 치료는 환자 개인의 필요에 따라 다양한 치료 기법을 사용하여 수행됩니다. 작업치료사는 환자의 치료 목표를 설정하고 치료 계획을 세우는 데 도움을 주는 환자 및 가족과 협력합니다. 치료는 환자 개인의 필요에 따라 다양한 치료 기법을 사용하여 수행됩니다. 작업치료사는 환자의 치료 목표를 설정하고 치료 계획을 세우는 데 도움을 주는 환자 및 가족과 협력합니다. 치료는 환자 개인의 필요에 따라 다양한 치료 기법을 사용하여 수행됩니다. 작업치료사는 환자의 치료 목표를 설정하고 치료 계획을 세우는 데 도움을 주는 환자 및 가족과 협력합니다. 치료는 환자 개인의 필요에 따라 다양한 치료 기법을 사용하여 수행됩니다. 작업치료사는 환자의 치료 목표를\n",
      "1043\n"
     ]
    }
   ],
   "source": [
    "print(tokenizer.decode(outputs[0], skip_special_tokens=True))\n",
    "print(len(outputs[0]))"
   ]
  },
  {
   "cell_type": "code",
   "execution_count": 18,
   "metadata": {},
   "outputs": [],
   "source": [
    "text_01 = \"### instruction: 작업치료사의 정의에 대해 알려줘.\\n\\n### output:\"\n",
    "inputs = tokenizer(text_01, return_tensors=\"pt\").to(device)"
   ]
  },
  {
   "cell_type": "code",
   "execution_count": 21,
   "metadata": {},
   "outputs": [],
   "source": [
    "outputs = model.generate(**inputs, max_new_tokens=500, do_sample=False)"
   ]
  },
  {
   "cell_type": "code",
   "execution_count": 22,
   "metadata": {},
   "outputs": [
    {
     "name": "stdout",
     "output_type": "stream",
     "text": [
      "### instruction: 작업치료사의 정의에 대해 알려줘.\n",
      "\n",
      "### output: 작업치료사는 신체적, 정신적, 사회적 장애를 가진 사람들을 대상으로 치료, 교육, 재활을 제공하는 전문가입니다. 작업치료사는 환자의 기능과 능력을 향상시키기 위해 치료, 교육, 재활을 계획하고 수행합니다. 작업치료사는 환자의 신체적, 정신적, 사회적 요구를 파악하고 치료 계획을 수립합니다. 치료 계획에는 환자 및 가족과 함께 치료 목표를 설정하고 치료 목표를 달성하기 위한 치료, 교육, 재활 프로그램이 포함됩니다. 작업치료사는 환자의 치료 목표를 달성하기 위해 치료, 교육, 재활을 수행합니다. 작업치료사는 환자의 치료 목표를 달성하기 위해 치료, 교육, 재활을 수행합니다. 작업치료사는 환자의 치료 목표를 달성하기 위해 치료, 교육, 재활을 수행합니다. 작업치료사는 환자의 치료 목표를 달성하기 위해 치료, 교육, 재활을 수행합니다. 작업치료사는 환자의 치료 목표를 달성하기 위해 치료, 교육, 재활을 수행합니다. 작업치료사는 환자의 치료 목표를 달성하기 위해 치료, 교육, 재활을 수행합니다. 작업치료사는 환자의 치료 목표를 달성하기 위해 치료, 교육, 재활을 수행합니다. 작업치료사는 환자의 치료 목표를 달성하기 위해 치료, 교육, 재활을 수행합니다. 작업치료사는 환자의 치료 목표를 달성하기 위해 치료, 교육, 재활을 수행합니다. 작업치료사는 환자의 치료 목표를 달성하기 위해 치료, 교육, 재활을 수행합니다. 작업치료사는 환자의 치료 목표를 달성하기 위해 치료, 교육, 재활을 수행합니다. 작업치료사는 환자의 치료 목표를 달성하기 위해 치료, 교육, 재활을 수행합니다. 작업치료사는 환자의 치료 목표를 달성하기 위해 치료, 교육, 재활을 수행합니다. 작업치료사는 환자의 치료 목표를 달성하기 위해 치료, 교육, 재활을 수행합니다. 작업치료사는 환자의 치료 목표를 달성하기 위해 치료, 교육, 재활을 수행합니다. 작업치료사는 환자의 치료 목표를 달성하기 위해 치료, 교육, 재활을 수행합니다. 작업치료사는 환자의 치료 목표를 달성하기 위해 치료, 교육, 재활을 수행합니다. 작업치료사는 환자의 치료 목표를 달성하기 위해 치료, 교육, 재활을 수행합니다. 작업치료사는 환자의 치료 목표를 달성하기 위해 치료, 교육, 재활을 수행합니다. 작업치료사는 환자의 치료 목표를 달성하기 위해 치료, 교육, 재활을 수행합니다. 작업치료사는 환자의 치료 목표를 달성하기 위해 치료, 교육, 재활을 수행합니다. 작업치료사는 환자의\n",
      "519\n"
     ]
    }
   ],
   "source": [
    "print(tokenizer.decode(outputs[0], skip_special_tokens=True))\n",
    "print(len(outputs[0]))"
   ]
  },
  {
   "cell_type": "code",
   "execution_count": null,
   "metadata": {},
   "outputs": [],
   "source": []
  },
  {
   "cell_type": "code",
   "execution_count": null,
   "metadata": {},
   "outputs": [],
   "source": []
  },
  {
   "cell_type": "code",
   "execution_count": null,
   "metadata": {},
   "outputs": [],
   "source": []
  },
  {
   "cell_type": "code",
   "execution_count": null,
   "metadata": {},
   "outputs": [],
   "source": []
  }
 ],
 "metadata": {
  "kernelspec": {
   "display_name": "llm_for_p311",
   "language": "python",
   "name": "python3"
  },
  "language_info": {
   "codemirror_mode": {
    "name": "ipython",
    "version": 3
   },
   "file_extension": ".py",
   "mimetype": "text/x-python",
   "name": "python",
   "nbconvert_exporter": "python",
   "pygments_lexer": "ipython3",
   "version": "3.11.7"
  }
 },
 "nbformat": 4,
 "nbformat_minor": 2
}
