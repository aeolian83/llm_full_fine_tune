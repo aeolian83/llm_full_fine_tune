{
 "cells": [
  {
   "cell_type": "code",
   "execution_count": 1,
   "metadata": {},
   "outputs": [
    {
     "data": {
      "text/plain": [
       "True"
      ]
     },
     "execution_count": 1,
     "metadata": {},
     "output_type": "execute_result"
    }
   ],
   "source": [
    "from langchain.document_loaders.csv_loader import CSVLoader\n",
    "from langchain.embeddings.openai import OpenAIEmbeddings\n",
    "\n",
    "#from langchain_community.vectorstores import FAISS\n",
    "\n",
    "from langchain.vectorstores import FAISS\n",
    "from langchain.llms import OpenAI\n",
    "from langchain.chains import RetrievalQA\n",
    "from langchain.prompts import PromptTemplate\n",
    "\n",
    "\n",
    "import requests\n",
    "import pandas as pd\n",
    "import os\n",
    "from dotenv import load_dotenv\n",
    "\n",
    "load_dotenv()"
   ]
  },
  {
   "cell_type": "code",
   "execution_count": 5,
   "metadata": {},
   "outputs": [
    {
     "name": "stdout",
     "output_type": "stream",
     "text": [
      "API Call is successful!\n"
     ]
    }
   ],
   "source": [
    "url = 'http://apis.data.go.kr/6260000/FoodService/getFoodKr'\n",
    "\n",
    "\n",
    "params = {\n",
    "    'serviceKey': \"your api\",  # API key parameter\n",
    "    'numOfRows': 500,        # Number of rows to retrieve\n",
    "    'pageNo': 1,            # Page number to retrieve\n",
    "    'resultType': 'json',   # Set result format to JSON (if supported by API)\n",
    "}\n",
    "\n",
    "response = requests.get(url, params=params, verify=False)\n",
    "\n",
    "if response.status_code == 200:\n",
    "    data = response.json()\n",
    "    print('API Call is successful!')\n",
    "else:\n",
    "    print(response.text)"
   ]
  },
  {
   "cell_type": "code",
   "execution_count": 6,
   "metadata": {},
   "outputs": [
    {
     "data": {
      "text/html": [
       "<div>\n",
       "<style scoped>\n",
       "    .dataframe tbody tr th:only-of-type {\n",
       "        vertical-align: middle;\n",
       "    }\n",
       "\n",
       "    .dataframe tbody tr th {\n",
       "        vertical-align: top;\n",
       "    }\n",
       "\n",
       "    .dataframe thead th {\n",
       "        text-align: right;\n",
       "    }\n",
       "</style>\n",
       "<table border=\"1\" class=\"dataframe\">\n",
       "  <thead>\n",
       "    <tr style=\"text-align: right;\">\n",
       "      <th></th>\n",
       "      <th>UC_SEQ</th>\n",
       "      <th>MAIN_TITLE</th>\n",
       "      <th>GUGUN_NM</th>\n",
       "      <th>LAT</th>\n",
       "      <th>LNG</th>\n",
       "      <th>PLACE</th>\n",
       "      <th>TITLE</th>\n",
       "      <th>SUBTITLE</th>\n",
       "      <th>ADDR1</th>\n",
       "      <th>ADDR2</th>\n",
       "      <th>CNTCT_TEL</th>\n",
       "      <th>HOMEPAGE_URL</th>\n",
       "      <th>USAGE_DAY_WEEK_AND_TIME</th>\n",
       "      <th>RPRSNTV_MENU</th>\n",
       "      <th>MAIN_IMG_NORMAL</th>\n",
       "      <th>MAIN_IMG_THUMB</th>\n",
       "      <th>ITEMCNTNTS</th>\n",
       "    </tr>\n",
       "  </thead>\n",
       "  <tbody>\n",
       "    <tr>\n",
       "      <th>0</th>\n",
       "      <td>70</td>\n",
       "      <td>만드리곤드레밥</td>\n",
       "      <td>강서구</td>\n",
       "      <td>35.177387</td>\n",
       "      <td>128.95245</td>\n",
       "      <td>만드리곤드레밥</td>\n",
       "      <td>만드리곤드레밥</td>\n",
       "      <td></td>\n",
       "      <td>강서구 공항앞길 85번길 13</td>\n",
       "      <td></td>\n",
       "      <td>051-941-3669</td>\n",
       "      <td></td>\n",
       "      <td>11:00-21:00\\n(20:00 라스트오더)</td>\n",
       "      <td>돌솥곤드레정식, 단호박오리훈제</td>\n",
       "      <td>https://www.visitbusan.net/uploadImgs/files/cn...</td>\n",
       "      <td>https://www.visitbusan.net/uploadImgs/files/cn...</td>\n",
       "      <td>곤드레밥에는 일반적으로 건조 곤드레나물이 사용되는데,\\n이곳은 생 곤드레나물을 사용...</td>\n",
       "    </tr>\n",
       "    <tr>\n",
       "      <th>1</th>\n",
       "      <td>77</td>\n",
       "      <td>민물가든</td>\n",
       "      <td>강서구</td>\n",
       "      <td>35.160550</td>\n",
       "      <td>128.89468</td>\n",
       "      <td>민물가든</td>\n",
       "      <td>민물가든</td>\n",
       "      <td>민물가든</td>\n",
       "      <td>강서구 둔치중앙길5(봉림동)</td>\n",
       "      <td></td>\n",
       "      <td>051-971-8428</td>\n",
       "      <td>https://blog.naver.com/rladba1</td>\n",
       "      <td>24.03.12 ~ 24. 12.31 휴업중\\n11:00a.m. ~ 21:00p.m...</td>\n",
       "      <td>묵은지붕어조림, 붕어찜</td>\n",
       "      <td>https://www.visitbusan.net/uploadImgs/files/cn...</td>\n",
       "      <td>https://www.visitbusan.net/uploadImgs/files/cn...</td>\n",
       "      <td>30년간 운영해온 생선찜전문점으로, 전통방식인 나무통을 사용하여 조리하는 것이 특징...</td>\n",
       "    </tr>\n",
       "    <tr>\n",
       "      <th>2</th>\n",
       "      <td>94</td>\n",
       "      <td>가야할매밀면</td>\n",
       "      <td>연제구</td>\n",
       "      <td>35.185196</td>\n",
       "      <td>129.07988</td>\n",
       "      <td>가야할매밀면</td>\n",
       "      <td>가야할매밀면</td>\n",
       "      <td>가야할매밀면</td>\n",
       "      <td>부산 연제구 월드컵대로 145번길 32\\n</td>\n",
       "      <td></td>\n",
       "      <td>051-865-8017</td>\n",
       "      <td></td>\n",
       "      <td>11:00-20:00</td>\n",
       "      <td>물 밀면, 비빔밀면\\n</td>\n",
       "      <td>https://www.visitbusan.net/uploadImgs/files/cn...</td>\n",
       "      <td>https://www.visitbusan.net/uploadImgs/files/cn...</td>\n",
       "      <td>유명한 밀면전문점으로, 밀가루에 옥수수 전분을 섞어, 다른 밀면전문점들보다 더 탄력...</td>\n",
       "    </tr>\n",
       "    <tr>\n",
       "      <th>3</th>\n",
       "      <td>95</td>\n",
       "      <td>국제밀면본점</td>\n",
       "      <td>연제구</td>\n",
       "      <td>35.196890</td>\n",
       "      <td>129.07785</td>\n",
       "      <td>국제밀면본점</td>\n",
       "      <td>국제밀면본점</td>\n",
       "      <td></td>\n",
       "      <td>연제구 중앙대로1235번길 23-6</td>\n",
       "      <td></td>\n",
       "      <td>051-501-5507</td>\n",
       "      <td></td>\n",
       "      <td>10:00-20:00\\n4~9월 10:00-21:00 (라스트오더 20:30 전후)\\n</td>\n",
       "      <td>물밀면, 비빔밀면</td>\n",
       "      <td>https://www.visitbusan.net/uploadImgs/files/cn...</td>\n",
       "      <td>https://www.visitbusan.net/uploadImgs/files/cn...</td>\n",
       "      <td>밀면전문점 중에서도 특히 맛으로 소문난 이곳은\\n소 사골만을 사용한 육수 등 독창적...</td>\n",
       "    </tr>\n",
       "    <tr>\n",
       "      <th>4</th>\n",
       "      <td>102</td>\n",
       "      <td>할매가야밀면</td>\n",
       "      <td>중구</td>\n",
       "      <td>35.098934</td>\n",
       "      <td>129.03122</td>\n",
       "      <td>할매가야밀면</td>\n",
       "      <td>할매가야밀면</td>\n",
       "      <td></td>\n",
       "      <td>중구 광복로 56-14</td>\n",
       "      <td></td>\n",
       "      <td>051-246-3314</td>\n",
       "      <td></td>\n",
       "      <td>10:30-21:30</td>\n",
       "      <td>밀면, 비빔밀면</td>\n",
       "      <td>https://www.visitbusan.net/uploadImgs/files/cn...</td>\n",
       "      <td>https://www.visitbusan.net/uploadImgs/files/cn...</td>\n",
       "      <td>깔끔한 맛의 육수가 인상적인 40년 전통의 밀면 전문점으로, \\n식사시간에는 항상 ...</td>\n",
       "    </tr>\n",
       "  </tbody>\n",
       "</table>\n",
       "</div>"
      ],
      "text/plain": [
       "   UC_SEQ MAIN_TITLE GUGUN_NM        LAT        LNG    PLACE    TITLE  \\\n",
       "0      70    만드리곤드레밥      강서구  35.177387  128.95245  만드리곤드레밥  만드리곤드레밥   \n",
       "1      77       민물가든      강서구  35.160550  128.89468     민물가든     민물가든   \n",
       "2      94     가야할매밀면      연제구  35.185196  129.07988   가야할매밀면   가야할매밀면   \n",
       "3      95     국제밀면본점      연제구  35.196890  129.07785   국제밀면본점   국제밀면본점   \n",
       "4     102     할매가야밀면       중구  35.098934  129.03122   할매가야밀면   할매가야밀면   \n",
       "\n",
       "  SUBTITLE                    ADDR1 ADDR2     CNTCT_TEL  \\\n",
       "0                  강서구 공항앞길 85번길 13        051-941-3669   \n",
       "1     민물가든         강서구 둔치중앙길5(봉림동)         051-971-8428   \n",
       "2   가야할매밀면  부산 연제구 월드컵대로 145번길 32\\n        051-865-8017   \n",
       "3              연제구 중앙대로1235번길 23-6         051-501-5507   \n",
       "4                      중구 광복로 56-14        051-246-3314   \n",
       "\n",
       "                     HOMEPAGE_URL  \\\n",
       "0                                   \n",
       "1  https://blog.naver.com/rladba1   \n",
       "2                                   \n",
       "3                                   \n",
       "4                                   \n",
       "\n",
       "                             USAGE_DAY_WEEK_AND_TIME      RPRSNTV_MENU  \\\n",
       "0                         11:00-21:00\\n(20:00 라스트오더)  돌솥곤드레정식, 단호박오리훈제   \n",
       "1  24.03.12 ~ 24. 12.31 휴업중\\n11:00a.m. ~ 21:00p.m...      묵은지붕어조림, 붕어찜   \n",
       "2                                       11:00-20:00       물 밀면, 비빔밀면\\n   \n",
       "3   10:00-20:00\\n4~9월 10:00-21:00 (라스트오더 20:30 전후)\\n         물밀면, 비빔밀면   \n",
       "4                                        10:30-21:30          밀면, 비빔밀면   \n",
       "\n",
       "                                     MAIN_IMG_NORMAL  \\\n",
       "0  https://www.visitbusan.net/uploadImgs/files/cn...   \n",
       "1  https://www.visitbusan.net/uploadImgs/files/cn...   \n",
       "2  https://www.visitbusan.net/uploadImgs/files/cn...   \n",
       "3  https://www.visitbusan.net/uploadImgs/files/cn...   \n",
       "4  https://www.visitbusan.net/uploadImgs/files/cn...   \n",
       "\n",
       "                                      MAIN_IMG_THUMB  \\\n",
       "0  https://www.visitbusan.net/uploadImgs/files/cn...   \n",
       "1  https://www.visitbusan.net/uploadImgs/files/cn...   \n",
       "2  https://www.visitbusan.net/uploadImgs/files/cn...   \n",
       "3  https://www.visitbusan.net/uploadImgs/files/cn...   \n",
       "4  https://www.visitbusan.net/uploadImgs/files/cn...   \n",
       "\n",
       "                                          ITEMCNTNTS  \n",
       "0  곤드레밥에는 일반적으로 건조 곤드레나물이 사용되는데,\\n이곳은 생 곤드레나물을 사용...  \n",
       "1  30년간 운영해온 생선찜전문점으로, 전통방식인 나무통을 사용하여 조리하는 것이 특징...  \n",
       "2  유명한 밀면전문점으로, 밀가루에 옥수수 전분을 섞어, 다른 밀면전문점들보다 더 탄력...  \n",
       "3  밀면전문점 중에서도 특히 맛으로 소문난 이곳은\\n소 사골만을 사용한 육수 등 독창적...  \n",
       "4  깔끔한 맛의 육수가 인상적인 40년 전통의 밀면 전문점으로, \\n식사시간에는 항상 ...  "
      ]
     },
     "execution_count": 6,
     "metadata": {},
     "output_type": "execute_result"
    }
   ],
   "source": [
    "df = pd.DataFrame(data['getFoodKr']['item'])\n",
    "df.head()"
   ]
  },
  {
   "cell_type": "code",
   "execution_count": 7,
   "metadata": {},
   "outputs": [],
   "source": [
    "df.to_csv('./datas/busan_restaurants.csv', index=False, encoding='utf-8-sig')"
   ]
  },
  {
   "cell_type": "code",
   "execution_count": 2,
   "metadata": {},
   "outputs": [
    {
     "name": "stderr",
     "output_type": "stream",
     "text": [
      "/tmp/ipykernel_32287/2093561314.py:8: LangChainDeprecationWarning: The class `OpenAIEmbeddings` was deprecated in LangChain 0.0.9 and will be removed in 1.0. An updated version of the class exists in the :class:`~langchain-openai package and should be used instead. To use it run `pip install -U :class:`~langchain-openai` and import as `from :class:`~langchain_openai import OpenAIEmbeddings``.\n",
      "  embeddings = OpenAIEmbeddings(openai_api_key=OPEN_API_KEY)\n"
     ]
    }
   ],
   "source": [
    "OPEN_API_KEY = os.environ[\"OPENAI_API_KEY\"]\n",
    "\n",
    "# Load the CSV file as documents\n",
    "loader = CSVLoader(file_path='./datas/busan_restaurants.csv', encoding='utf-8-sig')\n",
    "docs = loader.load()\n",
    "\n",
    "# Initialize OpenAI embeddings (or another embedding model)\n",
    "embeddings = OpenAIEmbeddings(openai_api_key=OPEN_API_KEY)"
   ]
  },
  {
   "cell_type": "code",
   "execution_count": 3,
   "metadata": {},
   "outputs": [
    {
     "name": "stderr",
     "output_type": "stream",
     "text": [
      "/tmp/ipykernel_32287/4180398150.py:5: LangChainDeprecationWarning: The class `OpenAI` was deprecated in LangChain 0.0.10 and will be removed in 1.0. An updated version of the class exists in the :class:`~langchain-openai package and should be used instead. To use it run `pip install -U :class:`~langchain-openai` and import as `from :class:`~langchain_openai import OpenAI``.\n",
      "  llm = OpenAI(openai_api_key=OPEN_API_KEY)\n",
      "/tmp/ipykernel_32287/4180398150.py:16: LangChainDeprecationWarning: The method `Chain.run` was deprecated in langchain 0.1.0 and will be removed in 1.0. Use :meth:`~invoke` instead.\n",
      "  response = qa_chain.run(query)\n"
     ]
    },
    {
     "name": "stdout",
     "output_type": "stream",
     "text": [
      " 곤드레밥\n"
     ]
    }
   ],
   "source": [
    "# Use FAISS as the vector store for similarity search\n",
    "vectorstore = FAISS.from_documents(docs, embeddings)\n",
    "\n",
    "# Initialize the OpenAI LLM (or use another LLM like GPT-4)\n",
    "llm = OpenAI(openai_api_key=OPEN_API_KEY)\n",
    "\n",
    "# Set up the RetrievalQA chain\n",
    "qa_chain = RetrievalQA.from_chain_type(\n",
    "    llm=llm,\n",
    "    chain_type=\"stuff\",  # You can use 'map_reduce' or others if needed\n",
    "    retriever=vectorstore.as_retriever(),\n",
    ")\n",
    "\n",
    "# Query the system with a question related to the CSV data\n",
    "query = \"만드리곤드레밥에서는 무슨 음식을 파나요?\"\n",
    "response = qa_chain.run(query)\n",
    "\n",
    "# Output the response\n",
    "print(response)"
   ]
  },
  {
   "cell_type": "code",
   "execution_count": 4,
   "metadata": {},
   "outputs": [
    {
     "name": "stdout",
     "output_type": "stream",
     "text": [
      " \n",
      "가장 맛있는 비빔밀면 맛집은 대연밀면이며, 대연밀면은 남구 천제등로 55에 위치하고 있습니다. \n"
     ]
    }
   ],
   "source": [
    "query = \"비빔밀면 맛집은 어디인가요?\"\n",
    "response = qa_chain.run(query)\n",
    "\n",
    "# Output the response\n",
    "print(response)"
   ]
  },
  {
   "cell_type": "code",
   "execution_count": null,
   "metadata": {},
   "outputs": [],
   "source": []
  },
  {
   "cell_type": "code",
   "execution_count": null,
   "metadata": {},
   "outputs": [],
   "source": []
  },
  {
   "cell_type": "code",
   "execution_count": null,
   "metadata": {},
   "outputs": [],
   "source": []
  },
  {
   "cell_type": "code",
   "execution_count": null,
   "metadata": {},
   "outputs": [],
   "source": []
  },
  {
   "cell_type": "code",
   "execution_count": null,
   "metadata": {},
   "outputs": [],
   "source": []
  },
  {
   "cell_type": "code",
   "execution_count": null,
   "metadata": {},
   "outputs": [],
   "source": []
  },
  {
   "cell_type": "code",
   "execution_count": null,
   "metadata": {},
   "outputs": [],
   "source": []
  },
  {
   "cell_type": "code",
   "execution_count": null,
   "metadata": {},
   "outputs": [],
   "source": []
  },
  {
   "cell_type": "code",
   "execution_count": null,
   "metadata": {},
   "outputs": [],
   "source": []
  },
  {
   "cell_type": "code",
   "execution_count": null,
   "metadata": {},
   "outputs": [],
   "source": []
  }
 ],
 "metadata": {
  "kernelspec": {
   "display_name": "rag_for_p311",
   "language": "python",
   "name": "python3"
  },
  "language_info": {
   "codemirror_mode": {
    "name": "ipython",
    "version": 3
   },
   "file_extension": ".py",
   "mimetype": "text/x-python",
   "name": "python",
   "nbconvert_exporter": "python",
   "pygments_lexer": "ipython3",
   "version": "3.11.10"
  }
 },
 "nbformat": 4,
 "nbformat_minor": 2
}
